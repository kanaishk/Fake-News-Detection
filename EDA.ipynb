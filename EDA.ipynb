{
 "cells": [
  {
   "cell_type": "code",
   "execution_count": 1,
   "id": "21d5e336-cf31-45a0-b500-374e696d2486",
   "metadata": {
    "tags": []
   },
   "outputs": [],
   "source": [
    "import sys"
   ]
  },
  {
   "cell_type": "code",
   "execution_count": 2,
   "id": "c38c8ff2-b290-4a75-a752-a753acffb88b",
   "metadata": {
    "tags": []
   },
   "outputs": [
    {
     "name": "stdout",
     "output_type": "stream",
     "text": [
      "Requirement already satisfied: numpy in c:\\python311\\lib\\site-packages (1.23.5)\n",
      "Requirement already satisfied: pandas in c:\\python311\\lib\\site-packages (1.5.3)\n",
      "Requirement already satisfied: python-dateutil>=2.8.1 in c:\\python311\\lib\\site-packages (from pandas) (2.8.2)\n",
      "Requirement already satisfied: pytz>=2020.1 in c:\\python311\\lib\\site-packages (from pandas) (2023.3)\n",
      "Requirement already satisfied: numpy>=1.21.0 in c:\\python311\\lib\\site-packages (from pandas) (1.23.5)\n",
      "Requirement already satisfied: six>=1.5 in c:\\python311\\lib\\site-packages (from python-dateutil>=2.8.1->pandas) (1.16.0)\n",
      "Requirement already satisfied: matplotlib in c:\\python311\\lib\\site-packages (3.7.1)\n",
      "Requirement already satisfied: contourpy>=1.0.1 in c:\\python311\\lib\\site-packages (from matplotlib) (1.0.7)\n",
      "Requirement already satisfied: cycler>=0.10 in c:\\python311\\lib\\site-packages (from matplotlib) (0.11.0)\n",
      "Requirement already satisfied: fonttools>=4.22.0 in c:\\python311\\lib\\site-packages (from matplotlib) (4.39.3)\n",
      "Requirement already satisfied: kiwisolver>=1.0.1 in c:\\python311\\lib\\site-packages (from matplotlib) (1.4.4)\n",
      "Requirement already satisfied: numpy>=1.20 in c:\\python311\\lib\\site-packages (from matplotlib) (1.23.5)\n",
      "Requirement already satisfied: packaging>=20.0 in c:\\python311\\lib\\site-packages (from matplotlib) (23.1)\n",
      "Requirement already satisfied: pillow>=6.2.0 in c:\\python311\\lib\\site-packages (from matplotlib) (9.5.0)\n",
      "Requirement already satisfied: pyparsing>=2.3.1 in c:\\python311\\lib\\site-packages (from matplotlib) (3.0.9)\n",
      "Requirement already satisfied: python-dateutil>=2.7 in c:\\python311\\lib\\site-packages (from matplotlib) (2.8.2)\n",
      "Requirement already satisfied: six>=1.5 in c:\\python311\\lib\\site-packages (from python-dateutil>=2.7->matplotlib) (1.16.0)\n",
      "Requirement already satisfied: regex in c:\\python311\\lib\\site-packages (2023.5.5)\n"
     ]
    }
   ],
   "source": [
    "!{sys.executable} -m pip install numpy\n",
    "!{sys.executable} -m pip install pandas\n",
    "!{sys.executable} -m pip install matplotlib\n",
    "!{sys.executable} -m pip install regex"
   ]
  },
  {
   "cell_type": "code",
   "execution_count": 3,
   "id": "779a1662-6b4e-4550-8cc0-ee403ec0b3b5",
   "metadata": {
    "tags": []
   },
   "outputs": [],
   "source": [
    "import os\n",
    "import pandas as pd\n",
    "import numpy as np\n",
    "import matplotlib.pyplot as plt\n",
    "%matplotlib inline\n",
    "from re import search"
   ]
  },
  {
   "cell_type": "markdown",
   "id": "1fedcedc-cb45-4a09-ad34-9eb9a4f5b9ea",
   "metadata": {},
   "source": [
    "Preliminary Analysis"
   ]
  },
  {
   "cell_type": "markdown",
   "id": "27c0a26c-c52f-40c7-bfda-a35ddb41b7c9",
   "metadata": {},
   "source": [
    "Importing the dataset"
   ]
  },
  {
   "cell_type": "code",
   "execution_count": 4,
   "id": "59273b87-a710-49a8-a58b-0e1cc121c84a",
   "metadata": {
    "tags": []
   },
   "outputs": [],
   "source": [
    "cwd = os.getcwd()\n",
    "dataset_dir = os.path.join(cwd,'Dataset')\n",
    "df = pd.read_csv(os.path.join(dataset_dir,'WELFake_Dataset.csv'))"
   ]
  },
  {
   "cell_type": "raw",
   "id": "1b4066e7-811c-4586-9110-dcebe52e2121",
   "metadata": {},
   "source": [
    "Problem Description\n",
    "The authenticity of Information has become a longstanding issue affecting businesses and society, both for printed and digital media. On social networks, the reach and effects of information spread occur at such a fast pace and so amplified that distorted, inaccurate, or false information acquires a tremendous potential to cause real-world impacts, within minutes, for millions of users. Recently, several public concerns about this problem and some approaches to mitigate the problem were expressed.\n",
    "\n",
    "Data- Description:\n",
    "There are 4 columns in the dataset provided to you. The description of each of the column is given below: \n",
    "“Unnamed:0”: It is a serial number \n",
    "“headline”: It is the title of the news. \n",
    "“news”: It contains the full text of the news article \n",
    "“label”: It tells whether the news is fake (1) or not fake (0)."
   ]
  },
  {
   "cell_type": "code",
   "execution_count": 5,
   "id": "8a53f245-a2e0-454d-8a10-f761d8d55054",
   "metadata": {
    "tags": []
   },
   "outputs": [
    {
     "name": "stdout",
     "output_type": "stream",
     "text": [
      "Dataset shape: (72134, 4)\n"
     ]
    }
   ],
   "source": [
    "print(\"Dataset shape:\", df.shape)"
   ]
  },
  {
   "cell_type": "code",
   "execution_count": 6,
   "id": "c16471eb-4c61-4c92-aede-652ef5436006",
   "metadata": {
    "tags": []
   },
   "outputs": [
    {
     "data": {
      "text/html": [
       "<div>\n",
       "<style scoped>\n",
       "    .dataframe tbody tr th:only-of-type {\n",
       "        vertical-align: middle;\n",
       "    }\n",
       "\n",
       "    .dataframe tbody tr th {\n",
       "        vertical-align: top;\n",
       "    }\n",
       "\n",
       "    .dataframe thead th {\n",
       "        text-align: right;\n",
       "    }\n",
       "</style>\n",
       "<table border=\"1\" class=\"dataframe\">\n",
       "  <thead>\n",
       "    <tr style=\"text-align: right;\">\n",
       "      <th></th>\n",
       "      <th>Unnamed: 0</th>\n",
       "      <th>title</th>\n",
       "      <th>text</th>\n",
       "      <th>label</th>\n",
       "    </tr>\n",
       "  </thead>\n",
       "  <tbody>\n",
       "    <tr>\n",
       "      <th>0</th>\n",
       "      <td>0</td>\n",
       "      <td>LAW ENFORCEMENT ON HIGH ALERT Following Threat...</td>\n",
       "      <td>No comment is expected from Barack Obama Membe...</td>\n",
       "      <td>1</td>\n",
       "    </tr>\n",
       "    <tr>\n",
       "      <th>1</th>\n",
       "      <td>1</td>\n",
       "      <td>NaN</td>\n",
       "      <td>Did they post their votes for Hillary already?</td>\n",
       "      <td>1</td>\n",
       "    </tr>\n",
       "    <tr>\n",
       "      <th>2</th>\n",
       "      <td>2</td>\n",
       "      <td>UNBELIEVABLE! OBAMA’S ATTORNEY GENERAL SAYS MO...</td>\n",
       "      <td>Now, most of the demonstrators gathered last ...</td>\n",
       "      <td>1</td>\n",
       "    </tr>\n",
       "    <tr>\n",
       "      <th>3</th>\n",
       "      <td>3</td>\n",
       "      <td>Bobby Jindal, raised Hindu, uses story of Chri...</td>\n",
       "      <td>A dozen politically active pastors came here f...</td>\n",
       "      <td>0</td>\n",
       "    </tr>\n",
       "    <tr>\n",
       "      <th>4</th>\n",
       "      <td>4</td>\n",
       "      <td>SATAN 2: Russia unvelis an image of its terrif...</td>\n",
       "      <td>The RS-28 Sarmat missile, dubbed Satan 2, will...</td>\n",
       "      <td>1</td>\n",
       "    </tr>\n",
       "  </tbody>\n",
       "</table>\n",
       "</div>"
      ],
      "text/plain": [
       "   Unnamed: 0                                              title  \\\n",
       "0           0  LAW ENFORCEMENT ON HIGH ALERT Following Threat...   \n",
       "1           1                                                NaN   \n",
       "2           2  UNBELIEVABLE! OBAMA’S ATTORNEY GENERAL SAYS MO...   \n",
       "3           3  Bobby Jindal, raised Hindu, uses story of Chri...   \n",
       "4           4  SATAN 2: Russia unvelis an image of its terrif...   \n",
       "\n",
       "                                                text  label  \n",
       "0  No comment is expected from Barack Obama Membe...      1  \n",
       "1     Did they post their votes for Hillary already?      1  \n",
       "2   Now, most of the demonstrators gathered last ...      1  \n",
       "3  A dozen politically active pastors came here f...      0  \n",
       "4  The RS-28 Sarmat missile, dubbed Satan 2, will...      1  "
      ]
     },
     "execution_count": 6,
     "metadata": {},
     "output_type": "execute_result"
    }
   ],
   "source": [
    "df.head()"
   ]
  },
  {
   "cell_type": "code",
   "execution_count": 7,
   "id": "f0e5cb3d-5b21-4be8-b21f-2566a6d6f3d2",
   "metadata": {
    "tags": []
   },
   "outputs": [
    {
     "data": {
      "text/html": [
       "<div>\n",
       "<style scoped>\n",
       "    .dataframe tbody tr th:only-of-type {\n",
       "        vertical-align: middle;\n",
       "    }\n",
       "\n",
       "    .dataframe tbody tr th {\n",
       "        vertical-align: top;\n",
       "    }\n",
       "\n",
       "    .dataframe thead th {\n",
       "        text-align: right;\n",
       "    }\n",
       "</style>\n",
       "<table border=\"1\" class=\"dataframe\">\n",
       "  <thead>\n",
       "    <tr style=\"text-align: right;\">\n",
       "      <th></th>\n",
       "      <th>title</th>\n",
       "      <th>text</th>\n",
       "      <th>label</th>\n",
       "    </tr>\n",
       "  </thead>\n",
       "  <tbody>\n",
       "    <tr>\n",
       "      <th>0</th>\n",
       "      <td>LAW ENFORCEMENT ON HIGH ALERT Following Threat...</td>\n",
       "      <td>No comment is expected from Barack Obama Membe...</td>\n",
       "      <td>1</td>\n",
       "    </tr>\n",
       "    <tr>\n",
       "      <th>1</th>\n",
       "      <td>NaN</td>\n",
       "      <td>Did they post their votes for Hillary already?</td>\n",
       "      <td>1</td>\n",
       "    </tr>\n",
       "    <tr>\n",
       "      <th>2</th>\n",
       "      <td>UNBELIEVABLE! OBAMA’S ATTORNEY GENERAL SAYS MO...</td>\n",
       "      <td>Now, most of the demonstrators gathered last ...</td>\n",
       "      <td>1</td>\n",
       "    </tr>\n",
       "    <tr>\n",
       "      <th>3</th>\n",
       "      <td>Bobby Jindal, raised Hindu, uses story of Chri...</td>\n",
       "      <td>A dozen politically active pastors came here f...</td>\n",
       "      <td>0</td>\n",
       "    </tr>\n",
       "    <tr>\n",
       "      <th>4</th>\n",
       "      <td>SATAN 2: Russia unvelis an image of its terrif...</td>\n",
       "      <td>The RS-28 Sarmat missile, dubbed Satan 2, will...</td>\n",
       "      <td>1</td>\n",
       "    </tr>\n",
       "  </tbody>\n",
       "</table>\n",
       "</div>"
      ],
      "text/plain": [
       "                                               title  \\\n",
       "0  LAW ENFORCEMENT ON HIGH ALERT Following Threat...   \n",
       "1                                                NaN   \n",
       "2  UNBELIEVABLE! OBAMA’S ATTORNEY GENERAL SAYS MO...   \n",
       "3  Bobby Jindal, raised Hindu, uses story of Chri...   \n",
       "4  SATAN 2: Russia unvelis an image of its terrif...   \n",
       "\n",
       "                                                text  label  \n",
       "0  No comment is expected from Barack Obama Membe...      1  \n",
       "1     Did they post their votes for Hillary already?      1  \n",
       "2   Now, most of the demonstrators gathered last ...      1  \n",
       "3  A dozen politically active pastors came here f...      0  \n",
       "4  The RS-28 Sarmat missile, dubbed Satan 2, will...      1  "
      ]
     },
     "execution_count": 7,
     "metadata": {},
     "output_type": "execute_result"
    }
   ],
   "source": [
    "unnamed_columns = [col for col in df.columns if search(r'^Unnamed', col)]\n",
    "\n",
    "df = df.drop(unnamed_columns, axis=1)\n",
    "\n",
    "df.head()"
   ]
  },
  {
   "cell_type": "code",
   "execution_count": 8,
   "id": "5fdc2a06-40df-4788-8f34-57f6cba2e326",
   "metadata": {
    "tags": []
   },
   "outputs": [
    {
     "name": "stdout",
     "output_type": "stream",
     "text": [
      "Dataset shape: (72134, 3)\n"
     ]
    }
   ],
   "source": [
    "print(\"Dataset shape:\", df.shape)"
   ]
  },
  {
   "cell_type": "code",
   "execution_count": 9,
   "id": "4ebc4566-fa13-44b1-ae26-ac8220350c06",
   "metadata": {
    "tags": []
   },
   "outputs": [],
   "source": [
    "news = 'text'\n",
    "headline = 'title'"
   ]
  },
  {
   "cell_type": "markdown",
   "id": "8d1dc672-6757-4ea0-bcdf-c4b7d639ddb9",
   "metadata": {},
   "source": [
    "Cleaning the data"
   ]
  },
  {
   "cell_type": "markdown",
   "id": "9d7f7b84-6a64-452d-8d57-21551226ff07",
   "metadata": {},
   "source": [
    "Checking for missing data"
   ]
  },
  {
   "cell_type": "code",
   "execution_count": 10,
   "id": "29d2fe9c-be52-480a-be01-324e6e05645f",
   "metadata": {
    "tags": []
   },
   "outputs": [
    {
     "name": "stdout",
     "output_type": "stream",
     "text": [
      "<class 'pandas.core.frame.DataFrame'>\n",
      "RangeIndex: 72134 entries, 0 to 72133\n",
      "Data columns (total 3 columns):\n",
      " #   Column  Non-Null Count  Dtype \n",
      "---  ------  --------------  ----- \n",
      " 0   title   71576 non-null  object\n",
      " 1   text    72095 non-null  object\n",
      " 2   label   72134 non-null  int64 \n",
      "dtypes: int64(1), object(2)\n",
      "memory usage: 1.7+ MB\n"
     ]
    }
   ],
   "source": [
    "df.info()"
   ]
  },
  {
   "cell_type": "code",
   "execution_count": 11,
   "id": "155a8fce-02a6-4d81-92ff-a97826c1c3c4",
   "metadata": {
    "tags": []
   },
   "outputs": [
    {
     "data": {
      "text/plain": [
       "1    37106\n",
       "0    35028\n",
       "Name: label, dtype: int64"
      ]
     },
     "execution_count": 11,
     "metadata": {},
     "output_type": "execute_result"
    }
   ],
   "source": [
    "df.label.value_counts()"
   ]
  },
  {
   "cell_type": "markdown",
   "id": "f092ca0c-3636-4648-bfbe-570933030679",
   "metadata": {},
   "source": [
    "This confirms that 0 label is used for true news and 1 label is used for fake news"
   ]
  },
  {
   "cell_type": "code",
   "execution_count": 12,
   "id": "d4d5ed4c-bc29-4715-8e62-8fb98d93775b",
   "metadata": {
    "tags": []
   },
   "outputs": [
    {
     "name": "stdout",
     "output_type": "stream",
     "text": [
      "Dataset null values:\n",
      " title    558\n",
      "text      39\n",
      "label      0\n",
      "dtype: int64\n"
     ]
    }
   ],
   "source": [
    "print('Dataset null values:\\n',df.isna().sum())"
   ]
  },
  {
   "cell_type": "code",
   "execution_count": 13,
   "id": "a46fcdab-0130-4883-9600-43e2f44d8bf9",
   "metadata": {
    "tags": []
   },
   "outputs": [],
   "source": [
    "def show_tf_distribution(df, column) :\n",
    "    null = df[df[column].isna()]\n",
    "    total = len(null)\n",
    "    notfake_cnt = list(null[null['label']==0].shape)[0]\n",
    "    fake_cnt = list(null[null['label']==1].shape)[0]\n",
    "    \n",
    "    print('Null Values distribution for \\''+column+'\\' on basis for realness')\n",
    "    print('Total:\\t',total)\n",
    "    print('Real %:\\t',format(((notfake_cnt/total)*100),'.2f'))\n",
    "    print('Fake %:\\t',format(((fake_cnt/total)*100),'.2f'))"
   ]
  },
  {
   "cell_type": "code",
   "execution_count": 14,
   "id": "4c25e9d8-27e2-4bb2-8bdf-7c033a3069fa",
   "metadata": {
    "tags": []
   },
   "outputs": [
    {
     "name": "stdout",
     "output_type": "stream",
     "text": [
      "Null Values distribution for 'text' on basis for realness\n",
      "Total:\t 39\n",
      "Real %:\t 0.00\n",
      "Fake %:\t 100.00\n"
     ]
    }
   ],
   "source": [
    "show_tf_distribution(df, news)"
   ]
  },
  {
   "cell_type": "code",
   "execution_count": 15,
   "id": "6f44aa54-bda5-452a-8208-625b16fd258e",
   "metadata": {
    "tags": []
   },
   "outputs": [
    {
     "name": "stdout",
     "output_type": "stream",
     "text": [
      "Null Values distribution for 'title' on basis for realness\n",
      "Total:\t 558\n",
      "Real %:\t 0.00\n",
      "Fake %:\t 100.00\n"
     ]
    }
   ],
   "source": [
    "show_tf_distribution(df, headline)"
   ]
  },
  {
   "cell_type": "markdown",
   "id": "9f07160f-a64f-491a-84ec-22c5981caba6",
   "metadata": {},
   "source": [
    "As every instance of missing value almost always indicates a fake news article, missing value/information can be an identifying factor. Hence not dropping rows with null values."
   ]
  },
  {
   "cell_type": "markdown",
   "id": "c4b8cadf-5911-4d1b-9f8b-01df372b7aed",
   "metadata": {},
   "source": [
    "Checking for placeholder values and duplicates"
   ]
  },
  {
   "cell_type": "code",
   "execution_count": 16,
   "id": "f625b078-e9d3-4f5c-977f-7fda79315213",
   "metadata": {
    "tags": []
   },
   "outputs": [
    {
     "data": {
      "text/plain": [
       "Factbox: Trump fills top jobs for his administration                                                                                  14\n",
       "Get Ready For Civil Unrest: Survey Finds That Most Americans Are Concerned About Election Violence                                     8\n",
       "Highlights: The Trump presidency on April 13 at 9:30 P.M. EDT/0130 GMT on Friday                                                       8\n",
       "Factbox: Contenders for senior jobs in Trump's administration                                                                          8\n",
       "Michael Moore Owes Me $4.99                                                                                                            7\n",
       "                                                                                                                                      ..\n",
       "TWO SOMALI MUSLIM MEN Arrested For Daytime Gun Fight In Olive Garden Parking Lot In City Ranked “#2 Best Place To Live In America”     2\n",
       "WILL OBAMA REGIME Be Held Accountable For Dirty Tactics They Used To Take Down MICHAEL FLYNN?                                          2\n",
       "LOL! “BLACK STUDENTS UNITED” Demands “Racist” Cornell University Stops Recruiting Blacks That Aren’t Like Them                         2\n",
       "JUDGE JEANINE Tells Us What The Smoking Gun Is In The Clinton Foundation [Video]                                                       2\n",
       "Coke Zero: What Went Wrong With The Marco Rubio Brand?                                                                                 2\n",
       "Name: title, Length: 8349, dtype: int64"
      ]
     },
     "execution_count": 16,
     "metadata": {},
     "output_type": "execute_result"
    }
   ],
   "source": [
    "headline_value_counts = df[headline].value_counts()\n",
    "headline_value_counts[headline_value_counts > 1]"
   ]
  },
  {
   "cell_type": "code",
   "execution_count": 17,
   "id": "8431dd6b-fe42-41be-9f35-d29509013d88",
   "metadata": {
    "tags": []
   },
   "outputs": [
    {
     "data": {
      "text/html": [
       "<div>\n",
       "<style scoped>\n",
       "    .dataframe tbody tr th:only-of-type {\n",
       "        vertical-align: middle;\n",
       "    }\n",
       "\n",
       "    .dataframe tbody tr th {\n",
       "        vertical-align: top;\n",
       "    }\n",
       "\n",
       "    .dataframe thead th {\n",
       "        text-align: right;\n",
       "    }\n",
       "</style>\n",
       "<table border=\"1\" class=\"dataframe\">\n",
       "  <thead>\n",
       "    <tr style=\"text-align: right;\">\n",
       "      <th></th>\n",
       "      <th>title</th>\n",
       "      <th>text</th>\n",
       "      <th>label</th>\n",
       "    </tr>\n",
       "  </thead>\n",
       "  <tbody>\n",
       "    <tr>\n",
       "      <th>4</th>\n",
       "      <td>SATAN 2: Russia unvelis an image of its terrif...</td>\n",
       "      <td>The RS-28 Sarmat missile, dubbed Satan 2, will...</td>\n",
       "      <td>1</td>\n",
       "    </tr>\n",
       "    <tr>\n",
       "      <th>5</th>\n",
       "      <td>About Time! Christian Group Sues Amazon and SP...</td>\n",
       "      <td>All we can say on this one is it s about time ...</td>\n",
       "      <td>1</td>\n",
       "    </tr>\n",
       "    <tr>\n",
       "      <th>7</th>\n",
       "      <td>HOUSE INTEL CHAIR On Trump-Russia Fake Story: ...</td>\n",
       "      <td></td>\n",
       "      <td>1</td>\n",
       "    </tr>\n",
       "    <tr>\n",
       "      <th>8</th>\n",
       "      <td>Sports Bar Owner Bans NFL Games…Will Show Only...</td>\n",
       "      <td>The owner of the Ringling Bar, located south o...</td>\n",
       "      <td>1</td>\n",
       "    </tr>\n",
       "    <tr>\n",
       "      <th>13</th>\n",
       "      <td>WATCH: HILARIOUS AD Calls Into Question Health...</td>\n",
       "      <td>After watching this telling video, you ll wond...</td>\n",
       "      <td>1</td>\n",
       "    </tr>\n",
       "    <tr>\n",
       "      <th>...</th>\n",
       "      <td>...</td>\n",
       "      <td>...</td>\n",
       "      <td>...</td>\n",
       "    </tr>\n",
       "    <tr>\n",
       "      <th>72116</th>\n",
       "      <td>SAY “HELLO” TO YOUR NEW NEIGHBORS! Clooney Beg...</td>\n",
       "      <td>Karma it s a beautiful thing A massive makeshi...</td>\n",
       "      <td>1</td>\n",
       "    </tr>\n",
       "    <tr>\n",
       "      <th>72118</th>\n",
       "      <td>LEFTY MEDIA DESPERATELY Tries To Bury Trump Bu...</td>\n",
       "      <td>CNN political hack Alison Camarota wants to na...</td>\n",
       "      <td>1</td>\n",
       "    </tr>\n",
       "    <tr>\n",
       "      <th>72125</th>\n",
       "      <td>WOW! JILL STEIN’S ‘FIRESIDE CHAT’ Exposes Her ...</td>\n",
       "      <td></td>\n",
       "      <td>1</td>\n",
       "    </tr>\n",
       "    <tr>\n",
       "      <th>72128</th>\n",
       "      <td>JUDGE JEANINE SOUNDS FREE SPEECH ALARM: “They ...</td>\n",
       "      <td>Judge Jeanine lets it rip! She s concerned wit...</td>\n",
       "      <td>1</td>\n",
       "    </tr>\n",
       "    <tr>\n",
       "      <th>72133</th>\n",
       "      <td>Goldman Sachs Endorses Hillary Clinton For Pre...</td>\n",
       "      <td>Goldman Sachs Endorses Hillary Clinton For Pre...</td>\n",
       "      <td>1</td>\n",
       "    </tr>\n",
       "  </tbody>\n",
       "</table>\n",
       "<p>17578 rows × 3 columns</p>\n",
       "</div>"
      ],
      "text/plain": [
       "                                                   title  \\\n",
       "4      SATAN 2: Russia unvelis an image of its terrif...   \n",
       "5      About Time! Christian Group Sues Amazon and SP...   \n",
       "7      HOUSE INTEL CHAIR On Trump-Russia Fake Story: ...   \n",
       "8      Sports Bar Owner Bans NFL Games…Will Show Only...   \n",
       "13     WATCH: HILARIOUS AD Calls Into Question Health...   \n",
       "...                                                  ...   \n",
       "72116  SAY “HELLO” TO YOUR NEW NEIGHBORS! Clooney Beg...   \n",
       "72118  LEFTY MEDIA DESPERATELY Tries To Bury Trump Bu...   \n",
       "72125  WOW! JILL STEIN’S ‘FIRESIDE CHAT’ Exposes Her ...   \n",
       "72128  JUDGE JEANINE SOUNDS FREE SPEECH ALARM: “They ...   \n",
       "72133  Goldman Sachs Endorses Hillary Clinton For Pre...   \n",
       "\n",
       "                                                    text  label  \n",
       "4      The RS-28 Sarmat missile, dubbed Satan 2, will...      1  \n",
       "5      All we can say on this one is it s about time ...      1  \n",
       "7                                                             1  \n",
       "8      The owner of the Ringling Bar, located south o...      1  \n",
       "13     After watching this telling video, you ll wond...      1  \n",
       "...                                                  ...    ...  \n",
       "72116  Karma it s a beautiful thing A massive makeshi...      1  \n",
       "72118  CNN political hack Alison Camarota wants to na...      1  \n",
       "72125                                                         1  \n",
       "72128  Judge Jeanine lets it rip! She s concerned wit...      1  \n",
       "72133  Goldman Sachs Endorses Hillary Clinton For Pre...      1  \n",
       "\n",
       "[17578 rows x 3 columns]"
      ]
     },
     "execution_count": 17,
     "metadata": {},
     "output_type": "execute_result"
    }
   ],
   "source": [
    "duplicate_headline_list = set(headline_value_counts[headline_value_counts > 1].keys())\n",
    "df_dup_headline = df[df[headline].isin(duplicate_headline_list)]\n",
    "df_dup_headline"
   ]
  },
  {
   "cell_type": "code",
   "execution_count": 18,
   "id": "22b32f75-e1a4-4e52-976f-67caff90140d",
   "metadata": {
    "tags": []
   },
   "outputs": [
    {
     "data": {
      "text/html": [
       "<div>\n",
       "<style scoped>\n",
       "    .dataframe tbody tr th:only-of-type {\n",
       "        vertical-align: middle;\n",
       "    }\n",
       "\n",
       "    .dataframe tbody tr th {\n",
       "        vertical-align: top;\n",
       "    }\n",
       "\n",
       "    .dataframe thead th {\n",
       "        text-align: right;\n",
       "    }\n",
       "</style>\n",
       "<table border=\"1\" class=\"dataframe\">\n",
       "  <thead>\n",
       "    <tr style=\"text-align: right;\">\n",
       "      <th></th>\n",
       "      <th>title</th>\n",
       "      <th>text</th>\n",
       "      <th>label</th>\n",
       "    </tr>\n",
       "  </thead>\n",
       "  <tbody>\n",
       "    <tr>\n",
       "      <th>873</th>\n",
       "      <td>Just Weeks After Obama’s Executive Order on Ca...</td>\n",
       "      <td>By Melissa Dykes This has already been the cra...</td>\n",
       "      <td>1</td>\n",
       "    </tr>\n",
       "    <tr>\n",
       "      <th>1192</th>\n",
       "      <td>Sports Bar Owner Bans NFL Games…Will Show Only...</td>\n",
       "      <td>The owner of the Ringling Bar, located south o...</td>\n",
       "      <td>1</td>\n",
       "    </tr>\n",
       "    <tr>\n",
       "      <th>1508</th>\n",
       "      <td>HILARIOUS! LIBERALS STUNNED When Republican Gu...</td>\n",
       "      <td>On Saturday, MSNBC s Joy Reid repeatedly attem...</td>\n",
       "      <td>1</td>\n",
       "    </tr>\n",
       "    <tr>\n",
       "      <th>1632</th>\n",
       "      <td>Strange: Trump ‘Internet Takeover’ Fear Story ...</td>\n",
       "      <td>21st Century Wire says A red flag went up when...</td>\n",
       "      <td>1</td>\n",
       "    </tr>\n",
       "    <tr>\n",
       "      <th>1661</th>\n",
       "      <td>WOW! HILLARY Took State Department Furniture T...</td>\n",
       "      <td>Most of the documents are testimonies provided...</td>\n",
       "      <td>1</td>\n",
       "    </tr>\n",
       "    <tr>\n",
       "      <th>...</th>\n",
       "      <td>...</td>\n",
       "      <td>...</td>\n",
       "      <td>...</td>\n",
       "    </tr>\n",
       "    <tr>\n",
       "      <th>72116</th>\n",
       "      <td>SAY “HELLO” TO YOUR NEW NEIGHBORS! Clooney Beg...</td>\n",
       "      <td>Karma it s a beautiful thing A massive makeshi...</td>\n",
       "      <td>1</td>\n",
       "    </tr>\n",
       "    <tr>\n",
       "      <th>72118</th>\n",
       "      <td>LEFTY MEDIA DESPERATELY Tries To Bury Trump Bu...</td>\n",
       "      <td>CNN political hack Alison Camarota wants to na...</td>\n",
       "      <td>1</td>\n",
       "    </tr>\n",
       "    <tr>\n",
       "      <th>72125</th>\n",
       "      <td>WOW! JILL STEIN’S ‘FIRESIDE CHAT’ Exposes Her ...</td>\n",
       "      <td></td>\n",
       "      <td>1</td>\n",
       "    </tr>\n",
       "    <tr>\n",
       "      <th>72128</th>\n",
       "      <td>JUDGE JEANINE SOUNDS FREE SPEECH ALARM: “They ...</td>\n",
       "      <td>Judge Jeanine lets it rip! She s concerned wit...</td>\n",
       "      <td>1</td>\n",
       "    </tr>\n",
       "    <tr>\n",
       "      <th>72133</th>\n",
       "      <td>Goldman Sachs Endorses Hillary Clinton For Pre...</td>\n",
       "      <td>Goldman Sachs Endorses Hillary Clinton For Pre...</td>\n",
       "      <td>1</td>\n",
       "    </tr>\n",
       "  </tbody>\n",
       "</table>\n",
       "<p>8416 rows × 3 columns</p>\n",
       "</div>"
      ],
      "text/plain": [
       "                                                   title  \\\n",
       "873    Just Weeks After Obama’s Executive Order on Ca...   \n",
       "1192   Sports Bar Owner Bans NFL Games…Will Show Only...   \n",
       "1508   HILARIOUS! LIBERALS STUNNED When Republican Gu...   \n",
       "1632   Strange: Trump ‘Internet Takeover’ Fear Story ...   \n",
       "1661   WOW! HILLARY Took State Department Furniture T...   \n",
       "...                                                  ...   \n",
       "72116  SAY “HELLO” TO YOUR NEW NEIGHBORS! Clooney Beg...   \n",
       "72118  LEFTY MEDIA DESPERATELY Tries To Bury Trump Bu...   \n",
       "72125  WOW! JILL STEIN’S ‘FIRESIDE CHAT’ Exposes Her ...   \n",
       "72128  JUDGE JEANINE SOUNDS FREE SPEECH ALARM: “They ...   \n",
       "72133  Goldman Sachs Endorses Hillary Clinton For Pre...   \n",
       "\n",
       "                                                    text  label  \n",
       "873    By Melissa Dykes This has already been the cra...      1  \n",
       "1192   The owner of the Ringling Bar, located south o...      1  \n",
       "1508   On Saturday, MSNBC s Joy Reid repeatedly attem...      1  \n",
       "1632   21st Century Wire says A red flag went up when...      1  \n",
       "1661   Most of the documents are testimonies provided...      1  \n",
       "...                                                  ...    ...  \n",
       "72116  Karma it s a beautiful thing A massive makeshi...      1  \n",
       "72118  CNN political hack Alison Camarota wants to na...      1  \n",
       "72125                                                         1  \n",
       "72128  Judge Jeanine lets it rip! She s concerned wit...      1  \n",
       "72133  Goldman Sachs Endorses Hillary Clinton For Pre...      1  \n",
       "\n",
       "[8416 rows x 3 columns]"
      ]
     },
     "execution_count": 18,
     "metadata": {},
     "output_type": "execute_result"
    }
   ],
   "source": [
    "df_dup_headline[df_dup_headline.duplicated()]"
   ]
  },
  {
   "cell_type": "markdown",
   "id": "b59e2752-c265-43f1-bc4e-ab85c9fc1f4e",
   "metadata": {},
   "source": [
    "There are 8416 duplicated rows that needs to be deleted"
   ]
  },
  {
   "cell_type": "code",
   "execution_count": 19,
   "id": "450a2df2-5b9a-4818-b55c-447423d773e6",
   "metadata": {
    "tags": []
   },
   "outputs": [
    {
     "data": {
      "text/html": [
       "<div>\n",
       "<style scoped>\n",
       "    .dataframe tbody tr th:only-of-type {\n",
       "        vertical-align: middle;\n",
       "    }\n",
       "\n",
       "    .dataframe tbody tr th {\n",
       "        vertical-align: top;\n",
       "    }\n",
       "\n",
       "    .dataframe thead th {\n",
       "        text-align: right;\n",
       "    }\n",
       "</style>\n",
       "<table border=\"1\" class=\"dataframe\">\n",
       "  <thead>\n",
       "    <tr style=\"text-align: right;\">\n",
       "      <th></th>\n",
       "      <th>title</th>\n",
       "      <th>text</th>\n",
       "      <th>label</th>\n",
       "    </tr>\n",
       "  </thead>\n",
       "  <tbody>\n",
       "    <tr>\n",
       "      <th>106</th>\n",
       "      <td>MARKETWATCH LEFTIST: MSM’s “Blatant” Anti Trum...</td>\n",
       "      <td></td>\n",
       "      <td>1</td>\n",
       "    </tr>\n",
       "    <tr>\n",
       "      <th>325</th>\n",
       "      <td>Ohio State University Student Says Terrorist A...</td>\n",
       "      <td></td>\n",
       "      <td>1</td>\n",
       "    </tr>\n",
       "    <tr>\n",
       "      <th>364</th>\n",
       "      <td>JULIAN ASSANGE REVEALS John Podesta’s Hilariou...</td>\n",
       "      <td></td>\n",
       "      <td>1</td>\n",
       "    </tr>\n",
       "    <tr>\n",
       "      <th>512</th>\n",
       "      <td>OBAMA’S LIST OF 21 MEDAL OF FREEDOM Recipients...</td>\n",
       "      <td></td>\n",
       "      <td>1</td>\n",
       "    </tr>\n",
       "    <tr>\n",
       "      <th>514</th>\n",
       "      <td>HILARIOUS TRUMP CHRISTMAS VIDEO: “It’s The Mos...</td>\n",
       "      <td></td>\n",
       "      <td>1</td>\n",
       "    </tr>\n",
       "    <tr>\n",
       "      <th>...</th>\n",
       "      <td>...</td>\n",
       "      <td>...</td>\n",
       "      <td>...</td>\n",
       "    </tr>\n",
       "    <tr>\n",
       "      <th>72116</th>\n",
       "      <td>SAY “HELLO” TO YOUR NEW NEIGHBORS! Clooney Beg...</td>\n",
       "      <td>Karma it s a beautiful thing A massive makeshi...</td>\n",
       "      <td>1</td>\n",
       "    </tr>\n",
       "    <tr>\n",
       "      <th>72118</th>\n",
       "      <td>LEFTY MEDIA DESPERATELY Tries To Bury Trump Bu...</td>\n",
       "      <td>CNN political hack Alison Camarota wants to na...</td>\n",
       "      <td>1</td>\n",
       "    </tr>\n",
       "    <tr>\n",
       "      <th>72125</th>\n",
       "      <td>WOW! JILL STEIN’S ‘FIRESIDE CHAT’ Exposes Her ...</td>\n",
       "      <td></td>\n",
       "      <td>1</td>\n",
       "    </tr>\n",
       "    <tr>\n",
       "      <th>72128</th>\n",
       "      <td>JUDGE JEANINE SOUNDS FREE SPEECH ALARM: “They ...</td>\n",
       "      <td>Judge Jeanine lets it rip! She s concerned wit...</td>\n",
       "      <td>1</td>\n",
       "    </tr>\n",
       "    <tr>\n",
       "      <th>72133</th>\n",
       "      <td>Goldman Sachs Endorses Hillary Clinton For Pre...</td>\n",
       "      <td>Goldman Sachs Endorses Hillary Clinton For Pre...</td>\n",
       "      <td>1</td>\n",
       "    </tr>\n",
       "  </tbody>\n",
       "</table>\n",
       "<p>8658 rows × 3 columns</p>\n",
       "</div>"
      ],
      "text/plain": [
       "                                                   title  \\\n",
       "106    MARKETWATCH LEFTIST: MSM’s “Blatant” Anti Trum...   \n",
       "325    Ohio State University Student Says Terrorist A...   \n",
       "364    JULIAN ASSANGE REVEALS John Podesta’s Hilariou...   \n",
       "512    OBAMA’S LIST OF 21 MEDAL OF FREEDOM Recipients...   \n",
       "514    HILARIOUS TRUMP CHRISTMAS VIDEO: “It’s The Mos...   \n",
       "...                                                  ...   \n",
       "72116  SAY “HELLO” TO YOUR NEW NEIGHBORS! Clooney Beg...   \n",
       "72118  LEFTY MEDIA DESPERATELY Tries To Bury Trump Bu...   \n",
       "72125  WOW! JILL STEIN’S ‘FIRESIDE CHAT’ Exposes Her ...   \n",
       "72128  JUDGE JEANINE SOUNDS FREE SPEECH ALARM: “They ...   \n",
       "72133  Goldman Sachs Endorses Hillary Clinton For Pre...   \n",
       "\n",
       "                                                    text  label  \n",
       "106                                                           1  \n",
       "325                                                           1  \n",
       "364                                                           1  \n",
       "512                                                           1  \n",
       "514                                                           1  \n",
       "...                                                  ...    ...  \n",
       "72116  Karma it s a beautiful thing A massive makeshi...      1  \n",
       "72118  CNN political hack Alison Camarota wants to na...      1  \n",
       "72125                                                         1  \n",
       "72128  Judge Jeanine lets it rip! She s concerned wit...      1  \n",
       "72133  Goldman Sachs Endorses Hillary Clinton For Pre...      1  \n",
       "\n",
       "[8658 rows x 3 columns]"
      ]
     },
     "execution_count": 19,
     "metadata": {},
     "output_type": "execute_result"
    }
   ],
   "source": [
    "df_dup_headline[df_dup_headline.duplicated([news])]"
   ]
  },
  {
   "cell_type": "markdown",
   "id": "4a15fc25-d386-4bec-b524-49fc15262990",
   "metadata": {},
   "source": [
    "There are 8658 rows with duplicated text"
   ]
  },
  {
   "cell_type": "code",
   "execution_count": 20,
   "id": "bec0e5ad-cf48-4636-ad84-613aea202f88",
   "metadata": {
    "tags": []
   },
   "outputs": [
    {
     "data": {
      "text/html": [
       "<div>\n",
       "<style scoped>\n",
       "    .dataframe tbody tr th:only-of-type {\n",
       "        vertical-align: middle;\n",
       "    }\n",
       "\n",
       "    .dataframe tbody tr th {\n",
       "        vertical-align: top;\n",
       "    }\n",
       "\n",
       "    .dataframe thead th {\n",
       "        text-align: right;\n",
       "    }\n",
       "</style>\n",
       "<table border=\"1\" class=\"dataframe\">\n",
       "  <thead>\n",
       "    <tr style=\"text-align: right;\">\n",
       "      <th></th>\n",
       "      <th>title</th>\n",
       "      <th>text</th>\n",
       "      <th>label</th>\n",
       "    </tr>\n",
       "  </thead>\n",
       "  <tbody>\n",
       "    <tr>\n",
       "      <th>873</th>\n",
       "      <td>Just Weeks After Obama’s Executive Order on Ca...</td>\n",
       "      <td>By Melissa Dykes This has already been the cra...</td>\n",
       "      <td>1</td>\n",
       "    </tr>\n",
       "    <tr>\n",
       "      <th>1192</th>\n",
       "      <td>Sports Bar Owner Bans NFL Games…Will Show Only...</td>\n",
       "      <td>The owner of the Ringling Bar, located south o...</td>\n",
       "      <td>1</td>\n",
       "    </tr>\n",
       "    <tr>\n",
       "      <th>1508</th>\n",
       "      <td>HILARIOUS! LIBERALS STUNNED When Republican Gu...</td>\n",
       "      <td>On Saturday, MSNBC s Joy Reid repeatedly attem...</td>\n",
       "      <td>1</td>\n",
       "    </tr>\n",
       "    <tr>\n",
       "      <th>1632</th>\n",
       "      <td>Strange: Trump ‘Internet Takeover’ Fear Story ...</td>\n",
       "      <td>21st Century Wire says A red flag went up when...</td>\n",
       "      <td>1</td>\n",
       "    </tr>\n",
       "    <tr>\n",
       "      <th>1661</th>\n",
       "      <td>WOW! HILLARY Took State Department Furniture T...</td>\n",
       "      <td>Most of the documents are testimonies provided...</td>\n",
       "      <td>1</td>\n",
       "    </tr>\n",
       "    <tr>\n",
       "      <th>...</th>\n",
       "      <td>...</td>\n",
       "      <td>...</td>\n",
       "      <td>...</td>\n",
       "    </tr>\n",
       "    <tr>\n",
       "      <th>72116</th>\n",
       "      <td>SAY “HELLO” TO YOUR NEW NEIGHBORS! Clooney Beg...</td>\n",
       "      <td>Karma it s a beautiful thing A massive makeshi...</td>\n",
       "      <td>1</td>\n",
       "    </tr>\n",
       "    <tr>\n",
       "      <th>72118</th>\n",
       "      <td>LEFTY MEDIA DESPERATELY Tries To Bury Trump Bu...</td>\n",
       "      <td>CNN political hack Alison Camarota wants to na...</td>\n",
       "      <td>1</td>\n",
       "    </tr>\n",
       "    <tr>\n",
       "      <th>72125</th>\n",
       "      <td>WOW! JILL STEIN’S ‘FIRESIDE CHAT’ Exposes Her ...</td>\n",
       "      <td></td>\n",
       "      <td>1</td>\n",
       "    </tr>\n",
       "    <tr>\n",
       "      <th>72128</th>\n",
       "      <td>JUDGE JEANINE SOUNDS FREE SPEECH ALARM: “They ...</td>\n",
       "      <td>Judge Jeanine lets it rip! She s concerned wit...</td>\n",
       "      <td>1</td>\n",
       "    </tr>\n",
       "    <tr>\n",
       "      <th>72133</th>\n",
       "      <td>Goldman Sachs Endorses Hillary Clinton For Pre...</td>\n",
       "      <td>Goldman Sachs Endorses Hillary Clinton For Pre...</td>\n",
       "      <td>1</td>\n",
       "    </tr>\n",
       "  </tbody>\n",
       "</table>\n",
       "<p>8416 rows × 3 columns</p>\n",
       "</div>"
      ],
      "text/plain": [
       "                                                   title  \\\n",
       "873    Just Weeks After Obama’s Executive Order on Ca...   \n",
       "1192   Sports Bar Owner Bans NFL Games…Will Show Only...   \n",
       "1508   HILARIOUS! LIBERALS STUNNED When Republican Gu...   \n",
       "1632   Strange: Trump ‘Internet Takeover’ Fear Story ...   \n",
       "1661   WOW! HILLARY Took State Department Furniture T...   \n",
       "...                                                  ...   \n",
       "72116  SAY “HELLO” TO YOUR NEW NEIGHBORS! Clooney Beg...   \n",
       "72118  LEFTY MEDIA DESPERATELY Tries To Bury Trump Bu...   \n",
       "72125  WOW! JILL STEIN’S ‘FIRESIDE CHAT’ Exposes Her ...   \n",
       "72128  JUDGE JEANINE SOUNDS FREE SPEECH ALARM: “They ...   \n",
       "72133  Goldman Sachs Endorses Hillary Clinton For Pre...   \n",
       "\n",
       "                                                    text  label  \n",
       "873    By Melissa Dykes This has already been the cra...      1  \n",
       "1192   The owner of the Ringling Bar, located south o...      1  \n",
       "1508   On Saturday, MSNBC s Joy Reid repeatedly attem...      1  \n",
       "1632   21st Century Wire says A red flag went up when...      1  \n",
       "1661   Most of the documents are testimonies provided...      1  \n",
       "...                                                  ...    ...  \n",
       "72116  Karma it s a beautiful thing A massive makeshi...      1  \n",
       "72118  CNN political hack Alison Camarota wants to na...      1  \n",
       "72125                                                         1  \n",
       "72128  Judge Jeanine lets it rip! She s concerned wit...      1  \n",
       "72133  Goldman Sachs Endorses Hillary Clinton For Pre...      1  \n",
       "\n",
       "[8416 rows x 3 columns]"
      ]
     },
     "execution_count": 20,
     "metadata": {},
     "output_type": "execute_result"
    }
   ],
   "source": [
    "df_dup_headline[df_dup_headline.duplicated([headline, news])]"
   ]
  },
  {
   "cell_type": "markdown",
   "id": "b769effc-6ca6-4d44-bcf2-6df81e5240bd",
   "metadata": {},
   "source": [
    "There are 8416 rows with both headlines and news duplicated. These needs to be removed."
   ]
  },
  {
   "cell_type": "code",
   "execution_count": 21,
   "id": "8fd5bb54-5e78-46c0-8b78-96477d3d3735",
   "metadata": {
    "tags": []
   },
   "outputs": [
    {
     "data": {
      "text/html": [
       "<div>\n",
       "<style scoped>\n",
       "    .dataframe tbody tr th:only-of-type {\n",
       "        vertical-align: middle;\n",
       "    }\n",
       "\n",
       "    .dataframe tbody tr th {\n",
       "        vertical-align: top;\n",
       "    }\n",
       "\n",
       "    .dataframe thead th {\n",
       "        text-align: right;\n",
       "    }\n",
       "</style>\n",
       "<table border=\"1\" class=\"dataframe\">\n",
       "  <thead>\n",
       "    <tr style=\"text-align: right;\">\n",
       "      <th></th>\n",
       "      <th>title</th>\n",
       "      <th>text</th>\n",
       "      <th>label</th>\n",
       "    </tr>\n",
       "  </thead>\n",
       "  <tbody>\n",
       "    <tr>\n",
       "      <th>7</th>\n",
       "      <td>HOUSE INTEL CHAIR On Trump-Russia Fake Story: ...</td>\n",
       "      <td></td>\n",
       "      <td>1</td>\n",
       "    </tr>\n",
       "    <tr>\n",
       "      <th>106</th>\n",
       "      <td>MARKETWATCH LEFTIST: MSM’s “Blatant” Anti Trum...</td>\n",
       "      <td></td>\n",
       "      <td>1</td>\n",
       "    </tr>\n",
       "    <tr>\n",
       "      <th>325</th>\n",
       "      <td>Ohio State University Student Says Terrorist A...</td>\n",
       "      <td></td>\n",
       "      <td>1</td>\n",
       "    </tr>\n",
       "    <tr>\n",
       "      <th>364</th>\n",
       "      <td>JULIAN ASSANGE REVEALS John Podesta’s Hilariou...</td>\n",
       "      <td></td>\n",
       "      <td>1</td>\n",
       "    </tr>\n",
       "    <tr>\n",
       "      <th>512</th>\n",
       "      <td>OBAMA’S LIST OF 21 MEDAL OF FREEDOM Recipients...</td>\n",
       "      <td></td>\n",
       "      <td>1</td>\n",
       "    </tr>\n",
       "    <tr>\n",
       "      <th>...</th>\n",
       "      <td>...</td>\n",
       "      <td>...</td>\n",
       "      <td>...</td>\n",
       "    </tr>\n",
       "    <tr>\n",
       "      <th>71235</th>\n",
       "      <td>World War 3?</td>\n",
       "      <td></td>\n",
       "      <td>1</td>\n",
       "    </tr>\n",
       "    <tr>\n",
       "      <th>71621</th>\n",
       "      <td>WATCH LIBERAL CNN LAWYER Skewer “Village Idiot...</td>\n",
       "      <td></td>\n",
       "      <td>1</td>\n",
       "    </tr>\n",
       "    <tr>\n",
       "      <th>71771</th>\n",
       "      <td>WOW! JILL STEIN’S ‘FIRESIDE CHAT’ Exposes Her ...</td>\n",
       "      <td></td>\n",
       "      <td>1</td>\n",
       "    </tr>\n",
       "    <tr>\n",
       "      <th>71914</th>\n",
       "      <td>WATCH TUCKER CARLSON Scorch Sanctuary City May...</td>\n",
       "      <td></td>\n",
       "      <td>1</td>\n",
       "    </tr>\n",
       "    <tr>\n",
       "      <th>72125</th>\n",
       "      <td>WOW! JILL STEIN’S ‘FIRESIDE CHAT’ Exposes Her ...</td>\n",
       "      <td></td>\n",
       "      <td>1</td>\n",
       "    </tr>\n",
       "  </tbody>\n",
       "</table>\n",
       "<p>410 rows × 3 columns</p>\n",
       "</div>"
      ],
      "text/plain": [
       "                                                   title text  label\n",
       "7      HOUSE INTEL CHAIR On Trump-Russia Fake Story: ...           1\n",
       "106    MARKETWATCH LEFTIST: MSM’s “Blatant” Anti Trum...           1\n",
       "325    Ohio State University Student Says Terrorist A...           1\n",
       "364    JULIAN ASSANGE REVEALS John Podesta’s Hilariou...           1\n",
       "512    OBAMA’S LIST OF 21 MEDAL OF FREEDOM Recipients...           1\n",
       "...                                                  ...  ...    ...\n",
       "71235                                       World War 3?           1\n",
       "71621  WATCH LIBERAL CNN LAWYER Skewer “Village Idiot...           1\n",
       "71771  WOW! JILL STEIN’S ‘FIRESIDE CHAT’ Exposes Her ...           1\n",
       "71914  WATCH TUCKER CARLSON Scorch Sanctuary City May...           1\n",
       "72125  WOW! JILL STEIN’S ‘FIRESIDE CHAT’ Exposes Her ...           1\n",
       "\n",
       "[410 rows x 3 columns]"
      ]
     },
     "execution_count": 21,
     "metadata": {},
     "output_type": "execute_result"
    }
   ],
   "source": [
    "df_dup_headline[df_dup_headline[news] == ' ']"
   ]
  },
  {
   "cell_type": "markdown",
   "id": "4b2396d9-6c77-4d0e-88c9-ac80dd40c9fb",
   "metadata": {},
   "source": [
    "We can leave duplicate headlines as that is a common part of news when it undergoes revision but those instances where both headline and news articles are same needs to be dropped. Rows without news will also be removed."
   ]
  },
  {
   "cell_type": "markdown",
   "id": "5810de32-adf3-41f3-bbeb-9a5c9dd8612d",
   "metadata": {},
   "source": [
    "Checking news for whitespaces."
   ]
  },
  {
   "cell_type": "code",
   "execution_count": 22,
   "id": "d7505a03-38c3-4d38-a7b8-d0075ef4189a",
   "metadata": {
    "tags": []
   },
   "outputs": [
    {
     "data": {
      "text/html": [
       "<div>\n",
       "<style scoped>\n",
       "    .dataframe tbody tr th:only-of-type {\n",
       "        vertical-align: middle;\n",
       "    }\n",
       "\n",
       "    .dataframe tbody tr th {\n",
       "        vertical-align: top;\n",
       "    }\n",
       "\n",
       "    .dataframe thead th {\n",
       "        text-align: right;\n",
       "    }\n",
       "</style>\n",
       "<table border=\"1\" class=\"dataframe\">\n",
       "  <thead>\n",
       "    <tr style=\"text-align: right;\">\n",
       "      <th></th>\n",
       "      <th>title</th>\n",
       "      <th>text</th>\n",
       "      <th>label</th>\n",
       "    </tr>\n",
       "  </thead>\n",
       "  <tbody>\n",
       "    <tr>\n",
       "      <th>7</th>\n",
       "      <td>HOUSE INTEL CHAIR On Trump-Russia Fake Story: ...</td>\n",
       "      <td></td>\n",
       "      <td>1</td>\n",
       "    </tr>\n",
       "    <tr>\n",
       "      <th>106</th>\n",
       "      <td>MARKETWATCH LEFTIST: MSM’s “Blatant” Anti Trum...</td>\n",
       "      <td></td>\n",
       "      <td>1</td>\n",
       "    </tr>\n",
       "    <tr>\n",
       "      <th>325</th>\n",
       "      <td>Ohio State University Student Says Terrorist A...</td>\n",
       "      <td></td>\n",
       "      <td>1</td>\n",
       "    </tr>\n",
       "    <tr>\n",
       "      <th>364</th>\n",
       "      <td>JULIAN ASSANGE REVEALS John Podesta’s Hilariou...</td>\n",
       "      <td></td>\n",
       "      <td>1</td>\n",
       "    </tr>\n",
       "    <tr>\n",
       "      <th>512</th>\n",
       "      <td>OBAMA’S LIST OF 21 MEDAL OF FREEDOM Recipients...</td>\n",
       "      <td></td>\n",
       "      <td>1</td>\n",
       "    </tr>\n",
       "    <tr>\n",
       "      <th>...</th>\n",
       "      <td>...</td>\n",
       "      <td>...</td>\n",
       "      <td>...</td>\n",
       "    </tr>\n",
       "    <tr>\n",
       "      <th>71771</th>\n",
       "      <td>WOW! JILL STEIN’S ‘FIRESIDE CHAT’ Exposes Her ...</td>\n",
       "      <td></td>\n",
       "      <td>1</td>\n",
       "    </tr>\n",
       "    <tr>\n",
       "      <th>71914</th>\n",
       "      <td>WATCH TUCKER CARLSON Scorch Sanctuary City May...</td>\n",
       "      <td></td>\n",
       "      <td>1</td>\n",
       "    </tr>\n",
       "    <tr>\n",
       "      <th>72026</th>\n",
       "      <td>BOOM! Woman Tries To Steal TRUMP Signs BUT Thi...</td>\n",
       "      <td></td>\n",
       "      <td>1</td>\n",
       "    </tr>\n",
       "    <tr>\n",
       "      <th>72119</th>\n",
       "      <td>BILL O’REILLY Destroys Liberal Pundit On Trump...</td>\n",
       "      <td></td>\n",
       "      <td>1</td>\n",
       "    </tr>\n",
       "    <tr>\n",
       "      <th>72125</th>\n",
       "      <td>WOW! JILL STEIN’S ‘FIRESIDE CHAT’ Exposes Her ...</td>\n",
       "      <td></td>\n",
       "      <td>1</td>\n",
       "    </tr>\n",
       "  </tbody>\n",
       "</table>\n",
       "<p>738 rows × 3 columns</p>\n",
       "</div>"
      ],
      "text/plain": [
       "                                                   title text  label\n",
       "7      HOUSE INTEL CHAIR On Trump-Russia Fake Story: ...           1\n",
       "106    MARKETWATCH LEFTIST: MSM’s “Blatant” Anti Trum...           1\n",
       "325    Ohio State University Student Says Terrorist A...           1\n",
       "364    JULIAN ASSANGE REVEALS John Podesta’s Hilariou...           1\n",
       "512    OBAMA’S LIST OF 21 MEDAL OF FREEDOM Recipients...           1\n",
       "...                                                  ...  ...    ...\n",
       "71771  WOW! JILL STEIN’S ‘FIRESIDE CHAT’ Exposes Her ...           1\n",
       "71914  WATCH TUCKER CARLSON Scorch Sanctuary City May...           1\n",
       "72026  BOOM! Woman Tries To Steal TRUMP Signs BUT Thi...           1\n",
       "72119  BILL O’REILLY Destroys Liberal Pundit On Trump...           1\n",
       "72125  WOW! JILL STEIN’S ‘FIRESIDE CHAT’ Exposes Her ...           1\n",
       "\n",
       "[738 rows x 3 columns]"
      ]
     },
     "execution_count": 22,
     "metadata": {},
     "output_type": "execute_result"
    }
   ],
   "source": [
    "df[df[news] == ' ']"
   ]
  },
  {
   "cell_type": "markdown",
   "id": "fba6e566-7425-49a5-aabe-db6285748a2f",
   "metadata": {},
   "source": [
    "Replacing white spaces with null."
   ]
  },
  {
   "cell_type": "code",
   "execution_count": 23,
   "id": "378de3ca-8262-4cdf-93e3-718ddbe5dcbb",
   "metadata": {
    "tags": []
   },
   "outputs": [],
   "source": [
    "df = df.replace(r'^\\s*$', np.nan, regex=True)"
   ]
  },
  {
   "cell_type": "code",
   "execution_count": 24,
   "id": "084626a9-1529-4943-a545-f435decd04b5",
   "metadata": {
    "tags": []
   },
   "outputs": [
    {
     "data": {
      "text/plain": [
       "title    558\n",
       "text     783\n",
       "label      0\n",
       "dtype: int64"
      ]
     },
     "execution_count": 24,
     "metadata": {},
     "output_type": "execute_result"
    }
   ],
   "source": [
    "df.isna().sum()"
   ]
  },
  {
   "cell_type": "markdown",
   "id": "6704c8b2-e6e5-4aaf-8cb3-3700cc8e2fdf",
   "metadata": {},
   "source": [
    "This shows that there is increase in null values in column news as we replace articles that only had null values."
   ]
  },
  {
   "cell_type": "code",
   "execution_count": 25,
   "id": "24ae4853-327f-41e4-9109-51f15597451b",
   "metadata": {
    "tags": []
   },
   "outputs": [
    {
     "name": "stdout",
     "output_type": "stream",
     "text": [
      "Null Values distribution for 'text' on basis for realness\n",
      "Total:\t 783\n",
      "Real %:\t 0.13\n",
      "Fake %:\t 99.87\n"
     ]
    }
   ],
   "source": [
    "show_tf_distribution(df, news)"
   ]
  },
  {
   "cell_type": "markdown",
   "id": "b2b83d6c-1861-4227-b509-6f6b1e1cd9da",
   "metadata": {},
   "source": [
    "The distribution shows that all null news values still point to fake news. As these values are small compared to total dataset size, dropping them might be preferable."
   ]
  },
  {
   "cell_type": "markdown",
   "id": "f9c6dcc7-ff49-4887-a4ec-144b85a67914",
   "metadata": {},
   "source": [
    "Removing Duplicated Data"
   ]
  },
  {
   "cell_type": "code",
   "execution_count": 26,
   "id": "52fa033b-d432-447d-8e73-5d3112a98b9a",
   "metadata": {
    "tags": []
   },
   "outputs": [
    {
     "data": {
      "text/plain": [
       "72134"
      ]
     },
     "execution_count": 26,
     "metadata": {},
     "output_type": "execute_result"
    }
   ],
   "source": [
    "len(df)"
   ]
  },
  {
   "cell_type": "markdown",
   "id": "a22dcd1b-b9c8-4cdf-9791-5a037ee489b6",
   "metadata": {},
   "source": [
    "Dropping rows with no news article or headlines"
   ]
  },
  {
   "cell_type": "code",
   "execution_count": 27,
   "id": "7798d3db-d8a1-435c-8df5-3caeaab5f4ca",
   "metadata": {
    "tags": []
   },
   "outputs": [],
   "source": [
    "df_clean = df.dropna(subset=[headline,news])"
   ]
  },
  {
   "cell_type": "code",
   "execution_count": 28,
   "id": "c8ac7b8d-0ba4-4480-9aba-517a63066585",
   "metadata": {
    "tags": []
   },
   "outputs": [
    {
     "data": {
      "text/plain": [
       "70793"
      ]
     },
     "execution_count": 28,
     "metadata": {},
     "output_type": "execute_result"
    }
   ],
   "source": [
    "len(df_clean)"
   ]
  },
  {
   "cell_type": "markdown",
   "id": "525859fa-7fdc-4b58-8a77-5f7de7624802",
   "metadata": {},
   "source": [
    "Dropping rows with same headline and news articles"
   ]
  },
  {
   "cell_type": "code",
   "execution_count": 29,
   "id": "ffb3f1dc-6d92-49ed-8829-79d34dbc4ea1",
   "metadata": {
    "tags": []
   },
   "outputs": [],
   "source": [
    "df_clean = df_clean.drop_duplicates([headline, news], ignore_index=True)"
   ]
  },
  {
   "cell_type": "code",
   "execution_count": 30,
   "id": "96577c11-ef9f-4ab4-8b01-a31ea7895787",
   "metadata": {
    "tags": []
   },
   "outputs": [
    {
     "data": {
      "text/plain": [
       "62592"
      ]
     },
     "execution_count": 30,
     "metadata": {},
     "output_type": "execute_result"
    }
   ],
   "source": [
    "len(df_clean)"
   ]
  },
  {
   "cell_type": "markdown",
   "id": "a1e25978-6106-47e7-9cf0-c8c1fae9728a",
   "metadata": {},
   "source": [
    "Dropping rows with same news articles"
   ]
  },
  {
   "cell_type": "code",
   "execution_count": 31,
   "id": "c1dbcb2a-ce35-4925-942d-12e385b27545",
   "metadata": {
    "tags": []
   },
   "outputs": [],
   "source": [
    "df_clean = df_clean.drop_duplicates([news], ignore_index=True)"
   ]
  },
  {
   "cell_type": "code",
   "execution_count": 32,
   "id": "8992de9e-e06f-4502-83e0-ab133af7d59a",
   "metadata": {
    "tags": []
   },
   "outputs": [
    {
     "name": "stdout",
     "output_type": "stream",
     "text": [
      "<class 'pandas.core.frame.DataFrame'>\n",
      "RangeIndex: 62197 entries, 0 to 62196\n",
      "Data columns (total 3 columns):\n",
      " #   Column  Non-Null Count  Dtype \n",
      "---  ------  --------------  ----- \n",
      " 0   title   62197 non-null  object\n",
      " 1   text    62197 non-null  object\n",
      " 2   label   62197 non-null  int64 \n",
      "dtypes: int64(1), object(2)\n",
      "memory usage: 1.4+ MB\n"
     ]
    }
   ],
   "source": [
    "df_clean.info()"
   ]
  },
  {
   "cell_type": "code",
   "execution_count": 33,
   "id": "7de1c9a6-de05-49f7-83d0-381539589664",
   "metadata": {
    "tags": []
   },
   "outputs": [
    {
     "data": {
      "text/plain": [
       "title    0\n",
       "text     0\n",
       "label    0\n",
       "dtype: int64"
      ]
     },
     "execution_count": 33,
     "metadata": {},
     "output_type": "execute_result"
    }
   ],
   "source": [
    "df_clean.isna().sum()"
   ]
  },
  {
   "cell_type": "code",
   "execution_count": 34,
   "id": "6e582c98-229c-44dc-a762-7af350cadc30",
   "metadata": {
    "tags": []
   },
   "outputs": [
    {
     "data": {
      "text/plain": [
       "9937"
      ]
     },
     "execution_count": 34,
     "metadata": {},
     "output_type": "execute_result"
    }
   ],
   "source": [
    "len(df) - len(df_clean)"
   ]
  },
  {
   "cell_type": "code",
   "execution_count": 35,
   "id": "941c59d7-d451-4154-bba7-5d36269f3f62",
   "metadata": {
    "tags": []
   },
   "outputs": [
    {
     "data": {
      "text/plain": [
       "0    34620\n",
       "1    27577\n",
       "Name: label, dtype: int64"
      ]
     },
     "execution_count": 35,
     "metadata": {},
     "output_type": "execute_result"
    }
   ],
   "source": [
    "df_clean.label.value_counts()"
   ]
  },
  {
   "cell_type": "markdown",
   "id": "5175b06e-2f0d-4c4f-bfc0-9f65e742354e",
   "metadata": {},
   "source": [
    "Summary"
   ]
  },
  {
   "cell_type": "markdown",
   "id": "152f01dc-b4c8-4b27-ac7d-d8a06000500c",
   "metadata": {},
   "source": [
    "9937 rows of data removed on basis of not having information in news column, headline column and or having duplicate values."
   ]
  },
  {
   "cell_type": "markdown",
   "id": "72904b6e-7100-4850-8355-a11d9df027e4",
   "metadata": {
    "tags": []
   },
   "source": [
    "Exploring the dataset"
   ]
  },
  {
   "cell_type": "markdown",
   "id": "a488a9a2-98a8-4e49-9cdb-2fb4d5619449",
   "metadata": {},
   "source": [
    "Helper Function"
   ]
  },
  {
   "cell_type": "code",
   "execution_count": 36,
   "id": "bd7167d1-55dd-4f61-88fe-022f60653e34",
   "metadata": {
    "tags": []
   },
   "outputs": [],
   "source": [
    "graph_dir = os.path.join(cwd,'Graphs')"
   ]
  },
  {
   "cell_type": "code",
   "execution_count": 37,
   "id": "aa474705-f58e-4d2f-a27f-75eddc9c3506",
   "metadata": {
    "tags": []
   },
   "outputs": [],
   "source": [
    "def show_hist_for_col(df, column, title):\n",
    "    \"\"\"\n",
    "    Display a histogram for a column in a dataframe, splitting the data by label.\n",
    "    \"\"\"\n",
    "    plt.figure(figsize=(12,8))\n",
    "    df[df.label == 0][column].hist(label='True')\n",
    "    df[df.label == 1][column].hist(alpha=0.4, label='Fake')\n",
    "    plt.title(title)\n",
    "    plt.legend()\n",
    "    plt.savefig(os.path.join(graph_dir,title+'.png'), bbox_inches='tight')\n",
    "    plt.show()\n",
    "    plt.close()"
   ]
  },
  {
   "cell_type": "markdown",
   "id": "d15f4fca-b153-407f-a960-759861d2a33a",
   "metadata": {},
   "source": [
    "Distribution of Labels"
   ]
  },
  {
   "cell_type": "code",
   "execution_count": 38,
   "id": "121a07ce-022b-4802-a38d-9daabd1ccfce",
   "metadata": {
    "tags": []
   },
   "outputs": [
    {
     "data": {
      "image/png": "[encoded data removed]",
      "text/plain": [
       "<Figure size 1200x800 with 1 Axes>"
      ]
     },
     "metadata": {},
     "output_type": "display_data"
    }
   ],
   "source": [
    "plt.figure(figsize=(12,8))\n",
    "df_clean.label.hist()\n",
    "title = 'Fake or True News'\n",
    "plt.title(title)\n",
    "plt.savefig(os.path.join(graph_dir,title+'.png'), bbox_inches='tight')\n",
    "plt.show()\n",
    "plt.close()"
   ]
  },
  {
   "cell_type": "markdown",
   "id": "ae8d8f93-da85-4ed9-b622-e5be53e51e19",
   "metadata": {},
   "source": [
    "After cleaning the data there is an imbalance present but hopefully not enough to have effect on the models"
   ]
  },
  {
   "cell_type": "markdown",
   "id": "cb1b4800-4d17-4e46-b75d-dba885053961",
   "metadata": {},
   "source": [
    "Length of Headlines"
   ]
  },
  {
   "cell_type": "code",
   "execution_count": 39,
   "id": "f1da7d7d-c4f9-4f10-a79c-9fdbed28156f",
   "metadata": {
    "tags": []
   },
   "outputs": [],
   "source": [
    "df_clean['headline_len'] = df_clean[headline].str.len()"
   ]
  },
  {
   "cell_type": "code",
   "execution_count": 40,
   "id": "d7cbcca0-db47-4fab-9bc2-844eb0261a51",
   "metadata": {
    "tags": []
   },
   "outputs": [
    {
     "data": {
      "image/png": "[encoded data removed]",
      "text/plain": [
       "<Figure size 1200x800 with 1 Axes>"
      ]
     },
     "metadata": {},
     "output_type": "display_data"
    }
   ],
   "source": [
    "show_hist_for_col(df_clean, 'headline_len', 'Number of Characters in Headline')"
   ]
  },
  {
   "cell_type": "code",
   "execution_count": 41,
   "id": "0bb18494-d45c-4e09-9422-6ab2b3477787",
   "metadata": {
    "tags": []
   },
   "outputs": [
    {
     "data": {
      "text/plain": [
       "count    34620.000000\n",
       "mean        68.953784\n",
       "std         14.276896\n",
       "min         10.000000\n",
       "25%         60.000000\n",
       "50%         67.000000\n",
       "75%         77.000000\n",
       "max        175.000000\n",
       "Name: headline_len, dtype: float64"
      ]
     },
     "execution_count": 41,
     "metadata": {},
     "output_type": "execute_result"
    }
   ],
   "source": [
    "df_clean[df_clean.label == 0].headline_len.describe()"
   ]
  },
  {
   "cell_type": "code",
   "execution_count": 42,
   "id": "fda04288-7529-4d57-a7ed-a673b185fc88",
   "metadata": {
    "tags": []
   },
   "outputs": [
    {
     "data": {
      "text/plain": [
       "count    27577.000000\n",
       "mean        82.925445\n",
       "std         27.988284\n",
       "min          1.000000\n",
       "25%         67.000000\n",
       "50%         82.000000\n",
       "75%         96.000000\n",
       "max        456.000000\n",
       "Name: headline_len, dtype: float64"
      ]
     },
     "execution_count": 42,
     "metadata": {},
     "output_type": "execute_result"
    }
   ],
   "source": [
    "df_clean[df_clean.label == 1].headline_len.describe()"
   ]
  },
  {
   "cell_type": "markdown",
   "id": "0c7d0f24-6104-484a-9d14-79d8517e595e",
   "metadata": {},
   "source": [
    "Fake news stories have a wider range in the length of title than True news stories. The quartile differences between fake news articles is much larger than in case of true news article."
   ]
  },
  {
   "cell_type": "markdown",
   "id": "65077a00-d3a6-451a-9fc5-2a3842730825",
   "metadata": {},
   "source": [
    "Length of News article"
   ]
  },
  {
   "cell_type": "code",
   "execution_count": 43,
   "id": "478c4960-9548-4506-aaf3-4bb75c9dc5df",
   "metadata": {
    "tags": []
   },
   "outputs": [],
   "source": [
    "df_clean['news_len'] = df_clean[news].str.len()"
   ]
  },
  {
   "cell_type": "code",
   "execution_count": 44,
   "id": "bbe26241-3424-45f1-a5f8-96297da6d6e3",
   "metadata": {
    "tags": []
   },
   "outputs": [
    {
     "data": {
      "image/png": "[encoded data removed]",
      "text/plain": [
       "<Figure size 1200x800 with 1 Axes>"
      ]
     },
     "metadata": {},
     "output_type": "display_data"
    }
   ],
   "source": [
    "show_hist_for_col(df_clean, 'news_len', 'Length of Text for News')"
   ]
  },
  {
   "cell_type": "code",
   "execution_count": 45,
   "id": "6f2727d0-cbdd-4b87-ab64-5da4fc70695d",
   "metadata": {
    "tags": []
   },
   "outputs": [
    {
     "data": {
      "text/plain": [
       "count    34620.000000\n",
       "mean      3515.170017\n",
       "std       3332.709995\n",
       "min          3.000000\n",
       "25%       1499.000000\n",
       "50%       2654.000000\n",
       "75%       4776.000000\n",
       "max      85948.000000\n",
       "Name: news_len, dtype: float64"
      ]
     },
     "execution_count": 45,
     "metadata": {},
     "output_type": "execute_result"
    }
   ],
   "source": [
    "df_clean[df_clean.label == 0].news_len.describe()"
   ]
  },
  {
   "cell_type": "code",
   "execution_count": 46,
   "id": "7a7b23bf-bee2-4618-8785-5d156b06babe",
   "metadata": {
    "tags": []
   },
   "outputs": [
    {
     "data": {
      "text/plain": [
       "count     27577.000000\n",
       "mean       3123.718606\n",
       "std        3973.746074\n",
       "min           5.000000\n",
       "25%        1518.000000\n",
       "50%        2298.000000\n",
       "75%        3426.000000\n",
       "max      142961.000000\n",
       "Name: news_len, dtype: float64"
      ]
     },
     "execution_count": 46,
     "metadata": {},
     "output_type": "execute_result"
    }
   ],
   "source": [
    "df_clean[df_clean.label == 1].news_len.describe()"
   ]
  },
  {
   "cell_type": "code",
   "execution_count": 47,
   "id": "ecf92ed5-991a-4a23-9249-ea4c49a27d87",
   "metadata": {
    "tags": []
   },
   "outputs": [],
   "source": [
    "df_long = df_clean[df_clean.news_len > 10000]"
   ]
  },
  {
   "cell_type": "code",
   "execution_count": 48,
   "id": "687e5aea-9e89-42d3-a9f1-b876ddcb227a",
   "metadata": {
    "tags": []
   },
   "outputs": [
    {
     "data": {
      "text/html": [
       "<div>\n",
       "<style scoped>\n",
       "    .dataframe tbody tr th:only-of-type {\n",
       "        vertical-align: middle;\n",
       "    }\n",
       "\n",
       "    .dataframe tbody tr th {\n",
       "        vertical-align: top;\n",
       "    }\n",
       "\n",
       "    .dataframe thead th {\n",
       "        text-align: right;\n",
       "    }\n",
       "</style>\n",
       "<table border=\"1\" class=\"dataframe\">\n",
       "  <thead>\n",
       "    <tr style=\"text-align: right;\">\n",
       "      <th></th>\n",
       "      <th>title</th>\n",
       "      <th>text</th>\n",
       "      <th>label</th>\n",
       "      <th>headline_len</th>\n",
       "      <th>news_len</th>\n",
       "    </tr>\n",
       "  </thead>\n",
       "  <tbody>\n",
       "    <tr>\n",
       "      <th>21</th>\n",
       "      <td>UNHOLY ALLIANCE: Hillary Clinton’s Saudi Spons...</td>\n",
       "      <td>21st Century Wire says Amid the tossing and t...</td>\n",
       "      <td>1</td>\n",
       "      <td>87</td>\n",
       "      <td>15512</td>\n",
       "    </tr>\n",
       "    <tr>\n",
       "      <th>43</th>\n",
       "      <td>Mayday on the Carolina Queen - The New York Times</td>\n",
       "      <td>The seven fishermen aboard the Carolina Queen ...</td>\n",
       "      <td>0</td>\n",
       "      <td>49</td>\n",
       "      <td>16320</td>\n",
       "    </tr>\n",
       "    <tr>\n",
       "      <th>78</th>\n",
       "      <td>UNsilenced: Whistleblower Exposes UN Culture o...</td>\n",
       "      <td>Email \\nWhen she stumbled across massive corru...</td>\n",
       "      <td>1</td>\n",
       "      <td>58</td>\n",
       "      <td>13553</td>\n",
       "    </tr>\n",
       "    <tr>\n",
       "      <th>110</th>\n",
       "      <td>CNN: One voter can make a difference by voting...</td>\n",
       "      <td>Channel list \\nFollowing hurricane Matthew's f...</td>\n",
       "      <td>1</td>\n",
       "      <td>57</td>\n",
       "      <td>26772</td>\n",
       "    </tr>\n",
       "    <tr>\n",
       "      <th>117</th>\n",
       "      <td>Trump advisors try to pivot not fishtail</td>\n",
       "      <td>**Want FOX News First in your inbox every day?...</td>\n",
       "      <td>0</td>\n",
       "      <td>40</td>\n",
       "      <td>10973</td>\n",
       "    </tr>\n",
       "    <tr>\n",
       "      <th>...</th>\n",
       "      <td>...</td>\n",
       "      <td>...</td>\n",
       "      <td>...</td>\n",
       "      <td>...</td>\n",
       "      <td>...</td>\n",
       "    </tr>\n",
       "    <tr>\n",
       "      <th>62058</th>\n",
       "      <td>Strange People Who Shifted to Other Dimensions</td>\n",
       "      <td>Mysterious Universe \\nDo other realities brush...</td>\n",
       "      <td>1</td>\n",
       "      <td>46</td>\n",
       "      <td>17385</td>\n",
       "    </tr>\n",
       "    <tr>\n",
       "      <th>62081</th>\n",
       "      <td>Liberalism Yet To Come: The Boundaries of the ...</td>\n",
       "      <td>by Outis Philalithopoulos In yesterday’s episo...</td>\n",
       "      <td>1</td>\n",
       "      <td>55</td>\n",
       "      <td>13908</td>\n",
       "    </tr>\n",
       "    <tr>\n",
       "      <th>62154</th>\n",
       "      <td>The “American Conservative Movement” Has Ended...</td>\n",
       "      <td>Here's something interesting from The Unz Revi...</td>\n",
       "      <td>1</td>\n",
       "      <td>75</td>\n",
       "      <td>14145</td>\n",
       "    </tr>\n",
       "    <tr>\n",
       "      <th>62178</th>\n",
       "      <td>Physician Aid in Dying Gains Acceptance in the...</td>\n",
       "      <td>Judith Katherine Dunning had been waiting anxi...</td>\n",
       "      <td>0</td>\n",
       "      <td>72</td>\n",
       "      <td>10128</td>\n",
       "    </tr>\n",
       "    <tr>\n",
       "      <th>62191</th>\n",
       "      <td>Determined to kill: Can tough gun laws end mas...</td>\n",
       "      <td>The flag at Desert Hot Springs' Condor Gun Sho...</td>\n",
       "      <td>0</td>\n",
       "      <td>58</td>\n",
       "      <td>13017</td>\n",
       "    </tr>\n",
       "  </tbody>\n",
       "</table>\n",
       "<p>1853 rows × 5 columns</p>\n",
       "</div>"
      ],
      "text/plain": [
       "                                                   title  \\\n",
       "21     UNHOLY ALLIANCE: Hillary Clinton’s Saudi Spons...   \n",
       "43     Mayday on the Carolina Queen - The New York Times   \n",
       "78     UNsilenced: Whistleblower Exposes UN Culture o...   \n",
       "110    CNN: One voter can make a difference by voting...   \n",
       "117             Trump advisors try to pivot not fishtail   \n",
       "...                                                  ...   \n",
       "62058     Strange People Who Shifted to Other Dimensions   \n",
       "62081  Liberalism Yet To Come: The Boundaries of the ...   \n",
       "62154  The “American Conservative Movement” Has Ended...   \n",
       "62178  Physician Aid in Dying Gains Acceptance in the...   \n",
       "62191  Determined to kill: Can tough gun laws end mas...   \n",
       "\n",
       "                                                    text  label  headline_len  \\\n",
       "21      21st Century Wire says Amid the tossing and t...      1            87   \n",
       "43     The seven fishermen aboard the Carolina Queen ...      0            49   \n",
       "78     Email \\nWhen she stumbled across massive corru...      1            58   \n",
       "110    Channel list \\nFollowing hurricane Matthew's f...      1            57   \n",
       "117    **Want FOX News First in your inbox every day?...      0            40   \n",
       "...                                                  ...    ...           ...   \n",
       "62058  Mysterious Universe \\nDo other realities brush...      1            46   \n",
       "62081  by Outis Philalithopoulos In yesterday’s episo...      1            55   \n",
       "62154  Here's something interesting from The Unz Revi...      1            75   \n",
       "62178  Judith Katherine Dunning had been waiting anxi...      0            72   \n",
       "62191  The flag at Desert Hot Springs' Condor Gun Sho...      0            58   \n",
       "\n",
       "       news_len  \n",
       "21        15512  \n",
       "43        16320  \n",
       "78        13553  \n",
       "110       26772  \n",
       "117       10973  \n",
       "...         ...  \n",
       "62058     17385  \n",
       "62081     13908  \n",
       "62154     14145  \n",
       "62178     10128  \n",
       "62191     13017  \n",
       "\n",
       "[1853 rows x 5 columns]"
      ]
     },
     "execution_count": 48,
     "metadata": {},
     "output_type": "execute_result"
    }
   ],
   "source": [
    "df_long"
   ]
  },
  {
   "cell_type": "code",
   "execution_count": 49,
   "id": "624da3af-6944-4043-9352-fef3b7db108b",
   "metadata": {
    "tags": []
   },
   "outputs": [
    {
     "data": {
      "text/plain": [
       "1    929\n",
       "0    924\n",
       "Name: label, dtype: int64"
      ]
     },
     "execution_count": 49,
     "metadata": {},
     "output_type": "execute_result"
    }
   ],
   "source": [
    "df_long.label.value_counts()"
   ]
  },
  {
   "cell_type": "markdown",
   "id": "d1e958b6-d831-4171-8da0-172c9298edd1",
   "metadata": {
    "tags": []
   },
   "source": [
    "ok there does not seem to be bias in long stories towards either type of articles so they will be kept. also fake news article have shown much higher max story size and significantly lower quartile scores across the board."
   ]
  },
  {
   "cell_type": "markdown",
   "id": "b069f5f4-6bcf-4e54-9d12-6988d5f276c9",
   "metadata": {},
   "source": [
    "Capital letters in headline."
   ]
  },
  {
   "cell_type": "code",
   "execution_count": 50,
   "id": "f18b16f9-9f07-4a25-9fa0-787190459db9",
   "metadata": {
    "tags": []
   },
   "outputs": [],
   "source": [
    "df_clean['caps_in_headline'] = df_clean[headline].apply(lambda headline: sum(1 for char in headline if char.isupper()))"
   ]
  },
  {
   "cell_type": "code",
   "execution_count": 51,
   "id": "84e7a135-ee8b-4130-b7a3-4758e27c0adc",
   "metadata": {
    "tags": []
   },
   "outputs": [
    {
     "data": {
      "text/html": [
       "<div>\n",
       "<style scoped>\n",
       "    .dataframe tbody tr th:only-of-type {\n",
       "        vertical-align: middle;\n",
       "    }\n",
       "\n",
       "    .dataframe tbody tr th {\n",
       "        vertical-align: top;\n",
       "    }\n",
       "\n",
       "    .dataframe thead th {\n",
       "        text-align: right;\n",
       "    }\n",
       "</style>\n",
       "<table border=\"1\" class=\"dataframe\">\n",
       "  <thead>\n",
       "    <tr style=\"text-align: right;\">\n",
       "      <th></th>\n",
       "      <th>title</th>\n",
       "      <th>text</th>\n",
       "      <th>label</th>\n",
       "      <th>headline_len</th>\n",
       "      <th>news_len</th>\n",
       "      <th>caps_in_headline</th>\n",
       "    </tr>\n",
       "  </thead>\n",
       "  <tbody>\n",
       "    <tr>\n",
       "      <th>0</th>\n",
       "      <td>LAW ENFORCEMENT ON HIGH ALERT Following Threat...</td>\n",
       "      <td>No comment is expected from Barack Obama Membe...</td>\n",
       "      <td>1</td>\n",
       "      <td>130</td>\n",
       "      <td>5049</td>\n",
       "      <td>46</td>\n",
       "    </tr>\n",
       "    <tr>\n",
       "      <th>1</th>\n",
       "      <td>UNBELIEVABLE! OBAMA’S ATTORNEY GENERAL SAYS MO...</td>\n",
       "      <td>Now, most of the demonstrators gathered last ...</td>\n",
       "      <td>1</td>\n",
       "      <td>137</td>\n",
       "      <td>216</td>\n",
       "      <td>91</td>\n",
       "    </tr>\n",
       "    <tr>\n",
       "      <th>2</th>\n",
       "      <td>Bobby Jindal, raised Hindu, uses story of Chri...</td>\n",
       "      <td>A dozen politically active pastors came here f...</td>\n",
       "      <td>0</td>\n",
       "      <td>105</td>\n",
       "      <td>8010</td>\n",
       "      <td>4</td>\n",
       "    </tr>\n",
       "    <tr>\n",
       "      <th>3</th>\n",
       "      <td>SATAN 2: Russia unvelis an image of its terrif...</td>\n",
       "      <td>The RS-28 Sarmat missile, dubbed Satan 2, will...</td>\n",
       "      <td>1</td>\n",
       "      <td>95</td>\n",
       "      <td>1916</td>\n",
       "      <td>16</td>\n",
       "    </tr>\n",
       "    <tr>\n",
       "      <th>4</th>\n",
       "      <td>About Time! Christian Group Sues Amazon and SP...</td>\n",
       "      <td>All we can say on this one is it s about time ...</td>\n",
       "      <td>1</td>\n",
       "      <td>78</td>\n",
       "      <td>1530</td>\n",
       "      <td>13</td>\n",
       "    </tr>\n",
       "    <tr>\n",
       "      <th>...</th>\n",
       "      <td>...</td>\n",
       "      <td>...</td>\n",
       "      <td>...</td>\n",
       "      <td>...</td>\n",
       "      <td>...</td>\n",
       "      <td>...</td>\n",
       "    </tr>\n",
       "    <tr>\n",
       "      <th>62192</th>\n",
       "      <td>WIKILEAKS EMAIL SHOWS CLINTON FOUNDATION FUNDS...</td>\n",
       "      <td>An email released by WikiLeaks on Sunday appea...</td>\n",
       "      <td>1</td>\n",
       "      <td>104</td>\n",
       "      <td>1237</td>\n",
       "      <td>50</td>\n",
       "    </tr>\n",
       "    <tr>\n",
       "      <th>62193</th>\n",
       "      <td>Russians steal research on Trump in hack of U....</td>\n",
       "      <td>WASHINGTON (Reuters) - Hackers believed to be ...</td>\n",
       "      <td>0</td>\n",
       "      <td>65</td>\n",
       "      <td>4788</td>\n",
       "      <td>6</td>\n",
       "    </tr>\n",
       "    <tr>\n",
       "      <th>62194</th>\n",
       "      <td>WATCH: Giuliani Demands That Democrats Apolog...</td>\n",
       "      <td>You know, because in fantasyland Republicans n...</td>\n",
       "      <td>1</td>\n",
       "      <td>79</td>\n",
       "      <td>3634</td>\n",
       "      <td>14</td>\n",
       "    </tr>\n",
       "    <tr>\n",
       "      <th>62195</th>\n",
       "      <td>Migrants Refuse To Leave Train At Refugee Camp...</td>\n",
       "      <td>Migrants Refuse To Leave Train At Refugee Camp...</td>\n",
       "      <td>0</td>\n",
       "      <td>57</td>\n",
       "      <td>2864</td>\n",
       "      <td>10</td>\n",
       "    </tr>\n",
       "    <tr>\n",
       "      <th>62196</th>\n",
       "      <td>Trump tussle gives unpopular Mexican leader mu...</td>\n",
       "      <td>MEXICO CITY (Reuters) - Donald Trump’s combati...</td>\n",
       "      <td>0</td>\n",
       "      <td>67</td>\n",
       "      <td>3374</td>\n",
       "      <td>2</td>\n",
       "    </tr>\n",
       "  </tbody>\n",
       "</table>\n",
       "<p>62197 rows × 6 columns</p>\n",
       "</div>"
      ],
      "text/plain": [
       "                                                   title  \\\n",
       "0      LAW ENFORCEMENT ON HIGH ALERT Following Threat...   \n",
       "1      UNBELIEVABLE! OBAMA’S ATTORNEY GENERAL SAYS MO...   \n",
       "2      Bobby Jindal, raised Hindu, uses story of Chri...   \n",
       "3      SATAN 2: Russia unvelis an image of its terrif...   \n",
       "4      About Time! Christian Group Sues Amazon and SP...   \n",
       "...                                                  ...   \n",
       "62192  WIKILEAKS EMAIL SHOWS CLINTON FOUNDATION FUNDS...   \n",
       "62193  Russians steal research on Trump in hack of U....   \n",
       "62194   WATCH: Giuliani Demands That Democrats Apolog...   \n",
       "62195  Migrants Refuse To Leave Train At Refugee Camp...   \n",
       "62196  Trump tussle gives unpopular Mexican leader mu...   \n",
       "\n",
       "                                                    text  label  headline_len  \\\n",
       "0      No comment is expected from Barack Obama Membe...      1           130   \n",
       "1       Now, most of the demonstrators gathered last ...      1           137   \n",
       "2      A dozen politically active pastors came here f...      0           105   \n",
       "3      The RS-28 Sarmat missile, dubbed Satan 2, will...      1            95   \n",
       "4      All we can say on this one is it s about time ...      1            78   \n",
       "...                                                  ...    ...           ...   \n",
       "62192  An email released by WikiLeaks on Sunday appea...      1           104   \n",
       "62193  WASHINGTON (Reuters) - Hackers believed to be ...      0            65   \n",
       "62194  You know, because in fantasyland Republicans n...      1            79   \n",
       "62195  Migrants Refuse To Leave Train At Refugee Camp...      0            57   \n",
       "62196  MEXICO CITY (Reuters) - Donald Trump’s combati...      0            67   \n",
       "\n",
       "       news_len  caps_in_headline  \n",
       "0          5049                46  \n",
       "1           216                91  \n",
       "2          8010                 4  \n",
       "3          1916                16  \n",
       "4          1530                13  \n",
       "...         ...               ...  \n",
       "62192      1237                50  \n",
       "62193      4788                 6  \n",
       "62194      3634                14  \n",
       "62195      2864                10  \n",
       "62196      3374                 2  \n",
       "\n",
       "[62197 rows x 6 columns]"
      ]
     },
     "execution_count": 51,
     "metadata": {},
     "output_type": "execute_result"
    }
   ],
   "source": [
    "df_clean"
   ]
  },
  {
   "cell_type": "code",
   "execution_count": 52,
   "id": "4e9fe8c3-d12f-4f5b-a46f-f7a54bf199d1",
   "metadata": {
    "tags": []
   },
   "outputs": [
    {
     "data": {
      "image/png": "[encoded data removed]",
      "text/plain": [
       "<Figure size 1200x800 with 1 Axes>"
      ]
     },
     "metadata": {},
     "output_type": "display_data"
    }
   ],
   "source": [
    "show_hist_for_col(df_clean, 'caps_in_headline', 'Number of Capitals in Headline')"
   ]
  },
  {
   "cell_type": "code",
   "execution_count": 53,
   "id": "9773a3ec-5d95-4e7d-8e77-222b37c82d8c",
   "metadata": {
    "tags": []
   },
   "outputs": [
    {
     "data": {
      "text/plain": [
       "count    34620.000000\n",
       "mean         6.141450\n",
       "std          4.352059\n",
       "min          0.000000\n",
       "25%          3.000000\n",
       "50%          4.000000\n",
       "75%         10.000000\n",
       "max         26.000000\n",
       "Name: caps_in_headline, dtype: float64"
      ]
     },
     "execution_count": 53,
     "metadata": {},
     "output_type": "execute_result"
    }
   ],
   "source": [
    "df_clean[df_clean.label == 0].caps_in_headline.describe()"
   ]
  },
  {
   "cell_type": "code",
   "execution_count": 54,
   "id": "c358d5ab-46e7-438e-afe3-b191c8141f40",
   "metadata": {
    "tags": []
   },
   "outputs": [
    {
     "data": {
      "text/plain": [
       "count    27577.000000\n",
       "mean        20.040976\n",
       "std         14.459473\n",
       "min          0.000000\n",
       "25%         10.000000\n",
       "50%         17.000000\n",
       "75%         26.000000\n",
       "max        137.000000\n",
       "Name: caps_in_headline, dtype: float64"
      ]
     },
     "execution_count": 54,
     "metadata": {},
     "output_type": "execute_result"
    }
   ],
   "source": [
    "df_clean[df_clean.label == 1].caps_in_headline.describe()"
   ]
  },
  {
   "cell_type": "markdown",
   "id": "0a0d6ccb-feff-4fc0-92c5-b655eaf8a840",
   "metadata": {},
   "source": [
    "There is much more deviation in number of Capital letter in headline in fake news articles. also fake news articles have much more amount of Capital letter in headline."
   ]
  },
  {
   "cell_type": "code",
   "execution_count": 55,
   "id": "99816261-6819-4655-b8b3-eb1672b912be",
   "metadata": {
    "tags": []
   },
   "outputs": [],
   "source": [
    "df_clean['norm_caps_in_headline'] = df_clean['caps_in_headline'] / df_clean['headline_len']"
   ]
  },
  {
   "cell_type": "code",
   "execution_count": 56,
   "id": "07e14af8-c5b6-453f-a572-458afda7ee9d",
   "metadata": {
    "tags": []
   },
   "outputs": [
    {
     "data": {
      "image/png": "[encoded data removed]",
      "text/plain": [
       "<Figure size 1200x800 with 1 Axes>"
      ]
     },
     "metadata": {},
     "output_type": "display_data"
    }
   ],
   "source": [
    "show_hist_for_col(df_clean, 'norm_caps_in_headline', 'Percentage of Capitals in Headline')"
   ]
  },
  {
   "cell_type": "code",
   "execution_count": 57,
   "id": "d447be6c-281d-429b-adea-02094cad8220",
   "metadata": {
    "tags": []
   },
   "outputs": [
    {
     "data": {
      "text/plain": [
       "count    34620.000000\n",
       "mean         0.085809\n",
       "std          0.051933\n",
       "min          0.000000\n",
       "25%          0.043478\n",
       "50%          0.068966\n",
       "75%          0.134615\n",
       "max          0.838710\n",
       "Name: norm_caps_in_headline, dtype: float64"
      ]
     },
     "execution_count": 57,
     "metadata": {},
     "output_type": "execute_result"
    }
   ],
   "source": [
    "df_clean[df_clean.label == 0].norm_caps_in_headline.describe()"
   ]
  },
  {
   "cell_type": "code",
   "execution_count": 58,
   "id": "6fe2cab8-f92f-4c88-8bcc-7ed1e9cb6f65",
   "metadata": {
    "tags": []
   },
   "outputs": [
    {
     "data": {
      "text/plain": [
       "count    27577.000000\n",
       "mean         0.232570\n",
       "std          0.142015\n",
       "min          0.000000\n",
       "25%          0.147368\n",
       "50%          0.200000\n",
       "75%          0.285714\n",
       "max          1.000000\n",
       "Name: norm_caps_in_headline, dtype: float64"
      ]
     },
     "execution_count": 58,
     "metadata": {},
     "output_type": "execute_result"
    }
   ],
   "source": [
    "df_clean[df_clean.label == 1].norm_caps_in_headline.describe()"
   ]
  },
  {
   "cell_type": "markdown",
   "id": "7d591ab2-6563-4dc3-8243-35eed3cbdc07",
   "metadata": {},
   "source": [
    "percentage of capitals may be useful as even first quartile of percentage of capitals in fake news is larger than even third quartile in true news article. but this might not be generalizable"
   ]
  },
  {
   "cell_type": "markdown",
   "id": "147671ee-2c48-44d6-a7ec-6dce13a3b2a0",
   "metadata": {},
   "source": [
    "Capital in news article"
   ]
  },
  {
   "cell_type": "code",
   "execution_count": 59,
   "id": "c2e8b3c0-0a65-434d-ab97-293e75a68b03",
   "metadata": {
    "tags": []
   },
   "outputs": [],
   "source": [
    "df_clean['caps_in_news'] = df_clean[news].apply(lambda news: sum(1 for char in news if char.isupper()))"
   ]
  },
  {
   "cell_type": "code",
   "execution_count": 60,
   "id": "c0ef71d4-0eb5-4fc3-9b45-e85f247c5935",
   "metadata": {
    "tags": []
   },
   "outputs": [
    {
     "data": {
      "image/png": "[encoded data removed]",
      "text/plain": [
       "<Figure size 1200x800 with 1 Axes>"
      ]
     },
     "metadata": {},
     "output_type": "display_data"
    }
   ],
   "source": [
    "show_hist_for_col(df_clean, 'caps_in_news', 'Number of Capitals in News')"
   ]
  },
  {
   "cell_type": "code",
   "execution_count": 61,
   "id": "076a5bb7-a9e8-48c2-943e-0983b611e4e2",
   "metadata": {
    "tags": []
   },
   "outputs": [
    {
     "data": {
      "text/plain": [
       "count    34620.000000\n",
       "mean       116.356961\n",
       "std        104.906172\n",
       "min          0.000000\n",
       "25%         53.000000\n",
       "50%         92.000000\n",
       "75%        152.000000\n",
       "max       3809.000000\n",
       "Name: caps_in_news, dtype: float64"
      ]
     },
     "execution_count": 61,
     "metadata": {},
     "output_type": "execute_result"
    }
   ],
   "source": [
    "df_clean[df_clean.label == 0].caps_in_news.describe()"
   ]
  },
  {
   "cell_type": "code",
   "execution_count": 62,
   "id": "484a9074-e866-48ad-b712-518d96e406a3",
   "metadata": {
    "tags": []
   },
   "outputs": [
    {
     "data": {
      "text/plain": [
       "count    27577.000000\n",
       "mean       117.448671\n",
       "std        149.309811\n",
       "min          0.000000\n",
       "25%         55.000000\n",
       "50%         84.000000\n",
       "75%        133.000000\n",
       "max       5000.000000\n",
       "Name: caps_in_news, dtype: float64"
      ]
     },
     "execution_count": 62,
     "metadata": {},
     "output_type": "execute_result"
    }
   ],
   "source": [
    "df_clean[df_clean.label == 1].caps_in_news.describe()"
   ]
  },
  {
   "cell_type": "code",
   "execution_count": 63,
   "id": "a80f56c1-a963-4356-a8c6-da1b098daaf0",
   "metadata": {
    "tags": []
   },
   "outputs": [],
   "source": [
    "df_clean['norm_caps_in_news'] = df_clean['caps_in_news'] / df_clean['news_len']"
   ]
  },
  {
   "cell_type": "code",
   "execution_count": 64,
   "id": "76f74458-9c01-4435-8a02-ed4aa43fccd7",
   "metadata": {
    "tags": []
   },
   "outputs": [
    {
     "data": {
      "image/png": "[encoded data removed]",
      "text/plain": [
       "<Figure size 1200x800 with 1 Axes>"
      ]
     },
     "metadata": {},
     "output_type": "display_data"
    }
   ],
   "source": [
    "show_hist_for_col(df_clean, 'norm_caps_in_news', 'Percentage of Capitals in News')"
   ]
  },
  {
   "cell_type": "code",
   "execution_count": 65,
   "id": "a6b182f3-4c74-438d-9df5-35561ff6e6a1",
   "metadata": {
    "tags": []
   },
   "outputs": [
    {
     "data": {
      "text/plain": [
       "count    34620.000000\n",
       "mean         0.038249\n",
       "std          0.014575\n",
       "min          0.000000\n",
       "25%          0.028935\n",
       "50%          0.035200\n",
       "75%          0.043562\n",
       "max          0.333333\n",
       "Name: norm_caps_in_news, dtype: float64"
      ]
     },
     "execution_count": 65,
     "metadata": {},
     "output_type": "execute_result"
    }
   ],
   "source": [
    "df_clean[df_clean.label == 0].norm_caps_in_news.describe()"
   ]
  },
  {
   "cell_type": "code",
   "execution_count": 66,
   "id": "b839c437-d2a1-49c0-b46a-b42e3b34c5ce",
   "metadata": {
    "tags": []
   },
   "outputs": [
    {
     "data": {
      "text/plain": [
       "count    27577.000000\n",
       "mean         0.044475\n",
       "std          0.042446\n",
       "min          0.000000\n",
       "25%          0.028915\n",
       "50%          0.036147\n",
       "75%          0.047354\n",
       "max          0.882353\n",
       "Name: norm_caps_in_news, dtype: float64"
      ]
     },
     "execution_count": 66,
     "metadata": {},
     "output_type": "execute_result"
    }
   ],
   "source": [
    "df_clean[df_clean.label == 1].norm_caps_in_news.describe()"
   ]
  },
  {
   "cell_type": "markdown",
   "id": "fb1731dd-2256-4193-b85c-6e371a9c71d6",
   "metadata": {},
   "source": [
    "There is a lot of overlap in number of capitals in news article between fake and real news."
   ]
  },
  {
   "cell_type": "code",
   "execution_count": 67,
   "id": "8cf7d3b1-55d1-41d7-a71c-4a111b65001b",
   "metadata": {
    "tags": []
   },
   "outputs": [],
   "source": [
    "def check_string_for(substring, fullstring):\n",
    "    \"\"\"Check if the substring is in the fullstring\"\"\"\n",
    "    if search(substring, fullstring):\n",
    "        return True\n",
    "    else:\n",
    "        return False"
   ]
  },
  {
   "cell_type": "markdown",
   "id": "85541851-344c-4a80-84ce-8b3d69dbbaca",
   "metadata": {},
   "source": [
    "Via and Image Via in article"
   ]
  },
  {
   "cell_type": "code",
   "execution_count": 68,
   "id": "e6a2f245-d5c7-49f5-ade7-a1b3750fadab",
   "metadata": {
    "tags": []
   },
   "outputs": [],
   "source": [
    "df_via = df_clean[df_clean[news].apply(lambda news_text: check_string_for(' via', news_text))]"
   ]
  },
  {
   "cell_type": "code",
   "execution_count": 69,
   "id": "b1c424b5-f41f-4eab-88fe-6201d8b695e8",
   "metadata": {
    "tags": []
   },
   "outputs": [
    {
     "data": {
      "text/html": [
       "<div>\n",
       "<style scoped>\n",
       "    .dataframe tbody tr th:only-of-type {\n",
       "        vertical-align: middle;\n",
       "    }\n",
       "\n",
       "    .dataframe tbody tr th {\n",
       "        vertical-align: top;\n",
       "    }\n",
       "\n",
       "    .dataframe thead th {\n",
       "        text-align: right;\n",
       "    }\n",
       "</style>\n",
       "<table border=\"1\" class=\"dataframe\">\n",
       "  <thead>\n",
       "    <tr style=\"text-align: right;\">\n",
       "      <th></th>\n",
       "      <th>title</th>\n",
       "      <th>text</th>\n",
       "      <th>label</th>\n",
       "      <th>headline_len</th>\n",
       "      <th>news_len</th>\n",
       "      <th>caps_in_headline</th>\n",
       "      <th>norm_caps_in_headline</th>\n",
       "      <th>caps_in_news</th>\n",
       "      <th>norm_caps_in_news</th>\n",
       "    </tr>\n",
       "  </thead>\n",
       "  <tbody>\n",
       "    <tr>\n",
       "      <th>8</th>\n",
       "      <td>GOP Senator Just Smacked Down The Most Puncha...</td>\n",
       "      <td>The most punchable Alt-Right Nazi on the inter...</td>\n",
       "      <td>1</td>\n",
       "      <td>80</td>\n",
       "      <td>4679</td>\n",
       "      <td>16</td>\n",
       "      <td>0.200000</td>\n",
       "      <td>262</td>\n",
       "      <td>0.055995</td>\n",
       "    </tr>\n",
       "    <tr>\n",
       "      <th>20</th>\n",
       "      <td>Sean Spicer Baffles Reporters, Claims Trump I...</td>\n",
       "      <td>On Tuesday, White House Propaganda Minister Se...</td>\n",
       "      <td>1</td>\n",
       "      <td>87</td>\n",
       "      <td>2123</td>\n",
       "      <td>16</td>\n",
       "      <td>0.183908</td>\n",
       "      <td>84</td>\n",
       "      <td>0.039567</td>\n",
       "    </tr>\n",
       "    <tr>\n",
       "      <th>21</th>\n",
       "      <td>UNHOLY ALLIANCE: Hillary Clinton’s Saudi Spons...</td>\n",
       "      <td>21st Century Wire says Amid the tossing and t...</td>\n",
       "      <td>1</td>\n",
       "      <td>87</td>\n",
       "      <td>15512</td>\n",
       "      <td>22</td>\n",
       "      <td>0.252874</td>\n",
       "      <td>652</td>\n",
       "      <td>0.042032</td>\n",
       "    </tr>\n",
       "    <tr>\n",
       "      <th>22</th>\n",
       "      <td>Even Trump’s Best Friend Joe Scarborough Can’...</td>\n",
       "      <td>Recently, Joe Scarborough has found himself th...</td>\n",
       "      <td>1</td>\n",
       "      <td>94</td>\n",
       "      <td>2285</td>\n",
       "      <td>19</td>\n",
       "      <td>0.202128</td>\n",
       "      <td>93</td>\n",
       "      <td>0.040700</td>\n",
       "    </tr>\n",
       "    <tr>\n",
       "      <th>36</th>\n",
       "      <td>Emboldened NRA Threatens New York Times: ‘We’...</td>\n",
       "      <td>The NRA has a new favorite toy, but there are ...</td>\n",
       "      <td>1</td>\n",
       "      <td>72</td>\n",
       "      <td>2935</td>\n",
       "      <td>17</td>\n",
       "      <td>0.236111</td>\n",
       "      <td>126</td>\n",
       "      <td>0.042930</td>\n",
       "    </tr>\n",
       "    <tr>\n",
       "      <th>...</th>\n",
       "      <td>...</td>\n",
       "      <td>...</td>\n",
       "      <td>...</td>\n",
       "      <td>...</td>\n",
       "      <td>...</td>\n",
       "      <td>...</td>\n",
       "      <td>...</td>\n",
       "      <td>...</td>\n",
       "      <td>...</td>\n",
       "    </tr>\n",
       "    <tr>\n",
       "      <th>62161</th>\n",
       "      <td>Lesbian Couple Beaten, Arrested For Holding H...</td>\n",
       "      <td>In October of 2015, California couple Courtney...</td>\n",
       "      <td>1</td>\n",
       "      <td>82</td>\n",
       "      <td>2078</td>\n",
       "      <td>14</td>\n",
       "      <td>0.170732</td>\n",
       "      <td>74</td>\n",
       "      <td>0.035611</td>\n",
       "    </tr>\n",
       "    <tr>\n",
       "      <th>62163</th>\n",
       "      <td>Ft. Lauderdale Terrorist Says He Carried Out A...</td>\n",
       "      <td>Esteban Santiago Ruiz told the FBI that he car...</td>\n",
       "      <td>0</td>\n",
       "      <td>69</td>\n",
       "      <td>3261</td>\n",
       "      <td>10</td>\n",
       "      <td>0.144928</td>\n",
       "      <td>131</td>\n",
       "      <td>0.040172</td>\n",
       "    </tr>\n",
       "    <tr>\n",
       "      <th>62184</th>\n",
       "      <td>Racist Prick Spits On Black Pair, Yells N****...</td>\n",
       "      <td>Are we a post-racial nation? No, we re not, no...</td>\n",
       "      <td>1</td>\n",
       "      <td>95</td>\n",
       "      <td>2858</td>\n",
       "      <td>14</td>\n",
       "      <td>0.147368</td>\n",
       "      <td>49</td>\n",
       "      <td>0.017145</td>\n",
       "    </tr>\n",
       "    <tr>\n",
       "      <th>62187</th>\n",
       "      <td>Florida Judge Blames Rape Victim For Attendin...</td>\n",
       "      <td>The Ultra Music Festival in Miami is one of th...</td>\n",
       "      <td>1</td>\n",
       "      <td>62</td>\n",
       "      <td>2446</td>\n",
       "      <td>9</td>\n",
       "      <td>0.145161</td>\n",
       "      <td>59</td>\n",
       "      <td>0.024121</td>\n",
       "    </tr>\n",
       "    <tr>\n",
       "      <th>62194</th>\n",
       "      <td>WATCH: Giuliani Demands That Democrats Apolog...</td>\n",
       "      <td>You know, because in fantasyland Republicans n...</td>\n",
       "      <td>1</td>\n",
       "      <td>79</td>\n",
       "      <td>3634</td>\n",
       "      <td>14</td>\n",
       "      <td>0.177215</td>\n",
       "      <td>120</td>\n",
       "      <td>0.033021</td>\n",
       "    </tr>\n",
       "  </tbody>\n",
       "</table>\n",
       "<p>9794 rows × 9 columns</p>\n",
       "</div>"
      ],
      "text/plain": [
       "                                                   title  \\\n",
       "8       GOP Senator Just Smacked Down The Most Puncha...   \n",
       "20      Sean Spicer Baffles Reporters, Claims Trump I...   \n",
       "21     UNHOLY ALLIANCE: Hillary Clinton’s Saudi Spons...   \n",
       "22      Even Trump’s Best Friend Joe Scarborough Can’...   \n",
       "36      Emboldened NRA Threatens New York Times: ‘We’...   \n",
       "...                                                  ...   \n",
       "62161   Lesbian Couple Beaten, Arrested For Holding H...   \n",
       "62163  Ft. Lauderdale Terrorist Says He Carried Out A...   \n",
       "62184   Racist Prick Spits On Black Pair, Yells N****...   \n",
       "62187   Florida Judge Blames Rape Victim For Attendin...   \n",
       "62194   WATCH: Giuliani Demands That Democrats Apolog...   \n",
       "\n",
       "                                                    text  label  headline_len  \\\n",
       "8      The most punchable Alt-Right Nazi on the inter...      1            80   \n",
       "20     On Tuesday, White House Propaganda Minister Se...      1            87   \n",
       "21      21st Century Wire says Amid the tossing and t...      1            87   \n",
       "22     Recently, Joe Scarborough has found himself th...      1            94   \n",
       "36     The NRA has a new favorite toy, but there are ...      1            72   \n",
       "...                                                  ...    ...           ...   \n",
       "62161  In October of 2015, California couple Courtney...      1            82   \n",
       "62163  Esteban Santiago Ruiz told the FBI that he car...      0            69   \n",
       "62184  Are we a post-racial nation? No, we re not, no...      1            95   \n",
       "62187  The Ultra Music Festival in Miami is one of th...      1            62   \n",
       "62194  You know, because in fantasyland Republicans n...      1            79   \n",
       "\n",
       "       news_len  caps_in_headline  norm_caps_in_headline  caps_in_news  \\\n",
       "8          4679                16               0.200000           262   \n",
       "20         2123                16               0.183908            84   \n",
       "21        15512                22               0.252874           652   \n",
       "22         2285                19               0.202128            93   \n",
       "36         2935                17               0.236111           126   \n",
       "...         ...               ...                    ...           ...   \n",
       "62161      2078                14               0.170732            74   \n",
       "62163      3261                10               0.144928           131   \n",
       "62184      2858                14               0.147368            49   \n",
       "62187      2446                 9               0.145161            59   \n",
       "62194      3634                14               0.177215           120   \n",
       "\n",
       "       norm_caps_in_news  \n",
       "8               0.055995  \n",
       "20              0.039567  \n",
       "21              0.042032  \n",
       "22              0.040700  \n",
       "36              0.042930  \n",
       "...                  ...  \n",
       "62161           0.035611  \n",
       "62163           0.040172  \n",
       "62184           0.017145  \n",
       "62187           0.024121  \n",
       "62194           0.033021  \n",
       "\n",
       "[9794 rows x 9 columns]"
      ]
     },
     "execution_count": 69,
     "metadata": {},
     "output_type": "execute_result"
    }
   ],
   "source": [
    "df_via"
   ]
  },
  {
   "cell_type": "code",
   "execution_count": 70,
   "id": "e6d9dfb4-a8bf-4373-bf50-2ee64f67e23d",
   "metadata": {
    "tags": []
   },
   "outputs": [
    {
     "data": {
      "text/plain": [
       "1    8533\n",
       "0    1261\n",
       "Name: label, dtype: int64"
      ]
     },
     "execution_count": 70,
     "metadata": {},
     "output_type": "execute_result"
    }
   ],
   "source": [
    "df_via['label'].value_counts()"
   ]
  },
  {
   "cell_type": "markdown",
   "id": "588642d4-23c6-42e1-9bc9-4cfab3373492",
   "metadata": {},
   "source": [
    "Via is much more indicative of fake news article compared to true news article."
   ]
  },
  {
   "cell_type": "code",
   "execution_count": 71,
   "id": "150ef478-cb23-403b-b0ac-b56cc6d4f64d",
   "metadata": {
    "tags": []
   },
   "outputs": [],
   "source": [
    "df_image_via = df_clean[df_clean[news].apply(lambda news_text: check_string_for('image via', news_text))]"
   ]
  },
  {
   "cell_type": "code",
   "execution_count": 72,
   "id": "be585078-46d9-45a4-b14d-0ce4d6c939e3",
   "metadata": {
    "tags": []
   },
   "outputs": [
    {
     "data": {
      "text/html": [
       "<div>\n",
       "<style scoped>\n",
       "    .dataframe tbody tr th:only-of-type {\n",
       "        vertical-align: middle;\n",
       "    }\n",
       "\n",
       "    .dataframe tbody tr th {\n",
       "        vertical-align: top;\n",
       "    }\n",
       "\n",
       "    .dataframe thead th {\n",
       "        text-align: right;\n",
       "    }\n",
       "</style>\n",
       "<table border=\"1\" class=\"dataframe\">\n",
       "  <thead>\n",
       "    <tr style=\"text-align: right;\">\n",
       "      <th></th>\n",
       "      <th>title</th>\n",
       "      <th>text</th>\n",
       "      <th>label</th>\n",
       "      <th>headline_len</th>\n",
       "      <th>news_len</th>\n",
       "      <th>caps_in_headline</th>\n",
       "      <th>norm_caps_in_headline</th>\n",
       "      <th>caps_in_news</th>\n",
       "      <th>norm_caps_in_news</th>\n",
       "    </tr>\n",
       "  </thead>\n",
       "  <tbody>\n",
       "    <tr>\n",
       "      <th>20</th>\n",
       "      <td>Sean Spicer Baffles Reporters, Claims Trump I...</td>\n",
       "      <td>On Tuesday, White House Propaganda Minister Se...</td>\n",
       "      <td>1</td>\n",
       "      <td>87</td>\n",
       "      <td>2123</td>\n",
       "      <td>16</td>\n",
       "      <td>0.183908</td>\n",
       "      <td>84</td>\n",
       "      <td>0.039567</td>\n",
       "    </tr>\n",
       "    <tr>\n",
       "      <th>22</th>\n",
       "      <td>Even Trump’s Best Friend Joe Scarborough Can’...</td>\n",
       "      <td>Recently, Joe Scarborough has found himself th...</td>\n",
       "      <td>1</td>\n",
       "      <td>94</td>\n",
       "      <td>2285</td>\n",
       "      <td>19</td>\n",
       "      <td>0.202128</td>\n",
       "      <td>93</td>\n",
       "      <td>0.040700</td>\n",
       "    </tr>\n",
       "    <tr>\n",
       "      <th>36</th>\n",
       "      <td>Emboldened NRA Threatens New York Times: ‘We’...</td>\n",
       "      <td>The NRA has a new favorite toy, but there are ...</td>\n",
       "      <td>1</td>\n",
       "      <td>72</td>\n",
       "      <td>2935</td>\n",
       "      <td>17</td>\n",
       "      <td>0.236111</td>\n",
       "      <td>126</td>\n",
       "      <td>0.042930</td>\n",
       "    </tr>\n",
       "    <tr>\n",
       "      <th>37</th>\n",
       "      <td>Noam Chomsky GOES OFF On Donald Trump: ‘He’s ...</td>\n",
       "      <td>It s no secret that world-renowned political t...</td>\n",
       "      <td>1</td>\n",
       "      <td>63</td>\n",
       "      <td>2076</td>\n",
       "      <td>24</td>\n",
       "      <td>0.380952</td>\n",
       "      <td>65</td>\n",
       "      <td>0.031310</td>\n",
       "    </tr>\n",
       "    <tr>\n",
       "      <th>60</th>\n",
       "      <td>Elijah Cummings Made Sure The GOP Is Well Awa...</td>\n",
       "      <td>There seems to be a definite double standard w...</td>\n",
       "      <td>1</td>\n",
       "      <td>94</td>\n",
       "      <td>3085</td>\n",
       "      <td>16</td>\n",
       "      <td>0.170213</td>\n",
       "      <td>98</td>\n",
       "      <td>0.031767</td>\n",
       "    </tr>\n",
       "    <tr>\n",
       "      <th>...</th>\n",
       "      <td>...</td>\n",
       "      <td>...</td>\n",
       "      <td>...</td>\n",
       "      <td>...</td>\n",
       "      <td>...</td>\n",
       "      <td>...</td>\n",
       "      <td>...</td>\n",
       "      <td>...</td>\n",
       "      <td>...</td>\n",
       "    </tr>\n",
       "    <tr>\n",
       "      <th>62148</th>\n",
       "      <td>Republicans Hilariously Go Ballistic Because ...</td>\n",
       "      <td>Let the mocking commence.On Wednesday evening,...</td>\n",
       "      <td>1</td>\n",
       "      <td>105</td>\n",
       "      <td>3664</td>\n",
       "      <td>16</td>\n",
       "      <td>0.152381</td>\n",
       "      <td>286</td>\n",
       "      <td>0.078057</td>\n",
       "    </tr>\n",
       "    <tr>\n",
       "      <th>62150</th>\n",
       "      <td>Watch What Happens When A Rapist Pedophile Tr...</td>\n",
       "      <td>Our street corners are filled with people in n...</td>\n",
       "      <td>1</td>\n",
       "      <td>99</td>\n",
       "      <td>1867</td>\n",
       "      <td>24</td>\n",
       "      <td>0.242424</td>\n",
       "      <td>43</td>\n",
       "      <td>0.023032</td>\n",
       "    </tr>\n",
       "    <tr>\n",
       "      <th>62161</th>\n",
       "      <td>Lesbian Couple Beaten, Arrested For Holding H...</td>\n",
       "      <td>In October of 2015, California couple Courtney...</td>\n",
       "      <td>1</td>\n",
       "      <td>82</td>\n",
       "      <td>2078</td>\n",
       "      <td>14</td>\n",
       "      <td>0.170732</td>\n",
       "      <td>74</td>\n",
       "      <td>0.035611</td>\n",
       "    </tr>\n",
       "    <tr>\n",
       "      <th>62184</th>\n",
       "      <td>Racist Prick Spits On Black Pair, Yells N****...</td>\n",
       "      <td>Are we a post-racial nation? No, we re not, no...</td>\n",
       "      <td>1</td>\n",
       "      <td>95</td>\n",
       "      <td>2858</td>\n",
       "      <td>14</td>\n",
       "      <td>0.147368</td>\n",
       "      <td>49</td>\n",
       "      <td>0.017145</td>\n",
       "    </tr>\n",
       "    <tr>\n",
       "      <th>62187</th>\n",
       "      <td>Florida Judge Blames Rape Victim For Attendin...</td>\n",
       "      <td>The Ultra Music Festival in Miami is one of th...</td>\n",
       "      <td>1</td>\n",
       "      <td>62</td>\n",
       "      <td>2446</td>\n",
       "      <td>9</td>\n",
       "      <td>0.145161</td>\n",
       "      <td>59</td>\n",
       "      <td>0.024121</td>\n",
       "    </tr>\n",
       "  </tbody>\n",
       "</table>\n",
       "<p>6158 rows × 9 columns</p>\n",
       "</div>"
      ],
      "text/plain": [
       "                                                   title  \\\n",
       "20      Sean Spicer Baffles Reporters, Claims Trump I...   \n",
       "22      Even Trump’s Best Friend Joe Scarborough Can’...   \n",
       "36      Emboldened NRA Threatens New York Times: ‘We’...   \n",
       "37      Noam Chomsky GOES OFF On Donald Trump: ‘He’s ...   \n",
       "60      Elijah Cummings Made Sure The GOP Is Well Awa...   \n",
       "...                                                  ...   \n",
       "62148   Republicans Hilariously Go Ballistic Because ...   \n",
       "62150   Watch What Happens When A Rapist Pedophile Tr...   \n",
       "62161   Lesbian Couple Beaten, Arrested For Holding H...   \n",
       "62184   Racist Prick Spits On Black Pair, Yells N****...   \n",
       "62187   Florida Judge Blames Rape Victim For Attendin...   \n",
       "\n",
       "                                                    text  label  headline_len  \\\n",
       "20     On Tuesday, White House Propaganda Minister Se...      1            87   \n",
       "22     Recently, Joe Scarborough has found himself th...      1            94   \n",
       "36     The NRA has a new favorite toy, but there are ...      1            72   \n",
       "37     It s no secret that world-renowned political t...      1            63   \n",
       "60     There seems to be a definite double standard w...      1            94   \n",
       "...                                                  ...    ...           ...   \n",
       "62148  Let the mocking commence.On Wednesday evening,...      1           105   \n",
       "62150  Our street corners are filled with people in n...      1            99   \n",
       "62161  In October of 2015, California couple Courtney...      1            82   \n",
       "62184  Are we a post-racial nation? No, we re not, no...      1            95   \n",
       "62187  The Ultra Music Festival in Miami is one of th...      1            62   \n",
       "\n",
       "       news_len  caps_in_headline  norm_caps_in_headline  caps_in_news  \\\n",
       "20         2123                16               0.183908            84   \n",
       "22         2285                19               0.202128            93   \n",
       "36         2935                17               0.236111           126   \n",
       "37         2076                24               0.380952            65   \n",
       "60         3085                16               0.170213            98   \n",
       "...         ...               ...                    ...           ...   \n",
       "62148      3664                16               0.152381           286   \n",
       "62150      1867                24               0.242424            43   \n",
       "62161      2078                14               0.170732            74   \n",
       "62184      2858                14               0.147368            49   \n",
       "62187      2446                 9               0.145161            59   \n",
       "\n",
       "       norm_caps_in_news  \n",
       "20              0.039567  \n",
       "22              0.040700  \n",
       "36              0.042930  \n",
       "37              0.031310  \n",
       "60              0.031767  \n",
       "...                  ...  \n",
       "62148           0.078057  \n",
       "62150           0.023032  \n",
       "62161           0.035611  \n",
       "62184           0.017145  \n",
       "62187           0.024121  \n",
       "\n",
       "[6158 rows x 9 columns]"
      ]
     },
     "execution_count": 72,
     "metadata": {},
     "output_type": "execute_result"
    }
   ],
   "source": [
    "df_image_via"
   ]
  },
  {
   "cell_type": "code",
   "execution_count": 73,
   "id": "9064f042-60b8-4360-8000-be437e03c845",
   "metadata": {
    "tags": []
   },
   "outputs": [
    {
     "data": {
      "text/plain": [
       "1    6158\n",
       "Name: label, dtype: int64"
      ]
     },
     "execution_count": 73,
     "metadata": {},
     "output_type": "execute_result"
    }
   ],
   "source": [
    "df_image_via['label'].value_counts()"
   ]
  },
  {
   "cell_type": "markdown",
   "id": "4a596c4c-b1ef-4b60-8339-d0251d9b9f7f",
   "metadata": {},
   "source": [
    "With all the posts with image via being Fake, it's highly indicative of that label, but this may be particular to this dataset and may not generalize."
   ]
  },
  {
   "cell_type": "markdown",
   "id": "5bf26baa-5882-4eb5-84bd-402992125bb0",
   "metadata": {},
   "source": [
    "Said in news article"
   ]
  },
  {
   "cell_type": "code",
   "execution_count": 74,
   "id": "53807b5d-26da-4482-a350-2a70ee6de463",
   "metadata": {
    "tags": []
   },
   "outputs": [],
   "source": [
    "df_said = df_clean[df_clean[news].apply(lambda news_text: check_string_for('said', news_text))]"
   ]
  },
  {
   "cell_type": "code",
   "execution_count": 75,
   "id": "6187b436-1e3b-4301-8e09-fadc10ddee31",
   "metadata": {
    "tags": []
   },
   "outputs": [
    {
     "data": {
      "text/html": [
       "<div>\n",
       "<style scoped>\n",
       "    .dataframe tbody tr th:only-of-type {\n",
       "        vertical-align: middle;\n",
       "    }\n",
       "\n",
       "    .dataframe tbody tr th {\n",
       "        vertical-align: top;\n",
       "    }\n",
       "\n",
       "    .dataframe thead th {\n",
       "        text-align: right;\n",
       "    }\n",
       "</style>\n",
       "<table border=\"1\" class=\"dataframe\">\n",
       "  <thead>\n",
       "    <tr style=\"text-align: right;\">\n",
       "      <th></th>\n",
       "      <th>title</th>\n",
       "      <th>text</th>\n",
       "      <th>label</th>\n",
       "      <th>headline_len</th>\n",
       "      <th>news_len</th>\n",
       "      <th>caps_in_headline</th>\n",
       "      <th>norm_caps_in_headline</th>\n",
       "      <th>caps_in_news</th>\n",
       "      <th>norm_caps_in_news</th>\n",
       "    </tr>\n",
       "  </thead>\n",
       "  <tbody>\n",
       "    <tr>\n",
       "      <th>0</th>\n",
       "      <td>LAW ENFORCEMENT ON HIGH ALERT Following Threat...</td>\n",
       "      <td>No comment is expected from Barack Obama Membe...</td>\n",
       "      <td>1</td>\n",
       "      <td>130</td>\n",
       "      <td>5049</td>\n",
       "      <td>46</td>\n",
       "      <td>0.353846</td>\n",
       "      <td>161</td>\n",
       "      <td>0.031888</td>\n",
       "    </tr>\n",
       "    <tr>\n",
       "      <th>2</th>\n",
       "      <td>Bobby Jindal, raised Hindu, uses story of Chri...</td>\n",
       "      <td>A dozen politically active pastors came here f...</td>\n",
       "      <td>0</td>\n",
       "      <td>105</td>\n",
       "      <td>8010</td>\n",
       "      <td>4</td>\n",
       "      <td>0.038095</td>\n",
       "      <td>246</td>\n",
       "      <td>0.030712</td>\n",
       "    </tr>\n",
       "    <tr>\n",
       "      <th>3</th>\n",
       "      <td>SATAN 2: Russia unvelis an image of its terrif...</td>\n",
       "      <td>The RS-28 Sarmat missile, dubbed Satan 2, will...</td>\n",
       "      <td>1</td>\n",
       "      <td>95</td>\n",
       "      <td>1916</td>\n",
       "      <td>16</td>\n",
       "      <td>0.168421</td>\n",
       "      <td>123</td>\n",
       "      <td>0.064196</td>\n",
       "    </tr>\n",
       "    <tr>\n",
       "      <th>4</th>\n",
       "      <td>About Time! Christian Group Sues Amazon and SP...</td>\n",
       "      <td>All we can say on this one is it s about time ...</td>\n",
       "      <td>1</td>\n",
       "      <td>78</td>\n",
       "      <td>1530</td>\n",
       "      <td>13</td>\n",
       "      <td>0.166667</td>\n",
       "      <td>97</td>\n",
       "      <td>0.063399</td>\n",
       "    </tr>\n",
       "    <tr>\n",
       "      <th>6</th>\n",
       "      <td>Sports Bar Owner Bans NFL Games…Will Show Only...</td>\n",
       "      <td>The owner of the Ringling Bar, located south o...</td>\n",
       "      <td>1</td>\n",
       "      <td>116</td>\n",
       "      <td>1439</td>\n",
       "      <td>17</td>\n",
       "      <td>0.146552</td>\n",
       "      <td>67</td>\n",
       "      <td>0.046560</td>\n",
       "    </tr>\n",
       "    <tr>\n",
       "      <th>...</th>\n",
       "      <td>...</td>\n",
       "      <td>...</td>\n",
       "      <td>...</td>\n",
       "      <td>...</td>\n",
       "      <td>...</td>\n",
       "      <td>...</td>\n",
       "      <td>...</td>\n",
       "      <td>...</td>\n",
       "      <td>...</td>\n",
       "    </tr>\n",
       "    <tr>\n",
       "      <th>62192</th>\n",
       "      <td>WIKILEAKS EMAIL SHOWS CLINTON FOUNDATION FUNDS...</td>\n",
       "      <td>An email released by WikiLeaks on Sunday appea...</td>\n",
       "      <td>1</td>\n",
       "      <td>104</td>\n",
       "      <td>1237</td>\n",
       "      <td>50</td>\n",
       "      <td>0.480769</td>\n",
       "      <td>51</td>\n",
       "      <td>0.041229</td>\n",
       "    </tr>\n",
       "    <tr>\n",
       "      <th>62193</th>\n",
       "      <td>Russians steal research on Trump in hack of U....</td>\n",
       "      <td>WASHINGTON (Reuters) - Hackers believed to be ...</td>\n",
       "      <td>0</td>\n",
       "      <td>65</td>\n",
       "      <td>4788</td>\n",
       "      <td>6</td>\n",
       "      <td>0.092308</td>\n",
       "      <td>182</td>\n",
       "      <td>0.038012</td>\n",
       "    </tr>\n",
       "    <tr>\n",
       "      <th>62194</th>\n",
       "      <td>WATCH: Giuliani Demands That Democrats Apolog...</td>\n",
       "      <td>You know, because in fantasyland Republicans n...</td>\n",
       "      <td>1</td>\n",
       "      <td>79</td>\n",
       "      <td>3634</td>\n",
       "      <td>14</td>\n",
       "      <td>0.177215</td>\n",
       "      <td>120</td>\n",
       "      <td>0.033021</td>\n",
       "    </tr>\n",
       "    <tr>\n",
       "      <th>62195</th>\n",
       "      <td>Migrants Refuse To Leave Train At Refugee Camp...</td>\n",
       "      <td>Migrants Refuse To Leave Train At Refugee Camp...</td>\n",
       "      <td>0</td>\n",
       "      <td>57</td>\n",
       "      <td>2864</td>\n",
       "      <td>10</td>\n",
       "      <td>0.175439</td>\n",
       "      <td>105</td>\n",
       "      <td>0.036662</td>\n",
       "    </tr>\n",
       "    <tr>\n",
       "      <th>62196</th>\n",
       "      <td>Trump tussle gives unpopular Mexican leader mu...</td>\n",
       "      <td>MEXICO CITY (Reuters) - Donald Trump’s combati...</td>\n",
       "      <td>0</td>\n",
       "      <td>67</td>\n",
       "      <td>3374</td>\n",
       "      <td>2</td>\n",
       "      <td>0.029851</td>\n",
       "      <td>125</td>\n",
       "      <td>0.037048</td>\n",
       "    </tr>\n",
       "  </tbody>\n",
       "</table>\n",
       "<p>45184 rows × 9 columns</p>\n",
       "</div>"
      ],
      "text/plain": [
       "                                                   title  \\\n",
       "0      LAW ENFORCEMENT ON HIGH ALERT Following Threat...   \n",
       "2      Bobby Jindal, raised Hindu, uses story of Chri...   \n",
       "3      SATAN 2: Russia unvelis an image of its terrif...   \n",
       "4      About Time! Christian Group Sues Amazon and SP...   \n",
       "6      Sports Bar Owner Bans NFL Games…Will Show Only...   \n",
       "...                                                  ...   \n",
       "62192  WIKILEAKS EMAIL SHOWS CLINTON FOUNDATION FUNDS...   \n",
       "62193  Russians steal research on Trump in hack of U....   \n",
       "62194   WATCH: Giuliani Demands That Democrats Apolog...   \n",
       "62195  Migrants Refuse To Leave Train At Refugee Camp...   \n",
       "62196  Trump tussle gives unpopular Mexican leader mu...   \n",
       "\n",
       "                                                    text  label  headline_len  \\\n",
       "0      No comment is expected from Barack Obama Membe...      1           130   \n",
       "2      A dozen politically active pastors came here f...      0           105   \n",
       "3      The RS-28 Sarmat missile, dubbed Satan 2, will...      1            95   \n",
       "4      All we can say on this one is it s about time ...      1            78   \n",
       "6      The owner of the Ringling Bar, located south o...      1           116   \n",
       "...                                                  ...    ...           ...   \n",
       "62192  An email released by WikiLeaks on Sunday appea...      1           104   \n",
       "62193  WASHINGTON (Reuters) - Hackers believed to be ...      0            65   \n",
       "62194  You know, because in fantasyland Republicans n...      1            79   \n",
       "62195  Migrants Refuse To Leave Train At Refugee Camp...      0            57   \n",
       "62196  MEXICO CITY (Reuters) - Donald Trump’s combati...      0            67   \n",
       "\n",
       "       news_len  caps_in_headline  norm_caps_in_headline  caps_in_news  \\\n",
       "0          5049                46               0.353846           161   \n",
       "2          8010                 4               0.038095           246   \n",
       "3          1916                16               0.168421           123   \n",
       "4          1530                13               0.166667            97   \n",
       "6          1439                17               0.146552            67   \n",
       "...         ...               ...                    ...           ...   \n",
       "62192      1237                50               0.480769            51   \n",
       "62193      4788                 6               0.092308           182   \n",
       "62194      3634                14               0.177215           120   \n",
       "62195      2864                10               0.175439           105   \n",
       "62196      3374                 2               0.029851           125   \n",
       "\n",
       "       norm_caps_in_news  \n",
       "0               0.031888  \n",
       "2               0.030712  \n",
       "3               0.064196  \n",
       "4               0.063399  \n",
       "6               0.046560  \n",
       "...                  ...  \n",
       "62192           0.041229  \n",
       "62193           0.038012  \n",
       "62194           0.033021  \n",
       "62195           0.036662  \n",
       "62196           0.037048  \n",
       "\n",
       "[45184 rows x 9 columns]"
      ]
     },
     "execution_count": 75,
     "metadata": {},
     "output_type": "execute_result"
    }
   ],
   "source": [
    "df_said"
   ]
  },
  {
   "cell_type": "code",
   "execution_count": 76,
   "id": "da1eb178-cc08-458e-ac4d-1664e56b175f",
   "metadata": {
    "tags": []
   },
   "outputs": [
    {
     "data": {
      "text/plain": [
       "0    30923\n",
       "1    14261\n",
       "Name: label, dtype: int64"
      ]
     },
     "execution_count": 76,
     "metadata": {},
     "output_type": "execute_result"
    }
   ],
   "source": [
    "df_said['label'].value_counts()"
   ]
  },
  {
   "cell_type": "markdown",
   "id": "d2570246-02ce-4a2e-9429-c908c3afdd8c",
   "metadata": {},
   "source": [
    "The stories containing the word said are indicative of the news story being true. With twice as many of the \"true\" news stories containing said vs. \"fake\", the true ones must seem likely to be more concerned with providing quotations, or at least quotations in this style."
   ]
  },
  {
   "cell_type": "markdown",
   "id": "56d4e26a-65f9-46f3-83d5-e8d550ef1250",
   "metadata": {},
   "source": [
    "On in news article"
   ]
  },
  {
   "cell_type": "code",
   "execution_count": 77,
   "id": "aa668148-0544-4bc7-9730-d53a60a4ebc7",
   "metadata": {
    "tags": []
   },
   "outputs": [],
   "source": [
    "df_on = df_clean[df_clean[news].apply(lambda news_text: check_string_for(' on ', news_text))]"
   ]
  },
  {
   "cell_type": "code",
   "execution_count": 78,
   "id": "2cc38e6f-723d-45f0-a077-633e70e5c4c7",
   "metadata": {
    "tags": []
   },
   "outputs": [
    {
     "data": {
      "text/html": [
       "<div>\n",
       "<style scoped>\n",
       "    .dataframe tbody tr th:only-of-type {\n",
       "        vertical-align: middle;\n",
       "    }\n",
       "\n",
       "    .dataframe tbody tr th {\n",
       "        vertical-align: top;\n",
       "    }\n",
       "\n",
       "    .dataframe thead th {\n",
       "        text-align: right;\n",
       "    }\n",
       "</style>\n",
       "<table border=\"1\" class=\"dataframe\">\n",
       "  <thead>\n",
       "    <tr style=\"text-align: right;\">\n",
       "      <th></th>\n",
       "      <th>title</th>\n",
       "      <th>text</th>\n",
       "      <th>label</th>\n",
       "      <th>headline_len</th>\n",
       "      <th>news_len</th>\n",
       "      <th>caps_in_headline</th>\n",
       "      <th>norm_caps_in_headline</th>\n",
       "      <th>caps_in_news</th>\n",
       "      <th>norm_caps_in_news</th>\n",
       "    </tr>\n",
       "  </thead>\n",
       "  <tbody>\n",
       "    <tr>\n",
       "      <th>0</th>\n",
       "      <td>LAW ENFORCEMENT ON HIGH ALERT Following Threat...</td>\n",
       "      <td>No comment is expected from Barack Obama Membe...</td>\n",
       "      <td>1</td>\n",
       "      <td>130</td>\n",
       "      <td>5049</td>\n",
       "      <td>46</td>\n",
       "      <td>0.353846</td>\n",
       "      <td>161</td>\n",
       "      <td>0.031888</td>\n",
       "    </tr>\n",
       "    <tr>\n",
       "      <th>2</th>\n",
       "      <td>Bobby Jindal, raised Hindu, uses story of Chri...</td>\n",
       "      <td>A dozen politically active pastors came here f...</td>\n",
       "      <td>0</td>\n",
       "      <td>105</td>\n",
       "      <td>8010</td>\n",
       "      <td>4</td>\n",
       "      <td>0.038095</td>\n",
       "      <td>246</td>\n",
       "      <td>0.030712</td>\n",
       "    </tr>\n",
       "    <tr>\n",
       "      <th>3</th>\n",
       "      <td>SATAN 2: Russia unvelis an image of its terrif...</td>\n",
       "      <td>The RS-28 Sarmat missile, dubbed Satan 2, will...</td>\n",
       "      <td>1</td>\n",
       "      <td>95</td>\n",
       "      <td>1916</td>\n",
       "      <td>16</td>\n",
       "      <td>0.168421</td>\n",
       "      <td>123</td>\n",
       "      <td>0.064196</td>\n",
       "    </tr>\n",
       "    <tr>\n",
       "      <th>4</th>\n",
       "      <td>About Time! Christian Group Sues Amazon and SP...</td>\n",
       "      <td>All we can say on this one is it s about time ...</td>\n",
       "      <td>1</td>\n",
       "      <td>78</td>\n",
       "      <td>1530</td>\n",
       "      <td>13</td>\n",
       "      <td>0.166667</td>\n",
       "      <td>97</td>\n",
       "      <td>0.063399</td>\n",
       "    </tr>\n",
       "    <tr>\n",
       "      <th>6</th>\n",
       "      <td>Sports Bar Owner Bans NFL Games…Will Show Only...</td>\n",
       "      <td>The owner of the Ringling Bar, located south o...</td>\n",
       "      <td>1</td>\n",
       "      <td>116</td>\n",
       "      <td>1439</td>\n",
       "      <td>17</td>\n",
       "      <td>0.146552</td>\n",
       "      <td>67</td>\n",
       "      <td>0.046560</td>\n",
       "    </tr>\n",
       "    <tr>\n",
       "      <th>...</th>\n",
       "      <td>...</td>\n",
       "      <td>...</td>\n",
       "      <td>...</td>\n",
       "      <td>...</td>\n",
       "      <td>...</td>\n",
       "      <td>...</td>\n",
       "      <td>...</td>\n",
       "      <td>...</td>\n",
       "      <td>...</td>\n",
       "    </tr>\n",
       "    <tr>\n",
       "      <th>62192</th>\n",
       "      <td>WIKILEAKS EMAIL SHOWS CLINTON FOUNDATION FUNDS...</td>\n",
       "      <td>An email released by WikiLeaks on Sunday appea...</td>\n",
       "      <td>1</td>\n",
       "      <td>104</td>\n",
       "      <td>1237</td>\n",
       "      <td>50</td>\n",
       "      <td>0.480769</td>\n",
       "      <td>51</td>\n",
       "      <td>0.041229</td>\n",
       "    </tr>\n",
       "    <tr>\n",
       "      <th>62193</th>\n",
       "      <td>Russians steal research on Trump in hack of U....</td>\n",
       "      <td>WASHINGTON (Reuters) - Hackers believed to be ...</td>\n",
       "      <td>0</td>\n",
       "      <td>65</td>\n",
       "      <td>4788</td>\n",
       "      <td>6</td>\n",
       "      <td>0.092308</td>\n",
       "      <td>182</td>\n",
       "      <td>0.038012</td>\n",
       "    </tr>\n",
       "    <tr>\n",
       "      <th>62194</th>\n",
       "      <td>WATCH: Giuliani Demands That Democrats Apolog...</td>\n",
       "      <td>You know, because in fantasyland Republicans n...</td>\n",
       "      <td>1</td>\n",
       "      <td>79</td>\n",
       "      <td>3634</td>\n",
       "      <td>14</td>\n",
       "      <td>0.177215</td>\n",
       "      <td>120</td>\n",
       "      <td>0.033021</td>\n",
       "    </tr>\n",
       "    <tr>\n",
       "      <th>62195</th>\n",
       "      <td>Migrants Refuse To Leave Train At Refugee Camp...</td>\n",
       "      <td>Migrants Refuse To Leave Train At Refugee Camp...</td>\n",
       "      <td>0</td>\n",
       "      <td>57</td>\n",
       "      <td>2864</td>\n",
       "      <td>10</td>\n",
       "      <td>0.175439</td>\n",
       "      <td>105</td>\n",
       "      <td>0.036662</td>\n",
       "    </tr>\n",
       "    <tr>\n",
       "      <th>62196</th>\n",
       "      <td>Trump tussle gives unpopular Mexican leader mu...</td>\n",
       "      <td>MEXICO CITY (Reuters) - Donald Trump’s combati...</td>\n",
       "      <td>0</td>\n",
       "      <td>67</td>\n",
       "      <td>3374</td>\n",
       "      <td>2</td>\n",
       "      <td>0.029851</td>\n",
       "      <td>125</td>\n",
       "      <td>0.037048</td>\n",
       "    </tr>\n",
       "  </tbody>\n",
       "</table>\n",
       "<p>57372 rows × 9 columns</p>\n",
       "</div>"
      ],
      "text/plain": [
       "                                                   title  \\\n",
       "0      LAW ENFORCEMENT ON HIGH ALERT Following Threat...   \n",
       "2      Bobby Jindal, raised Hindu, uses story of Chri...   \n",
       "3      SATAN 2: Russia unvelis an image of its terrif...   \n",
       "4      About Time! Christian Group Sues Amazon and SP...   \n",
       "6      Sports Bar Owner Bans NFL Games…Will Show Only...   \n",
       "...                                                  ...   \n",
       "62192  WIKILEAKS EMAIL SHOWS CLINTON FOUNDATION FUNDS...   \n",
       "62193  Russians steal research on Trump in hack of U....   \n",
       "62194   WATCH: Giuliani Demands That Democrats Apolog...   \n",
       "62195  Migrants Refuse To Leave Train At Refugee Camp...   \n",
       "62196  Trump tussle gives unpopular Mexican leader mu...   \n",
       "\n",
       "                                                    text  label  headline_len  \\\n",
       "0      No comment is expected from Barack Obama Membe...      1           130   \n",
       "2      A dozen politically active pastors came here f...      0           105   \n",
       "3      The RS-28 Sarmat missile, dubbed Satan 2, will...      1            95   \n",
       "4      All we can say on this one is it s about time ...      1            78   \n",
       "6      The owner of the Ringling Bar, located south o...      1           116   \n",
       "...                                                  ...    ...           ...   \n",
       "62192  An email released by WikiLeaks on Sunday appea...      1           104   \n",
       "62193  WASHINGTON (Reuters) - Hackers believed to be ...      0            65   \n",
       "62194  You know, because in fantasyland Republicans n...      1            79   \n",
       "62195  Migrants Refuse To Leave Train At Refugee Camp...      0            57   \n",
       "62196  MEXICO CITY (Reuters) - Donald Trump’s combati...      0            67   \n",
       "\n",
       "       news_len  caps_in_headline  norm_caps_in_headline  caps_in_news  \\\n",
       "0          5049                46               0.353846           161   \n",
       "2          8010                 4               0.038095           246   \n",
       "3          1916                16               0.168421           123   \n",
       "4          1530                13               0.166667            97   \n",
       "6          1439                17               0.146552            67   \n",
       "...         ...               ...                    ...           ...   \n",
       "62192      1237                50               0.480769            51   \n",
       "62193      4788                 6               0.092308           182   \n",
       "62194      3634                14               0.177215           120   \n",
       "62195      2864                10               0.175439           105   \n",
       "62196      3374                 2               0.029851           125   \n",
       "\n",
       "       norm_caps_in_news  \n",
       "0               0.031888  \n",
       "2               0.030712  \n",
       "3               0.064196  \n",
       "4               0.063399  \n",
       "6               0.046560  \n",
       "...                  ...  \n",
       "62192           0.041229  \n",
       "62193           0.038012  \n",
       "62194           0.033021  \n",
       "62195           0.036662  \n",
       "62196           0.037048  \n",
       "\n",
       "[57372 rows x 9 columns]"
      ]
     },
     "execution_count": 78,
     "metadata": {},
     "output_type": "execute_result"
    }
   ],
   "source": [
    "df_on"
   ]
  },
  {
   "cell_type": "code",
   "execution_count": 79,
   "id": "23235107-4639-4c93-95b5-68b6445d8fcc",
   "metadata": {
    "tags": []
   },
   "outputs": [
    {
     "data": {
      "text/plain": [
       "0    34031\n",
       "1    23341\n",
       "Name: label, dtype: int64"
      ]
     },
     "execution_count": 79,
     "metadata": {},
     "output_type": "execute_result"
    }
   ],
   "source": [
    "df_on.label.value_counts()"
   ]
  },
  {
   "cell_type": "markdown",
   "id": "9afcf4f8-4426-4ac1-b474-5acc830429af",
   "metadata": {},
   "source": [
    "The use of 'on' is fairly balanced although somewhat indicative of a 'true' story."
   ]
  },
  {
   "cell_type": "markdown",
   "id": "f9e172c8-1b77-4906-92cd-04fbb02ac02e",
   "metadata": {},
   "source": [
    "You in news article"
   ]
  },
  {
   "cell_type": "code",
   "execution_count": 80,
   "id": "8ad74e2e-5ce7-4685-ad83-02e13acaca39",
   "metadata": {
    "tags": []
   },
   "outputs": [],
   "source": [
    "df_you = df_clean[df_clean[news].apply(lambda news_text: check_string_for(' you ', news_text))]"
   ]
  },
  {
   "cell_type": "code",
   "execution_count": 81,
   "id": "8271f66e-88e4-4d6b-a93e-88faa6ea43dc",
   "metadata": {
    "tags": []
   },
   "outputs": [
    {
     "data": {
      "text/html": [
       "<div>\n",
       "<style scoped>\n",
       "    .dataframe tbody tr th:only-of-type {\n",
       "        vertical-align: middle;\n",
       "    }\n",
       "\n",
       "    .dataframe tbody tr th {\n",
       "        vertical-align: top;\n",
       "    }\n",
       "\n",
       "    .dataframe thead th {\n",
       "        text-align: right;\n",
       "    }\n",
       "</style>\n",
       "<table border=\"1\" class=\"dataframe\">\n",
       "  <thead>\n",
       "    <tr style=\"text-align: right;\">\n",
       "      <th></th>\n",
       "      <th>title</th>\n",
       "      <th>text</th>\n",
       "      <th>label</th>\n",
       "      <th>headline_len</th>\n",
       "      <th>news_len</th>\n",
       "      <th>caps_in_headline</th>\n",
       "      <th>norm_caps_in_headline</th>\n",
       "      <th>caps_in_news</th>\n",
       "      <th>norm_caps_in_news</th>\n",
       "    </tr>\n",
       "  </thead>\n",
       "  <tbody>\n",
       "    <tr>\n",
       "      <th>0</th>\n",
       "      <td>LAW ENFORCEMENT ON HIGH ALERT Following Threat...</td>\n",
       "      <td>No comment is expected from Barack Obama Membe...</td>\n",
       "      <td>1</td>\n",
       "      <td>130</td>\n",
       "      <td>5049</td>\n",
       "      <td>46</td>\n",
       "      <td>0.353846</td>\n",
       "      <td>161</td>\n",
       "      <td>0.031888</td>\n",
       "    </tr>\n",
       "    <tr>\n",
       "      <th>2</th>\n",
       "      <td>Bobby Jindal, raised Hindu, uses story of Chri...</td>\n",
       "      <td>A dozen politically active pastors came here f...</td>\n",
       "      <td>0</td>\n",
       "      <td>105</td>\n",
       "      <td>8010</td>\n",
       "      <td>4</td>\n",
       "      <td>0.038095</td>\n",
       "      <td>246</td>\n",
       "      <td>0.030712</td>\n",
       "    </tr>\n",
       "    <tr>\n",
       "      <th>6</th>\n",
       "      <td>Sports Bar Owner Bans NFL Games…Will Show Only...</td>\n",
       "      <td>The owner of the Ringling Bar, located south o...</td>\n",
       "      <td>1</td>\n",
       "      <td>116</td>\n",
       "      <td>1439</td>\n",
       "      <td>17</td>\n",
       "      <td>0.146552</td>\n",
       "      <td>67</td>\n",
       "      <td>0.046560</td>\n",
       "    </tr>\n",
       "    <tr>\n",
       "      <th>8</th>\n",
       "      <td>GOP Senator Just Smacked Down The Most Puncha...</td>\n",
       "      <td>The most punchable Alt-Right Nazi on the inter...</td>\n",
       "      <td>1</td>\n",
       "      <td>80</td>\n",
       "      <td>4679</td>\n",
       "      <td>16</td>\n",
       "      <td>0.200000</td>\n",
       "      <td>262</td>\n",
       "      <td>0.055995</td>\n",
       "    </tr>\n",
       "    <tr>\n",
       "      <th>11</th>\n",
       "      <td>WATCH: HILARIOUS AD Calls Into Question Health...</td>\n",
       "      <td>After watching this telling video, you ll wond...</td>\n",
       "      <td>1</td>\n",
       "      <td>83</td>\n",
       "      <td>209</td>\n",
       "      <td>26</td>\n",
       "      <td>0.313253</td>\n",
       "      <td>5</td>\n",
       "      <td>0.023923</td>\n",
       "    </tr>\n",
       "    <tr>\n",
       "      <th>...</th>\n",
       "      <td>...</td>\n",
       "      <td>...</td>\n",
       "      <td>...</td>\n",
       "      <td>...</td>\n",
       "      <td>...</td>\n",
       "      <td>...</td>\n",
       "      <td>...</td>\n",
       "      <td>...</td>\n",
       "      <td>...</td>\n",
       "    </tr>\n",
       "    <tr>\n",
       "      <th>62182</th>\n",
       "      <td>Police Are Now Warning People To Take A Photo ...</td>\n",
       "      <td>November 2015 Ads Police Are Now Warning Peopl...</td>\n",
       "      <td>1</td>\n",
       "      <td>101</td>\n",
       "      <td>3010</td>\n",
       "      <td>20</td>\n",
       "      <td>0.198020</td>\n",
       "      <td>65</td>\n",
       "      <td>0.021595</td>\n",
       "    </tr>\n",
       "    <tr>\n",
       "      <th>62189</th>\n",
       "      <td>Dallas, Roger Federer, Hillary Clinton: Your F...</td>\n",
       "      <td>(Want to get this briefing by email? Here’s th...</td>\n",
       "      <td>0</td>\n",
       "      <td>89</td>\n",
       "      <td>4201</td>\n",
       "      <td>13</td>\n",
       "      <td>0.146067</td>\n",
       "      <td>150</td>\n",
       "      <td>0.035706</td>\n",
       "    </tr>\n",
       "    <tr>\n",
       "      <th>62191</th>\n",
       "      <td>Determined to kill: Can tough gun laws end mas...</td>\n",
       "      <td>The flag at Desert Hot Springs' Condor Gun Sho...</td>\n",
       "      <td>0</td>\n",
       "      <td>58</td>\n",
       "      <td>13017</td>\n",
       "      <td>2</td>\n",
       "      <td>0.034483</td>\n",
       "      <td>358</td>\n",
       "      <td>0.027502</td>\n",
       "    </tr>\n",
       "    <tr>\n",
       "      <th>62192</th>\n",
       "      <td>WIKILEAKS EMAIL SHOWS CLINTON FOUNDATION FUNDS...</td>\n",
       "      <td>An email released by WikiLeaks on Sunday appea...</td>\n",
       "      <td>1</td>\n",
       "      <td>104</td>\n",
       "      <td>1237</td>\n",
       "      <td>50</td>\n",
       "      <td>0.480769</td>\n",
       "      <td>51</td>\n",
       "      <td>0.041229</td>\n",
       "    </tr>\n",
       "    <tr>\n",
       "      <th>62195</th>\n",
       "      <td>Migrants Refuse To Leave Train At Refugee Camp...</td>\n",
       "      <td>Migrants Refuse To Leave Train At Refugee Camp...</td>\n",
       "      <td>0</td>\n",
       "      <td>57</td>\n",
       "      <td>2864</td>\n",
       "      <td>10</td>\n",
       "      <td>0.175439</td>\n",
       "      <td>105</td>\n",
       "      <td>0.036662</td>\n",
       "    </tr>\n",
       "  </tbody>\n",
       "</table>\n",
       "<p>21662 rows × 9 columns</p>\n",
       "</div>"
      ],
      "text/plain": [
       "                                                   title  \\\n",
       "0      LAW ENFORCEMENT ON HIGH ALERT Following Threat...   \n",
       "2      Bobby Jindal, raised Hindu, uses story of Chri...   \n",
       "6      Sports Bar Owner Bans NFL Games…Will Show Only...   \n",
       "8       GOP Senator Just Smacked Down The Most Puncha...   \n",
       "11     WATCH: HILARIOUS AD Calls Into Question Health...   \n",
       "...                                                  ...   \n",
       "62182  Police Are Now Warning People To Take A Photo ...   \n",
       "62189  Dallas, Roger Federer, Hillary Clinton: Your F...   \n",
       "62191  Determined to kill: Can tough gun laws end mas...   \n",
       "62192  WIKILEAKS EMAIL SHOWS CLINTON FOUNDATION FUNDS...   \n",
       "62195  Migrants Refuse To Leave Train At Refugee Camp...   \n",
       "\n",
       "                                                    text  label  headline_len  \\\n",
       "0      No comment is expected from Barack Obama Membe...      1           130   \n",
       "2      A dozen politically active pastors came here f...      0           105   \n",
       "6      The owner of the Ringling Bar, located south o...      1           116   \n",
       "8      The most punchable Alt-Right Nazi on the inter...      1            80   \n",
       "11     After watching this telling video, you ll wond...      1            83   \n",
       "...                                                  ...    ...           ...   \n",
       "62182  November 2015 Ads Police Are Now Warning Peopl...      1           101   \n",
       "62189  (Want to get this briefing by email? Here’s th...      0            89   \n",
       "62191  The flag at Desert Hot Springs' Condor Gun Sho...      0            58   \n",
       "62192  An email released by WikiLeaks on Sunday appea...      1           104   \n",
       "62195  Migrants Refuse To Leave Train At Refugee Camp...      0            57   \n",
       "\n",
       "       news_len  caps_in_headline  norm_caps_in_headline  caps_in_news  \\\n",
       "0          5049                46               0.353846           161   \n",
       "2          8010                 4               0.038095           246   \n",
       "6          1439                17               0.146552            67   \n",
       "8          4679                16               0.200000           262   \n",
       "11          209                26               0.313253             5   \n",
       "...         ...               ...                    ...           ...   \n",
       "62182      3010                20               0.198020            65   \n",
       "62189      4201                13               0.146067           150   \n",
       "62191     13017                 2               0.034483           358   \n",
       "62192      1237                50               0.480769            51   \n",
       "62195      2864                10               0.175439           105   \n",
       "\n",
       "       norm_caps_in_news  \n",
       "0               0.031888  \n",
       "2               0.030712  \n",
       "6               0.046560  \n",
       "8               0.055995  \n",
       "11              0.023923  \n",
       "...                  ...  \n",
       "62182           0.021595  \n",
       "62189           0.035706  \n",
       "62191           0.027502  \n",
       "62192           0.041229  \n",
       "62195           0.036662  \n",
       "\n",
       "[21662 rows x 9 columns]"
      ]
     },
     "execution_count": 81,
     "metadata": {},
     "output_type": "execute_result"
    }
   ],
   "source": [
    "df_you"
   ]
  },
  {
   "cell_type": "code",
   "execution_count": 82,
   "id": "5029dd6a-815f-48a9-82ad-cc2764d24fa5",
   "metadata": {
    "tags": []
   },
   "outputs": [
    {
     "data": {
      "text/plain": [
       "1    12981\n",
       "0     8681\n",
       "Name: label, dtype: int64"
      ]
     },
     "execution_count": 82,
     "metadata": {},
     "output_type": "execute_result"
    }
   ],
   "source": [
    "df_you.label.value_counts()"
   ]
  },
  {
   "cell_type": "markdown",
   "id": "22fa2190-120a-43ff-860a-20a1070d5f06",
   "metadata": {},
   "source": [
    "You is present in both true and fake news stories with a bit more mention in fake news stories which might be due to a more informal writing approach."
   ]
  },
  {
   "cell_type": "markdown",
   "id": "7b850713-5c40-405e-a1fe-9ffa14a600a4",
   "metadata": {},
   "source": [
    "Save the Cleaned Dataset"
   ]
  },
  {
   "cell_type": "code",
   "execution_count": 83,
   "id": "4a5997fb-aea2-4380-a58d-ac3e3235a37c",
   "metadata": {
    "tags": []
   },
   "outputs": [],
   "source": [
    "df_clean.to_csv(os.path.join(dataset_dir,'train_news_cleaned.csv'),index=False)"
   ]
  },
  {
   "cell_type": "code",
   "execution_count": null,
   "id": "121f6bcb-a3c2-4d8c-8aa6-89693bca1dcf",
   "metadata": {},
   "outputs": [],
   "source": []
  }
 ],
 "metadata": {
  "kernelspec": {
   "display_name": "Python 3 (ipykernel)",
   "language": "python",
   "name": "python3"
  },
  "language_info": {
   "codemirror_mode": {
    "name": "ipython",
    "version": 3
   },
   "file_extension": ".py",
   "mimetype": "text/x-python",
   "name": "python",
   "nbconvert_exporter": "python",
   "pygments_lexer": "ipython3",
   "version": "3.11.3"
  }
 },
 "nbformat": 4,
 "nbformat_minor": 5
}
