{
 "cells": [
  {
   "cell_type": "code",
   "execution_count": 1,
   "id": "779a1662-6b4e-4550-8cc0-ee403ec0b3b5",
   "metadata": {
    "tags": []
   },
   "outputs": [],
   "source": [
    "import os\n",
    "import pandas as pd\n",
    "import numpy as np\n",
    "import matplotlib.pyplot as plt\n",
    "%matplotlib inline\n",
    "from re import search"
   ]
  },
  {
   "cell_type": "markdown",
   "id": "1fedcedc-cb45-4a09-ad34-9eb9a4f5b9ea",
   "metadata": {},
   "source": [
    "Preliminary Analysis"
   ]
  },
  {
   "cell_type": "markdown",
   "id": "27c0a26c-c52f-40c7-bfda-a35ddb41b7c9",
   "metadata": {},
   "source": [
    "Importing the dataset"
   ]
  },
  {
   "cell_type": "code",
   "execution_count": 2,
   "id": "59273b87-a710-49a8-a58b-0e1cc121c84a",
   "metadata": {
    "tags": []
   },
   "outputs": [],
   "source": [
    "cwd = os.getcwd()\n",
    "dataset_dir = os.path.join(cwd,'Dataset')\n",
    "df = pd.read_csv(os.path.join(dataset_dir,'fake_or_real_news.csv'))"
   ]
  },
  {
   "cell_type": "raw",
   "id": "1b4066e7-811c-4586-9110-dcebe52e2121",
   "metadata": {},
   "source": [
    "Problem Description\n",
    "The authenticity of Information has become a longstanding issue affecting businesses and society, both for printed and digital media. On social networks, the reach and effects of information spread occur at such a fast pace and so amplified that distorted, inaccurate, or false information acquires a tremendous potential to cause real-world impacts, within minutes, for millions of users. Recently, several public concerns about this problem and some approaches to mitigate the problem were expressed.\n",
    "\n",
    "Data- Description:\n",
    "There are 4 columns in the dataset provided to you. The description of each of the column is given below: \n",
    "“Unnamed:0”: It is a serial number \n",
    "“headline”: It is the title of the news. \n",
    "“news”: It contains the full text of the news article \n",
    "“label”: It tells whether the news is fake (1) or not fake (0)."
   ]
  },
  {
   "cell_type": "code",
   "execution_count": 3,
   "id": "8a53f245-a2e0-454d-8a10-f761d8d55054",
   "metadata": {
    "tags": []
   },
   "outputs": [
    {
     "name": "stdout",
     "output_type": "stream",
     "text": [
      "Dataset shape: (6335, 4)\n"
     ]
    }
   ],
   "source": [
    "print(\"Dataset shape:\", df.shape)"
   ]
  },
  {
   "cell_type": "code",
   "execution_count": 4,
   "id": "c16471eb-4c61-4c92-aede-652ef5436006",
   "metadata": {
    "tags": []
   },
   "outputs": [
    {
     "data": {
      "text/html": [
       "<div>\n",
       "<style scoped>\n",
       "    .dataframe tbody tr th:only-of-type {\n",
       "        vertical-align: middle;\n",
       "    }\n",
       "\n",
       "    .dataframe tbody tr th {\n",
       "        vertical-align: top;\n",
       "    }\n",
       "\n",
       "    .dataframe thead th {\n",
       "        text-align: right;\n",
       "    }\n",
       "</style>\n",
       "<table border=\"1\" class=\"dataframe\">\n",
       "  <thead>\n",
       "    <tr style=\"text-align: right;\">\n",
       "      <th></th>\n",
       "      <th>id</th>\n",
       "      <th>title</th>\n",
       "      <th>text</th>\n",
       "      <th>label</th>\n",
       "    </tr>\n",
       "  </thead>\n",
       "  <tbody>\n",
       "    <tr>\n",
       "      <th>0</th>\n",
       "      <td>8476</td>\n",
       "      <td>You Can Smell Hillary’s Fear</td>\n",
       "      <td>Daniel Greenfield, a Shillman Journalism Fello...</td>\n",
       "      <td>FAKE</td>\n",
       "    </tr>\n",
       "    <tr>\n",
       "      <th>1</th>\n",
       "      <td>10294</td>\n",
       "      <td>Watch The Exact Moment Paul Ryan Committed Pol...</td>\n",
       "      <td>Google Pinterest Digg Linkedin Reddit Stumbleu...</td>\n",
       "      <td>FAKE</td>\n",
       "    </tr>\n",
       "    <tr>\n",
       "      <th>2</th>\n",
       "      <td>3608</td>\n",
       "      <td>Kerry to go to Paris in gesture of sympathy</td>\n",
       "      <td>U.S. Secretary of State John F. Kerry said Mon...</td>\n",
       "      <td>REAL</td>\n",
       "    </tr>\n",
       "    <tr>\n",
       "      <th>3</th>\n",
       "      <td>10142</td>\n",
       "      <td>Bernie supporters on Twitter erupt in anger ag...</td>\n",
       "      <td>— Kaydee King (@KaydeeKing) November 9, 2016 T...</td>\n",
       "      <td>FAKE</td>\n",
       "    </tr>\n",
       "    <tr>\n",
       "      <th>4</th>\n",
       "      <td>875</td>\n",
       "      <td>The Battle of New York: Why This Primary Matters</td>\n",
       "      <td>It's primary day in New York and front-runners...</td>\n",
       "      <td>REAL</td>\n",
       "    </tr>\n",
       "  </tbody>\n",
       "</table>\n",
       "</div>"
      ],
      "text/plain": [
       "      id                                              title  \\\n",
       "0   8476                       You Can Smell Hillary’s Fear   \n",
       "1  10294  Watch The Exact Moment Paul Ryan Committed Pol...   \n",
       "2   3608        Kerry to go to Paris in gesture of sympathy   \n",
       "3  10142  Bernie supporters on Twitter erupt in anger ag...   \n",
       "4    875   The Battle of New York: Why This Primary Matters   \n",
       "\n",
       "                                                text label  \n",
       "0  Daniel Greenfield, a Shillman Journalism Fello...  FAKE  \n",
       "1  Google Pinterest Digg Linkedin Reddit Stumbleu...  FAKE  \n",
       "2  U.S. Secretary of State John F. Kerry said Mon...  REAL  \n",
       "3  — Kaydee King (@KaydeeKing) November 9, 2016 T...  FAKE  \n",
       "4  It's primary day in New York and front-runners...  REAL  "
      ]
     },
     "execution_count": 4,
     "metadata": {},
     "output_type": "execute_result"
    }
   ],
   "source": [
    "df.head()"
   ]
  },
  {
   "cell_type": "code",
   "execution_count": 5,
   "id": "e1005113-b2ae-407a-8a71-2f1181f3d46c",
   "metadata": {
    "tags": []
   },
   "outputs": [
    {
     "data": {
      "text/plain": [
       "REAL    3171\n",
       "FAKE    3164\n",
       "Name: label, dtype: int64"
      ]
     },
     "execution_count": 5,
     "metadata": {},
     "output_type": "execute_result"
    }
   ],
   "source": [
    "df.label.value_counts()"
   ]
  },
  {
   "cell_type": "code",
   "execution_count": 6,
   "id": "69d64fd4-4a09-4c6d-974c-0b108e55676f",
   "metadata": {
    "tags": []
   },
   "outputs": [],
   "source": [
    "df['label'] = df['label'].map({'REAL': 0, 'FAKE': 1})"
   ]
  },
  {
   "cell_type": "code",
   "execution_count": 7,
   "id": "3452e6a2-301c-4c7f-82c5-772acb867394",
   "metadata": {
    "tags": []
   },
   "outputs": [
    {
     "data": {
      "text/plain": [
       "0    3171\n",
       "1    3164\n",
       "Name: label, dtype: int64"
      ]
     },
     "execution_count": 7,
     "metadata": {},
     "output_type": "execute_result"
    }
   ],
   "source": [
    "df.label.value_counts()"
   ]
  },
  {
   "cell_type": "code",
   "execution_count": 8,
   "id": "ef7c5dc0-380c-415d-96c9-6e7724a28c04",
   "metadata": {
    "tags": []
   },
   "outputs": [
    {
     "data": {
      "text/html": [
       "<div>\n",
       "<style scoped>\n",
       "    .dataframe tbody tr th:only-of-type {\n",
       "        vertical-align: middle;\n",
       "    }\n",
       "\n",
       "    .dataframe tbody tr th {\n",
       "        vertical-align: top;\n",
       "    }\n",
       "\n",
       "    .dataframe thead th {\n",
       "        text-align: right;\n",
       "    }\n",
       "</style>\n",
       "<table border=\"1\" class=\"dataframe\">\n",
       "  <thead>\n",
       "    <tr style=\"text-align: right;\">\n",
       "      <th></th>\n",
       "      <th>id</th>\n",
       "      <th>title</th>\n",
       "      <th>text</th>\n",
       "      <th>label</th>\n",
       "    </tr>\n",
       "  </thead>\n",
       "  <tbody>\n",
       "    <tr>\n",
       "      <th>0</th>\n",
       "      <td>8476</td>\n",
       "      <td>You Can Smell Hillary’s Fear</td>\n",
       "      <td>Daniel Greenfield, a Shillman Journalism Fello...</td>\n",
       "      <td>1</td>\n",
       "    </tr>\n",
       "    <tr>\n",
       "      <th>1</th>\n",
       "      <td>10294</td>\n",
       "      <td>Watch The Exact Moment Paul Ryan Committed Pol...</td>\n",
       "      <td>Google Pinterest Digg Linkedin Reddit Stumbleu...</td>\n",
       "      <td>1</td>\n",
       "    </tr>\n",
       "    <tr>\n",
       "      <th>2</th>\n",
       "      <td>3608</td>\n",
       "      <td>Kerry to go to Paris in gesture of sympathy</td>\n",
       "      <td>U.S. Secretary of State John F. Kerry said Mon...</td>\n",
       "      <td>0</td>\n",
       "    </tr>\n",
       "    <tr>\n",
       "      <th>3</th>\n",
       "      <td>10142</td>\n",
       "      <td>Bernie supporters on Twitter erupt in anger ag...</td>\n",
       "      <td>— Kaydee King (@KaydeeKing) November 9, 2016 T...</td>\n",
       "      <td>1</td>\n",
       "    </tr>\n",
       "    <tr>\n",
       "      <th>4</th>\n",
       "      <td>875</td>\n",
       "      <td>The Battle of New York: Why This Primary Matters</td>\n",
       "      <td>It's primary day in New York and front-runners...</td>\n",
       "      <td>0</td>\n",
       "    </tr>\n",
       "  </tbody>\n",
       "</table>\n",
       "</div>"
      ],
      "text/plain": [
       "      id                                              title  \\\n",
       "0   8476                       You Can Smell Hillary’s Fear   \n",
       "1  10294  Watch The Exact Moment Paul Ryan Committed Pol...   \n",
       "2   3608        Kerry to go to Paris in gesture of sympathy   \n",
       "3  10142  Bernie supporters on Twitter erupt in anger ag...   \n",
       "4    875   The Battle of New York: Why This Primary Matters   \n",
       "\n",
       "                                                text  label  \n",
       "0  Daniel Greenfield, a Shillman Journalism Fello...      1  \n",
       "1  Google Pinterest Digg Linkedin Reddit Stumbleu...      1  \n",
       "2  U.S. Secretary of State John F. Kerry said Mon...      0  \n",
       "3  — Kaydee King (@KaydeeKing) November 9, 2016 T...      1  \n",
       "4  It's primary day in New York and front-runners...      0  "
      ]
     },
     "execution_count": 8,
     "metadata": {},
     "output_type": "execute_result"
    }
   ],
   "source": [
    "df.head()"
   ]
  },
  {
   "cell_type": "code",
   "execution_count": 9,
   "id": "f0e5cb3d-5b21-4be8-b21f-2566a6d6f3d2",
   "metadata": {
    "tags": []
   },
   "outputs": [
    {
     "data": {
      "text/html": [
       "<div>\n",
       "<style scoped>\n",
       "    .dataframe tbody tr th:only-of-type {\n",
       "        vertical-align: middle;\n",
       "    }\n",
       "\n",
       "    .dataframe tbody tr th {\n",
       "        vertical-align: top;\n",
       "    }\n",
       "\n",
       "    .dataframe thead th {\n",
       "        text-align: right;\n",
       "    }\n",
       "</style>\n",
       "<table border=\"1\" class=\"dataframe\">\n",
       "  <thead>\n",
       "    <tr style=\"text-align: right;\">\n",
       "      <th></th>\n",
       "      <th>id</th>\n",
       "      <th>title</th>\n",
       "      <th>text</th>\n",
       "      <th>label</th>\n",
       "    </tr>\n",
       "  </thead>\n",
       "  <tbody>\n",
       "    <tr>\n",
       "      <th>0</th>\n",
       "      <td>8476</td>\n",
       "      <td>You Can Smell Hillary’s Fear</td>\n",
       "      <td>Daniel Greenfield, a Shillman Journalism Fello...</td>\n",
       "      <td>1</td>\n",
       "    </tr>\n",
       "    <tr>\n",
       "      <th>1</th>\n",
       "      <td>10294</td>\n",
       "      <td>Watch The Exact Moment Paul Ryan Committed Pol...</td>\n",
       "      <td>Google Pinterest Digg Linkedin Reddit Stumbleu...</td>\n",
       "      <td>1</td>\n",
       "    </tr>\n",
       "    <tr>\n",
       "      <th>2</th>\n",
       "      <td>3608</td>\n",
       "      <td>Kerry to go to Paris in gesture of sympathy</td>\n",
       "      <td>U.S. Secretary of State John F. Kerry said Mon...</td>\n",
       "      <td>0</td>\n",
       "    </tr>\n",
       "    <tr>\n",
       "      <th>3</th>\n",
       "      <td>10142</td>\n",
       "      <td>Bernie supporters on Twitter erupt in anger ag...</td>\n",
       "      <td>— Kaydee King (@KaydeeKing) November 9, 2016 T...</td>\n",
       "      <td>1</td>\n",
       "    </tr>\n",
       "    <tr>\n",
       "      <th>4</th>\n",
       "      <td>875</td>\n",
       "      <td>The Battle of New York: Why This Primary Matters</td>\n",
       "      <td>It's primary day in New York and front-runners...</td>\n",
       "      <td>0</td>\n",
       "    </tr>\n",
       "  </tbody>\n",
       "</table>\n",
       "</div>"
      ],
      "text/plain": [
       "      id                                              title  \\\n",
       "0   8476                       You Can Smell Hillary’s Fear   \n",
       "1  10294  Watch The Exact Moment Paul Ryan Committed Pol...   \n",
       "2   3608        Kerry to go to Paris in gesture of sympathy   \n",
       "3  10142  Bernie supporters on Twitter erupt in anger ag...   \n",
       "4    875   The Battle of New York: Why This Primary Matters   \n",
       "\n",
       "                                                text  label  \n",
       "0  Daniel Greenfield, a Shillman Journalism Fello...      1  \n",
       "1  Google Pinterest Digg Linkedin Reddit Stumbleu...      1  \n",
       "2  U.S. Secretary of State John F. Kerry said Mon...      0  \n",
       "3  — Kaydee King (@KaydeeKing) November 9, 2016 T...      1  \n",
       "4  It's primary day in New York and front-runners...      0  "
      ]
     },
     "execution_count": 9,
     "metadata": {},
     "output_type": "execute_result"
    }
   ],
   "source": [
    "unnamed_columns = [col for col in df.columns if search(r'^Unnamed', col)]\n",
    "\n",
    "df = df.drop(unnamed_columns, axis=1)\n",
    "\n",
    "df.head()"
   ]
  },
  {
   "cell_type": "code",
   "execution_count": 10,
   "id": "5fdc2a06-40df-4788-8f34-57f6cba2e326",
   "metadata": {
    "tags": []
   },
   "outputs": [
    {
     "name": "stdout",
     "output_type": "stream",
     "text": [
      "Dataset shape: (6335, 4)\n"
     ]
    }
   ],
   "source": [
    "print(\"Dataset shape:\", df.shape)"
   ]
  },
  {
   "cell_type": "code",
   "execution_count": 11,
   "id": "4ebc4566-fa13-44b1-ae26-ac8220350c06",
   "metadata": {
    "tags": []
   },
   "outputs": [],
   "source": [
    "news = 'text'\n",
    "headline = 'title'"
   ]
  },
  {
   "cell_type": "markdown",
   "id": "8d1dc672-6757-4ea0-bcdf-c4b7d639ddb9",
   "metadata": {},
   "source": [
    "Cleaning the data"
   ]
  },
  {
   "cell_type": "markdown",
   "id": "9d7f7b84-6a64-452d-8d57-21551226ff07",
   "metadata": {},
   "source": [
    "Checking for missing data"
   ]
  },
  {
   "cell_type": "code",
   "execution_count": 12,
   "id": "29d2fe9c-be52-480a-be01-324e6e05645f",
   "metadata": {
    "tags": []
   },
   "outputs": [
    {
     "name": "stdout",
     "output_type": "stream",
     "text": [
      "<class 'pandas.core.frame.DataFrame'>\n",
      "RangeIndex: 6335 entries, 0 to 6334\n",
      "Data columns (total 4 columns):\n",
      " #   Column  Non-Null Count  Dtype \n",
      "---  ------  --------------  ----- \n",
      " 0   id      6335 non-null   int64 \n",
      " 1   title   6335 non-null   object\n",
      " 2   text    6335 non-null   object\n",
      " 3   label   6335 non-null   int64 \n",
      "dtypes: int64(2), object(2)\n",
      "memory usage: 198.1+ KB\n"
     ]
    }
   ],
   "source": [
    "df.info()"
   ]
  },
  {
   "cell_type": "code",
   "execution_count": 13,
   "id": "155a8fce-02a6-4d81-92ff-a97826c1c3c4",
   "metadata": {
    "tags": []
   },
   "outputs": [
    {
     "data": {
      "text/plain": [
       "0    3171\n",
       "1    3164\n",
       "Name: label, dtype: int64"
      ]
     },
     "execution_count": 13,
     "metadata": {},
     "output_type": "execute_result"
    }
   ],
   "source": [
    "df.label.value_counts()"
   ]
  },
  {
   "cell_type": "markdown",
   "id": "f092ca0c-3636-4648-bfbe-570933030679",
   "metadata": {},
   "source": [
    "This confirms that 0 label is used for true news and 1 label is used for fake news"
   ]
  },
  {
   "cell_type": "code",
   "execution_count": 14,
   "id": "d4d5ed4c-bc29-4715-8e62-8fb98d93775b",
   "metadata": {
    "tags": []
   },
   "outputs": [
    {
     "name": "stdout",
     "output_type": "stream",
     "text": [
      "Dataset null values:\n",
      " id       0\n",
      "title    0\n",
      "text     0\n",
      "label    0\n",
      "dtype: int64\n"
     ]
    }
   ],
   "source": [
    "print('Dataset null values:\\n',df.isna().sum())"
   ]
  },
  {
   "cell_type": "code",
   "execution_count": 15,
   "id": "a46fcdab-0130-4883-9600-43e2f44d8bf9",
   "metadata": {
    "tags": []
   },
   "outputs": [],
   "source": [
    "def show_tf_distribution(df, column) :\n",
    "    null = df[df[column].isna()]\n",
    "    total = len(null)\n",
    "    notfake_cnt = list(null[null['label']==0].shape)[0]\n",
    "    fake_cnt = list(null[null['label']==1].shape)[0]\n",
    "    \n",
    "    print('Null Values distribution for \\''+column+'\\' on basis for realness')\n",
    "    print('Total:\\t',total)\n",
    "    print('Real %:\\t',format(((notfake_cnt/total)*100),'.2f'))\n",
    "    print('Fake %:\\t',format(((fake_cnt/total)*100),'.2f'))"
   ]
  },
  {
   "cell_type": "code",
   "execution_count": null,
   "id": "4c25e9d8-27e2-4bb2-8bdf-7c033a3069fa",
   "metadata": {
    "tags": []
   },
   "outputs": [],
   "source": [
    "show_tf_distribution(df, news)"
   ]
  },
  {
   "cell_type": "code",
   "execution_count": null,
   "id": "6f44aa54-bda5-452a-8208-625b16fd258e",
   "metadata": {
    "tags": []
   },
   "outputs": [],
   "source": [
    "show_tf_distribution(df, headline)"
   ]
  },
  {
   "cell_type": "markdown",
   "id": "9f07160f-a64f-491a-84ec-22c5981caba6",
   "metadata": {},
   "source": [
    "As every instance of missing value almost always indicates a fake news article, missing value/information can be an identifying factor. Hence not dropping rows with null values."
   ]
  },
  {
   "cell_type": "markdown",
   "id": "c4b8cadf-5911-4d1b-9f8b-01df372b7aed",
   "metadata": {},
   "source": [
    "Checking for placeholder values and duplicates"
   ]
  },
  {
   "cell_type": "code",
   "execution_count": 17,
   "id": "f625b078-e9d3-4f5c-977f-7fda79315213",
   "metadata": {
    "tags": []
   },
   "outputs": [
    {
     "data": {
      "text/plain": [
       "OnPolitics | 's politics blog                                                                         5\n",
       "Michael Moore Owes Me $4.99                                                                           3\n",
       "Hillary’s “Big Tent” is Obama’s “Grand Bargain” on Steroids                                           3\n",
       "Get Ready For Civil Unrest: Survey Finds That Most Americans Are Concerned About Election Violence    3\n",
       "The Dark Agenda Behind Globalism And Open Borders                                                     2\n",
       "                                                                                                     ..\n",
       "Iraqis in Mosul Find US Missiles at Captured Islamic State Base                                       2\n",
       "Media Roll Out Welcome Mat for ‘Humanitarian’ War in Syria                                            2\n",
       "The Israeli Trumpess                                                                                  2\n",
       "The Story of How the DOJ Tried to Thwart an FBI Investigation Into the Clinton Foundation             2\n",
       "Clinton clinches Democratic nomination – Sanders vows to fight on                                     2\n",
       "Name: title, Length: 73, dtype: int64"
      ]
     },
     "execution_count": 17,
     "metadata": {},
     "output_type": "execute_result"
    }
   ],
   "source": [
    "headline_value_counts = df[headline].value_counts()\n",
    "headline_value_counts[headline_value_counts > 1]"
   ]
  },
  {
   "cell_type": "code",
   "execution_count": 18,
   "id": "8431dd6b-fe42-41be-9f35-d29509013d88",
   "metadata": {
    "tags": []
   },
   "outputs": [
    {
     "data": {
      "text/html": [
       "<div>\n",
       "<style scoped>\n",
       "    .dataframe tbody tr th:only-of-type {\n",
       "        vertical-align: middle;\n",
       "    }\n",
       "\n",
       "    .dataframe tbody tr th {\n",
       "        vertical-align: top;\n",
       "    }\n",
       "\n",
       "    .dataframe thead th {\n",
       "        text-align: right;\n",
       "    }\n",
       "</style>\n",
       "<table border=\"1\" class=\"dataframe\">\n",
       "  <thead>\n",
       "    <tr style=\"text-align: right;\">\n",
       "      <th></th>\n",
       "      <th>id</th>\n",
       "      <th>title</th>\n",
       "      <th>text</th>\n",
       "      <th>label</th>\n",
       "    </tr>\n",
       "  </thead>\n",
       "  <tbody>\n",
       "    <tr>\n",
       "      <th>25</th>\n",
       "      <td>636</td>\n",
       "      <td>Anti-Trump forces seek last-ditch delegate revolt</td>\n",
       "      <td>Washington (CNN) The faction of the GOP that i...</td>\n",
       "      <td>0</td>\n",
       "    </tr>\n",
       "    <tr>\n",
       "      <th>66</th>\n",
       "      <td>4410</td>\n",
       "      <td>Loretta Lynch becomes first African-American w...</td>\n",
       "      <td>Washington (CNN) Loretta Lynch was sworn in as...</td>\n",
       "      <td>0</td>\n",
       "    </tr>\n",
       "    <tr>\n",
       "      <th>174</th>\n",
       "      <td>7661</td>\n",
       "      <td>Syrian War Report – November 2, 2016: ISIS and...</td>\n",
       "      <td>Trump Whistles His Dogs ‹ › South Front Analys...</td>\n",
       "      <td>1</td>\n",
       "    </tr>\n",
       "    <tr>\n",
       "      <th>271</th>\n",
       "      <td>9625</td>\n",
       "      <td>The Fix Is In: NBC Affiliate Accidentally Post...</td>\n",
       "      <td>NBC affiliate WRCB TV in Chattanooga, Tennesse...</td>\n",
       "      <td>1</td>\n",
       "    </tr>\n",
       "    <tr>\n",
       "      <th>345</th>\n",
       "      <td>739</td>\n",
       "      <td>Do Democrats Want What Bernie Wants, Or Just W...</td>\n",
       "      <td>Do Democrats Want What Bernie Wants, Or Just W...</td>\n",
       "      <td>0</td>\n",
       "    </tr>\n",
       "    <tr>\n",
       "      <th>...</th>\n",
       "      <td>...</td>\n",
       "      <td>...</td>\n",
       "      <td>...</td>\n",
       "      <td>...</td>\n",
       "    </tr>\n",
       "    <tr>\n",
       "      <th>6231</th>\n",
       "      <td>9542</td>\n",
       "      <td>Schools All Over America Are Closing On Electi...</td>\n",
       "      <td>in: Politics , Sleuth Journal , Special Intere...</td>\n",
       "      <td>1</td>\n",
       "    </tr>\n",
       "    <tr>\n",
       "      <th>6233</th>\n",
       "      <td>7171</td>\n",
       "      <td>North Korea Threatens ‘Sacred’ Nuclear War Aga...</td>\n",
       "      <td>Email \\nNorth Korea’s Foreign Ministry slammed...</td>\n",
       "      <td>1</td>\n",
       "    </tr>\n",
       "    <tr>\n",
       "      <th>6303</th>\n",
       "      <td>7437</td>\n",
       "      <td>The Deceptive Nature of Hillary Clinton is Rig...</td>\n",
       "      <td>Posted by David Risselada \\nMuch to the surpri...</td>\n",
       "      <td>1</td>\n",
       "    </tr>\n",
       "    <tr>\n",
       "      <th>6307</th>\n",
       "      <td>9013</td>\n",
       "      <td>US abstains from UN vote calling for end to Cu...</td>\n",
       "      <td>US abstains from UN vote calling for end to Cu...</td>\n",
       "      <td>1</td>\n",
       "    </tr>\n",
       "    <tr>\n",
       "      <th>6329</th>\n",
       "      <td>8737</td>\n",
       "      <td>Assange claims ‘crazed’ Clinton campaign tried...</td>\n",
       "      <td>Julian Assange has claimed the Hillary Clinton...</td>\n",
       "      <td>1</td>\n",
       "    </tr>\n",
       "  </tbody>\n",
       "</table>\n",
       "<p>152 rows × 4 columns</p>\n",
       "</div>"
      ],
      "text/plain": [
       "        id                                              title  \\\n",
       "25     636  Anti-Trump forces seek last-ditch delegate revolt   \n",
       "66    4410  Loretta Lynch becomes first African-American w...   \n",
       "174   7661  Syrian War Report – November 2, 2016: ISIS and...   \n",
       "271   9625  The Fix Is In: NBC Affiliate Accidentally Post...   \n",
       "345    739  Do Democrats Want What Bernie Wants, Or Just W...   \n",
       "...    ...                                                ...   \n",
       "6231  9542  Schools All Over America Are Closing On Electi...   \n",
       "6233  7171  North Korea Threatens ‘Sacred’ Nuclear War Aga...   \n",
       "6303  7437  The Deceptive Nature of Hillary Clinton is Rig...   \n",
       "6307  9013  US abstains from UN vote calling for end to Cu...   \n",
       "6329  8737  Assange claims ‘crazed’ Clinton campaign tried...   \n",
       "\n",
       "                                                   text  label  \n",
       "25    Washington (CNN) The faction of the GOP that i...      0  \n",
       "66    Washington (CNN) Loretta Lynch was sworn in as...      0  \n",
       "174   Trump Whistles His Dogs ‹ › South Front Analys...      1  \n",
       "271   NBC affiliate WRCB TV in Chattanooga, Tennesse...      1  \n",
       "345   Do Democrats Want What Bernie Wants, Or Just W...      0  \n",
       "...                                                 ...    ...  \n",
       "6231  in: Politics , Sleuth Journal , Special Intere...      1  \n",
       "6233  Email \\nNorth Korea’s Foreign Ministry slammed...      1  \n",
       "6303  Posted by David Risselada \\nMuch to the surpri...      1  \n",
       "6307  US abstains from UN vote calling for end to Cu...      1  \n",
       "6329  Julian Assange has claimed the Hillary Clinton...      1  \n",
       "\n",
       "[152 rows x 4 columns]"
      ]
     },
     "execution_count": 18,
     "metadata": {},
     "output_type": "execute_result"
    }
   ],
   "source": [
    "duplicate_headline_list = set(headline_value_counts[headline_value_counts > 1].keys())\n",
    "df_dup_headline = df[df[headline].isin(duplicate_headline_list)]\n",
    "df_dup_headline"
   ]
  },
  {
   "cell_type": "code",
   "execution_count": 19,
   "id": "22b32f75-e1a4-4e52-976f-67caff90140d",
   "metadata": {
    "tags": []
   },
   "outputs": [
    {
     "data": {
      "text/html": [
       "<div>\n",
       "<style scoped>\n",
       "    .dataframe tbody tr th:only-of-type {\n",
       "        vertical-align: middle;\n",
       "    }\n",
       "\n",
       "    .dataframe tbody tr th {\n",
       "        vertical-align: top;\n",
       "    }\n",
       "\n",
       "    .dataframe thead th {\n",
       "        text-align: right;\n",
       "    }\n",
       "</style>\n",
       "<table border=\"1\" class=\"dataframe\">\n",
       "  <thead>\n",
       "    <tr style=\"text-align: right;\">\n",
       "      <th></th>\n",
       "      <th>id</th>\n",
       "      <th>title</th>\n",
       "      <th>text</th>\n",
       "      <th>label</th>\n",
       "    </tr>\n",
       "  </thead>\n",
       "  <tbody>\n",
       "  </tbody>\n",
       "</table>\n",
       "</div>"
      ],
      "text/plain": [
       "Empty DataFrame\n",
       "Columns: [id, title, text, label]\n",
       "Index: []"
      ]
     },
     "execution_count": 19,
     "metadata": {},
     "output_type": "execute_result"
    }
   ],
   "source": [
    "df_dup_headline[df_dup_headline.duplicated()]"
   ]
  },
  {
   "cell_type": "markdown",
   "id": "b59e2752-c265-43f1-bc4e-ab85c9fc1f4e",
   "metadata": {},
   "source": [
    "There are no duplicated rows that needs to be deleted"
   ]
  },
  {
   "cell_type": "code",
   "execution_count": 20,
   "id": "450a2df2-5b9a-4818-b55c-447423d773e6",
   "metadata": {
    "tags": []
   },
   "outputs": [
    {
     "data": {
      "text/html": [
       "<div>\n",
       "<style scoped>\n",
       "    .dataframe tbody tr th:only-of-type {\n",
       "        vertical-align: middle;\n",
       "    }\n",
       "\n",
       "    .dataframe tbody tr th {\n",
       "        vertical-align: top;\n",
       "    }\n",
       "\n",
       "    .dataframe thead th {\n",
       "        text-align: right;\n",
       "    }\n",
       "</style>\n",
       "<table border=\"1\" class=\"dataframe\">\n",
       "  <thead>\n",
       "    <tr style=\"text-align: right;\">\n",
       "      <th></th>\n",
       "      <th>id</th>\n",
       "      <th>title</th>\n",
       "      <th>text</th>\n",
       "      <th>label</th>\n",
       "    </tr>\n",
       "  </thead>\n",
       "  <tbody>\n",
       "    <tr>\n",
       "      <th>1492</th>\n",
       "      <td>2697</td>\n",
       "      <td>University of Missouri, please immediately fir...</td>\n",
       "      <td>To watch the video of photographer Tim Tai get...</td>\n",
       "      <td>0</td>\n",
       "    </tr>\n",
       "    <tr>\n",
       "      <th>1954</th>\n",
       "      <td>4544</td>\n",
       "      <td>Loretta Lynch becomes first African-American w...</td>\n",
       "      <td>Washington (CNN) Loretta Lynch was sworn in as...</td>\n",
       "      <td>0</td>\n",
       "    </tr>\n",
       "    <tr>\n",
       "      <th>2336</th>\n",
       "      <td>4396</td>\n",
       "      <td>Obamacare Enrollees Anxiously Await Supreme Co...</td>\n",
       "      <td>“I’ve got my six-month, regular cancer checkup...</td>\n",
       "      <td>0</td>\n",
       "    </tr>\n",
       "    <tr>\n",
       "      <th>2856</th>\n",
       "      <td>2664</td>\n",
       "      <td>Donald Trump is blatantly racist — and the med...</td>\n",
       "      <td>Donald Trump, the actual Republican candidate ...</td>\n",
       "      <td>0</td>\n",
       "    </tr>\n",
       "    <tr>\n",
       "      <th>2952</th>\n",
       "      <td>7550</td>\n",
       "      <td>Black Agenda Report for Week of Oct 31, 2016</td>\n",
       "      <td>News, information and analysis from the black ...</td>\n",
       "      <td>1</td>\n",
       "    </tr>\n",
       "    <tr>\n",
       "      <th>3081</th>\n",
       "      <td>4160</td>\n",
       "      <td>The College Loan Bombshell Hidden in the Budget</td>\n",
       "      <td>In obscure data tables buried deep in its 2016...</td>\n",
       "      <td>0</td>\n",
       "    </tr>\n",
       "    <tr>\n",
       "      <th>3292</th>\n",
       "      <td>3056</td>\n",
       "      <td>This astonishing chart shows how moderate Repu...</td>\n",
       "      <td>Political scientists have known for years that...</td>\n",
       "      <td>0</td>\n",
       "    </tr>\n",
       "    <tr>\n",
       "      <th>3301</th>\n",
       "      <td>1762</td>\n",
       "      <td>OnPolitics | 's politics blog</td>\n",
       "      <td>Who has Trump appointed to his cabinet so far?...</td>\n",
       "      <td>0</td>\n",
       "    </tr>\n",
       "    <tr>\n",
       "      <th>3324</th>\n",
       "      <td>2399</td>\n",
       "      <td>Senate GOP prepared to replace Obamacare subsi...</td>\n",
       "      <td>Killing Obama administration rules, dismantlin...</td>\n",
       "      <td>0</td>\n",
       "    </tr>\n",
       "    <tr>\n",
       "      <th>4140</th>\n",
       "      <td>2261</td>\n",
       "      <td>We Republicans Lost On Gay Rights. That’s A Go...</td>\n",
       "      <td>I’m not among those Republicans who have “evol...</td>\n",
       "      <td>0</td>\n",
       "    </tr>\n",
       "    <tr>\n",
       "      <th>4405</th>\n",
       "      <td>6824</td>\n",
       "      <td>Paintings 'almost no one else seemed to be doing'</td>\n",
       "      <td>Print \\nWhen Judith Gait met “Father X,” it wa...</td>\n",
       "      <td>1</td>\n",
       "    </tr>\n",
       "    <tr>\n",
       "      <th>4885</th>\n",
       "      <td>9751</td>\n",
       "      <td>An Open Letter to Black South African Police O...</td>\n",
       "      <td>Tweet Widget by Black Power Front \\nWith stude...</td>\n",
       "      <td>1</td>\n",
       "    </tr>\n",
       "    <tr>\n",
       "      <th>4971</th>\n",
       "      <td>2906</td>\n",
       "      <td>US faces calls to ‘walk away’ from Iran talks</td>\n",
       "      <td>A leading Republican critic of the Iranian nuc...</td>\n",
       "      <td>0</td>\n",
       "    </tr>\n",
       "    <tr>\n",
       "      <th>5083</th>\n",
       "      <td>10399</td>\n",
       "      <td>Fighting Ghost Fascists While Aiding Real Ones</td>\n",
       "      <td>2016 presidential campaign by BAR executive ed...</td>\n",
       "      <td>1</td>\n",
       "    </tr>\n",
       "    <tr>\n",
       "      <th>5105</th>\n",
       "      <td>4171</td>\n",
       "      <td>Clinton clinches Democratic nomination – Sande...</td>\n",
       "      <td>Hillary Clinton clinched the Democratic presid...</td>\n",
       "      <td>0</td>\n",
       "    </tr>\n",
       "    <tr>\n",
       "      <th>5127</th>\n",
       "      <td>2271</td>\n",
       "      <td>OnPolitics | 's politics blog</td>\n",
       "      <td>Who has Trump appointed to his cabinet so far?...</td>\n",
       "      <td>0</td>\n",
       "    </tr>\n",
       "    <tr>\n",
       "      <th>5414</th>\n",
       "      <td>374</td>\n",
       "      <td>Do Democrats Want What Bernie Wants, Or Just W...</td>\n",
       "      <td>Do Democrats Want What Bernie Wants, Or Just W...</td>\n",
       "      <td>0</td>\n",
       "    </tr>\n",
       "    <tr>\n",
       "      <th>5417</th>\n",
       "      <td>9792</td>\n",
       "      <td>Black Agenda Radio for Week of Nov. 7, 2016</td>\n",
       "      <td>News, information and analysis from the black ...</td>\n",
       "      <td>1</td>\n",
       "    </tr>\n",
       "    <tr>\n",
       "      <th>5478</th>\n",
       "      <td>6088</td>\n",
       "      <td>FEAR OF TRUMP: BUSH, OBAMA, CLINTON ALL BUYING...</td>\n",
       "      <td>Email \\n\\nIt appears Bill and Hillary Clinton ...</td>\n",
       "      <td>1</td>\n",
       "    </tr>\n",
       "    <tr>\n",
       "      <th>5500</th>\n",
       "      <td>10311</td>\n",
       "      <td>Saudi ambassador to the UAE: Any contact with ...</td>\n",
       "      <td>Email \\n\\nAccording to a report by an Emirati ...</td>\n",
       "      <td>1</td>\n",
       "    </tr>\n",
       "    <tr>\n",
       "      <th>5536</th>\n",
       "      <td>3157</td>\n",
       "      <td>Anti-Trump forces seek last-ditch delegate revolt</td>\n",
       "      <td>Washington (CNN) The faction of the GOP that i...</td>\n",
       "      <td>0</td>\n",
       "    </tr>\n",
       "    <tr>\n",
       "      <th>5627</th>\n",
       "      <td>1844</td>\n",
       "      <td>Clinton clearing primary field for potential 2...</td>\n",
       "      <td>Hillary Clinton appears to have scared away mu...</td>\n",
       "      <td>0</td>\n",
       "    </tr>\n",
       "    <tr>\n",
       "      <th>5705</th>\n",
       "      <td>3025</td>\n",
       "      <td>Political polarization is getting worse. Every...</td>\n",
       "      <td>You've probably seen this chart.\\n\\nIt uses an...</td>\n",
       "      <td>0</td>\n",
       "    </tr>\n",
       "    <tr>\n",
       "      <th>5916</th>\n",
       "      <td>10075</td>\n",
       "      <td>Is it possible that Saudi King be tried in US ...</td>\n",
       "      <td>Email \\n\\nAccording to the JASTA law which all...</td>\n",
       "      <td>1</td>\n",
       "    </tr>\n",
       "    <tr>\n",
       "      <th>5966</th>\n",
       "      <td>2236</td>\n",
       "      <td>There’s a good reason protesters at the Univer...</td>\n",
       "      <td>Video of a confrontation between a news photog...</td>\n",
       "      <td>0</td>\n",
       "    </tr>\n",
       "    <tr>\n",
       "      <th>6083</th>\n",
       "      <td>8503</td>\n",
       "      <td>Biden Blames “Lazy American Women” For The Eco...</td>\n",
       "      <td>Email \\n\\nDemocratic Vice President Joe Biden ...</td>\n",
       "      <td>1</td>\n",
       "    </tr>\n",
       "    <tr>\n",
       "      <th>6148</th>\n",
       "      <td>9725</td>\n",
       "      <td>Hillary’s “Big Tent” is Obama’s “Grand Bargain...</td>\n",
       "      <td>2016 presidential campaign by BAR executive ed...</td>\n",
       "      <td>1</td>\n",
       "    </tr>\n",
       "    <tr>\n",
       "      <th>6227</th>\n",
       "      <td>8613</td>\n",
       "      <td>ISIS uses an industrial dough kneader to kill ...</td>\n",
       "      <td>Email \\nISIS barbarians used an industrial dou...</td>\n",
       "      <td>1</td>\n",
       "    </tr>\n",
       "    <tr>\n",
       "      <th>6233</th>\n",
       "      <td>7171</td>\n",
       "      <td>North Korea Threatens ‘Sacred’ Nuclear War Aga...</td>\n",
       "      <td>Email \\nNorth Korea’s Foreign Ministry slammed...</td>\n",
       "      <td>1</td>\n",
       "    </tr>\n",
       "  </tbody>\n",
       "</table>\n",
       "</div>"
      ],
      "text/plain": [
       "         id                                              title  \\\n",
       "1492   2697  University of Missouri, please immediately fir...   \n",
       "1954   4544  Loretta Lynch becomes first African-American w...   \n",
       "2336   4396  Obamacare Enrollees Anxiously Await Supreme Co...   \n",
       "2856   2664  Donald Trump is blatantly racist — and the med...   \n",
       "2952   7550       Black Agenda Report for Week of Oct 31, 2016   \n",
       "3081   4160    The College Loan Bombshell Hidden in the Budget   \n",
       "3292   3056  This astonishing chart shows how moderate Repu...   \n",
       "3301   1762                      OnPolitics | 's politics blog   \n",
       "3324   2399  Senate GOP prepared to replace Obamacare subsi...   \n",
       "4140   2261  We Republicans Lost On Gay Rights. That’s A Go...   \n",
       "4405   6824  Paintings 'almost no one else seemed to be doing'   \n",
       "4885   9751  An Open Letter to Black South African Police O...   \n",
       "4971   2906      US faces calls to ‘walk away’ from Iran talks   \n",
       "5083  10399     Fighting Ghost Fascists While Aiding Real Ones   \n",
       "5105   4171  Clinton clinches Democratic nomination – Sande...   \n",
       "5127   2271                      OnPolitics | 's politics blog   \n",
       "5414    374  Do Democrats Want What Bernie Wants, Or Just W...   \n",
       "5417   9792        Black Agenda Radio for Week of Nov. 7, 2016   \n",
       "5478   6088  FEAR OF TRUMP: BUSH, OBAMA, CLINTON ALL BUYING...   \n",
       "5500  10311  Saudi ambassador to the UAE: Any contact with ...   \n",
       "5536   3157  Anti-Trump forces seek last-ditch delegate revolt   \n",
       "5627   1844  Clinton clearing primary field for potential 2...   \n",
       "5705   3025  Political polarization is getting worse. Every...   \n",
       "5916  10075  Is it possible that Saudi King be tried in US ...   \n",
       "5966   2236  There’s a good reason protesters at the Univer...   \n",
       "6083   8503  Biden Blames “Lazy American Women” For The Eco...   \n",
       "6148   9725  Hillary’s “Big Tent” is Obama’s “Grand Bargain...   \n",
       "6227   8613  ISIS uses an industrial dough kneader to kill ...   \n",
       "6233   7171  North Korea Threatens ‘Sacred’ Nuclear War Aga...   \n",
       "\n",
       "                                                   text  label  \n",
       "1492  To watch the video of photographer Tim Tai get...      0  \n",
       "1954  Washington (CNN) Loretta Lynch was sworn in as...      0  \n",
       "2336  “I’ve got my six-month, regular cancer checkup...      0  \n",
       "2856  Donald Trump, the actual Republican candidate ...      0  \n",
       "2952  News, information and analysis from the black ...      1  \n",
       "3081  In obscure data tables buried deep in its 2016...      0  \n",
       "3292  Political scientists have known for years that...      0  \n",
       "3301  Who has Trump appointed to his cabinet so far?...      0  \n",
       "3324  Killing Obama administration rules, dismantlin...      0  \n",
       "4140  I’m not among those Republicans who have “evol...      0  \n",
       "4405  Print \\nWhen Judith Gait met “Father X,” it wa...      1  \n",
       "4885  Tweet Widget by Black Power Front \\nWith stude...      1  \n",
       "4971  A leading Republican critic of the Iranian nuc...      0  \n",
       "5083  2016 presidential campaign by BAR executive ed...      1  \n",
       "5105  Hillary Clinton clinched the Democratic presid...      0  \n",
       "5127  Who has Trump appointed to his cabinet so far?...      0  \n",
       "5414  Do Democrats Want What Bernie Wants, Or Just W...      0  \n",
       "5417  News, information and analysis from the black ...      1  \n",
       "5478  Email \\n\\nIt appears Bill and Hillary Clinton ...      1  \n",
       "5500  Email \\n\\nAccording to a report by an Emirati ...      1  \n",
       "5536  Washington (CNN) The faction of the GOP that i...      0  \n",
       "5627  Hillary Clinton appears to have scared away mu...      0  \n",
       "5705  You've probably seen this chart.\\n\\nIt uses an...      0  \n",
       "5916  Email \\n\\nAccording to the JASTA law which all...      1  \n",
       "5966  Video of a confrontation between a news photog...      0  \n",
       "6083  Email \\n\\nDemocratic Vice President Joe Biden ...      1  \n",
       "6148  2016 presidential campaign by BAR executive ed...      1  \n",
       "6227  Email \\nISIS barbarians used an industrial dou...      1  \n",
       "6233  Email \\nNorth Korea’s Foreign Ministry slammed...      1  "
      ]
     },
     "execution_count": 20,
     "metadata": {},
     "output_type": "execute_result"
    }
   ],
   "source": [
    "df_dup_headline[df_dup_headline.duplicated([news])]"
   ]
  },
  {
   "cell_type": "markdown",
   "id": "4a15fc25-d386-4bec-b524-49fc15262990",
   "metadata": {},
   "source": [
    "There are 30 rows with duplicated text"
   ]
  },
  {
   "cell_type": "code",
   "execution_count": 21,
   "id": "bec0e5ad-cf48-4636-ad84-613aea202f88",
   "metadata": {
    "tags": []
   },
   "outputs": [
    {
     "data": {
      "text/html": [
       "<div>\n",
       "<style scoped>\n",
       "    .dataframe tbody tr th:only-of-type {\n",
       "        vertical-align: middle;\n",
       "    }\n",
       "\n",
       "    .dataframe tbody tr th {\n",
       "        vertical-align: top;\n",
       "    }\n",
       "\n",
       "    .dataframe thead th {\n",
       "        text-align: right;\n",
       "    }\n",
       "</style>\n",
       "<table border=\"1\" class=\"dataframe\">\n",
       "  <thead>\n",
       "    <tr style=\"text-align: right;\">\n",
       "      <th></th>\n",
       "      <th>id</th>\n",
       "      <th>title</th>\n",
       "      <th>text</th>\n",
       "      <th>label</th>\n",
       "    </tr>\n",
       "  </thead>\n",
       "  <tbody>\n",
       "    <tr>\n",
       "      <th>1492</th>\n",
       "      <td>2697</td>\n",
       "      <td>University of Missouri, please immediately fir...</td>\n",
       "      <td>To watch the video of photographer Tim Tai get...</td>\n",
       "      <td>0</td>\n",
       "    </tr>\n",
       "    <tr>\n",
       "      <th>1954</th>\n",
       "      <td>4544</td>\n",
       "      <td>Loretta Lynch becomes first African-American w...</td>\n",
       "      <td>Washington (CNN) Loretta Lynch was sworn in as...</td>\n",
       "      <td>0</td>\n",
       "    </tr>\n",
       "    <tr>\n",
       "      <th>2336</th>\n",
       "      <td>4396</td>\n",
       "      <td>Obamacare Enrollees Anxiously Await Supreme Co...</td>\n",
       "      <td>“I’ve got my six-month, regular cancer checkup...</td>\n",
       "      <td>0</td>\n",
       "    </tr>\n",
       "    <tr>\n",
       "      <th>2856</th>\n",
       "      <td>2664</td>\n",
       "      <td>Donald Trump is blatantly racist — and the med...</td>\n",
       "      <td>Donald Trump, the actual Republican candidate ...</td>\n",
       "      <td>0</td>\n",
       "    </tr>\n",
       "    <tr>\n",
       "      <th>2952</th>\n",
       "      <td>7550</td>\n",
       "      <td>Black Agenda Report for Week of Oct 31, 2016</td>\n",
       "      <td>News, information and analysis from the black ...</td>\n",
       "      <td>1</td>\n",
       "    </tr>\n",
       "    <tr>\n",
       "      <th>3081</th>\n",
       "      <td>4160</td>\n",
       "      <td>The College Loan Bombshell Hidden in the Budget</td>\n",
       "      <td>In obscure data tables buried deep in its 2016...</td>\n",
       "      <td>0</td>\n",
       "    </tr>\n",
       "    <tr>\n",
       "      <th>3292</th>\n",
       "      <td>3056</td>\n",
       "      <td>This astonishing chart shows how moderate Repu...</td>\n",
       "      <td>Political scientists have known for years that...</td>\n",
       "      <td>0</td>\n",
       "    </tr>\n",
       "    <tr>\n",
       "      <th>3301</th>\n",
       "      <td>1762</td>\n",
       "      <td>OnPolitics | 's politics blog</td>\n",
       "      <td>Who has Trump appointed to his cabinet so far?...</td>\n",
       "      <td>0</td>\n",
       "    </tr>\n",
       "    <tr>\n",
       "      <th>3324</th>\n",
       "      <td>2399</td>\n",
       "      <td>Senate GOP prepared to replace Obamacare subsi...</td>\n",
       "      <td>Killing Obama administration rules, dismantlin...</td>\n",
       "      <td>0</td>\n",
       "    </tr>\n",
       "    <tr>\n",
       "      <th>4140</th>\n",
       "      <td>2261</td>\n",
       "      <td>We Republicans Lost On Gay Rights. That’s A Go...</td>\n",
       "      <td>I’m not among those Republicans who have “evol...</td>\n",
       "      <td>0</td>\n",
       "    </tr>\n",
       "    <tr>\n",
       "      <th>4405</th>\n",
       "      <td>6824</td>\n",
       "      <td>Paintings 'almost no one else seemed to be doing'</td>\n",
       "      <td>Print \\nWhen Judith Gait met “Father X,” it wa...</td>\n",
       "      <td>1</td>\n",
       "    </tr>\n",
       "    <tr>\n",
       "      <th>4885</th>\n",
       "      <td>9751</td>\n",
       "      <td>An Open Letter to Black South African Police O...</td>\n",
       "      <td>Tweet Widget by Black Power Front \\nWith stude...</td>\n",
       "      <td>1</td>\n",
       "    </tr>\n",
       "    <tr>\n",
       "      <th>4971</th>\n",
       "      <td>2906</td>\n",
       "      <td>US faces calls to ‘walk away’ from Iran talks</td>\n",
       "      <td>A leading Republican critic of the Iranian nuc...</td>\n",
       "      <td>0</td>\n",
       "    </tr>\n",
       "    <tr>\n",
       "      <th>5083</th>\n",
       "      <td>10399</td>\n",
       "      <td>Fighting Ghost Fascists While Aiding Real Ones</td>\n",
       "      <td>2016 presidential campaign by BAR executive ed...</td>\n",
       "      <td>1</td>\n",
       "    </tr>\n",
       "    <tr>\n",
       "      <th>5105</th>\n",
       "      <td>4171</td>\n",
       "      <td>Clinton clinches Democratic nomination – Sande...</td>\n",
       "      <td>Hillary Clinton clinched the Democratic presid...</td>\n",
       "      <td>0</td>\n",
       "    </tr>\n",
       "    <tr>\n",
       "      <th>5127</th>\n",
       "      <td>2271</td>\n",
       "      <td>OnPolitics | 's politics blog</td>\n",
       "      <td>Who has Trump appointed to his cabinet so far?...</td>\n",
       "      <td>0</td>\n",
       "    </tr>\n",
       "    <tr>\n",
       "      <th>5414</th>\n",
       "      <td>374</td>\n",
       "      <td>Do Democrats Want What Bernie Wants, Or Just W...</td>\n",
       "      <td>Do Democrats Want What Bernie Wants, Or Just W...</td>\n",
       "      <td>0</td>\n",
       "    </tr>\n",
       "    <tr>\n",
       "      <th>5417</th>\n",
       "      <td>9792</td>\n",
       "      <td>Black Agenda Radio for Week of Nov. 7, 2016</td>\n",
       "      <td>News, information and analysis from the black ...</td>\n",
       "      <td>1</td>\n",
       "    </tr>\n",
       "    <tr>\n",
       "      <th>5478</th>\n",
       "      <td>6088</td>\n",
       "      <td>FEAR OF TRUMP: BUSH, OBAMA, CLINTON ALL BUYING...</td>\n",
       "      <td>Email \\n\\nIt appears Bill and Hillary Clinton ...</td>\n",
       "      <td>1</td>\n",
       "    </tr>\n",
       "    <tr>\n",
       "      <th>5500</th>\n",
       "      <td>10311</td>\n",
       "      <td>Saudi ambassador to the UAE: Any contact with ...</td>\n",
       "      <td>Email \\n\\nAccording to a report by an Emirati ...</td>\n",
       "      <td>1</td>\n",
       "    </tr>\n",
       "    <tr>\n",
       "      <th>5536</th>\n",
       "      <td>3157</td>\n",
       "      <td>Anti-Trump forces seek last-ditch delegate revolt</td>\n",
       "      <td>Washington (CNN) The faction of the GOP that i...</td>\n",
       "      <td>0</td>\n",
       "    </tr>\n",
       "    <tr>\n",
       "      <th>5627</th>\n",
       "      <td>1844</td>\n",
       "      <td>Clinton clearing primary field for potential 2...</td>\n",
       "      <td>Hillary Clinton appears to have scared away mu...</td>\n",
       "      <td>0</td>\n",
       "    </tr>\n",
       "    <tr>\n",
       "      <th>5705</th>\n",
       "      <td>3025</td>\n",
       "      <td>Political polarization is getting worse. Every...</td>\n",
       "      <td>You've probably seen this chart.\\n\\nIt uses an...</td>\n",
       "      <td>0</td>\n",
       "    </tr>\n",
       "    <tr>\n",
       "      <th>5916</th>\n",
       "      <td>10075</td>\n",
       "      <td>Is it possible that Saudi King be tried in US ...</td>\n",
       "      <td>Email \\n\\nAccording to the JASTA law which all...</td>\n",
       "      <td>1</td>\n",
       "    </tr>\n",
       "    <tr>\n",
       "      <th>5966</th>\n",
       "      <td>2236</td>\n",
       "      <td>There’s a good reason protesters at the Univer...</td>\n",
       "      <td>Video of a confrontation between a news photog...</td>\n",
       "      <td>0</td>\n",
       "    </tr>\n",
       "    <tr>\n",
       "      <th>6083</th>\n",
       "      <td>8503</td>\n",
       "      <td>Biden Blames “Lazy American Women” For The Eco...</td>\n",
       "      <td>Email \\n\\nDemocratic Vice President Joe Biden ...</td>\n",
       "      <td>1</td>\n",
       "    </tr>\n",
       "    <tr>\n",
       "      <th>6148</th>\n",
       "      <td>9725</td>\n",
       "      <td>Hillary’s “Big Tent” is Obama’s “Grand Bargain...</td>\n",
       "      <td>2016 presidential campaign by BAR executive ed...</td>\n",
       "      <td>1</td>\n",
       "    </tr>\n",
       "    <tr>\n",
       "      <th>6227</th>\n",
       "      <td>8613</td>\n",
       "      <td>ISIS uses an industrial dough kneader to kill ...</td>\n",
       "      <td>Email \\nISIS barbarians used an industrial dou...</td>\n",
       "      <td>1</td>\n",
       "    </tr>\n",
       "    <tr>\n",
       "      <th>6233</th>\n",
       "      <td>7171</td>\n",
       "      <td>North Korea Threatens ‘Sacred’ Nuclear War Aga...</td>\n",
       "      <td>Email \\nNorth Korea’s Foreign Ministry slammed...</td>\n",
       "      <td>1</td>\n",
       "    </tr>\n",
       "  </tbody>\n",
       "</table>\n",
       "</div>"
      ],
      "text/plain": [
       "         id                                              title  \\\n",
       "1492   2697  University of Missouri, please immediately fir...   \n",
       "1954   4544  Loretta Lynch becomes first African-American w...   \n",
       "2336   4396  Obamacare Enrollees Anxiously Await Supreme Co...   \n",
       "2856   2664  Donald Trump is blatantly racist — and the med...   \n",
       "2952   7550       Black Agenda Report for Week of Oct 31, 2016   \n",
       "3081   4160    The College Loan Bombshell Hidden in the Budget   \n",
       "3292   3056  This astonishing chart shows how moderate Repu...   \n",
       "3301   1762                      OnPolitics | 's politics blog   \n",
       "3324   2399  Senate GOP prepared to replace Obamacare subsi...   \n",
       "4140   2261  We Republicans Lost On Gay Rights. That’s A Go...   \n",
       "4405   6824  Paintings 'almost no one else seemed to be doing'   \n",
       "4885   9751  An Open Letter to Black South African Police O...   \n",
       "4971   2906      US faces calls to ‘walk away’ from Iran talks   \n",
       "5083  10399     Fighting Ghost Fascists While Aiding Real Ones   \n",
       "5105   4171  Clinton clinches Democratic nomination – Sande...   \n",
       "5127   2271                      OnPolitics | 's politics blog   \n",
       "5414    374  Do Democrats Want What Bernie Wants, Or Just W...   \n",
       "5417   9792        Black Agenda Radio for Week of Nov. 7, 2016   \n",
       "5478   6088  FEAR OF TRUMP: BUSH, OBAMA, CLINTON ALL BUYING...   \n",
       "5500  10311  Saudi ambassador to the UAE: Any contact with ...   \n",
       "5536   3157  Anti-Trump forces seek last-ditch delegate revolt   \n",
       "5627   1844  Clinton clearing primary field for potential 2...   \n",
       "5705   3025  Political polarization is getting worse. Every...   \n",
       "5916  10075  Is it possible that Saudi King be tried in US ...   \n",
       "5966   2236  There’s a good reason protesters at the Univer...   \n",
       "6083   8503  Biden Blames “Lazy American Women” For The Eco...   \n",
       "6148   9725  Hillary’s “Big Tent” is Obama’s “Grand Bargain...   \n",
       "6227   8613  ISIS uses an industrial dough kneader to kill ...   \n",
       "6233   7171  North Korea Threatens ‘Sacred’ Nuclear War Aga...   \n",
       "\n",
       "                                                   text  label  \n",
       "1492  To watch the video of photographer Tim Tai get...      0  \n",
       "1954  Washington (CNN) Loretta Lynch was sworn in as...      0  \n",
       "2336  “I’ve got my six-month, regular cancer checkup...      0  \n",
       "2856  Donald Trump, the actual Republican candidate ...      0  \n",
       "2952  News, information and analysis from the black ...      1  \n",
       "3081  In obscure data tables buried deep in its 2016...      0  \n",
       "3292  Political scientists have known for years that...      0  \n",
       "3301  Who has Trump appointed to his cabinet so far?...      0  \n",
       "3324  Killing Obama administration rules, dismantlin...      0  \n",
       "4140  I’m not among those Republicans who have “evol...      0  \n",
       "4405  Print \\nWhen Judith Gait met “Father X,” it wa...      1  \n",
       "4885  Tweet Widget by Black Power Front \\nWith stude...      1  \n",
       "4971  A leading Republican critic of the Iranian nuc...      0  \n",
       "5083  2016 presidential campaign by BAR executive ed...      1  \n",
       "5105  Hillary Clinton clinched the Democratic presid...      0  \n",
       "5127  Who has Trump appointed to his cabinet so far?...      0  \n",
       "5414  Do Democrats Want What Bernie Wants, Or Just W...      0  \n",
       "5417  News, information and analysis from the black ...      1  \n",
       "5478  Email \\n\\nIt appears Bill and Hillary Clinton ...      1  \n",
       "5500  Email \\n\\nAccording to a report by an Emirati ...      1  \n",
       "5536  Washington (CNN) The faction of the GOP that i...      0  \n",
       "5627  Hillary Clinton appears to have scared away mu...      0  \n",
       "5705  You've probably seen this chart.\\n\\nIt uses an...      0  \n",
       "5916  Email \\n\\nAccording to the JASTA law which all...      1  \n",
       "5966  Video of a confrontation between a news photog...      0  \n",
       "6083  Email \\n\\nDemocratic Vice President Joe Biden ...      1  \n",
       "6148  2016 presidential campaign by BAR executive ed...      1  \n",
       "6227  Email \\nISIS barbarians used an industrial dou...      1  \n",
       "6233  Email \\nNorth Korea’s Foreign Ministry slammed...      1  "
      ]
     },
     "execution_count": 21,
     "metadata": {},
     "output_type": "execute_result"
    }
   ],
   "source": [
    "df_dup_headline[df_dup_headline.duplicated([headline, news])]"
   ]
  },
  {
   "cell_type": "markdown",
   "id": "b769effc-6ca6-4d44-bcf2-6df81e5240bd",
   "metadata": {},
   "source": [
    "There are 30 rows with both headlines and news duplicated. These needs to be removed."
   ]
  },
  {
   "cell_type": "code",
   "execution_count": 22,
   "id": "8fd5bb54-5e78-46c0-8b78-96477d3d3735",
   "metadata": {
    "tags": []
   },
   "outputs": [
    {
     "data": {
      "text/html": [
       "<div>\n",
       "<style scoped>\n",
       "    .dataframe tbody tr th:only-of-type {\n",
       "        vertical-align: middle;\n",
       "    }\n",
       "\n",
       "    .dataframe tbody tr th {\n",
       "        vertical-align: top;\n",
       "    }\n",
       "\n",
       "    .dataframe thead th {\n",
       "        text-align: right;\n",
       "    }\n",
       "</style>\n",
       "<table border=\"1\" class=\"dataframe\">\n",
       "  <thead>\n",
       "    <tr style=\"text-align: right;\">\n",
       "      <th></th>\n",
       "      <th>id</th>\n",
       "      <th>title</th>\n",
       "      <th>text</th>\n",
       "      <th>label</th>\n",
       "    </tr>\n",
       "  </thead>\n",
       "  <tbody>\n",
       "  </tbody>\n",
       "</table>\n",
       "</div>"
      ],
      "text/plain": [
       "Empty DataFrame\n",
       "Columns: [id, title, text, label]\n",
       "Index: []"
      ]
     },
     "execution_count": 22,
     "metadata": {},
     "output_type": "execute_result"
    }
   ],
   "source": [
    "df_dup_headline[df_dup_headline[news] == ' ']"
   ]
  },
  {
   "cell_type": "markdown",
   "id": "4b2396d9-6c77-4d0e-88c9-ac80dd40c9fb",
   "metadata": {},
   "source": [
    "We can leave duplicate headlines as that is a common part of news when it undergoes revision but those instances where both headline and news articles are same needs to be dropped. Rows without news will also be removed."
   ]
  },
  {
   "cell_type": "markdown",
   "id": "5810de32-adf3-41f3-bbeb-9a5c9dd8612d",
   "metadata": {},
   "source": [
    "Checking news for whitespaces."
   ]
  },
  {
   "cell_type": "code",
   "execution_count": 23,
   "id": "d7505a03-38c3-4d38-a7b8-d0075ef4189a",
   "metadata": {
    "tags": []
   },
   "outputs": [
    {
     "data": {
      "text/html": [
       "<div>\n",
       "<style scoped>\n",
       "    .dataframe tbody tr th:only-of-type {\n",
       "        vertical-align: middle;\n",
       "    }\n",
       "\n",
       "    .dataframe tbody tr th {\n",
       "        vertical-align: top;\n",
       "    }\n",
       "\n",
       "    .dataframe thead th {\n",
       "        text-align: right;\n",
       "    }\n",
       "</style>\n",
       "<table border=\"1\" class=\"dataframe\">\n",
       "  <thead>\n",
       "    <tr style=\"text-align: right;\">\n",
       "      <th></th>\n",
       "      <th>id</th>\n",
       "      <th>title</th>\n",
       "      <th>text</th>\n",
       "      <th>label</th>\n",
       "    </tr>\n",
       "  </thead>\n",
       "  <tbody>\n",
       "    <tr>\n",
       "      <th>106</th>\n",
       "      <td>5530</td>\n",
       "      <td>The Arcturian Group by Marilyn Raffaele Octobe...</td>\n",
       "      <td></td>\n",
       "      <td>1</td>\n",
       "    </tr>\n",
       "    <tr>\n",
       "      <th>710</th>\n",
       "      <td>8332</td>\n",
       "      <td>MARKETWATCH LEFTIST: MSM’s “Blatant” Anti Trum...</td>\n",
       "      <td></td>\n",
       "      <td>1</td>\n",
       "    </tr>\n",
       "    <tr>\n",
       "      <th>806</th>\n",
       "      <td>9314</td>\n",
       "      <td>Southern Poverty Law Center Targets Anti-Jihad...</td>\n",
       "      <td></td>\n",
       "      <td>1</td>\n",
       "    </tr>\n",
       "    <tr>\n",
       "      <th>919</th>\n",
       "      <td>10304</td>\n",
       "      <td>Refugee Resettlement Watch: Swept Away In Nort...</td>\n",
       "      <td></td>\n",
       "      <td>1</td>\n",
       "    </tr>\n",
       "    <tr>\n",
       "      <th>940</th>\n",
       "      <td>9474</td>\n",
       "      <td>Michael Bloomberg Names Technological Unemploy...</td>\n",
       "      <td></td>\n",
       "      <td>1</td>\n",
       "    </tr>\n",
       "    <tr>\n",
       "      <th>1664</th>\n",
       "      <td>5802</td>\n",
       "      <td>Alert News : Putins Army Is Coming For World W...</td>\n",
       "      <td></td>\n",
       "      <td>1</td>\n",
       "    </tr>\n",
       "    <tr>\n",
       "      <th>1736</th>\n",
       "      <td>9564</td>\n",
       "      <td>An LDS Reader Takes A Look At Trump Accuser Je...</td>\n",
       "      <td></td>\n",
       "      <td>1</td>\n",
       "    </tr>\n",
       "    <tr>\n",
       "      <th>1851</th>\n",
       "      <td>5752</td>\n",
       "      <td>America’s Senator Jeff Sessions Warns of Worse...</td>\n",
       "      <td></td>\n",
       "      <td>1</td>\n",
       "    </tr>\n",
       "    <tr>\n",
       "      <th>1883</th>\n",
       "      <td>8816</td>\n",
       "      <td>Paris Migrant Campers Increase after Calais Is...</td>\n",
       "      <td></td>\n",
       "      <td>1</td>\n",
       "    </tr>\n",
       "    <tr>\n",
       "      <th>1941</th>\n",
       "      <td>7525</td>\n",
       "      <td>Putins Army is coming for World war 3 against ...</td>\n",
       "      <td></td>\n",
       "      <td>1</td>\n",
       "    </tr>\n",
       "    <tr>\n",
       "      <th>2244</th>\n",
       "      <td>6714</td>\n",
       "      <td>Is your promising internet career over now Vin...</td>\n",
       "      <td></td>\n",
       "      <td>1</td>\n",
       "    </tr>\n",
       "    <tr>\n",
       "      <th>2426</th>\n",
       "      <td>5776</td>\n",
       "      <td>Radio Derb Transcript For October 21 Up: The M...</td>\n",
       "      <td></td>\n",
       "      <td>1</td>\n",
       "    </tr>\n",
       "    <tr>\n",
       "      <th>2576</th>\n",
       "      <td>8055</td>\n",
       "      <td>A Reader Refers Us To Englishman Pat Condell O...</td>\n",
       "      <td></td>\n",
       "      <td>1</td>\n",
       "    </tr>\n",
       "    <tr>\n",
       "      <th>2662</th>\n",
       "      <td>10193</td>\n",
       "      <td>“Donald Trump And The Rise Of White Identity I...</td>\n",
       "      <td></td>\n",
       "      <td>1</td>\n",
       "    </tr>\n",
       "    <tr>\n",
       "      <th>2788</th>\n",
       "      <td>5715</td>\n",
       "      <td>Hope for the best, prepare for the worst…</td>\n",
       "      <td></td>\n",
       "      <td>1</td>\n",
       "    </tr>\n",
       "    <tr>\n",
       "      <th>2832</th>\n",
       "      <td>6733</td>\n",
       "      <td>The Comey Confrontation: In Our New Third-Worl...</td>\n",
       "      <td></td>\n",
       "      <td>1</td>\n",
       "    </tr>\n",
       "    <tr>\n",
       "      <th>3073</th>\n",
       "      <td>5367</td>\n",
       "      <td>NATIONAL REVIEW, Conservatism Inc., Plan To Ca...</td>\n",
       "      <td></td>\n",
       "      <td>1</td>\n",
       "    </tr>\n",
       "    <tr>\n",
       "      <th>3350</th>\n",
       "      <td>5427</td>\n",
       "      <td>Thomas Frank Explores Whether Hillary Clinton ...</td>\n",
       "      <td></td>\n",
       "      <td>1</td>\n",
       "    </tr>\n",
       "    <tr>\n",
       "      <th>3511</th>\n",
       "      <td>8240</td>\n",
       "      <td>Democrats Playing Class Card To Split the Whit...</td>\n",
       "      <td></td>\n",
       "      <td>1</td>\n",
       "    </tr>\n",
       "    <tr>\n",
       "      <th>3641</th>\n",
       "      <td>7048</td>\n",
       "      <td>Comment software has been rolled back to old v...</td>\n",
       "      <td></td>\n",
       "      <td>1</td>\n",
       "    </tr>\n",
       "    <tr>\n",
       "      <th>3642</th>\n",
       "      <td>9070</td>\n",
       "      <td>Round Up the Unusual Suspects: Moneyball Nerds...</td>\n",
       "      <td></td>\n",
       "      <td>1</td>\n",
       "    </tr>\n",
       "    <tr>\n",
       "      <th>4014</th>\n",
       "      <td>10414</td>\n",
       "      <td>More on Trump’s Populism and How It Can Be Con...</td>\n",
       "      <td></td>\n",
       "      <td>1</td>\n",
       "    </tr>\n",
       "    <tr>\n",
       "      <th>4142</th>\n",
       "      <td>6311</td>\n",
       "      <td>Radio Derb transcript for October 29th is up: ...</td>\n",
       "      <td></td>\n",
       "      <td>1</td>\n",
       "    </tr>\n",
       "    <tr>\n",
       "      <th>4253</th>\n",
       "      <td>8601</td>\n",
       "      <td>Pro-sovereignty Legislators Demand That Admini...</td>\n",
       "      <td></td>\n",
       "      <td>1</td>\n",
       "    </tr>\n",
       "    <tr>\n",
       "      <th>4713</th>\n",
       "      <td>8626</td>\n",
       "      <td>World War 3?</td>\n",
       "      <td></td>\n",
       "      <td>1</td>\n",
       "    </tr>\n",
       "    <tr>\n",
       "      <th>4744</th>\n",
       "      <td>8548</td>\n",
       "      <td>A Mormon Reader Says Most Mormons Will Still B...</td>\n",
       "      <td></td>\n",
       "      <td>1</td>\n",
       "    </tr>\n",
       "    <tr>\n",
       "      <th>5017</th>\n",
       "      <td>6254</td>\n",
       "      <td>Paris: Riot Police Flatten Invader Camp</td>\n",
       "      <td></td>\n",
       "      <td>1</td>\n",
       "    </tr>\n",
       "    <tr>\n",
       "      <th>5088</th>\n",
       "      <td>8875</td>\n",
       "      <td>Huma Abedin’s Muslim Dad</td>\n",
       "      <td></td>\n",
       "      <td>1</td>\n",
       "    </tr>\n",
       "    <tr>\n",
       "      <th>5213</th>\n",
       "      <td>9526</td>\n",
       "      <td>Hillary is Sick &amp; Tired of Suffering from Wein...</td>\n",
       "      <td></td>\n",
       "      <td>1</td>\n",
       "    </tr>\n",
       "    <tr>\n",
       "      <th>5581</th>\n",
       "      <td>6800</td>\n",
       "      <td>Automation: Robots from Korea to America Are R...</td>\n",
       "      <td></td>\n",
       "      <td>1</td>\n",
       "    </tr>\n",
       "    <tr>\n",
       "      <th>5639</th>\n",
       "      <td>6773</td>\n",
       "      <td>WORLD WAR 3 – HILLARY V.S. TRUMP</td>\n",
       "      <td></td>\n",
       "      <td>1</td>\n",
       "    </tr>\n",
       "    <tr>\n",
       "      <th>5699</th>\n",
       "      <td>9467</td>\n",
       "      <td>A Fifth Clinton Presidency? Hill, No!</td>\n",
       "      <td></td>\n",
       "      <td>1</td>\n",
       "    </tr>\n",
       "    <tr>\n",
       "      <th>5772</th>\n",
       "      <td>5324</td>\n",
       "      <td>Huma’s Weiner Dogs Hillary</td>\n",
       "      <td></td>\n",
       "      <td>1</td>\n",
       "    </tr>\n",
       "    <tr>\n",
       "      <th>6064</th>\n",
       "      <td>6127</td>\n",
       "      <td>Radio Derb: Peak White Guilt, PC Now To The LE...</td>\n",
       "      <td></td>\n",
       "      <td>1</td>\n",
       "    </tr>\n",
       "    <tr>\n",
       "      <th>6175</th>\n",
       "      <td>7043</td>\n",
       "      <td>Hillary’s High Crimes &amp; Misdemeanors Threaten ...</td>\n",
       "      <td></td>\n",
       "      <td>1</td>\n",
       "    </tr>\n",
       "    <tr>\n",
       "      <th>6328</th>\n",
       "      <td>9337</td>\n",
       "      <td>Radio Derb Is On The Air–Leonardo And Brazil’s...</td>\n",
       "      <td></td>\n",
       "      <td>1</td>\n",
       "    </tr>\n",
       "  </tbody>\n",
       "</table>\n",
       "</div>"
      ],
      "text/plain": [
       "         id                                              title text  label\n",
       "106    5530  The Arcturian Group by Marilyn Raffaele Octobe...           1\n",
       "710    8332  MARKETWATCH LEFTIST: MSM’s “Blatant” Anti Trum...           1\n",
       "806    9314  Southern Poverty Law Center Targets Anti-Jihad...           1\n",
       "919   10304  Refugee Resettlement Watch: Swept Away In Nort...           1\n",
       "940    9474  Michael Bloomberg Names Technological Unemploy...           1\n",
       "1664   5802  Alert News : Putins Army Is Coming For World W...           1\n",
       "1736   9564  An LDS Reader Takes A Look At Trump Accuser Je...           1\n",
       "1851   5752  America’s Senator Jeff Sessions Warns of Worse...           1\n",
       "1883   8816  Paris Migrant Campers Increase after Calais Is...           1\n",
       "1941   7525  Putins Army is coming for World war 3 against ...           1\n",
       "2244   6714  Is your promising internet career over now Vin...           1\n",
       "2426   5776  Radio Derb Transcript For October 21 Up: The M...           1\n",
       "2576   8055  A Reader Refers Us To Englishman Pat Condell O...           1\n",
       "2662  10193  “Donald Trump And The Rise Of White Identity I...           1\n",
       "2788   5715          Hope for the best, prepare for the worst…           1\n",
       "2832   6733  The Comey Confrontation: In Our New Third-Worl...           1\n",
       "3073   5367  NATIONAL REVIEW, Conservatism Inc., Plan To Ca...           1\n",
       "3350   5427  Thomas Frank Explores Whether Hillary Clinton ...           1\n",
       "3511   8240  Democrats Playing Class Card To Split the Whit...           1\n",
       "3641   7048  Comment software has been rolled back to old v...           1\n",
       "3642   9070  Round Up the Unusual Suspects: Moneyball Nerds...           1\n",
       "4014  10414  More on Trump’s Populism and How It Can Be Con...           1\n",
       "4142   6311  Radio Derb transcript for October 29th is up: ...           1\n",
       "4253   8601  Pro-sovereignty Legislators Demand That Admini...           1\n",
       "4713   8626                                       World War 3?           1\n",
       "4744   8548  A Mormon Reader Says Most Mormons Will Still B...           1\n",
       "5017   6254            Paris: Riot Police Flatten Invader Camp           1\n",
       "5088   8875                           Huma Abedin’s Muslim Dad           1\n",
       "5213   9526  Hillary is Sick & Tired of Suffering from Wein...           1\n",
       "5581   6800  Automation: Robots from Korea to America Are R...           1\n",
       "5639   6773                   WORLD WAR 3 – HILLARY V.S. TRUMP           1\n",
       "5699   9467              A Fifth Clinton Presidency? Hill, No!           1\n",
       "5772   5324                         Huma’s Weiner Dogs Hillary           1\n",
       "6064   6127  Radio Derb: Peak White Guilt, PC Now To The LE...           1\n",
       "6175   7043  Hillary’s High Crimes & Misdemeanors Threaten ...           1\n",
       "6328   9337  Radio Derb Is On The Air–Leonardo And Brazil’s...           1"
      ]
     },
     "execution_count": 23,
     "metadata": {},
     "output_type": "execute_result"
    }
   ],
   "source": [
    "df[df[news] == ' ']"
   ]
  },
  {
   "cell_type": "markdown",
   "id": "fba6e566-7425-49a5-aabe-db6285748a2f",
   "metadata": {},
   "source": [
    "Replacing white spaces with null."
   ]
  },
  {
   "cell_type": "code",
   "execution_count": 24,
   "id": "378de3ca-8262-4cdf-93e3-718ddbe5dcbb",
   "metadata": {
    "tags": []
   },
   "outputs": [],
   "source": [
    "df = df.replace(r'^\\s*$', np.nan, regex=True)"
   ]
  },
  {
   "cell_type": "code",
   "execution_count": 25,
   "id": "084626a9-1529-4943-a545-f435decd04b5",
   "metadata": {
    "tags": []
   },
   "outputs": [
    {
     "data": {
      "text/plain": [
       "id        0\n",
       "title     0\n",
       "text     36\n",
       "label     0\n",
       "dtype: int64"
      ]
     },
     "execution_count": 25,
     "metadata": {},
     "output_type": "execute_result"
    }
   ],
   "source": [
    "df.isna().sum()"
   ]
  },
  {
   "cell_type": "markdown",
   "id": "6704c8b2-e6e5-4aaf-8cb3-3700cc8e2fdf",
   "metadata": {},
   "source": [
    "This shows that there is increase in null values in column news as we replace articles that only had null values."
   ]
  },
  {
   "cell_type": "code",
   "execution_count": 26,
   "id": "24ae4853-327f-41e4-9109-51f15597451b",
   "metadata": {
    "tags": []
   },
   "outputs": [
    {
     "name": "stdout",
     "output_type": "stream",
     "text": [
      "Null Values distribution for 'text' on basis for realness\n",
      "Total:\t 36\n",
      "Real %:\t 0.00\n",
      "Fake %:\t 100.00\n"
     ]
    }
   ],
   "source": [
    "show_tf_distribution(df, news)"
   ]
  },
  {
   "cell_type": "markdown",
   "id": "b2b83d6c-1861-4227-b509-6f6b1e1cd9da",
   "metadata": {},
   "source": [
    "The distribution shows that all null news values still point to fake news. As these values are small compared to total dataset size, dropping them might be preferable."
   ]
  },
  {
   "cell_type": "markdown",
   "id": "f9c6dcc7-ff49-4887-a4ec-144b85a67914",
   "metadata": {},
   "source": [
    "Removing Duplicated Data"
   ]
  },
  {
   "cell_type": "code",
   "execution_count": 27,
   "id": "52fa033b-d432-447d-8e73-5d3112a98b9a",
   "metadata": {
    "tags": []
   },
   "outputs": [
    {
     "data": {
      "text/plain": [
       "6335"
      ]
     },
     "execution_count": 27,
     "metadata": {},
     "output_type": "execute_result"
    }
   ],
   "source": [
    "len(df)"
   ]
  },
  {
   "cell_type": "markdown",
   "id": "a22dcd1b-b9c8-4cdf-9791-5a037ee489b6",
   "metadata": {},
   "source": [
    "Dropping rows with no news article or headlines"
   ]
  },
  {
   "cell_type": "code",
   "execution_count": 28,
   "id": "7798d3db-d8a1-435c-8df5-3caeaab5f4ca",
   "metadata": {
    "tags": []
   },
   "outputs": [],
   "source": [
    "df_clean = df.dropna(subset=[headline,news])"
   ]
  },
  {
   "cell_type": "code",
   "execution_count": 29,
   "id": "c8ac7b8d-0ba4-4480-9aba-517a63066585",
   "metadata": {
    "tags": []
   },
   "outputs": [
    {
     "data": {
      "text/plain": [
       "6299"
      ]
     },
     "execution_count": 29,
     "metadata": {},
     "output_type": "execute_result"
    }
   ],
   "source": [
    "len(df_clean)"
   ]
  },
  {
   "cell_type": "markdown",
   "id": "525859fa-7fdc-4b58-8a77-5f7de7624802",
   "metadata": {},
   "source": [
    "Dropping rows with same headline and news articles"
   ]
  },
  {
   "cell_type": "code",
   "execution_count": 30,
   "id": "ffb3f1dc-6d92-49ed-8829-79d34dbc4ea1",
   "metadata": {
    "tags": []
   },
   "outputs": [],
   "source": [
    "df_clean = df_clean.drop_duplicates([headline, news], ignore_index=True)"
   ]
  },
  {
   "cell_type": "code",
   "execution_count": 31,
   "id": "96577c11-ef9f-4ab4-8b01-a31ea7895787",
   "metadata": {
    "tags": []
   },
   "outputs": [
    {
     "data": {
      "text/plain": [
       "6270"
      ]
     },
     "execution_count": 31,
     "metadata": {},
     "output_type": "execute_result"
    }
   ],
   "source": [
    "len(df_clean)"
   ]
  },
  {
   "cell_type": "markdown",
   "id": "a1e25978-6106-47e7-9cf0-c8c1fae9728a",
   "metadata": {},
   "source": [
    "Dropping rows with same news articles"
   ]
  },
  {
   "cell_type": "code",
   "execution_count": 32,
   "id": "c1dbcb2a-ce35-4925-942d-12e385b27545",
   "metadata": {
    "tags": []
   },
   "outputs": [],
   "source": [
    "df_clean = df_clean.drop_duplicates([news], ignore_index=True)"
   ]
  },
  {
   "cell_type": "code",
   "execution_count": 33,
   "id": "8992de9e-e06f-4502-83e0-ab133af7d59a",
   "metadata": {
    "tags": []
   },
   "outputs": [
    {
     "name": "stdout",
     "output_type": "stream",
     "text": [
      "<class 'pandas.core.frame.DataFrame'>\n",
      "RangeIndex: 6059 entries, 0 to 6058\n",
      "Data columns (total 4 columns):\n",
      " #   Column  Non-Null Count  Dtype \n",
      "---  ------  --------------  ----- \n",
      " 0   id      6059 non-null   int64 \n",
      " 1   title   6059 non-null   object\n",
      " 2   text    6059 non-null   object\n",
      " 3   label   6059 non-null   int64 \n",
      "dtypes: int64(2), object(2)\n",
      "memory usage: 189.5+ KB\n"
     ]
    }
   ],
   "source": [
    "df_clean.info()"
   ]
  },
  {
   "cell_type": "code",
   "execution_count": 34,
   "id": "7de1c9a6-de05-49f7-83d0-381539589664",
   "metadata": {
    "tags": []
   },
   "outputs": [
    {
     "data": {
      "text/plain": [
       "id       0\n",
       "title    0\n",
       "text     0\n",
       "label    0\n",
       "dtype: int64"
      ]
     },
     "execution_count": 34,
     "metadata": {},
     "output_type": "execute_result"
    }
   ],
   "source": [
    "df_clean.isna().sum()"
   ]
  },
  {
   "cell_type": "code",
   "execution_count": 35,
   "id": "6e582c98-229c-44dc-a762-7af350cadc30",
   "metadata": {
    "tags": []
   },
   "outputs": [
    {
     "data": {
      "text/plain": [
       "276"
      ]
     },
     "execution_count": 35,
     "metadata": {},
     "output_type": "execute_result"
    }
   ],
   "source": [
    "len(df) - len(df_clean)"
   ]
  },
  {
   "cell_type": "code",
   "execution_count": 36,
   "id": "941c59d7-d451-4154-bba7-5d36269f3f62",
   "metadata": {
    "tags": []
   },
   "outputs": [
    {
     "data": {
      "text/plain": [
       "1    3070\n",
       "0    2989\n",
       "Name: label, dtype: int64"
      ]
     },
     "execution_count": 36,
     "metadata": {},
     "output_type": "execute_result"
    }
   ],
   "source": [
    "df_clean.label.value_counts()"
   ]
  },
  {
   "cell_type": "markdown",
   "id": "5175b06e-2f0d-4c4f-bfc0-9f65e742354e",
   "metadata": {},
   "source": [
    "Summary"
   ]
  },
  {
   "cell_type": "markdown",
   "id": "152f01dc-b4c8-4b27-ac7d-d8a06000500c",
   "metadata": {},
   "source": [
    "276 rows of data removed on basis of not having information in news column, headline column and or having duplicate values."
   ]
  },
  {
   "cell_type": "markdown",
   "id": "72904b6e-7100-4850-8355-a11d9df027e4",
   "metadata": {
    "tags": []
   },
   "source": [
    "Exploring the dataset"
   ]
  },
  {
   "cell_type": "markdown",
   "id": "a488a9a2-98a8-4e49-9cdb-2fb4d5619449",
   "metadata": {},
   "source": [
    "Helper Function"
   ]
  },
  {
   "cell_type": "code",
   "execution_count": 37,
   "id": "bd7167d1-55dd-4f61-88fe-022f60653e34",
   "metadata": {
    "tags": []
   },
   "outputs": [],
   "source": [
    "graph_dir = os.path.join(cwd,'Graphs')"
   ]
  },
  {
   "cell_type": "code",
   "execution_count": 38,
   "id": "aa474705-f58e-4d2f-a27f-75eddc9c3506",
   "metadata": {
    "tags": []
   },
   "outputs": [],
   "source": [
    "def show_hist_for_col(df, column, title):\n",
    "    \"\"\"\n",
    "    Display a histogram for a column in a dataframe, splitting the data by label.\n",
    "    \"\"\"\n",
    "    plt.figure(figsize=(12,8))\n",
    "    df[df.label == 0][column].hist(label='True')\n",
    "    df[df.label == 1][column].hist(alpha=0.4, label='Fake')\n",
    "    plt.title(title)\n",
    "    plt.legend()\n",
    "    plt.savefig(os.path.join(graph_dir,title+'.png'), bbox_inches='tight')\n",
    "    plt.show()\n",
    "    plt.close()"
   ]
  },
  {
   "cell_type": "markdown",
   "id": "d15f4fca-b153-407f-a960-759861d2a33a",
   "metadata": {},
   "source": [
    "Distribution of Labels"
   ]
  },
  {
   "cell_type": "code",
   "execution_count": 39,
   "id": "121a07ce-022b-4802-a38d-9daabd1ccfce",
   "metadata": {
    "tags": []
   },
   "outputs": [
    {
     "data": {
      "image/png": "[encoded data removed]",
      "text/plain": [
       "<Figure size 1200x800 with 1 Axes>"
      ]
     },
     "metadata": {},
     "output_type": "display_data"
    }
   ],
   "source": [
    "plt.figure(figsize=(12,8))\n",
    "df_clean.label.hist()\n",
    "title = 'Fake or True News'\n",
    "plt.title(title)\n",
    "plt.savefig(os.path.join(graph_dir,title+'.png'), bbox_inches='tight')\n",
    "plt.show()\n",
    "plt.close()"
   ]
  },
  {
   "cell_type": "markdown",
   "id": "ae8d8f93-da85-4ed9-b622-e5be53e51e19",
   "metadata": {},
   "source": [
    "After cleaning the data there is an imbalance present but hopefully not enough to have effect on the models"
   ]
  },
  {
   "cell_type": "markdown",
   "id": "cb1b4800-4d17-4e46-b75d-dba885053961",
   "metadata": {},
   "source": [
    "Length of Headlines"
   ]
  },
  {
   "cell_type": "code",
   "execution_count": 40,
   "id": "f1da7d7d-c4f9-4f10-a79c-9fdbed28156f",
   "metadata": {
    "tags": []
   },
   "outputs": [],
   "source": [
    "df_clean['headline_len'] = df_clean[headline].str.len()"
   ]
  },
  {
   "cell_type": "code",
   "execution_count": 41,
   "id": "d7cbcca0-db47-4fab-9bc2-844eb0261a51",
   "metadata": {
    "tags": []
   },
   "outputs": [
    {
     "data": {
      "image/png": "[encoded data removed]",
      "text/plain": [
       "<Figure size 1200x800 with 1 Axes>"
      ]
     },
     "metadata": {},
     "output_type": "display_data"
    }
   ],
   "source": [
    "show_hist_for_col(df_clean, 'headline_len', 'Number of Characters in Headline')"
   ]
  },
  {
   "cell_type": "code",
   "execution_count": 42,
   "id": "0bb18494-d45c-4e09-9422-6ab2b3477787",
   "metadata": {
    "tags": []
   },
   "outputs": [
    {
     "data": {
      "text/plain": [
       "count    2989.000000\n",
       "mean       62.593510\n",
       "std        18.678381\n",
       "min        10.000000\n",
       "25%        50.000000\n",
       "50%        62.000000\n",
       "75%        74.000000\n",
       "max       148.000000\n",
       "Name: headline_len, dtype: float64"
      ]
     },
     "execution_count": 42,
     "metadata": {},
     "output_type": "execute_result"
    }
   ],
   "source": [
    "df_clean[df_clean.label == 0].headline_len.describe()"
   ]
  },
  {
   "cell_type": "code",
   "execution_count": 43,
   "id": "fda04288-7529-4d57-a7ed-a673b185fc88",
   "metadata": {
    "tags": []
   },
   "outputs": [
    {
     "data": {
      "text/plain": [
       "count    3070.000000\n",
       "mean       69.189902\n",
       "std        27.157892\n",
       "min         1.000000\n",
       "25%        51.000000\n",
       "50%        68.000000\n",
       "75%        84.000000\n",
       "max       289.000000\n",
       "Name: headline_len, dtype: float64"
      ]
     },
     "execution_count": 43,
     "metadata": {},
     "output_type": "execute_result"
    }
   ],
   "source": [
    "df_clean[df_clean.label == 1].headline_len.describe()"
   ]
  },
  {
   "cell_type": "markdown",
   "id": "0c7d0f24-6104-484a-9d14-79d8517e595e",
   "metadata": {},
   "source": [
    "Fake news stories have a wider range in the length of title than True news stories. The quartile differences between fake news articles is much larger than in case of true news article."
   ]
  },
  {
   "cell_type": "markdown",
   "id": "65077a00-d3a6-451a-9fc5-2a3842730825",
   "metadata": {},
   "source": [
    "Length of News article"
   ]
  },
  {
   "cell_type": "code",
   "execution_count": 44,
   "id": "478c4960-9548-4506-aaf3-4bb75c9dc5df",
   "metadata": {
    "tags": []
   },
   "outputs": [],
   "source": [
    "df_clean['news_len'] = df_clean[news].str.len()"
   ]
  },
  {
   "cell_type": "code",
   "execution_count": 45,
   "id": "bbe26241-3424-45f1-a5f8-96297da6d6e3",
   "metadata": {
    "tags": []
   },
   "outputs": [
    {
     "data": {
      "image/png": "[encoded data removed]",
      "text/plain": [
       "<Figure size 1200x800 with 1 Axes>"
      ]
     },
     "metadata": {},
     "output_type": "display_data"
    }
   ],
   "source": [
    "show_hist_for_col(df_clean, 'news_len', 'Length of Text for News')"
   ]
  },
  {
   "cell_type": "code",
   "execution_count": 46,
   "id": "6f2727d0-cbdd-4b87-ab64-5da4fc70695d",
   "metadata": {
    "tags": []
   },
   "outputs": [
    {
     "data": {
      "text/plain": [
       "count     2989.000000\n",
       "mean      5581.124122\n",
       "std       4294.500944\n",
       "min         43.000000\n",
       "25%       3062.000000\n",
       "50%       4841.000000\n",
       "75%       6971.000000\n",
       "max      44039.000000\n",
       "Name: news_len, dtype: float64"
      ]
     },
     "execution_count": 46,
     "metadata": {},
     "output_type": "execute_result"
    }
   ],
   "source": [
    "df_clean[df_clean.label == 0].news_len.describe()"
   ]
  },
  {
   "cell_type": "code",
   "execution_count": 47,
   "id": "7a7b23bf-bee2-4618-8785-5d156b06babe",
   "metadata": {
    "tags": []
   },
   "outputs": [
    {
     "data": {
      "text/plain": [
       "count      3070.000000\n",
       "mean       4201.697720\n",
       "std        5720.561079\n",
       "min          12.000000\n",
       "25%        1322.250000\n",
       "50%        2622.000000\n",
       "75%        5115.750000\n",
       "max      115372.000000\n",
       "Name: news_len, dtype: float64"
      ]
     },
     "execution_count": 47,
     "metadata": {},
     "output_type": "execute_result"
    }
   ],
   "source": [
    "df_clean[df_clean.label == 1].news_len.describe()"
   ]
  },
  {
   "cell_type": "code",
   "execution_count": 48,
   "id": "ecf92ed5-991a-4a23-9249-ea4c49a27d87",
   "metadata": {
    "tags": []
   },
   "outputs": [],
   "source": [
    "df_long = df_clean[df_clean.news_len > 10000]"
   ]
  },
  {
   "cell_type": "code",
   "execution_count": 49,
   "id": "687e5aea-9e89-42d3-a9f1-b876ddcb227a",
   "metadata": {
    "tags": []
   },
   "outputs": [
    {
     "data": {
      "text/html": [
       "<div>\n",
       "<style scoped>\n",
       "    .dataframe tbody tr th:only-of-type {\n",
       "        vertical-align: middle;\n",
       "    }\n",
       "\n",
       "    .dataframe tbody tr th {\n",
       "        vertical-align: top;\n",
       "    }\n",
       "\n",
       "    .dataframe thead th {\n",
       "        text-align: right;\n",
       "    }\n",
       "</style>\n",
       "<table border=\"1\" class=\"dataframe\">\n",
       "  <thead>\n",
       "    <tr style=\"text-align: right;\">\n",
       "      <th></th>\n",
       "      <th>id</th>\n",
       "      <th>title</th>\n",
       "      <th>text</th>\n",
       "      <th>label</th>\n",
       "      <th>headline_len</th>\n",
       "      <th>news_len</th>\n",
       "    </tr>\n",
       "  </thead>\n",
       "  <tbody>\n",
       "    <tr>\n",
       "      <th>5</th>\n",
       "      <td>6903</td>\n",
       "      <td>Tehran, USA</td>\n",
       "      <td>\\nI’m not an immigrant, but my grandparents ...</td>\n",
       "      <td>1</td>\n",
       "      <td>11</td>\n",
       "      <td>13333</td>\n",
       "    </tr>\n",
       "    <tr>\n",
       "      <th>8</th>\n",
       "      <td>4869</td>\n",
       "      <td>Fact check: Trump and Clinton at the 'commande...</td>\n",
       "      <td>Hillary Clinton and Donald Trump made some ina...</td>\n",
       "      <td>0</td>\n",
       "      <td>63</td>\n",
       "      <td>13863</td>\n",
       "    </tr>\n",
       "    <tr>\n",
       "      <th>15</th>\n",
       "      <td>4739</td>\n",
       "      <td>How women lead differently</td>\n",
       "      <td>As more women move into high offices, they oft...</td>\n",
       "      <td>0</td>\n",
       "      <td>26</td>\n",
       "      <td>19036</td>\n",
       "    </tr>\n",
       "    <tr>\n",
       "      <th>40</th>\n",
       "      <td>1967</td>\n",
       "      <td>Both parties want to craft populist messages f...</td>\n",
       "      <td>Presidential hopefuls in both parties agree on...</td>\n",
       "      <td>0</td>\n",
       "      <td>53</td>\n",
       "      <td>10071</td>\n",
       "    </tr>\n",
       "    <tr>\n",
       "      <th>50</th>\n",
       "      <td>3027</td>\n",
       "      <td>American politics has reached peak polarization</td>\n",
       "      <td>For a long time in American politics, we've be...</td>\n",
       "      <td>0</td>\n",
       "      <td>47</td>\n",
       "      <td>23121</td>\n",
       "    </tr>\n",
       "    <tr>\n",
       "      <th>...</th>\n",
       "      <td>...</td>\n",
       "      <td>...</td>\n",
       "      <td>...</td>\n",
       "      <td>...</td>\n",
       "      <td>...</td>\n",
       "      <td>...</td>\n",
       "    </tr>\n",
       "    <tr>\n",
       "      <th>6026</th>\n",
       "      <td>9621</td>\n",
       "      <td>Here Are Six ‘Miracle’ Drugs Big Pharma Now Re...</td>\n",
       "      <td>Here Are Six ‘Miracle’ Drugs Big Pharma Now Re...</td>\n",
       "      <td>1</td>\n",
       "      <td>62</td>\n",
       "      <td>11695</td>\n",
       "    </tr>\n",
       "    <tr>\n",
       "      <th>6034</th>\n",
       "      <td>3825</td>\n",
       "      <td>How the Obama White House runs foreign policy</td>\n",
       "      <td>When Susan E. Rice took over as President Obam...</td>\n",
       "      <td>0</td>\n",
       "      <td>45</td>\n",
       "      <td>21491</td>\n",
       "    </tr>\n",
       "    <tr>\n",
       "      <th>6046</th>\n",
       "      <td>10200</td>\n",
       "      <td>List of Republicans opposing Trump | OffGuardian</td>\n",
       "      <td>Charlie Baker , Massachusetts (2015–present)[3...</td>\n",
       "      <td>1</td>\n",
       "      <td>48</td>\n",
       "      <td>17642</td>\n",
       "    </tr>\n",
       "    <tr>\n",
       "      <th>6055</th>\n",
       "      <td>8062</td>\n",
       "      <td>The ‘P’ in PBS Should Stand for ‘Plutocratic’ ...</td>\n",
       "      <td>The ‘P’ in PBS Should Stand for ‘Plutocratic’ ...</td>\n",
       "      <td>1</td>\n",
       "      <td>59</td>\n",
       "      <td>14323</td>\n",
       "    </tr>\n",
       "    <tr>\n",
       "      <th>6056</th>\n",
       "      <td>8622</td>\n",
       "      <td>Anti-Trump Protesters Are Tools of the Oligarc...</td>\n",
       "      <td>Anti-Trump Protesters Are Tools of the Oligar...</td>\n",
       "      <td>1</td>\n",
       "      <td>66</td>\n",
       "      <td>11974</td>\n",
       "    </tr>\n",
       "  </tbody>\n",
       "</table>\n",
       "<p>486 rows × 6 columns</p>\n",
       "</div>"
      ],
      "text/plain": [
       "         id                                              title  \\\n",
       "5      6903                                        Tehran, USA   \n",
       "8      4869  Fact check: Trump and Clinton at the 'commande...   \n",
       "15     4739                         How women lead differently   \n",
       "40     1967  Both parties want to craft populist messages f...   \n",
       "50     3027    American politics has reached peak polarization   \n",
       "...     ...                                                ...   \n",
       "6026   9621  Here Are Six ‘Miracle’ Drugs Big Pharma Now Re...   \n",
       "6034   3825      How the Obama White House runs foreign policy   \n",
       "6046  10200   List of Republicans opposing Trump | OffGuardian   \n",
       "6055   8062  The ‘P’ in PBS Should Stand for ‘Plutocratic’ ...   \n",
       "6056   8622  Anti-Trump Protesters Are Tools of the Oligarc...   \n",
       "\n",
       "                                                   text  label  headline_len  \\\n",
       "5       \\nI’m not an immigrant, but my grandparents ...      1            11   \n",
       "8     Hillary Clinton and Donald Trump made some ina...      0            63   \n",
       "15    As more women move into high offices, they oft...      0            26   \n",
       "40    Presidential hopefuls in both parties agree on...      0            53   \n",
       "50    For a long time in American politics, we've be...      0            47   \n",
       "...                                                 ...    ...           ...   \n",
       "6026  Here Are Six ‘Miracle’ Drugs Big Pharma Now Re...      1            62   \n",
       "6034  When Susan E. Rice took over as President Obam...      0            45   \n",
       "6046  Charlie Baker , Massachusetts (2015–present)[3...      1            48   \n",
       "6055  The ‘P’ in PBS Should Stand for ‘Plutocratic’ ...      1            59   \n",
       "6056   Anti-Trump Protesters Are Tools of the Oligar...      1            66   \n",
       "\n",
       "      news_len  \n",
       "5        13333  \n",
       "8        13863  \n",
       "15       19036  \n",
       "40       10071  \n",
       "50       23121  \n",
       "...        ...  \n",
       "6026     11695  \n",
       "6034     21491  \n",
       "6046     17642  \n",
       "6055     14323  \n",
       "6056     11974  \n",
       "\n",
       "[486 rows x 6 columns]"
      ]
     },
     "execution_count": 49,
     "metadata": {},
     "output_type": "execute_result"
    }
   ],
   "source": [
    "df_long"
   ]
  },
  {
   "cell_type": "code",
   "execution_count": 50,
   "id": "624da3af-6944-4043-9352-fef3b7db108b",
   "metadata": {
    "tags": []
   },
   "outputs": [
    {
     "data": {
      "text/plain": [
       "1    245\n",
       "0    241\n",
       "Name: label, dtype: int64"
      ]
     },
     "execution_count": 50,
     "metadata": {},
     "output_type": "execute_result"
    }
   ],
   "source": [
    "df_long.label.value_counts()"
   ]
  },
  {
   "cell_type": "markdown",
   "id": "d1e958b6-d831-4171-8da0-172c9298edd1",
   "metadata": {
    "tags": []
   },
   "source": [
    "ok there does not seem to be bias in long stories towards either type of articles so they will be kept. also fake news article have shown much higher max story size and significantly lower quartile scores across the board."
   ]
  },
  {
   "cell_type": "markdown",
   "id": "b069f5f4-6bcf-4e54-9d12-6988d5f276c9",
   "metadata": {},
   "source": [
    "Capital letters in headline."
   ]
  },
  {
   "cell_type": "code",
   "execution_count": 51,
   "id": "f18b16f9-9f07-4a25-9fa0-787190459db9",
   "metadata": {
    "tags": []
   },
   "outputs": [],
   "source": [
    "df_clean['caps_in_headline'] = df_clean[headline].apply(lambda headline: sum(1 for char in headline if char.isupper()))"
   ]
  },
  {
   "cell_type": "code",
   "execution_count": 52,
   "id": "84e7a135-ee8b-4130-b7a3-4758e27c0adc",
   "metadata": {
    "tags": []
   },
   "outputs": [
    {
     "data": {
      "text/html": [
       "<div>\n",
       "<style scoped>\n",
       "    .dataframe tbody tr th:only-of-type {\n",
       "        vertical-align: middle;\n",
       "    }\n",
       "\n",
       "    .dataframe tbody tr th {\n",
       "        vertical-align: top;\n",
       "    }\n",
       "\n",
       "    .dataframe thead th {\n",
       "        text-align: right;\n",
       "    }\n",
       "</style>\n",
       "<table border=\"1\" class=\"dataframe\">\n",
       "  <thead>\n",
       "    <tr style=\"text-align: right;\">\n",
       "      <th></th>\n",
       "      <th>id</th>\n",
       "      <th>title</th>\n",
       "      <th>text</th>\n",
       "      <th>label</th>\n",
       "      <th>headline_len</th>\n",
       "      <th>news_len</th>\n",
       "      <th>caps_in_headline</th>\n",
       "    </tr>\n",
       "  </thead>\n",
       "  <tbody>\n",
       "    <tr>\n",
       "      <th>0</th>\n",
       "      <td>8476</td>\n",
       "      <td>You Can Smell Hillary’s Fear</td>\n",
       "      <td>Daniel Greenfield, a Shillman Journalism Fello...</td>\n",
       "      <td>1</td>\n",
       "      <td>28</td>\n",
       "      <td>7518</td>\n",
       "      <td>5</td>\n",
       "    </tr>\n",
       "    <tr>\n",
       "      <th>1</th>\n",
       "      <td>10294</td>\n",
       "      <td>Watch The Exact Moment Paul Ryan Committed Pol...</td>\n",
       "      <td>Google Pinterest Digg Linkedin Reddit Stumbleu...</td>\n",
       "      <td>1</td>\n",
       "      <td>85</td>\n",
       "      <td>2646</td>\n",
       "      <td>18</td>\n",
       "    </tr>\n",
       "    <tr>\n",
       "      <th>2</th>\n",
       "      <td>3608</td>\n",
       "      <td>Kerry to go to Paris in gesture of sympathy</td>\n",
       "      <td>U.S. Secretary of State John F. Kerry said Mon...</td>\n",
       "      <td>0</td>\n",
       "      <td>43</td>\n",
       "      <td>2543</td>\n",
       "      <td>2</td>\n",
       "    </tr>\n",
       "    <tr>\n",
       "      <th>3</th>\n",
       "      <td>10142</td>\n",
       "      <td>Bernie supporters on Twitter erupt in anger ag...</td>\n",
       "      <td>— Kaydee King (@KaydeeKing) November 9, 2016 T...</td>\n",
       "      <td>1</td>\n",
       "      <td>84</td>\n",
       "      <td>2660</td>\n",
       "      <td>6</td>\n",
       "    </tr>\n",
       "    <tr>\n",
       "      <th>4</th>\n",
       "      <td>875</td>\n",
       "      <td>The Battle of New York: Why This Primary Matters</td>\n",
       "      <td>It's primary day in New York and front-runners...</td>\n",
       "      <td>0</td>\n",
       "      <td>48</td>\n",
       "      <td>1840</td>\n",
       "      <td>8</td>\n",
       "    </tr>\n",
       "    <tr>\n",
       "      <th>...</th>\n",
       "      <td>...</td>\n",
       "      <td>...</td>\n",
       "      <td>...</td>\n",
       "      <td>...</td>\n",
       "      <td>...</td>\n",
       "      <td>...</td>\n",
       "      <td>...</td>\n",
       "    </tr>\n",
       "    <tr>\n",
       "      <th>6054</th>\n",
       "      <td>4490</td>\n",
       "      <td>State Department says it can't find emails fro...</td>\n",
       "      <td>The State Department told the Republican Natio...</td>\n",
       "      <td>0</td>\n",
       "      <td>69</td>\n",
       "      <td>4076</td>\n",
       "      <td>5</td>\n",
       "    </tr>\n",
       "    <tr>\n",
       "      <th>6055</th>\n",
       "      <td>8062</td>\n",
       "      <td>The ‘P’ in PBS Should Stand for ‘Plutocratic’ ...</td>\n",
       "      <td>The ‘P’ in PBS Should Stand for ‘Plutocratic’ ...</td>\n",
       "      <td>1</td>\n",
       "      <td>59</td>\n",
       "      <td>14323</td>\n",
       "      <td>9</td>\n",
       "    </tr>\n",
       "    <tr>\n",
       "      <th>6056</th>\n",
       "      <td>8622</td>\n",
       "      <td>Anti-Trump Protesters Are Tools of the Oligarc...</td>\n",
       "      <td>Anti-Trump Protesters Are Tools of the Oligar...</td>\n",
       "      <td>1</td>\n",
       "      <td>66</td>\n",
       "      <td>11974</td>\n",
       "      <td>7</td>\n",
       "    </tr>\n",
       "    <tr>\n",
       "      <th>6057</th>\n",
       "      <td>4021</td>\n",
       "      <td>In Ethiopia, Obama seeks progress on peace, se...</td>\n",
       "      <td>ADDIS ABABA, Ethiopia —President Obama convene...</td>\n",
       "      <td>0</td>\n",
       "      <td>67</td>\n",
       "      <td>6991</td>\n",
       "      <td>5</td>\n",
       "    </tr>\n",
       "    <tr>\n",
       "      <th>6058</th>\n",
       "      <td>4330</td>\n",
       "      <td>Jeb Bush Is Suddenly Attacking Trump. Here's W...</td>\n",
       "      <td>Jeb Bush Is Suddenly Attacking Trump. Here's W...</td>\n",
       "      <td>0</td>\n",
       "      <td>61</td>\n",
       "      <td>4818</td>\n",
       "      <td>10</td>\n",
       "    </tr>\n",
       "  </tbody>\n",
       "</table>\n",
       "<p>6059 rows × 7 columns</p>\n",
       "</div>"
      ],
      "text/plain": [
       "         id                                              title  \\\n",
       "0      8476                       You Can Smell Hillary’s Fear   \n",
       "1     10294  Watch The Exact Moment Paul Ryan Committed Pol...   \n",
       "2      3608        Kerry to go to Paris in gesture of sympathy   \n",
       "3     10142  Bernie supporters on Twitter erupt in anger ag...   \n",
       "4       875   The Battle of New York: Why This Primary Matters   \n",
       "...     ...                                                ...   \n",
       "6054   4490  State Department says it can't find emails fro...   \n",
       "6055   8062  The ‘P’ in PBS Should Stand for ‘Plutocratic’ ...   \n",
       "6056   8622  Anti-Trump Protesters Are Tools of the Oligarc...   \n",
       "6057   4021  In Ethiopia, Obama seeks progress on peace, se...   \n",
       "6058   4330  Jeb Bush Is Suddenly Attacking Trump. Here's W...   \n",
       "\n",
       "                                                   text  label  headline_len  \\\n",
       "0     Daniel Greenfield, a Shillman Journalism Fello...      1            28   \n",
       "1     Google Pinterest Digg Linkedin Reddit Stumbleu...      1            85   \n",
       "2     U.S. Secretary of State John F. Kerry said Mon...      0            43   \n",
       "3     — Kaydee King (@KaydeeKing) November 9, 2016 T...      1            84   \n",
       "4     It's primary day in New York and front-runners...      0            48   \n",
       "...                                                 ...    ...           ...   \n",
       "6054  The State Department told the Republican Natio...      0            69   \n",
       "6055  The ‘P’ in PBS Should Stand for ‘Plutocratic’ ...      1            59   \n",
       "6056   Anti-Trump Protesters Are Tools of the Oligar...      1            66   \n",
       "6057  ADDIS ABABA, Ethiopia —President Obama convene...      0            67   \n",
       "6058  Jeb Bush Is Suddenly Attacking Trump. Here's W...      0            61   \n",
       "\n",
       "      news_len  caps_in_headline  \n",
       "0         7518                 5  \n",
       "1         2646                18  \n",
       "2         2543                 2  \n",
       "3         2660                 6  \n",
       "4         1840                 8  \n",
       "...        ...               ...  \n",
       "6054      4076                 5  \n",
       "6055     14323                 9  \n",
       "6056     11974                 7  \n",
       "6057      6991                 5  \n",
       "6058      4818                10  \n",
       "\n",
       "[6059 rows x 7 columns]"
      ]
     },
     "execution_count": 52,
     "metadata": {},
     "output_type": "execute_result"
    }
   ],
   "source": [
    "df_clean"
   ]
  },
  {
   "cell_type": "code",
   "execution_count": 53,
   "id": "4e9fe8c3-d12f-4f5b-a46f-f7a54bf199d1",
   "metadata": {
    "tags": []
   },
   "outputs": [
    {
     "data": {
      "image/png": "[encoded data removed]",
      "text/plain": [
       "<Figure size 1200x800 with 1 Axes>"
      ]
     },
     "metadata": {},
     "output_type": "display_data"
    }
   ],
   "source": [
    "show_hist_for_col(df_clean, 'caps_in_headline', 'Number of Capitals in Headline')"
   ]
  },
  {
   "cell_type": "code",
   "execution_count": 54,
   "id": "9773a3ec-5d95-4e7d-8e77-222b37c82d8c",
   "metadata": {
    "tags": []
   },
   "outputs": [
    {
     "data": {
      "text/plain": [
       "count    2989.000000\n",
       "mean        4.843091\n",
       "std         3.246222\n",
       "min         0.000000\n",
       "25%         2.000000\n",
       "50%         4.000000\n",
       "75%         7.000000\n",
       "max        26.000000\n",
       "Name: caps_in_headline, dtype: float64"
      ]
     },
     "execution_count": 54,
     "metadata": {},
     "output_type": "execute_result"
    }
   ],
   "source": [
    "df_clean[df_clean.label == 0].caps_in_headline.describe()"
   ]
  },
  {
   "cell_type": "code",
   "execution_count": 55,
   "id": "c358d5ab-46e7-438e-afe3-b191c8141f40",
   "metadata": {
    "tags": []
   },
   "outputs": [
    {
     "data": {
      "text/plain": [
       "count    3070.000000\n",
       "mean       10.614984\n",
       "std         9.407693\n",
       "min         0.000000\n",
       "25%         5.000000\n",
       "50%         9.000000\n",
       "75%        13.000000\n",
       "max       110.000000\n",
       "Name: caps_in_headline, dtype: float64"
      ]
     },
     "execution_count": 55,
     "metadata": {},
     "output_type": "execute_result"
    }
   ],
   "source": [
    "df_clean[df_clean.label == 1].caps_in_headline.describe()"
   ]
  },
  {
   "cell_type": "markdown",
   "id": "0a0d6ccb-feff-4fc0-92c5-b655eaf8a840",
   "metadata": {},
   "source": [
    "There is much more deviation in number of Capital letter in headline in fake news articles. also fake news articles have much more amount of Capital letter in headline."
   ]
  },
  {
   "cell_type": "code",
   "execution_count": 56,
   "id": "99816261-6819-4655-b8b3-eb1672b912be",
   "metadata": {
    "tags": []
   },
   "outputs": [],
   "source": [
    "df_clean['norm_caps_in_headline'] = df_clean['caps_in_headline'] / df_clean['headline_len']"
   ]
  },
  {
   "cell_type": "code",
   "execution_count": 57,
   "id": "07e14af8-c5b6-453f-a572-458afda7ee9d",
   "metadata": {
    "tags": []
   },
   "outputs": [
    {
     "data": {
      "image/png": "[encoded data removed]",
      "text/plain": [
       "<Figure size 1200x800 with 1 Axes>"
      ]
     },
     "metadata": {},
     "output_type": "display_data"
    }
   ],
   "source": [
    "show_hist_for_col(df_clean, 'norm_caps_in_headline', 'Percentage of Capitals in Headline')"
   ]
  },
  {
   "cell_type": "code",
   "execution_count": 58,
   "id": "d447be6c-281d-429b-adea-02094cad8220",
   "metadata": {
    "tags": []
   },
   "outputs": [
    {
     "data": {
      "text/plain": [
       "count    2989.000000\n",
       "mean        0.081292\n",
       "std         0.053872\n",
       "min         0.000000\n",
       "25%         0.040541\n",
       "50%         0.063291\n",
       "75%         0.121212\n",
       "max         0.666667\n",
       "Name: norm_caps_in_headline, dtype: float64"
      ]
     },
     "execution_count": 58,
     "metadata": {},
     "output_type": "execute_result"
    }
   ],
   "source": [
    "df_clean[df_clean.label == 0].norm_caps_in_headline.describe()"
   ]
  },
  {
   "cell_type": "code",
   "execution_count": 59,
   "id": "6fe2cab8-f92f-4c88-8bcc-7ed1e9cb6f65",
   "metadata": {
    "tags": []
   },
   "outputs": [
    {
     "data": {
      "text/plain": [
       "count    3070.000000\n",
       "mean        0.153352\n",
       "std         0.116351\n",
       "min         0.000000\n",
       "25%         0.105798\n",
       "50%         0.141101\n",
       "75%         0.172840\n",
       "max         0.923077\n",
       "Name: norm_caps_in_headline, dtype: float64"
      ]
     },
     "execution_count": 59,
     "metadata": {},
     "output_type": "execute_result"
    }
   ],
   "source": [
    "df_clean[df_clean.label == 1].norm_caps_in_headline.describe()"
   ]
  },
  {
   "cell_type": "markdown",
   "id": "7d591ab2-6563-4dc3-8243-35eed3cbdc07",
   "metadata": {},
   "source": [
    "percentage of capitals may be useful as even first quartile of percentage of capitals in fake news is larger than even third quartile in true news article. but this might not be generalizable"
   ]
  },
  {
   "cell_type": "markdown",
   "id": "147671ee-2c48-44d6-a7ec-6dce13a3b2a0",
   "metadata": {},
   "source": [
    "Capital in news article"
   ]
  },
  {
   "cell_type": "code",
   "execution_count": 60,
   "id": "c2e8b3c0-0a65-434d-ab97-293e75a68b03",
   "metadata": {
    "tags": []
   },
   "outputs": [],
   "source": [
    "df_clean['caps_in_news'] = df_clean[news].apply(lambda news: sum(1 for char in news if char.isupper()))"
   ]
  },
  {
   "cell_type": "code",
   "execution_count": 61,
   "id": "c0ef71d4-0eb5-4fc3-9b45-e85f247c5935",
   "metadata": {
    "tags": []
   },
   "outputs": [
    {
     "data": {
      "image/png": "[encoded data removed]",
      "text/plain": [
       "<Figure size 1200x800 with 1 Axes>"
      ]
     },
     "metadata": {},
     "output_type": "display_data"
    }
   ],
   "source": [
    "show_hist_for_col(df_clean, 'caps_in_news', 'Number of Capitals in News')"
   ]
  },
  {
   "cell_type": "code",
   "execution_count": 62,
   "id": "076a5bb7-a9e8-48c2-943e-0983b611e4e2",
   "metadata": {
    "tags": []
   },
   "outputs": [
    {
     "data": {
      "text/plain": [
       "count    2989.000000\n",
       "mean      167.921713\n",
       "std       143.723958\n",
       "min         1.000000\n",
       "25%        91.000000\n",
       "50%       141.000000\n",
       "75%       206.000000\n",
       "max      1523.000000\n",
       "Name: caps_in_news, dtype: float64"
      ]
     },
     "execution_count": 62,
     "metadata": {},
     "output_type": "execute_result"
    }
   ],
   "source": [
    "df_clean[df_clean.label == 0].caps_in_news.describe()"
   ]
  },
  {
   "cell_type": "code",
   "execution_count": 63,
   "id": "484a9074-e866-48ad-b712-518d96e406a3",
   "metadata": {
    "tags": []
   },
   "outputs": [
    {
     "data": {
      "text/plain": [
       "count    3070.000000\n",
       "mean      150.802932\n",
       "std       206.059915\n",
       "min         0.000000\n",
       "25%        51.000000\n",
       "50%        99.000000\n",
       "75%       179.750000\n",
       "max      3891.000000\n",
       "Name: caps_in_news, dtype: float64"
      ]
     },
     "execution_count": 63,
     "metadata": {},
     "output_type": "execute_result"
    }
   ],
   "source": [
    "df_clean[df_clean.label == 1].caps_in_news.describe()"
   ]
  },
  {
   "cell_type": "code",
   "execution_count": 64,
   "id": "a80f56c1-a963-4356-a8c6-da1b098daaf0",
   "metadata": {
    "tags": []
   },
   "outputs": [],
   "source": [
    "df_clean['norm_caps_in_news'] = df_clean['caps_in_news'] / df_clean['news_len']"
   ]
  },
  {
   "cell_type": "code",
   "execution_count": 65,
   "id": "76f74458-9c01-4435-8a02-ed4aa43fccd7",
   "metadata": {
    "tags": []
   },
   "outputs": [
    {
     "data": {
      "image/png": "[encoded data removed]",
      "text/plain": [
       "<Figure size 1200x800 with 1 Axes>"
      ]
     },
     "metadata": {},
     "output_type": "display_data"
    }
   ],
   "source": [
    "show_hist_for_col(df_clean, 'norm_caps_in_news', 'Percentage of Capitals in News')"
   ]
  },
  {
   "cell_type": "code",
   "execution_count": 66,
   "id": "a6b182f3-4c74-438d-9df5-35561ff6e6a1",
   "metadata": {
    "tags": []
   },
   "outputs": [
    {
     "data": {
      "text/plain": [
       "count    2989.000000\n",
       "mean        0.031098\n",
       "std         0.010777\n",
       "min         0.008264\n",
       "25%         0.025330\n",
       "50%         0.029963\n",
       "75%         0.035181\n",
       "max         0.297271\n",
       "Name: norm_caps_in_news, dtype: float64"
      ]
     },
     "execution_count": 66,
     "metadata": {},
     "output_type": "execute_result"
    }
   ],
   "source": [
    "df_clean[df_clean.label == 0].norm_caps_in_news.describe()"
   ]
  },
  {
   "cell_type": "code",
   "execution_count": 67,
   "id": "b839c437-d2a1-49c0-b46a-b42e3b34c5ce",
   "metadata": {
    "tags": []
   },
   "outputs": [
    {
     "data": {
      "text/plain": [
       "count    3070.000000\n",
       "mean        0.043491\n",
       "std         0.037737\n",
       "min         0.000000\n",
       "25%         0.028113\n",
       "50%         0.036372\n",
       "75%         0.047867\n",
       "max         0.846154\n",
       "Name: norm_caps_in_news, dtype: float64"
      ]
     },
     "execution_count": 67,
     "metadata": {},
     "output_type": "execute_result"
    }
   ],
   "source": [
    "df_clean[df_clean.label == 1].norm_caps_in_news.describe()"
   ]
  },
  {
   "cell_type": "markdown",
   "id": "fb1731dd-2256-4193-b85c-6e371a9c71d6",
   "metadata": {},
   "source": [
    "There is a lot of overlap in number of capitals in news article between fake and real news."
   ]
  },
  {
   "cell_type": "code",
   "execution_count": 68,
   "id": "8cf7d3b1-55d1-41d7-a71c-4a111b65001b",
   "metadata": {
    "tags": []
   },
   "outputs": [],
   "source": [
    "def check_string_for(substring, fullstring):\n",
    "    \"\"\"Check if the substring is in the fullstring\"\"\"\n",
    "    if search(substring, fullstring):\n",
    "        return True\n",
    "    else:\n",
    "        return False"
   ]
  },
  {
   "cell_type": "markdown",
   "id": "85541851-344c-4a80-84ce-8b3d69dbbaca",
   "metadata": {},
   "source": [
    "Via and Image Via in article"
   ]
  },
  {
   "cell_type": "code",
   "execution_count": 69,
   "id": "e6a2f245-d5c7-49f5-ade7-a1b3750fadab",
   "metadata": {
    "tags": []
   },
   "outputs": [],
   "source": [
    "df_via = df_clean[df_clean[news].apply(lambda news_text: check_string_for(' via', news_text))]"
   ]
  },
  {
   "cell_type": "code",
   "execution_count": 70,
   "id": "b1c424b5-f41f-4eab-88fe-6201d8b695e8",
   "metadata": {
    "tags": []
   },
   "outputs": [
    {
     "data": {
      "text/html": [
       "<div>\n",
       "<style scoped>\n",
       "    .dataframe tbody tr th:only-of-type {\n",
       "        vertical-align: middle;\n",
       "    }\n",
       "\n",
       "    .dataframe tbody tr th {\n",
       "        vertical-align: top;\n",
       "    }\n",
       "\n",
       "    .dataframe thead th {\n",
       "        text-align: right;\n",
       "    }\n",
       "</style>\n",
       "<table border=\"1\" class=\"dataframe\">\n",
       "  <thead>\n",
       "    <tr style=\"text-align: right;\">\n",
       "      <th></th>\n",
       "      <th>id</th>\n",
       "      <th>title</th>\n",
       "      <th>text</th>\n",
       "      <th>label</th>\n",
       "      <th>headline_len</th>\n",
       "      <th>news_len</th>\n",
       "      <th>caps_in_headline</th>\n",
       "      <th>norm_caps_in_headline</th>\n",
       "      <th>caps_in_news</th>\n",
       "      <th>norm_caps_in_news</th>\n",
       "    </tr>\n",
       "  </thead>\n",
       "  <tbody>\n",
       "    <tr>\n",
       "      <th>1</th>\n",
       "      <td>10294</td>\n",
       "      <td>Watch The Exact Moment Paul Ryan Committed Pol...</td>\n",
       "      <td>Google Pinterest Digg Linkedin Reddit Stumbleu...</td>\n",
       "      <td>1</td>\n",
       "      <td>85</td>\n",
       "      <td>2646</td>\n",
       "      <td>18</td>\n",
       "      <td>0.211765</td>\n",
       "      <td>96</td>\n",
       "      <td>0.036281</td>\n",
       "    </tr>\n",
       "    <tr>\n",
       "      <th>28</th>\n",
       "      <td>691</td>\n",
       "      <td>Pure chaos: Donald Trump’s campaign management...</td>\n",
       "      <td>If you want a glimpse into a presidential cand...</td>\n",
       "      <td>0</td>\n",
       "      <td>119</td>\n",
       "      <td>3522</td>\n",
       "      <td>3</td>\n",
       "      <td>0.025210</td>\n",
       "      <td>62</td>\n",
       "      <td>0.017604</td>\n",
       "    </tr>\n",
       "    <tr>\n",
       "      <th>41</th>\n",
       "      <td>431</td>\n",
       "      <td>First Take: Wall Street bids goodbye to June hike</td>\n",
       "      <td>NEW YORK -- Bye bye June rate hike. That was t...</td>\n",
       "      <td>0</td>\n",
       "      <td>49</td>\n",
       "      <td>2768</td>\n",
       "      <td>5</td>\n",
       "      <td>0.102041</td>\n",
       "      <td>113</td>\n",
       "      <td>0.040824</td>\n",
       "    </tr>\n",
       "    <tr>\n",
       "      <th>67</th>\n",
       "      <td>3648</td>\n",
       "      <td>FBI checking if Orlando shooter's wife knew at...</td>\n",
       "      <td>The wife of the gunman who carried out the dea...</td>\n",
       "      <td>0</td>\n",
       "      <td>78</td>\n",
       "      <td>8236</td>\n",
       "      <td>4</td>\n",
       "      <td>0.051282</td>\n",
       "      <td>249</td>\n",
       "      <td>0.030233</td>\n",
       "    </tr>\n",
       "    <tr>\n",
       "      <th>103</th>\n",
       "      <td>4933</td>\n",
       "      <td>Where is Gary Johnson?</td>\n",
       "      <td>(CNN) Conservatives dissatisfied with Donald T...</td>\n",
       "      <td>0</td>\n",
       "      <td>22</td>\n",
       "      <td>7558</td>\n",
       "      <td>3</td>\n",
       "      <td>0.136364</td>\n",
       "      <td>243</td>\n",
       "      <td>0.032151</td>\n",
       "    </tr>\n",
       "    <tr>\n",
       "      <th>...</th>\n",
       "      <td>...</td>\n",
       "      <td>...</td>\n",
       "      <td>...</td>\n",
       "      <td>...</td>\n",
       "      <td>...</td>\n",
       "      <td>...</td>\n",
       "      <td>...</td>\n",
       "      <td>...</td>\n",
       "      <td>...</td>\n",
       "      <td>...</td>\n",
       "    </tr>\n",
       "    <tr>\n",
       "      <th>6013</th>\n",
       "      <td>9817</td>\n",
       "      <td>President Elect Trump – A New Era of Unpredict...</td>\n",
       "      <td>President Elect Trump – A New Era of Unpredict...</td>\n",
       "      <td>1</td>\n",
       "      <td>60</td>\n",
       "      <td>6320</td>\n",
       "      <td>8</td>\n",
       "      <td>0.133333</td>\n",
       "      <td>221</td>\n",
       "      <td>0.034968</td>\n",
       "    </tr>\n",
       "    <tr>\n",
       "      <th>6014</th>\n",
       "      <td>7900</td>\n",
       "      <td>Duterte Pulls a 180: China to Build Fake Islan...</td>\n",
       "      <td>Duterte Pulls a 180: China to Build Fake Islan...</td>\n",
       "      <td>1</td>\n",
       "      <td>75</td>\n",
       "      <td>3808</td>\n",
       "      <td>10</td>\n",
       "      <td>0.133333</td>\n",
       "      <td>148</td>\n",
       "      <td>0.038866</td>\n",
       "    </tr>\n",
       "    <tr>\n",
       "      <th>6015</th>\n",
       "      <td>2776</td>\n",
       "      <td>Treasury will begin issuing Iran sanctions wai...</td>\n",
       "      <td>WASHINGTON — President Obama signed an order S...</td>\n",
       "      <td>0</td>\n",
       "      <td>68</td>\n",
       "      <td>4915</td>\n",
       "      <td>3</td>\n",
       "      <td>0.044118</td>\n",
       "      <td>125</td>\n",
       "      <td>0.025432</td>\n",
       "    </tr>\n",
       "    <tr>\n",
       "      <th>6035</th>\n",
       "      <td>4515</td>\n",
       "      <td>ISIS claims responsibility for Garland, Texas,...</td>\n",
       "      <td>(CNN) ISIS has claimed responsibility for the ...</td>\n",
       "      <td>0</td>\n",
       "      <td>55</td>\n",
       "      <td>5481</td>\n",
       "      <td>6</td>\n",
       "      <td>0.109091</td>\n",
       "      <td>213</td>\n",
       "      <td>0.038862</td>\n",
       "    </tr>\n",
       "    <tr>\n",
       "      <th>6053</th>\n",
       "      <td>8737</td>\n",
       "      <td>Assange claims ‘crazed’ Clinton campaign tried...</td>\n",
       "      <td>Julian Assange has claimed the Hillary Clinton...</td>\n",
       "      <td>1</td>\n",
       "      <td>64</td>\n",
       "      <td>2572</td>\n",
       "      <td>4</td>\n",
       "      <td>0.062500</td>\n",
       "      <td>72</td>\n",
       "      <td>0.027994</td>\n",
       "    </tr>\n",
       "  </tbody>\n",
       "</table>\n",
       "<p>448 rows × 10 columns</p>\n",
       "</div>"
      ],
      "text/plain": [
       "         id                                              title  \\\n",
       "1     10294  Watch The Exact Moment Paul Ryan Committed Pol...   \n",
       "28      691  Pure chaos: Donald Trump’s campaign management...   \n",
       "41      431  First Take: Wall Street bids goodbye to June hike   \n",
       "67     3648  FBI checking if Orlando shooter's wife knew at...   \n",
       "103    4933                             Where is Gary Johnson?   \n",
       "...     ...                                                ...   \n",
       "6013   9817  President Elect Trump – A New Era of Unpredict...   \n",
       "6014   7900  Duterte Pulls a 180: China to Build Fake Islan...   \n",
       "6015   2776  Treasury will begin issuing Iran sanctions wai...   \n",
       "6035   4515  ISIS claims responsibility for Garland, Texas,...   \n",
       "6053   8737  Assange claims ‘crazed’ Clinton campaign tried...   \n",
       "\n",
       "                                                   text  label  headline_len  \\\n",
       "1     Google Pinterest Digg Linkedin Reddit Stumbleu...      1            85   \n",
       "28    If you want a glimpse into a presidential cand...      0           119   \n",
       "41    NEW YORK -- Bye bye June rate hike. That was t...      0            49   \n",
       "67    The wife of the gunman who carried out the dea...      0            78   \n",
       "103   (CNN) Conservatives dissatisfied with Donald T...      0            22   \n",
       "...                                                 ...    ...           ...   \n",
       "6013  President Elect Trump – A New Era of Unpredict...      1            60   \n",
       "6014  Duterte Pulls a 180: China to Build Fake Islan...      1            75   \n",
       "6015  WASHINGTON — President Obama signed an order S...      0            68   \n",
       "6035  (CNN) ISIS has claimed responsibility for the ...      0            55   \n",
       "6053  Julian Assange has claimed the Hillary Clinton...      1            64   \n",
       "\n",
       "      news_len  caps_in_headline  norm_caps_in_headline  caps_in_news  \\\n",
       "1         2646                18               0.211765            96   \n",
       "28        3522                 3               0.025210            62   \n",
       "41        2768                 5               0.102041           113   \n",
       "67        8236                 4               0.051282           249   \n",
       "103       7558                 3               0.136364           243   \n",
       "...        ...               ...                    ...           ...   \n",
       "6013      6320                 8               0.133333           221   \n",
       "6014      3808                10               0.133333           148   \n",
       "6015      4915                 3               0.044118           125   \n",
       "6035      5481                 6               0.109091           213   \n",
       "6053      2572                 4               0.062500            72   \n",
       "\n",
       "      norm_caps_in_news  \n",
       "1              0.036281  \n",
       "28             0.017604  \n",
       "41             0.040824  \n",
       "67             0.030233  \n",
       "103            0.032151  \n",
       "...                 ...  \n",
       "6013           0.034968  \n",
       "6014           0.038866  \n",
       "6015           0.025432  \n",
       "6035           0.038862  \n",
       "6053           0.027994  \n",
       "\n",
       "[448 rows x 10 columns]"
      ]
     },
     "execution_count": 70,
     "metadata": {},
     "output_type": "execute_result"
    }
   ],
   "source": [
    "df_via"
   ]
  },
  {
   "cell_type": "code",
   "execution_count": 71,
   "id": "e6d9dfb4-a8bf-4373-bf50-2ee64f67e23d",
   "metadata": {
    "tags": []
   },
   "outputs": [
    {
     "data": {
      "text/plain": [
       "1    283\n",
       "0    165\n",
       "Name: label, dtype: int64"
      ]
     },
     "execution_count": 71,
     "metadata": {},
     "output_type": "execute_result"
    }
   ],
   "source": [
    "df_via['label'].value_counts()"
   ]
  },
  {
   "cell_type": "markdown",
   "id": "588642d4-23c6-42e1-9bc9-4cfab3373492",
   "metadata": {},
   "source": [
    "Via is much more indicative of fake news article compared to true news article."
   ]
  },
  {
   "cell_type": "code",
   "execution_count": 72,
   "id": "150ef478-cb23-403b-b0ac-b56cc6d4f64d",
   "metadata": {
    "tags": []
   },
   "outputs": [],
   "source": [
    "df_image_via = df_clean[df_clean[news].apply(lambda news_text: check_string_for('image via', news_text))]"
   ]
  },
  {
   "cell_type": "code",
   "execution_count": 73,
   "id": "be585078-46d9-45a4-b14d-0ce4d6c939e3",
   "metadata": {
    "tags": []
   },
   "outputs": [
    {
     "data": {
      "text/html": [
       "<div>\n",
       "<style scoped>\n",
       "    .dataframe tbody tr th:only-of-type {\n",
       "        vertical-align: middle;\n",
       "    }\n",
       "\n",
       "    .dataframe tbody tr th {\n",
       "        vertical-align: top;\n",
       "    }\n",
       "\n",
       "    .dataframe thead th {\n",
       "        text-align: right;\n",
       "    }\n",
       "</style>\n",
       "<table border=\"1\" class=\"dataframe\">\n",
       "  <thead>\n",
       "    <tr style=\"text-align: right;\">\n",
       "      <th></th>\n",
       "      <th>id</th>\n",
       "      <th>title</th>\n",
       "      <th>text</th>\n",
       "      <th>label</th>\n",
       "      <th>headline_len</th>\n",
       "      <th>news_len</th>\n",
       "      <th>caps_in_headline</th>\n",
       "      <th>norm_caps_in_headline</th>\n",
       "      <th>caps_in_news</th>\n",
       "      <th>norm_caps_in_news</th>\n",
       "    </tr>\n",
       "  </thead>\n",
       "  <tbody>\n",
       "    <tr>\n",
       "      <th>1</th>\n",
       "      <td>10294</td>\n",
       "      <td>Watch The Exact Moment Paul Ryan Committed Pol...</td>\n",
       "      <td>Google Pinterest Digg Linkedin Reddit Stumbleu...</td>\n",
       "      <td>1</td>\n",
       "      <td>85</td>\n",
       "      <td>2646</td>\n",
       "      <td>18</td>\n",
       "      <td>0.211765</td>\n",
       "      <td>96</td>\n",
       "      <td>0.036281</td>\n",
       "    </tr>\n",
       "    <tr>\n",
       "      <th>262</th>\n",
       "      <td>6768</td>\n",
       "      <td>Anderson Cooper Absolutely OWNS Kellyanne Conw...</td>\n",
       "      <td>\\nIn case you missed it, on Sunday, FBI Dire...</td>\n",
       "      <td>1</td>\n",
       "      <td>87</td>\n",
       "      <td>1316</td>\n",
       "      <td>21</td>\n",
       "      <td>0.241379</td>\n",
       "      <td>55</td>\n",
       "      <td>0.041793</td>\n",
       "    </tr>\n",
       "    <tr>\n",
       "      <th>416</th>\n",
       "      <td>8146</td>\n",
       "      <td>Young Turks Finds Out Why Trump Is About To Lo...</td>\n",
       "      <td>By Wes Williams Election 2016 , Politics , Vid...</td>\n",
       "      <td>1</td>\n",
       "      <td>103</td>\n",
       "      <td>2802</td>\n",
       "      <td>23</td>\n",
       "      <td>0.223301</td>\n",
       "      <td>142</td>\n",
       "      <td>0.050678</td>\n",
       "    </tr>\n",
       "    <tr>\n",
       "      <th>534</th>\n",
       "      <td>7147</td>\n",
       "      <td>Trump Team Begins Making List Of Executive Ord...</td>\n",
       "      <td>\\nIn what amounts to the first pang of just ...</td>\n",
       "      <td>1</td>\n",
       "      <td>90</td>\n",
       "      <td>2062</td>\n",
       "      <td>15</td>\n",
       "      <td>0.166667</td>\n",
       "      <td>54</td>\n",
       "      <td>0.026188</td>\n",
       "    </tr>\n",
       "    <tr>\n",
       "      <th>858</th>\n",
       "      <td>7480</td>\n",
       "      <td>President Obama’s Interview With Samantha Bee ...</td>\n",
       "      <td>\\nPresident Obama is known for his humor, bu...</td>\n",
       "      <td>1</td>\n",
       "      <td>97</td>\n",
       "      <td>1403</td>\n",
       "      <td>19</td>\n",
       "      <td>0.195876</td>\n",
       "      <td>45</td>\n",
       "      <td>0.032074</td>\n",
       "    </tr>\n",
       "    <tr>\n",
       "      <th>866</th>\n",
       "      <td>7127</td>\n",
       "      <td>Former GOP Representative Calls For Armed Insu...</td>\n",
       "      <td>Former GOP Representative Calls For Armed Insu...</td>\n",
       "      <td>1</td>\n",
       "      <td>62</td>\n",
       "      <td>3353</td>\n",
       "      <td>14</td>\n",
       "      <td>0.225806</td>\n",
       "      <td>162</td>\n",
       "      <td>0.048315</td>\n",
       "    </tr>\n",
       "    <tr>\n",
       "      <th>1245</th>\n",
       "      <td>10120</td>\n",
       "      <td>Obama Meets Boy After Deplorable Trump Fans At...</td>\n",
       "      <td>Google Pinterest Digg Linkedin Reddit Stumbleu...</td>\n",
       "      <td>1</td>\n",
       "      <td>94</td>\n",
       "      <td>1540</td>\n",
       "      <td>15</td>\n",
       "      <td>0.159574</td>\n",
       "      <td>92</td>\n",
       "      <td>0.059740</td>\n",
       "    </tr>\n",
       "    <tr>\n",
       "      <th>1515</th>\n",
       "      <td>6001</td>\n",
       "      <td>Republican Mark Kirk Just Lost His Race Agains...</td>\n",
       "      <td>Google Pinterest Digg Linkedin Reddit Stumbleu...</td>\n",
       "      <td>1</td>\n",
       "      <td>100</td>\n",
       "      <td>2161</td>\n",
       "      <td>20</td>\n",
       "      <td>0.200000</td>\n",
       "      <td>91</td>\n",
       "      <td>0.042110</td>\n",
       "    </tr>\n",
       "    <tr>\n",
       "      <th>1800</th>\n",
       "      <td>5396</td>\n",
       "      <td>BREAKING: AP Finds Proof Melania Trump Illegal...</td>\n",
       "      <td>\\nIn what may be the last bombshell to drop ...</td>\n",
       "      <td>1</td>\n",
       "      <td>90</td>\n",
       "      <td>2538</td>\n",
       "      <td>28</td>\n",
       "      <td>0.311111</td>\n",
       "      <td>64</td>\n",
       "      <td>0.025217</td>\n",
       "    </tr>\n",
       "    <tr>\n",
       "      <th>1930</th>\n",
       "      <td>9937</td>\n",
       "      <td>Obama Administration Smacks Down Enlistment Bo...</td>\n",
       "      <td>\\nFor those of us too ensnared in the Trumps...</td>\n",
       "      <td>1</td>\n",
       "      <td>99</td>\n",
       "      <td>1899</td>\n",
       "      <td>12</td>\n",
       "      <td>0.121212</td>\n",
       "      <td>65</td>\n",
       "      <td>0.034229</td>\n",
       "    </tr>\n",
       "    <tr>\n",
       "      <th>2226</th>\n",
       "      <td>8186</td>\n",
       "      <td>One Photo Sums Up How Differently America Trea...</td>\n",
       "      <td>Google Pinterest Digg Linkedin Reddit Stumbleu...</td>\n",
       "      <td>1</td>\n",
       "      <td>95</td>\n",
       "      <td>2085</td>\n",
       "      <td>16</td>\n",
       "      <td>0.168421</td>\n",
       "      <td>58</td>\n",
       "      <td>0.027818</td>\n",
       "    </tr>\n",
       "    <tr>\n",
       "      <th>2530</th>\n",
       "      <td>10283</td>\n",
       "      <td>Hillary Releases The Most Inspiring Video EVER...</td>\n",
       "      <td>Google Pinterest Digg Linkedin Reddit Stumbleu...</td>\n",
       "      <td>1</td>\n",
       "      <td>87</td>\n",
       "      <td>2383</td>\n",
       "      <td>17</td>\n",
       "      <td>0.195402</td>\n",
       "      <td>101</td>\n",
       "      <td>0.042384</td>\n",
       "    </tr>\n",
       "    <tr>\n",
       "      <th>2687</th>\n",
       "      <td>10236</td>\n",
       "      <td>Trump Wants To Appoint Alt-Right Propagandist ...</td>\n",
       "      <td>\\nNow that the election is over, Donald Trum...</td>\n",
       "      <td>1</td>\n",
       "      <td>80</td>\n",
       "      <td>2790</td>\n",
       "      <td>14</td>\n",
       "      <td>0.175000</td>\n",
       "      <td>107</td>\n",
       "      <td>0.038351</td>\n",
       "    </tr>\n",
       "    <tr>\n",
       "      <th>2760</th>\n",
       "      <td>6519</td>\n",
       "      <td>Trump Livid After Beyonce And Jay Z Support Hi...</td>\n",
       "      <td>Share on Facebook \\nRepublican Donald Trump ha...</td>\n",
       "      <td>1</td>\n",
       "      <td>71</td>\n",
       "      <td>2119</td>\n",
       "      <td>12</td>\n",
       "      <td>0.169014</td>\n",
       "      <td>70</td>\n",
       "      <td>0.033034</td>\n",
       "    </tr>\n",
       "    <tr>\n",
       "      <th>2894</th>\n",
       "      <td>6266</td>\n",
       "      <td>His Fans Are Calling Trump Brave, But Here’s H...</td>\n",
       "      <td>By Jameson Parker News November 6, 2016 His Fa...</td>\n",
       "      <td>1</td>\n",
       "      <td>97</td>\n",
       "      <td>2349</td>\n",
       "      <td>21</td>\n",
       "      <td>0.216495</td>\n",
       "      <td>127</td>\n",
       "      <td>0.054066</td>\n",
       "    </tr>\n",
       "    <tr>\n",
       "      <th>2949</th>\n",
       "      <td>10514</td>\n",
       "      <td>Texas Republican Calls Hillary The WORST Word ...</td>\n",
       "      <td>\\nWith Hillary Clinton making history this e...</td>\n",
       "      <td>1</td>\n",
       "      <td>98</td>\n",
       "      <td>2153</td>\n",
       "      <td>25</td>\n",
       "      <td>0.255102</td>\n",
       "      <td>75</td>\n",
       "      <td>0.034835</td>\n",
       "    </tr>\n",
       "    <tr>\n",
       "      <th>2968</th>\n",
       "      <td>7678</td>\n",
       "      <td>It Took Less Than 2 Hours For The New Email In...</td>\n",
       "      <td>\\nHillary supporters can stop panicking. The...</td>\n",
       "      <td>1</td>\n",
       "      <td>94</td>\n",
       "      <td>2464</td>\n",
       "      <td>19</td>\n",
       "      <td>0.202128</td>\n",
       "      <td>109</td>\n",
       "      <td>0.044237</td>\n",
       "    </tr>\n",
       "    <tr>\n",
       "      <th>3255</th>\n",
       "      <td>6419</td>\n",
       "      <td>Comment on WATCH: Human Rights Activists Are T...</td>\n",
       "      <td>WATCH: Human Rights Activists Are Targeting Th...</td>\n",
       "      <td>1</td>\n",
       "      <td>116</td>\n",
       "      <td>4370</td>\n",
       "      <td>16</td>\n",
       "      <td>0.137931</td>\n",
       "      <td>106</td>\n",
       "      <td>0.024256</td>\n",
       "    </tr>\n",
       "    <tr>\n",
       "      <th>3299</th>\n",
       "      <td>5609</td>\n",
       "      <td>Love Trumps Hate: GoFundMe To Rebuild Church T...</td>\n",
       "      <td>Google Pinterest Digg Linkedin Reddit Stumbleu...</td>\n",
       "      <td>1</td>\n",
       "      <td>100</td>\n",
       "      <td>2401</td>\n",
       "      <td>23</td>\n",
       "      <td>0.230000</td>\n",
       "      <td>94</td>\n",
       "      <td>0.039150</td>\n",
       "    </tr>\n",
       "    <tr>\n",
       "      <th>3448</th>\n",
       "      <td>7528</td>\n",
       "      <td>Close call: Russia-U.S. ‘near-miss’ problem mo...</td>\n",
       "      <td>Print \\nIt looks like the vaunted air space co...</td>\n",
       "      <td>1</td>\n",
       "      <td>69</td>\n",
       "      <td>8916</td>\n",
       "      <td>5</td>\n",
       "      <td>0.072464</td>\n",
       "      <td>381</td>\n",
       "      <td>0.042732</td>\n",
       "    </tr>\n",
       "    <tr>\n",
       "      <th>3781</th>\n",
       "      <td>8856</td>\n",
       "      <td>Michael Moore’s ‘Morning After To-Do List’ Is ...</td>\n",
       "      <td>\\nHe called it. Many times. \\nMichael Moore,...</td>\n",
       "      <td>1</td>\n",
       "      <td>90</td>\n",
       "      <td>3775</td>\n",
       "      <td>16</td>\n",
       "      <td>0.177778</td>\n",
       "      <td>160</td>\n",
       "      <td>0.042384</td>\n",
       "    </tr>\n",
       "    <tr>\n",
       "      <th>4020</th>\n",
       "      <td>7364</td>\n",
       "      <td>Trump Suffers Bizarre Memory Disorder: Says He...</td>\n",
       "      <td>Trump Suffers Bizarre Memory Disorder: Says He...</td>\n",
       "      <td>1</td>\n",
       "      <td>79</td>\n",
       "      <td>2878</td>\n",
       "      <td>15</td>\n",
       "      <td>0.189873</td>\n",
       "      <td>99</td>\n",
       "      <td>0.034399</td>\n",
       "    </tr>\n",
       "    <tr>\n",
       "      <th>4294</th>\n",
       "      <td>9308</td>\n",
       "      <td>Putin’s Adviser Takes Credit For Trump Victory...</td>\n",
       "      <td>\\nDonald Trump’s shocking presidential win l...</td>\n",
       "      <td>1</td>\n",
       "      <td>86</td>\n",
       "      <td>2447</td>\n",
       "      <td>14</td>\n",
       "      <td>0.162791</td>\n",
       "      <td>96</td>\n",
       "      <td>0.039232</td>\n",
       "    </tr>\n",
       "    <tr>\n",
       "      <th>4427</th>\n",
       "      <td>8488</td>\n",
       "      <td>Ivana Says Young Donald Trump Was A Cry-Baby –...</td>\n",
       "      <td>Ivana Says Young Donald Trump Was A Cry-Baby –...</td>\n",
       "      <td>1</td>\n",
       "      <td>76</td>\n",
       "      <td>2436</td>\n",
       "      <td>17</td>\n",
       "      <td>0.223684</td>\n",
       "      <td>116</td>\n",
       "      <td>0.047619</td>\n",
       "    </tr>\n",
       "    <tr>\n",
       "      <th>4803</th>\n",
       "      <td>6929</td>\n",
       "      <td>FBI Director Comey Sent Letter To Staff All Bu...</td>\n",
       "      <td>\\nHey, we’ve all been there. You make a judg...</td>\n",
       "      <td>1</td>\n",
       "      <td>91</td>\n",
       "      <td>3051</td>\n",
       "      <td>17</td>\n",
       "      <td>0.186813</td>\n",
       "      <td>100</td>\n",
       "      <td>0.032776</td>\n",
       "    </tr>\n",
       "    <tr>\n",
       "      <th>5125</th>\n",
       "      <td>6262</td>\n",
       "      <td>Republican Lawmaker Secretly Recorded Fantasiz...</td>\n",
       "      <td>\\nRepublicans just can’t quit fantasizing ab...</td>\n",
       "      <td>1</td>\n",
       "      <td>93</td>\n",
       "      <td>2221</td>\n",
       "      <td>16</td>\n",
       "      <td>0.172043</td>\n",
       "      <td>78</td>\n",
       "      <td>0.035119</td>\n",
       "    </tr>\n",
       "    <tr>\n",
       "      <th>5342</th>\n",
       "      <td>7479</td>\n",
       "      <td>Earth To Ammosexuals: NRA Admits No One Is Com...</td>\n",
       "      <td>Earth To Ammosexuals: NRA Admits No One Is Com...</td>\n",
       "      <td>1</td>\n",
       "      <td>72</td>\n",
       "      <td>2420</td>\n",
       "      <td>19</td>\n",
       "      <td>0.263889</td>\n",
       "      <td>121</td>\n",
       "      <td>0.050000</td>\n",
       "    </tr>\n",
       "    <tr>\n",
       "      <th>5355</th>\n",
       "      <td>6817</td>\n",
       "      <td>‘I Don’t Rent To N s’: Smoking Gun Proves Trum...</td>\n",
       "      <td>on October 25, 2016 10:41 pm · \\nNew video has...</td>\n",
       "      <td>1</td>\n",
       "      <td>112</td>\n",
       "      <td>2206</td>\n",
       "      <td>22</td>\n",
       "      <td>0.196429</td>\n",
       "      <td>59</td>\n",
       "      <td>0.026745</td>\n",
       "    </tr>\n",
       "    <tr>\n",
       "      <th>5406</th>\n",
       "      <td>7594</td>\n",
       "      <td>Pres. Obama RUTHLESSLY Trolls Trump After His ...</td>\n",
       "      <td>Google Pinterest Digg Linkedin Reddit Stumbleu...</td>\n",
       "      <td>1</td>\n",
       "      <td>91</td>\n",
       "      <td>2095</td>\n",
       "      <td>33</td>\n",
       "      <td>0.362637</td>\n",
       "      <td>79</td>\n",
       "      <td>0.037709</td>\n",
       "    </tr>\n",
       "    <tr>\n",
       "      <th>5576</th>\n",
       "      <td>9470</td>\n",
       "      <td>Trump Campaign Says Hillary Supporter Tried As...</td>\n",
       "      <td>Donald Trump was rushed from a rally stage by ...</td>\n",
       "      <td>1</td>\n",
       "      <td>99</td>\n",
       "      <td>2567</td>\n",
       "      <td>15</td>\n",
       "      <td>0.151515</td>\n",
       "      <td>110</td>\n",
       "      <td>0.042852</td>\n",
       "    </tr>\n",
       "    <tr>\n",
       "      <th>5925</th>\n",
       "      <td>5766</td>\n",
       "      <td>Harry Reid BLASTS Comey For Misconduct, Drops ...</td>\n",
       "      <td>\\nThe decision of FBI Director Comey to go p...</td>\n",
       "      <td>1</td>\n",
       "      <td>93</td>\n",
       "      <td>2158</td>\n",
       "      <td>22</td>\n",
       "      <td>0.236559</td>\n",
       "      <td>69</td>\n",
       "      <td>0.031974</td>\n",
       "    </tr>\n",
       "  </tbody>\n",
       "</table>\n",
       "</div>"
      ],
      "text/plain": [
       "         id                                              title  \\\n",
       "1     10294  Watch The Exact Moment Paul Ryan Committed Pol...   \n",
       "262    6768  Anderson Cooper Absolutely OWNS Kellyanne Conw...   \n",
       "416    8146  Young Turks Finds Out Why Trump Is About To Lo...   \n",
       "534    7147  Trump Team Begins Making List Of Executive Ord...   \n",
       "858    7480  President Obama’s Interview With Samantha Bee ...   \n",
       "866    7127  Former GOP Representative Calls For Armed Insu...   \n",
       "1245  10120  Obama Meets Boy After Deplorable Trump Fans At...   \n",
       "1515   6001  Republican Mark Kirk Just Lost His Race Agains...   \n",
       "1800   5396  BREAKING: AP Finds Proof Melania Trump Illegal...   \n",
       "1930   9937  Obama Administration Smacks Down Enlistment Bo...   \n",
       "2226   8186  One Photo Sums Up How Differently America Trea...   \n",
       "2530  10283  Hillary Releases The Most Inspiring Video EVER...   \n",
       "2687  10236  Trump Wants To Appoint Alt-Right Propagandist ...   \n",
       "2760   6519  Trump Livid After Beyonce And Jay Z Support Hi...   \n",
       "2894   6266  His Fans Are Calling Trump Brave, But Here’s H...   \n",
       "2949  10514  Texas Republican Calls Hillary The WORST Word ...   \n",
       "2968   7678  It Took Less Than 2 Hours For The New Email In...   \n",
       "3255   6419  Comment on WATCH: Human Rights Activists Are T...   \n",
       "3299   5609  Love Trumps Hate: GoFundMe To Rebuild Church T...   \n",
       "3448   7528  Close call: Russia-U.S. ‘near-miss’ problem mo...   \n",
       "3781   8856  Michael Moore’s ‘Morning After To-Do List’ Is ...   \n",
       "4020   7364  Trump Suffers Bizarre Memory Disorder: Says He...   \n",
       "4294   9308  Putin’s Adviser Takes Credit For Trump Victory...   \n",
       "4427   8488  Ivana Says Young Donald Trump Was A Cry-Baby –...   \n",
       "4803   6929  FBI Director Comey Sent Letter To Staff All Bu...   \n",
       "5125   6262  Republican Lawmaker Secretly Recorded Fantasiz...   \n",
       "5342   7479  Earth To Ammosexuals: NRA Admits No One Is Com...   \n",
       "5355   6817  ‘I Don’t Rent To N s’: Smoking Gun Proves Trum...   \n",
       "5406   7594  Pres. Obama RUTHLESSLY Trolls Trump After His ...   \n",
       "5576   9470  Trump Campaign Says Hillary Supporter Tried As...   \n",
       "5925   5766  Harry Reid BLASTS Comey For Misconduct, Drops ...   \n",
       "\n",
       "                                                   text  label  headline_len  \\\n",
       "1     Google Pinterest Digg Linkedin Reddit Stumbleu...      1            85   \n",
       "262     \\nIn case you missed it, on Sunday, FBI Dire...      1            87   \n",
       "416   By Wes Williams Election 2016 , Politics , Vid...      1           103   \n",
       "534     \\nIn what amounts to the first pang of just ...      1            90   \n",
       "858     \\nPresident Obama is known for his humor, bu...      1            97   \n",
       "866   Former GOP Representative Calls For Armed Insu...      1            62   \n",
       "1245  Google Pinterest Digg Linkedin Reddit Stumbleu...      1            94   \n",
       "1515  Google Pinterest Digg Linkedin Reddit Stumbleu...      1           100   \n",
       "1800    \\nIn what may be the last bombshell to drop ...      1            90   \n",
       "1930    \\nFor those of us too ensnared in the Trumps...      1            99   \n",
       "2226  Google Pinterest Digg Linkedin Reddit Stumbleu...      1            95   \n",
       "2530  Google Pinterest Digg Linkedin Reddit Stumbleu...      1            87   \n",
       "2687    \\nNow that the election is over, Donald Trum...      1            80   \n",
       "2760  Share on Facebook \\nRepublican Donald Trump ha...      1            71   \n",
       "2894  By Jameson Parker News November 6, 2016 His Fa...      1            97   \n",
       "2949    \\nWith Hillary Clinton making history this e...      1            98   \n",
       "2968    \\nHillary supporters can stop panicking. The...      1            94   \n",
       "3255  WATCH: Human Rights Activists Are Targeting Th...      1           116   \n",
       "3299  Google Pinterest Digg Linkedin Reddit Stumbleu...      1           100   \n",
       "3448  Print \\nIt looks like the vaunted air space co...      1            69   \n",
       "3781    \\nHe called it. Many times. \\nMichael Moore,...      1            90   \n",
       "4020  Trump Suffers Bizarre Memory Disorder: Says He...      1            79   \n",
       "4294    \\nDonald Trump’s shocking presidential win l...      1            86   \n",
       "4427  Ivana Says Young Donald Trump Was A Cry-Baby –...      1            76   \n",
       "4803    \\nHey, we’ve all been there. You make a judg...      1            91   \n",
       "5125    \\nRepublicans just can’t quit fantasizing ab...      1            93   \n",
       "5342  Earth To Ammosexuals: NRA Admits No One Is Com...      1            72   \n",
       "5355  on October 25, 2016 10:41 pm · \\nNew video has...      1           112   \n",
       "5406  Google Pinterest Digg Linkedin Reddit Stumbleu...      1            91   \n",
       "5576  Donald Trump was rushed from a rally stage by ...      1            99   \n",
       "5925    \\nThe decision of FBI Director Comey to go p...      1            93   \n",
       "\n",
       "      news_len  caps_in_headline  norm_caps_in_headline  caps_in_news  \\\n",
       "1         2646                18               0.211765            96   \n",
       "262       1316                21               0.241379            55   \n",
       "416       2802                23               0.223301           142   \n",
       "534       2062                15               0.166667            54   \n",
       "858       1403                19               0.195876            45   \n",
       "866       3353                14               0.225806           162   \n",
       "1245      1540                15               0.159574            92   \n",
       "1515      2161                20               0.200000            91   \n",
       "1800      2538                28               0.311111            64   \n",
       "1930      1899                12               0.121212            65   \n",
       "2226      2085                16               0.168421            58   \n",
       "2530      2383                17               0.195402           101   \n",
       "2687      2790                14               0.175000           107   \n",
       "2760      2119                12               0.169014            70   \n",
       "2894      2349                21               0.216495           127   \n",
       "2949      2153                25               0.255102            75   \n",
       "2968      2464                19               0.202128           109   \n",
       "3255      4370                16               0.137931           106   \n",
       "3299      2401                23               0.230000            94   \n",
       "3448      8916                 5               0.072464           381   \n",
       "3781      3775                16               0.177778           160   \n",
       "4020      2878                15               0.189873            99   \n",
       "4294      2447                14               0.162791            96   \n",
       "4427      2436                17               0.223684           116   \n",
       "4803      3051                17               0.186813           100   \n",
       "5125      2221                16               0.172043            78   \n",
       "5342      2420                19               0.263889           121   \n",
       "5355      2206                22               0.196429            59   \n",
       "5406      2095                33               0.362637            79   \n",
       "5576      2567                15               0.151515           110   \n",
       "5925      2158                22               0.236559            69   \n",
       "\n",
       "      norm_caps_in_news  \n",
       "1              0.036281  \n",
       "262            0.041793  \n",
       "416            0.050678  \n",
       "534            0.026188  \n",
       "858            0.032074  \n",
       "866            0.048315  \n",
       "1245           0.059740  \n",
       "1515           0.042110  \n",
       "1800           0.025217  \n",
       "1930           0.034229  \n",
       "2226           0.027818  \n",
       "2530           0.042384  \n",
       "2687           0.038351  \n",
       "2760           0.033034  \n",
       "2894           0.054066  \n",
       "2949           0.034835  \n",
       "2968           0.044237  \n",
       "3255           0.024256  \n",
       "3299           0.039150  \n",
       "3448           0.042732  \n",
       "3781           0.042384  \n",
       "4020           0.034399  \n",
       "4294           0.039232  \n",
       "4427           0.047619  \n",
       "4803           0.032776  \n",
       "5125           0.035119  \n",
       "5342           0.050000  \n",
       "5355           0.026745  \n",
       "5406           0.037709  \n",
       "5576           0.042852  \n",
       "5925           0.031974  "
      ]
     },
     "execution_count": 73,
     "metadata": {},
     "output_type": "execute_result"
    }
   ],
   "source": [
    "df_image_via"
   ]
  },
  {
   "cell_type": "code",
   "execution_count": 74,
   "id": "9064f042-60b8-4360-8000-be437e03c845",
   "metadata": {
    "tags": []
   },
   "outputs": [
    {
     "data": {
      "text/plain": [
       "1    31\n",
       "Name: label, dtype: int64"
      ]
     },
     "execution_count": 74,
     "metadata": {},
     "output_type": "execute_result"
    }
   ],
   "source": [
    "df_image_via['label'].value_counts()"
   ]
  },
  {
   "cell_type": "markdown",
   "id": "4a596c4c-b1ef-4b60-8339-d0251d9b9f7f",
   "metadata": {},
   "source": [
    "With all the posts with image via being Fake, it's highly indicative of that label, but this may be particular to this dataset and may not generalize."
   ]
  },
  {
   "cell_type": "markdown",
   "id": "5bf26baa-5882-4eb5-84bd-402992125bb0",
   "metadata": {},
   "source": [
    "Said in news article"
   ]
  },
  {
   "cell_type": "code",
   "execution_count": 75,
   "id": "53807b5d-26da-4482-a350-2a70ee6de463",
   "metadata": {
    "tags": []
   },
   "outputs": [],
   "source": [
    "df_said = df_clean[df_clean[news].apply(lambda news_text: check_string_for('said', news_text))]"
   ]
  },
  {
   "cell_type": "code",
   "execution_count": 76,
   "id": "6187b436-1e3b-4301-8e09-fadc10ddee31",
   "metadata": {
    "tags": []
   },
   "outputs": [
    {
     "data": {
      "text/html": [
       "<div>\n",
       "<style scoped>\n",
       "    .dataframe tbody tr th:only-of-type {\n",
       "        vertical-align: middle;\n",
       "    }\n",
       "\n",
       "    .dataframe tbody tr th {\n",
       "        vertical-align: top;\n",
       "    }\n",
       "\n",
       "    .dataframe thead th {\n",
       "        text-align: right;\n",
       "    }\n",
       "</style>\n",
       "<table border=\"1\" class=\"dataframe\">\n",
       "  <thead>\n",
       "    <tr style=\"text-align: right;\">\n",
       "      <th></th>\n",
       "      <th>id</th>\n",
       "      <th>title</th>\n",
       "      <th>text</th>\n",
       "      <th>label</th>\n",
       "      <th>headline_len</th>\n",
       "      <th>news_len</th>\n",
       "      <th>caps_in_headline</th>\n",
       "      <th>norm_caps_in_headline</th>\n",
       "      <th>caps_in_news</th>\n",
       "      <th>norm_caps_in_news</th>\n",
       "    </tr>\n",
       "  </thead>\n",
       "  <tbody>\n",
       "    <tr>\n",
       "      <th>2</th>\n",
       "      <td>3608</td>\n",
       "      <td>Kerry to go to Paris in gesture of sympathy</td>\n",
       "      <td>U.S. Secretary of State John F. Kerry said Mon...</td>\n",
       "      <td>0</td>\n",
       "      <td>43</td>\n",
       "      <td>2543</td>\n",
       "      <td>2</td>\n",
       "      <td>0.046512</td>\n",
       "      <td>96</td>\n",
       "      <td>0.037751</td>\n",
       "    </tr>\n",
       "    <tr>\n",
       "      <th>6</th>\n",
       "      <td>7341</td>\n",
       "      <td>Girl Horrified At What She Watches Boyfriend D...</td>\n",
       "      <td>Share This Baylee Luciani (left), Screenshot o...</td>\n",
       "      <td>1</td>\n",
       "      <td>73</td>\n",
       "      <td>3171</td>\n",
       "      <td>14</td>\n",
       "      <td>0.191781</td>\n",
       "      <td>67</td>\n",
       "      <td>0.021129</td>\n",
       "    </tr>\n",
       "    <tr>\n",
       "      <th>8</th>\n",
       "      <td>4869</td>\n",
       "      <td>Fact check: Trump and Clinton at the 'commande...</td>\n",
       "      <td>Hillary Clinton and Donald Trump made some ina...</td>\n",
       "      <td>0</td>\n",
       "      <td>63</td>\n",
       "      <td>13863</td>\n",
       "      <td>3</td>\n",
       "      <td>0.047619</td>\n",
       "      <td>557</td>\n",
       "      <td>0.040179</td>\n",
       "    </tr>\n",
       "    <tr>\n",
       "      <th>9</th>\n",
       "      <td>2909</td>\n",
       "      <td>Iran reportedly makes new push for uranium con...</td>\n",
       "      <td>Iranian negotiators reportedly have made a las...</td>\n",
       "      <td>0</td>\n",
       "      <td>71</td>\n",
       "      <td>4296</td>\n",
       "      <td>1</td>\n",
       "      <td>0.014085</td>\n",
       "      <td>132</td>\n",
       "      <td>0.030726</td>\n",
       "    </tr>\n",
       "    <tr>\n",
       "      <th>10</th>\n",
       "      <td>1357</td>\n",
       "      <td>With all three Clintons in Iowa, a glimpse at ...</td>\n",
       "      <td>CEDAR RAPIDS, Iowa — “I had one of the most wo...</td>\n",
       "      <td>0</td>\n",
       "      <td>97</td>\n",
       "      <td>3166</td>\n",
       "      <td>5</td>\n",
       "      <td>0.051546</td>\n",
       "      <td>99</td>\n",
       "      <td>0.031270</td>\n",
       "    </tr>\n",
       "    <tr>\n",
       "      <th>...</th>\n",
       "      <td>...</td>\n",
       "      <td>...</td>\n",
       "      <td>...</td>\n",
       "      <td>...</td>\n",
       "      <td>...</td>\n",
       "      <td>...</td>\n",
       "      <td>...</td>\n",
       "      <td>...</td>\n",
       "      <td>...</td>\n",
       "      <td>...</td>\n",
       "    </tr>\n",
       "    <tr>\n",
       "      <th>6053</th>\n",
       "      <td>8737</td>\n",
       "      <td>Assange claims ‘crazed’ Clinton campaign tried...</td>\n",
       "      <td>Julian Assange has claimed the Hillary Clinton...</td>\n",
       "      <td>1</td>\n",
       "      <td>64</td>\n",
       "      <td>2572</td>\n",
       "      <td>4</td>\n",
       "      <td>0.062500</td>\n",
       "      <td>72</td>\n",
       "      <td>0.027994</td>\n",
       "    </tr>\n",
       "    <tr>\n",
       "      <th>6054</th>\n",
       "      <td>4490</td>\n",
       "      <td>State Department says it can't find emails fro...</td>\n",
       "      <td>The State Department told the Republican Natio...</td>\n",
       "      <td>0</td>\n",
       "      <td>69</td>\n",
       "      <td>4076</td>\n",
       "      <td>5</td>\n",
       "      <td>0.072464</td>\n",
       "      <td>148</td>\n",
       "      <td>0.036310</td>\n",
       "    </tr>\n",
       "    <tr>\n",
       "      <th>6056</th>\n",
       "      <td>8622</td>\n",
       "      <td>Anti-Trump Protesters Are Tools of the Oligarc...</td>\n",
       "      <td>Anti-Trump Protesters Are Tools of the Oligar...</td>\n",
       "      <td>1</td>\n",
       "      <td>66</td>\n",
       "      <td>11974</td>\n",
       "      <td>7</td>\n",
       "      <td>0.106061</td>\n",
       "      <td>434</td>\n",
       "      <td>0.036245</td>\n",
       "    </tr>\n",
       "    <tr>\n",
       "      <th>6057</th>\n",
       "      <td>4021</td>\n",
       "      <td>In Ethiopia, Obama seeks progress on peace, se...</td>\n",
       "      <td>ADDIS ABABA, Ethiopia —President Obama convene...</td>\n",
       "      <td>0</td>\n",
       "      <td>67</td>\n",
       "      <td>6991</td>\n",
       "      <td>5</td>\n",
       "      <td>0.074627</td>\n",
       "      <td>234</td>\n",
       "      <td>0.033472</td>\n",
       "    </tr>\n",
       "    <tr>\n",
       "      <th>6058</th>\n",
       "      <td>4330</td>\n",
       "      <td>Jeb Bush Is Suddenly Attacking Trump. Here's W...</td>\n",
       "      <td>Jeb Bush Is Suddenly Attacking Trump. Here's W...</td>\n",
       "      <td>0</td>\n",
       "      <td>61</td>\n",
       "      <td>4818</td>\n",
       "      <td>10</td>\n",
       "      <td>0.163934</td>\n",
       "      <td>181</td>\n",
       "      <td>0.037567</td>\n",
       "    </tr>\n",
       "  </tbody>\n",
       "</table>\n",
       "<p>3801 rows × 10 columns</p>\n",
       "</div>"
      ],
      "text/plain": [
       "        id                                              title  \\\n",
       "2     3608        Kerry to go to Paris in gesture of sympathy   \n",
       "6     7341  Girl Horrified At What She Watches Boyfriend D...   \n",
       "8     4869  Fact check: Trump and Clinton at the 'commande...   \n",
       "9     2909  Iran reportedly makes new push for uranium con...   \n",
       "10    1357  With all three Clintons in Iowa, a glimpse at ...   \n",
       "...    ...                                                ...   \n",
       "6053  8737  Assange claims ‘crazed’ Clinton campaign tried...   \n",
       "6054  4490  State Department says it can't find emails fro...   \n",
       "6056  8622  Anti-Trump Protesters Are Tools of the Oligarc...   \n",
       "6057  4021  In Ethiopia, Obama seeks progress on peace, se...   \n",
       "6058  4330  Jeb Bush Is Suddenly Attacking Trump. Here's W...   \n",
       "\n",
       "                                                   text  label  headline_len  \\\n",
       "2     U.S. Secretary of State John F. Kerry said Mon...      0            43   \n",
       "6     Share This Baylee Luciani (left), Screenshot o...      1            73   \n",
       "8     Hillary Clinton and Donald Trump made some ina...      0            63   \n",
       "9     Iranian negotiators reportedly have made a las...      0            71   \n",
       "10    CEDAR RAPIDS, Iowa — “I had one of the most wo...      0            97   \n",
       "...                                                 ...    ...           ...   \n",
       "6053  Julian Assange has claimed the Hillary Clinton...      1            64   \n",
       "6054  The State Department told the Republican Natio...      0            69   \n",
       "6056   Anti-Trump Protesters Are Tools of the Oligar...      1            66   \n",
       "6057  ADDIS ABABA, Ethiopia —President Obama convene...      0            67   \n",
       "6058  Jeb Bush Is Suddenly Attacking Trump. Here's W...      0            61   \n",
       "\n",
       "      news_len  caps_in_headline  norm_caps_in_headline  caps_in_news  \\\n",
       "2         2543                 2               0.046512            96   \n",
       "6         3171                14               0.191781            67   \n",
       "8        13863                 3               0.047619           557   \n",
       "9         4296                 1               0.014085           132   \n",
       "10        3166                 5               0.051546            99   \n",
       "...        ...               ...                    ...           ...   \n",
       "6053      2572                 4               0.062500            72   \n",
       "6054      4076                 5               0.072464           148   \n",
       "6056     11974                 7               0.106061           434   \n",
       "6057      6991                 5               0.074627           234   \n",
       "6058      4818                10               0.163934           181   \n",
       "\n",
       "      norm_caps_in_news  \n",
       "2              0.037751  \n",
       "6              0.021129  \n",
       "8              0.040179  \n",
       "9              0.030726  \n",
       "10             0.031270  \n",
       "...                 ...  \n",
       "6053           0.027994  \n",
       "6054           0.036310  \n",
       "6056           0.036245  \n",
       "6057           0.033472  \n",
       "6058           0.037567  \n",
       "\n",
       "[3801 rows x 10 columns]"
      ]
     },
     "execution_count": 76,
     "metadata": {},
     "output_type": "execute_result"
    }
   ],
   "source": [
    "df_said"
   ]
  },
  {
   "cell_type": "code",
   "execution_count": 77,
   "id": "da1eb178-cc08-458e-ac4d-1664e56b175f",
   "metadata": {
    "tags": []
   },
   "outputs": [
    {
     "data": {
      "text/plain": [
       "0    2362\n",
       "1    1439\n",
       "Name: label, dtype: int64"
      ]
     },
     "execution_count": 77,
     "metadata": {},
     "output_type": "execute_result"
    }
   ],
   "source": [
    "df_said['label'].value_counts()"
   ]
  },
  {
   "cell_type": "markdown",
   "id": "d2570246-02ce-4a2e-9429-c908c3afdd8c",
   "metadata": {},
   "source": [
    "The stories containing the word said are indicative of the news story being true. With twice as many of the \"true\" news stories containing said vs. \"fake\", the true ones must seem likely to be more concerned with providing quotations, or at least quotations in this style."
   ]
  },
  {
   "cell_type": "markdown",
   "id": "56d4e26a-65f9-46f3-83d5-e8d550ef1250",
   "metadata": {},
   "source": [
    "On in news article"
   ]
  },
  {
   "cell_type": "code",
   "execution_count": 78,
   "id": "aa668148-0544-4bc7-9730-d53a60a4ebc7",
   "metadata": {
    "tags": []
   },
   "outputs": [],
   "source": [
    "df_on = df_clean[df_clean[news].apply(lambda news_text: check_string_for(' on ', news_text))]"
   ]
  },
  {
   "cell_type": "code",
   "execution_count": 79,
   "id": "2cc38e6f-723d-45f0-a077-633e70e5c4c7",
   "metadata": {
    "tags": []
   },
   "outputs": [
    {
     "data": {
      "text/html": [
       "<div>\n",
       "<style scoped>\n",
       "    .dataframe tbody tr th:only-of-type {\n",
       "        vertical-align: middle;\n",
       "    }\n",
       "\n",
       "    .dataframe tbody tr th {\n",
       "        vertical-align: top;\n",
       "    }\n",
       "\n",
       "    .dataframe thead th {\n",
       "        text-align: right;\n",
       "    }\n",
       "</style>\n",
       "<table border=\"1\" class=\"dataframe\">\n",
       "  <thead>\n",
       "    <tr style=\"text-align: right;\">\n",
       "      <th></th>\n",
       "      <th>id</th>\n",
       "      <th>title</th>\n",
       "      <th>text</th>\n",
       "      <th>label</th>\n",
       "      <th>headline_len</th>\n",
       "      <th>news_len</th>\n",
       "      <th>caps_in_headline</th>\n",
       "      <th>norm_caps_in_headline</th>\n",
       "      <th>caps_in_news</th>\n",
       "      <th>norm_caps_in_news</th>\n",
       "    </tr>\n",
       "  </thead>\n",
       "  <tbody>\n",
       "    <tr>\n",
       "      <th>0</th>\n",
       "      <td>8476</td>\n",
       "      <td>You Can Smell Hillary’s Fear</td>\n",
       "      <td>Daniel Greenfield, a Shillman Journalism Fello...</td>\n",
       "      <td>1</td>\n",
       "      <td>28</td>\n",
       "      <td>7518</td>\n",
       "      <td>5</td>\n",
       "      <td>0.178571</td>\n",
       "      <td>314</td>\n",
       "      <td>0.041766</td>\n",
       "    </tr>\n",
       "    <tr>\n",
       "      <th>1</th>\n",
       "      <td>10294</td>\n",
       "      <td>Watch The Exact Moment Paul Ryan Committed Pol...</td>\n",
       "      <td>Google Pinterest Digg Linkedin Reddit Stumbleu...</td>\n",
       "      <td>1</td>\n",
       "      <td>85</td>\n",
       "      <td>2646</td>\n",
       "      <td>18</td>\n",
       "      <td>0.211765</td>\n",
       "      <td>96</td>\n",
       "      <td>0.036281</td>\n",
       "    </tr>\n",
       "    <tr>\n",
       "      <th>2</th>\n",
       "      <td>3608</td>\n",
       "      <td>Kerry to go to Paris in gesture of sympathy</td>\n",
       "      <td>U.S. Secretary of State John F. Kerry said Mon...</td>\n",
       "      <td>0</td>\n",
       "      <td>43</td>\n",
       "      <td>2543</td>\n",
       "      <td>2</td>\n",
       "      <td>0.046512</td>\n",
       "      <td>96</td>\n",
       "      <td>0.037751</td>\n",
       "    </tr>\n",
       "    <tr>\n",
       "      <th>3</th>\n",
       "      <td>10142</td>\n",
       "      <td>Bernie supporters on Twitter erupt in anger ag...</td>\n",
       "      <td>— Kaydee King (@KaydeeKing) November 9, 2016 T...</td>\n",
       "      <td>1</td>\n",
       "      <td>84</td>\n",
       "      <td>2660</td>\n",
       "      <td>6</td>\n",
       "      <td>0.071429</td>\n",
       "      <td>139</td>\n",
       "      <td>0.052256</td>\n",
       "    </tr>\n",
       "    <tr>\n",
       "      <th>4</th>\n",
       "      <td>875</td>\n",
       "      <td>The Battle of New York: Why This Primary Matters</td>\n",
       "      <td>It's primary day in New York and front-runners...</td>\n",
       "      <td>0</td>\n",
       "      <td>48</td>\n",
       "      <td>1840</td>\n",
       "      <td>8</td>\n",
       "      <td>0.166667</td>\n",
       "      <td>77</td>\n",
       "      <td>0.041848</td>\n",
       "    </tr>\n",
       "    <tr>\n",
       "      <th>...</th>\n",
       "      <td>...</td>\n",
       "      <td>...</td>\n",
       "      <td>...</td>\n",
       "      <td>...</td>\n",
       "      <td>...</td>\n",
       "      <td>...</td>\n",
       "      <td>...</td>\n",
       "      <td>...</td>\n",
       "      <td>...</td>\n",
       "      <td>...</td>\n",
       "    </tr>\n",
       "    <tr>\n",
       "      <th>6054</th>\n",
       "      <td>4490</td>\n",
       "      <td>State Department says it can't find emails fro...</td>\n",
       "      <td>The State Department told the Republican Natio...</td>\n",
       "      <td>0</td>\n",
       "      <td>69</td>\n",
       "      <td>4076</td>\n",
       "      <td>5</td>\n",
       "      <td>0.072464</td>\n",
       "      <td>148</td>\n",
       "      <td>0.036310</td>\n",
       "    </tr>\n",
       "    <tr>\n",
       "      <th>6055</th>\n",
       "      <td>8062</td>\n",
       "      <td>The ‘P’ in PBS Should Stand for ‘Plutocratic’ ...</td>\n",
       "      <td>The ‘P’ in PBS Should Stand for ‘Plutocratic’ ...</td>\n",
       "      <td>1</td>\n",
       "      <td>59</td>\n",
       "      <td>14323</td>\n",
       "      <td>9</td>\n",
       "      <td>0.152542</td>\n",
       "      <td>476</td>\n",
       "      <td>0.033233</td>\n",
       "    </tr>\n",
       "    <tr>\n",
       "      <th>6056</th>\n",
       "      <td>8622</td>\n",
       "      <td>Anti-Trump Protesters Are Tools of the Oligarc...</td>\n",
       "      <td>Anti-Trump Protesters Are Tools of the Oligar...</td>\n",
       "      <td>1</td>\n",
       "      <td>66</td>\n",
       "      <td>11974</td>\n",
       "      <td>7</td>\n",
       "      <td>0.106061</td>\n",
       "      <td>434</td>\n",
       "      <td>0.036245</td>\n",
       "    </tr>\n",
       "    <tr>\n",
       "      <th>6057</th>\n",
       "      <td>4021</td>\n",
       "      <td>In Ethiopia, Obama seeks progress on peace, se...</td>\n",
       "      <td>ADDIS ABABA, Ethiopia —President Obama convene...</td>\n",
       "      <td>0</td>\n",
       "      <td>67</td>\n",
       "      <td>6991</td>\n",
       "      <td>5</td>\n",
       "      <td>0.074627</td>\n",
       "      <td>234</td>\n",
       "      <td>0.033472</td>\n",
       "    </tr>\n",
       "    <tr>\n",
       "      <th>6058</th>\n",
       "      <td>4330</td>\n",
       "      <td>Jeb Bush Is Suddenly Attacking Trump. Here's W...</td>\n",
       "      <td>Jeb Bush Is Suddenly Attacking Trump. Here's W...</td>\n",
       "      <td>0</td>\n",
       "      <td>61</td>\n",
       "      <td>4818</td>\n",
       "      <td>10</td>\n",
       "      <td>0.163934</td>\n",
       "      <td>181</td>\n",
       "      <td>0.037567</td>\n",
       "    </tr>\n",
       "  </tbody>\n",
       "</table>\n",
       "<p>5470 rows × 10 columns</p>\n",
       "</div>"
      ],
      "text/plain": [
       "         id                                              title  \\\n",
       "0      8476                       You Can Smell Hillary’s Fear   \n",
       "1     10294  Watch The Exact Moment Paul Ryan Committed Pol...   \n",
       "2      3608        Kerry to go to Paris in gesture of sympathy   \n",
       "3     10142  Bernie supporters on Twitter erupt in anger ag...   \n",
       "4       875   The Battle of New York: Why This Primary Matters   \n",
       "...     ...                                                ...   \n",
       "6054   4490  State Department says it can't find emails fro...   \n",
       "6055   8062  The ‘P’ in PBS Should Stand for ‘Plutocratic’ ...   \n",
       "6056   8622  Anti-Trump Protesters Are Tools of the Oligarc...   \n",
       "6057   4021  In Ethiopia, Obama seeks progress on peace, se...   \n",
       "6058   4330  Jeb Bush Is Suddenly Attacking Trump. Here's W...   \n",
       "\n",
       "                                                   text  label  headline_len  \\\n",
       "0     Daniel Greenfield, a Shillman Journalism Fello...      1            28   \n",
       "1     Google Pinterest Digg Linkedin Reddit Stumbleu...      1            85   \n",
       "2     U.S. Secretary of State John F. Kerry said Mon...      0            43   \n",
       "3     — Kaydee King (@KaydeeKing) November 9, 2016 T...      1            84   \n",
       "4     It's primary day in New York and front-runners...      0            48   \n",
       "...                                                 ...    ...           ...   \n",
       "6054  The State Department told the Republican Natio...      0            69   \n",
       "6055  The ‘P’ in PBS Should Stand for ‘Plutocratic’ ...      1            59   \n",
       "6056   Anti-Trump Protesters Are Tools of the Oligar...      1            66   \n",
       "6057  ADDIS ABABA, Ethiopia —President Obama convene...      0            67   \n",
       "6058  Jeb Bush Is Suddenly Attacking Trump. Here's W...      0            61   \n",
       "\n",
       "      news_len  caps_in_headline  norm_caps_in_headline  caps_in_news  \\\n",
       "0         7518                 5               0.178571           314   \n",
       "1         2646                18               0.211765            96   \n",
       "2         2543                 2               0.046512            96   \n",
       "3         2660                 6               0.071429           139   \n",
       "4         1840                 8               0.166667            77   \n",
       "...        ...               ...                    ...           ...   \n",
       "6054      4076                 5               0.072464           148   \n",
       "6055     14323                 9               0.152542           476   \n",
       "6056     11974                 7               0.106061           434   \n",
       "6057      6991                 5               0.074627           234   \n",
       "6058      4818                10               0.163934           181   \n",
       "\n",
       "      norm_caps_in_news  \n",
       "0              0.041766  \n",
       "1              0.036281  \n",
       "2              0.037751  \n",
       "3              0.052256  \n",
       "4              0.041848  \n",
       "...                 ...  \n",
       "6054           0.036310  \n",
       "6055           0.033233  \n",
       "6056           0.036245  \n",
       "6057           0.033472  \n",
       "6058           0.037567  \n",
       "\n",
       "[5470 rows x 10 columns]"
      ]
     },
     "execution_count": 79,
     "metadata": {},
     "output_type": "execute_result"
    }
   ],
   "source": [
    "df_on"
   ]
  },
  {
   "cell_type": "code",
   "execution_count": 80,
   "id": "23235107-4639-4c93-95b5-68b6445d8fcc",
   "metadata": {
    "tags": []
   },
   "outputs": [
    {
     "data": {
      "text/plain": [
       "0    2835\n",
       "1    2635\n",
       "Name: label, dtype: int64"
      ]
     },
     "execution_count": 80,
     "metadata": {},
     "output_type": "execute_result"
    }
   ],
   "source": [
    "df_on.label.value_counts()"
   ]
  },
  {
   "cell_type": "markdown",
   "id": "9afcf4f8-4426-4ac1-b474-5acc830429af",
   "metadata": {},
   "source": [
    "The use of 'on' is fairly balanced although somewhat indicative of a 'true' story."
   ]
  },
  {
   "cell_type": "markdown",
   "id": "f9e172c8-1b77-4906-92cd-04fbb02ac02e",
   "metadata": {},
   "source": [
    "You in news article"
   ]
  },
  {
   "cell_type": "code",
   "execution_count": 81,
   "id": "8ad74e2e-5ce7-4685-ad83-02e13acaca39",
   "metadata": {
    "tags": []
   },
   "outputs": [],
   "source": [
    "df_you = df_clean[df_clean[news].apply(lambda news_text: check_string_for(' you ', news_text))]"
   ]
  },
  {
   "cell_type": "code",
   "execution_count": 82,
   "id": "8271f66e-88e4-4d6b-a93e-88faa6ea43dc",
   "metadata": {
    "tags": []
   },
   "outputs": [
    {
     "data": {
      "text/html": [
       "<div>\n",
       "<style scoped>\n",
       "    .dataframe tbody tr th:only-of-type {\n",
       "        vertical-align: middle;\n",
       "    }\n",
       "\n",
       "    .dataframe tbody tr th {\n",
       "        vertical-align: top;\n",
       "    }\n",
       "\n",
       "    .dataframe thead th {\n",
       "        text-align: right;\n",
       "    }\n",
       "</style>\n",
       "<table border=\"1\" class=\"dataframe\">\n",
       "  <thead>\n",
       "    <tr style=\"text-align: right;\">\n",
       "      <th></th>\n",
       "      <th>id</th>\n",
       "      <th>title</th>\n",
       "      <th>text</th>\n",
       "      <th>label</th>\n",
       "      <th>headline_len</th>\n",
       "      <th>news_len</th>\n",
       "      <th>caps_in_headline</th>\n",
       "      <th>norm_caps_in_headline</th>\n",
       "      <th>caps_in_news</th>\n",
       "      <th>norm_caps_in_news</th>\n",
       "    </tr>\n",
       "  </thead>\n",
       "  <tbody>\n",
       "    <tr>\n",
       "      <th>0</th>\n",
       "      <td>8476</td>\n",
       "      <td>You Can Smell Hillary’s Fear</td>\n",
       "      <td>Daniel Greenfield, a Shillman Journalism Fello...</td>\n",
       "      <td>1</td>\n",
       "      <td>28</td>\n",
       "      <td>7518</td>\n",
       "      <td>5</td>\n",
       "      <td>0.178571</td>\n",
       "      <td>314</td>\n",
       "      <td>0.041766</td>\n",
       "    </tr>\n",
       "    <tr>\n",
       "      <th>4</th>\n",
       "      <td>875</td>\n",
       "      <td>The Battle of New York: Why This Primary Matters</td>\n",
       "      <td>It's primary day in New York and front-runners...</td>\n",
       "      <td>0</td>\n",
       "      <td>48</td>\n",
       "      <td>1840</td>\n",
       "      <td>8</td>\n",
       "      <td>0.166667</td>\n",
       "      <td>77</td>\n",
       "      <td>0.041848</td>\n",
       "    </tr>\n",
       "    <tr>\n",
       "      <th>6</th>\n",
       "      <td>7341</td>\n",
       "      <td>Girl Horrified At What She Watches Boyfriend D...</td>\n",
       "      <td>Share This Baylee Luciani (left), Screenshot o...</td>\n",
       "      <td>1</td>\n",
       "      <td>73</td>\n",
       "      <td>3171</td>\n",
       "      <td>14</td>\n",
       "      <td>0.191781</td>\n",
       "      <td>67</td>\n",
       "      <td>0.021129</td>\n",
       "    </tr>\n",
       "    <tr>\n",
       "      <th>8</th>\n",
       "      <td>4869</td>\n",
       "      <td>Fact check: Trump and Clinton at the 'commande...</td>\n",
       "      <td>Hillary Clinton and Donald Trump made some ina...</td>\n",
       "      <td>0</td>\n",
       "      <td>63</td>\n",
       "      <td>13863</td>\n",
       "      <td>3</td>\n",
       "      <td>0.047619</td>\n",
       "      <td>557</td>\n",
       "      <td>0.040179</td>\n",
       "    </tr>\n",
       "    <tr>\n",
       "      <th>12</th>\n",
       "      <td>7041</td>\n",
       "      <td>Strong Solar Storm, Tech Risks Today | S0 News...</td>\n",
       "      <td>Click Here To Learn More About Alexandra's Per...</td>\n",
       "      <td>1</td>\n",
       "      <td>66</td>\n",
       "      <td>1445</td>\n",
       "      <td>14</td>\n",
       "      <td>0.212121</td>\n",
       "      <td>83</td>\n",
       "      <td>0.057439</td>\n",
       "    </tr>\n",
       "    <tr>\n",
       "      <th>...</th>\n",
       "      <td>...</td>\n",
       "      <td>...</td>\n",
       "      <td>...</td>\n",
       "      <td>...</td>\n",
       "      <td>...</td>\n",
       "      <td>...</td>\n",
       "      <td>...</td>\n",
       "      <td>...</td>\n",
       "      <td>...</td>\n",
       "      <td>...</td>\n",
       "    </tr>\n",
       "    <tr>\n",
       "      <th>6048</th>\n",
       "      <td>4214</td>\n",
       "      <td>Bernie Sanders says private meeting with Pope ...</td>\n",
       "      <td>ROME —  U.S. Democratic presidential candidate...</td>\n",
       "      <td>0</td>\n",
       "      <td>75</td>\n",
       "      <td>6239</td>\n",
       "      <td>4</td>\n",
       "      <td>0.053333</td>\n",
       "      <td>149</td>\n",
       "      <td>0.023882</td>\n",
       "    </tr>\n",
       "    <tr>\n",
       "      <th>6050</th>\n",
       "      <td>8411</td>\n",
       "      <td>Will the Media Reset After the Election or Are...</td>\n",
       "      <td>Written by Peter Van Buren   venerable New Yor...</td>\n",
       "      <td>1</td>\n",
       "      <td>80</td>\n",
       "      <td>3924</td>\n",
       "      <td>12</td>\n",
       "      <td>0.150000</td>\n",
       "      <td>115</td>\n",
       "      <td>0.029307</td>\n",
       "    </tr>\n",
       "    <tr>\n",
       "      <th>6051</th>\n",
       "      <td>6143</td>\n",
       "      <td>DOJ COMPLAINT: Comey Under Fire Over Partisan ...</td>\n",
       "      <td>DOJ COMPLAINT: Comey Under Fire Over Partisan ...</td>\n",
       "      <td>1</td>\n",
       "      <td>83</td>\n",
       "      <td>3077</td>\n",
       "      <td>32</td>\n",
       "      <td>0.385542</td>\n",
       "      <td>192</td>\n",
       "      <td>0.062398</td>\n",
       "    </tr>\n",
       "    <tr>\n",
       "      <th>6053</th>\n",
       "      <td>8737</td>\n",
       "      <td>Assange claims ‘crazed’ Clinton campaign tried...</td>\n",
       "      <td>Julian Assange has claimed the Hillary Clinton...</td>\n",
       "      <td>1</td>\n",
       "      <td>64</td>\n",
       "      <td>2572</td>\n",
       "      <td>4</td>\n",
       "      <td>0.062500</td>\n",
       "      <td>72</td>\n",
       "      <td>0.027994</td>\n",
       "    </tr>\n",
       "    <tr>\n",
       "      <th>6058</th>\n",
       "      <td>4330</td>\n",
       "      <td>Jeb Bush Is Suddenly Attacking Trump. Here's W...</td>\n",
       "      <td>Jeb Bush Is Suddenly Attacking Trump. Here's W...</td>\n",
       "      <td>0</td>\n",
       "      <td>61</td>\n",
       "      <td>4818</td>\n",
       "      <td>10</td>\n",
       "      <td>0.163934</td>\n",
       "      <td>181</td>\n",
       "      <td>0.037567</td>\n",
       "    </tr>\n",
       "  </tbody>\n",
       "</table>\n",
       "<p>2794 rows × 10 columns</p>\n",
       "</div>"
      ],
      "text/plain": [
       "        id                                              title  \\\n",
       "0     8476                       You Can Smell Hillary’s Fear   \n",
       "4      875   The Battle of New York: Why This Primary Matters   \n",
       "6     7341  Girl Horrified At What She Watches Boyfriend D...   \n",
       "8     4869  Fact check: Trump and Clinton at the 'commande...   \n",
       "12    7041  Strong Solar Storm, Tech Risks Today | S0 News...   \n",
       "...    ...                                                ...   \n",
       "6048  4214  Bernie Sanders says private meeting with Pope ...   \n",
       "6050  8411  Will the Media Reset After the Election or Are...   \n",
       "6051  6143  DOJ COMPLAINT: Comey Under Fire Over Partisan ...   \n",
       "6053  8737  Assange claims ‘crazed’ Clinton campaign tried...   \n",
       "6058  4330  Jeb Bush Is Suddenly Attacking Trump. Here's W...   \n",
       "\n",
       "                                                   text  label  headline_len  \\\n",
       "0     Daniel Greenfield, a Shillman Journalism Fello...      1            28   \n",
       "4     It's primary day in New York and front-runners...      0            48   \n",
       "6     Share This Baylee Luciani (left), Screenshot o...      1            73   \n",
       "8     Hillary Clinton and Donald Trump made some ina...      0            63   \n",
       "12    Click Here To Learn More About Alexandra's Per...      1            66   \n",
       "...                                                 ...    ...           ...   \n",
       "6048  ROME —  U.S. Democratic presidential candidate...      0            75   \n",
       "6050  Written by Peter Van Buren   venerable New Yor...      1            80   \n",
       "6051  DOJ COMPLAINT: Comey Under Fire Over Partisan ...      1            83   \n",
       "6053  Julian Assange has claimed the Hillary Clinton...      1            64   \n",
       "6058  Jeb Bush Is Suddenly Attacking Trump. Here's W...      0            61   \n",
       "\n",
       "      news_len  caps_in_headline  norm_caps_in_headline  caps_in_news  \\\n",
       "0         7518                 5               0.178571           314   \n",
       "4         1840                 8               0.166667            77   \n",
       "6         3171                14               0.191781            67   \n",
       "8        13863                 3               0.047619           557   \n",
       "12        1445                14               0.212121            83   \n",
       "...        ...               ...                    ...           ...   \n",
       "6048      6239                 4               0.053333           149   \n",
       "6050      3924                12               0.150000           115   \n",
       "6051      3077                32               0.385542           192   \n",
       "6053      2572                 4               0.062500            72   \n",
       "6058      4818                10               0.163934           181   \n",
       "\n",
       "      norm_caps_in_news  \n",
       "0              0.041766  \n",
       "4              0.041848  \n",
       "6              0.021129  \n",
       "8              0.040179  \n",
       "12             0.057439  \n",
       "...                 ...  \n",
       "6048           0.023882  \n",
       "6050           0.029307  \n",
       "6051           0.062398  \n",
       "6053           0.027994  \n",
       "6058           0.037567  \n",
       "\n",
       "[2794 rows x 10 columns]"
      ]
     },
     "execution_count": 82,
     "metadata": {},
     "output_type": "execute_result"
    }
   ],
   "source": [
    "df_you"
   ]
  },
  {
   "cell_type": "code",
   "execution_count": 83,
   "id": "5029dd6a-815f-48a9-82ad-cc2764d24fa5",
   "metadata": {
    "tags": []
   },
   "outputs": [
    {
     "data": {
      "text/plain": [
       "0    1398\n",
       "1    1396\n",
       "Name: label, dtype: int64"
      ]
     },
     "execution_count": 83,
     "metadata": {},
     "output_type": "execute_result"
    }
   ],
   "source": [
    "df_you.label.value_counts()"
   ]
  },
  {
   "cell_type": "markdown",
   "id": "22fa2190-120a-43ff-860a-20a1070d5f06",
   "metadata": {},
   "source": [
    "You is present in both true and fake news stories with a bit more mention in fake news stories which might be due to a more informal writing approach."
   ]
  },
  {
   "cell_type": "markdown",
   "id": "7b850713-5c40-405e-a1fe-9ffa14a600a4",
   "metadata": {},
   "source": [
    "Save the Cleaned Dataset"
   ]
  },
  {
   "cell_type": "code",
   "execution_count": 84,
   "id": "4a5997fb-aea2-4380-a58d-ac3e3235a37c",
   "metadata": {
    "tags": []
   },
   "outputs": [],
   "source": [
    "df_clean.to_csv(os.path.join(dataset_dir,'train_news_cleaned.csv'),index=False)"
   ]
  },
  {
   "cell_type": "code",
   "execution_count": null,
   "id": "121f6bcb-a3c2-4d8c-8aa6-89693bca1dcf",
   "metadata": {},
   "outputs": [],
   "source": []
  }
 ],
 "metadata": {
  "kernelspec": {
   "display_name": "Python 3 (ipykernel)",
   "language": "python",
   "name": "python3"
  },
  "language_info": {
   "codemirror_mode": {
    "name": "ipython",
    "version": 3
   },
   "file_extension": ".py",
   "mimetype": "text/x-python",
   "name": "python",
   "nbconvert_exporter": "python",
   "pygments_lexer": "ipython3",
   "version": "3.11.3"
  }
 },
 "nbformat": 4,
 "nbformat_minor": 5
}
