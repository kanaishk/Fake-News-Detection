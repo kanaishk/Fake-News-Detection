{
 "cells": [
  {
   "cell_type": "code",
   "execution_count": 1,
   "id": "21d5e336-cf31-45a0-b500-374e696d2486",
   "metadata": {
    "tags": []
   },
   "outputs": [],
   "source": [
    "import sys"
   ]
  },
  {
   "cell_type": "code",
   "execution_count": 2,
   "id": "c38c8ff2-b290-4a75-a752-a753acffb88b",
   "metadata": {
    "tags": []
   },
   "outputs": [
    {
     "name": "stdout",
     "output_type": "stream",
     "text": [
      "Requirement already satisfied: numpy in c:\\python311\\lib\\site-packages (1.23.5)\n",
      "Requirement already satisfied: pandas in c:\\python311\\lib\\site-packages (1.5.3)\n",
      "Requirement already satisfied: python-dateutil>=2.8.1 in c:\\python311\\lib\\site-packages (from pandas) (2.8.2)\n",
      "Requirement already satisfied: pytz>=2020.1 in c:\\python311\\lib\\site-packages (from pandas) (2023.3)\n",
      "Requirement already satisfied: numpy>=1.21.0 in c:\\python311\\lib\\site-packages (from pandas) (1.23.5)\n",
      "Requirement already satisfied: six>=1.5 in c:\\python311\\lib\\site-packages (from python-dateutil>=2.8.1->pandas) (1.16.0)\n",
      "Requirement already satisfied: matplotlib in c:\\python311\\lib\\site-packages (3.7.1)\n",
      "Requirement already satisfied: contourpy>=1.0.1 in c:\\python311\\lib\\site-packages (from matplotlib) (1.0.7)\n",
      "Requirement already satisfied: cycler>=0.10 in c:\\python311\\lib\\site-packages (from matplotlib) (0.11.0)\n",
      "Requirement already satisfied: fonttools>=4.22.0 in c:\\python311\\lib\\site-packages (from matplotlib) (4.39.3)\n",
      "Requirement already satisfied: kiwisolver>=1.0.1 in c:\\python311\\lib\\site-packages (from matplotlib) (1.4.4)\n",
      "Requirement already satisfied: numpy>=1.20 in c:\\python311\\lib\\site-packages (from matplotlib) (1.23.5)\n",
      "Requirement already satisfied: packaging>=20.0 in c:\\python311\\lib\\site-packages (from matplotlib) (23.1)\n",
      "Requirement already satisfied: pillow>=6.2.0 in c:\\python311\\lib\\site-packages (from matplotlib) (9.5.0)\n",
      "Requirement already satisfied: pyparsing>=2.3.1 in c:\\python311\\lib\\site-packages (from matplotlib) (3.0.9)\n",
      "Requirement already satisfied: python-dateutil>=2.7 in c:\\python311\\lib\\site-packages (from matplotlib) (2.8.2)\n",
      "Requirement already satisfied: six>=1.5 in c:\\python311\\lib\\site-packages (from python-dateutil>=2.7->matplotlib) (1.16.0)\n",
      "Requirement already satisfied: regex in c:\\python311\\lib\\site-packages (2023.5.5)\n"
     ]
    }
   ],
   "source": [
    "!{sys.executable} -m pip install numpy\n",
    "!{sys.executable} -m pip install pandas\n",
    "!{sys.executable} -m pip install matplotlib\n",
    "!{sys.executable} -m pip install regex"
   ]
  },
  {
   "cell_type": "code",
   "execution_count": 3,
   "id": "779a1662-6b4e-4550-8cc0-ee403ec0b3b5",
   "metadata": {
    "tags": []
   },
   "outputs": [],
   "source": [
    "import os\n",
    "import pandas as pd\n",
    "import numpy as np\n",
    "import matplotlib.pyplot as plt\n",
    "%matplotlib inline\n",
    "from re import search"
   ]
  },
  {
   "cell_type": "markdown",
   "id": "1fedcedc-cb45-4a09-ad34-9eb9a4f5b9ea",
   "metadata": {},
   "source": [
    "Preliminary Analysis"
   ]
  },
  {
   "cell_type": "markdown",
   "id": "27c0a26c-c52f-40c7-bfda-a35ddb41b7c9",
   "metadata": {},
   "source": [
    "Importing the dataset"
   ]
  },
  {
   "cell_type": "code",
   "execution_count": 4,
   "id": "59273b87-a710-49a8-a58b-0e1cc121c84a",
   "metadata": {
    "tags": []
   },
   "outputs": [],
   "source": [
    "cwd = os.getcwd()\n",
    "dataset_dir = os.path.join(cwd,'Dataset')\n",
    "df = pd.read_csv(os.path.join(dataset_dir,'train_news.csv'))"
   ]
  },
  {
   "cell_type": "raw",
   "id": "1b4066e7-811c-4586-9110-dcebe52e2121",
   "metadata": {},
   "source": [
    "Problem Description\n",
    "The authenticity of Information has become a longstanding issue affecting businesses and society, both for printed and digital media. On social networks, the reach and effects of information spread occur at such a fast pace and so amplified that distorted, inaccurate, or false information acquires a tremendous potential to cause real-world impacts, within minutes, ffor millions of users. Recently, several public concerns about this problem and some approaches to mitigate the problem were expressed.\n",
    "\n",
    "Data- Description:\n",
    "There are 6 columns in the dataset provided to you. The description of each of the column is given below: \n",
    "“Unnamed:0”: It is a serial number \n",
    "“id”: Unique id of each news article \n",
    "“headline”: It is the title of the news. \n",
    "“written_by”: It represents the author of the news article \n",
    "“news”: It contains the full text of the news article \n",
    "“label”: It tells whether the news is fake (1) or not fake (0)."
   ]
  },
  {
   "cell_type": "code",
   "execution_count": 5,
   "id": "8a53f245-a2e0-454d-8a10-f761d8d55054",
   "metadata": {
    "tags": []
   },
   "outputs": [
    {
     "name": "stdout",
     "output_type": "stream",
     "text": [
      "Dataset shape: (20800, 6)\n"
     ]
    }
   ],
   "source": [
    "print(\"Dataset shape:\", df.shape)"
   ]
  },
  {
   "cell_type": "code",
   "execution_count": 6,
   "id": "c16471eb-4c61-4c92-aede-652ef5436006",
   "metadata": {
    "tags": []
   },
   "outputs": [
    {
     "data": {
      "text/html": [
       "<div>\n",
       "<style scoped>\n",
       "    .dataframe tbody tr th:only-of-type {\n",
       "        vertical-align: middle;\n",
       "    }\n",
       "\n",
       "    .dataframe tbody tr th {\n",
       "        vertical-align: top;\n",
       "    }\n",
       "\n",
       "    .dataframe thead th {\n",
       "        text-align: right;\n",
       "    }\n",
       "</style>\n",
       "<table border=\"1\" class=\"dataframe\">\n",
       "  <thead>\n",
       "    <tr style=\"text-align: right;\">\n",
       "      <th></th>\n",
       "      <th>Unnamed: 0</th>\n",
       "      <th>id</th>\n",
       "      <th>headline</th>\n",
       "      <th>written_by</th>\n",
       "      <th>news</th>\n",
       "      <th>label</th>\n",
       "    </tr>\n",
       "  </thead>\n",
       "  <tbody>\n",
       "    <tr>\n",
       "      <th>0</th>\n",
       "      <td>0</td>\n",
       "      <td>9653</td>\n",
       "      <td>Ethics Questions Dogged Agriculture Nominee as...</td>\n",
       "      <td>Eric Lipton and Steve Eder</td>\n",
       "      <td>WASHINGTON  —   In Sonny Perdue’s telling, Geo...</td>\n",
       "      <td>0</td>\n",
       "    </tr>\n",
       "    <tr>\n",
       "      <th>1</th>\n",
       "      <td>1</td>\n",
       "      <td>10041</td>\n",
       "      <td>U.S. Must Dig Deep to Stop Argentina’s Lionel ...</td>\n",
       "      <td>David Waldstein</td>\n",
       "      <td>HOUSTON  —   Venezuela had a plan. It was a ta...</td>\n",
       "      <td>0</td>\n",
       "    </tr>\n",
       "    <tr>\n",
       "      <th>2</th>\n",
       "      <td>2</td>\n",
       "      <td>19113</td>\n",
       "      <td>Cotton to House: ’Do Not Walk the Plank and Vo...</td>\n",
       "      <td>Pam Key</td>\n",
       "      <td>Sunday on ABC’s “This Week,” while discussing ...</td>\n",
       "      <td>0</td>\n",
       "    </tr>\n",
       "    <tr>\n",
       "      <th>3</th>\n",
       "      <td>3</td>\n",
       "      <td>6868</td>\n",
       "      <td>Paul LePage, Besieged Maine Governor, Sends Co...</td>\n",
       "      <td>Jess Bidgood</td>\n",
       "      <td>AUGUSTA, Me.  —   The beleaguered Republican g...</td>\n",
       "      <td>0</td>\n",
       "    </tr>\n",
       "    <tr>\n",
       "      <th>4</th>\n",
       "      <td>4</td>\n",
       "      <td>7596</td>\n",
       "      <td>A Digital 9/11 If Trump Wins</td>\n",
       "      <td>Finian Cunningham</td>\n",
       "      <td>Finian Cunningham has written extensively on...</td>\n",
       "      <td>1</td>\n",
       "    </tr>\n",
       "  </tbody>\n",
       "</table>\n",
       "</div>"
      ],
      "text/plain": [
       "   Unnamed: 0     id                                           headline  \\\n",
       "0           0   9653  Ethics Questions Dogged Agriculture Nominee as...   \n",
       "1           1  10041  U.S. Must Dig Deep to Stop Argentina’s Lionel ...   \n",
       "2           2  19113  Cotton to House: ’Do Not Walk the Plank and Vo...   \n",
       "3           3   6868  Paul LePage, Besieged Maine Governor, Sends Co...   \n",
       "4           4   7596                       A Digital 9/11 If Trump Wins   \n",
       "\n",
       "                   written_by  \\\n",
       "0  Eric Lipton and Steve Eder   \n",
       "1             David Waldstein   \n",
       "2                     Pam Key   \n",
       "3                Jess Bidgood   \n",
       "4           Finian Cunningham   \n",
       "\n",
       "                                                news  label  \n",
       "0  WASHINGTON  —   In Sonny Perdue’s telling, Geo...      0  \n",
       "1  HOUSTON  —   Venezuela had a plan. It was a ta...      0  \n",
       "2  Sunday on ABC’s “This Week,” while discussing ...      0  \n",
       "3  AUGUSTA, Me.  —   The beleaguered Republican g...      0  \n",
       "4    Finian Cunningham has written extensively on...      1  "
      ]
     },
     "execution_count": 6,
     "metadata": {},
     "output_type": "execute_result"
    }
   ],
   "source": [
    "df.head()"
   ]
  },
  {
   "cell_type": "code",
   "execution_count": 7,
   "id": "f0e5cb3d-5b21-4be8-b21f-2566a6d6f3d2",
   "metadata": {
    "tags": []
   },
   "outputs": [
    {
     "data": {
      "text/html": [
       "<div>\n",
       "<style scoped>\n",
       "    .dataframe tbody tr th:only-of-type {\n",
       "        vertical-align: middle;\n",
       "    }\n",
       "\n",
       "    .dataframe tbody tr th {\n",
       "        vertical-align: top;\n",
       "    }\n",
       "\n",
       "    .dataframe thead th {\n",
       "        text-align: right;\n",
       "    }\n",
       "</style>\n",
       "<table border=\"1\" class=\"dataframe\">\n",
       "  <thead>\n",
       "    <tr style=\"text-align: right;\">\n",
       "      <th></th>\n",
       "      <th>id</th>\n",
       "      <th>headline</th>\n",
       "      <th>written_by</th>\n",
       "      <th>news</th>\n",
       "      <th>label</th>\n",
       "    </tr>\n",
       "  </thead>\n",
       "  <tbody>\n",
       "    <tr>\n",
       "      <th>0</th>\n",
       "      <td>9653</td>\n",
       "      <td>Ethics Questions Dogged Agriculture Nominee as...</td>\n",
       "      <td>Eric Lipton and Steve Eder</td>\n",
       "      <td>WASHINGTON  —   In Sonny Perdue’s telling, Geo...</td>\n",
       "      <td>0</td>\n",
       "    </tr>\n",
       "    <tr>\n",
       "      <th>1</th>\n",
       "      <td>10041</td>\n",
       "      <td>U.S. Must Dig Deep to Stop Argentina’s Lionel ...</td>\n",
       "      <td>David Waldstein</td>\n",
       "      <td>HOUSTON  —   Venezuela had a plan. It was a ta...</td>\n",
       "      <td>0</td>\n",
       "    </tr>\n",
       "    <tr>\n",
       "      <th>2</th>\n",
       "      <td>19113</td>\n",
       "      <td>Cotton to House: ’Do Not Walk the Plank and Vo...</td>\n",
       "      <td>Pam Key</td>\n",
       "      <td>Sunday on ABC’s “This Week,” while discussing ...</td>\n",
       "      <td>0</td>\n",
       "    </tr>\n",
       "    <tr>\n",
       "      <th>3</th>\n",
       "      <td>6868</td>\n",
       "      <td>Paul LePage, Besieged Maine Governor, Sends Co...</td>\n",
       "      <td>Jess Bidgood</td>\n",
       "      <td>AUGUSTA, Me.  —   The beleaguered Republican g...</td>\n",
       "      <td>0</td>\n",
       "    </tr>\n",
       "    <tr>\n",
       "      <th>4</th>\n",
       "      <td>7596</td>\n",
       "      <td>A Digital 9/11 If Trump Wins</td>\n",
       "      <td>Finian Cunningham</td>\n",
       "      <td>Finian Cunningham has written extensively on...</td>\n",
       "      <td>1</td>\n",
       "    </tr>\n",
       "  </tbody>\n",
       "</table>\n",
       "</div>"
      ],
      "text/plain": [
       "      id                                           headline  \\\n",
       "0   9653  Ethics Questions Dogged Agriculture Nominee as...   \n",
       "1  10041  U.S. Must Dig Deep to Stop Argentina’s Lionel ...   \n",
       "2  19113  Cotton to House: ’Do Not Walk the Plank and Vo...   \n",
       "3   6868  Paul LePage, Besieged Maine Governor, Sends Co...   \n",
       "4   7596                       A Digital 9/11 If Trump Wins   \n",
       "\n",
       "                   written_by  \\\n",
       "0  Eric Lipton and Steve Eder   \n",
       "1             David Waldstein   \n",
       "2                     Pam Key   \n",
       "3                Jess Bidgood   \n",
       "4           Finian Cunningham   \n",
       "\n",
       "                                                news  label  \n",
       "0  WASHINGTON  —   In Sonny Perdue’s telling, Geo...      0  \n",
       "1  HOUSTON  —   Venezuela had a plan. It was a ta...      0  \n",
       "2  Sunday on ABC’s “This Week,” while discussing ...      0  \n",
       "3  AUGUSTA, Me.  —   The beleaguered Republican g...      0  \n",
       "4    Finian Cunningham has written extensively on...      1  "
      ]
     },
     "execution_count": 7,
     "metadata": {},
     "output_type": "execute_result"
    }
   ],
   "source": [
    "unnamed_columns = [col for col in df.columns if search(r'^Unnamed', col)]\n",
    "\n",
    "df = df.drop(unnamed_columns, axis=1)\n",
    "\n",
    "df.head()"
   ]
  },
  {
   "cell_type": "code",
   "execution_count": 8,
   "id": "5fdc2a06-40df-4788-8f34-57f6cba2e326",
   "metadata": {
    "tags": []
   },
   "outputs": [
    {
     "name": "stdout",
     "output_type": "stream",
     "text": [
      "Dataset shape: (20800, 5)\n"
     ]
    }
   ],
   "source": [
    "print(\"Dataset shape:\", df.shape)"
   ]
  },
  {
   "cell_type": "markdown",
   "id": "8d1dc672-6757-4ea0-bcdf-c4b7d639ddb9",
   "metadata": {},
   "source": [
    "Cleaning the data"
   ]
  },
  {
   "cell_type": "markdown",
   "id": "9d7f7b84-6a64-452d-8d57-21551226ff07",
   "metadata": {},
   "source": [
    "Checking for missing data"
   ]
  },
  {
   "cell_type": "code",
   "execution_count": 9,
   "id": "29d2fe9c-be52-480a-be01-324e6e05645f",
   "metadata": {
    "tags": []
   },
   "outputs": [
    {
     "name": "stdout",
     "output_type": "stream",
     "text": [
      "<class 'pandas.core.frame.DataFrame'>\n",
      "RangeIndex: 20800 entries, 0 to 20799\n",
      "Data columns (total 5 columns):\n",
      " #   Column      Non-Null Count  Dtype \n",
      "---  ------      --------------  ----- \n",
      " 0   id          20800 non-null  int64 \n",
      " 1   headline    20242 non-null  object\n",
      " 2   written_by  18843 non-null  object\n",
      " 3   news        20761 non-null  object\n",
      " 4   label       20800 non-null  int64 \n",
      "dtypes: int64(2), object(3)\n",
      "memory usage: 812.6+ KB\n"
     ]
    }
   ],
   "source": [
    "df.info()"
   ]
  },
  {
   "cell_type": "code",
   "execution_count": 10,
   "id": "d4d5ed4c-bc29-4715-8e62-8fb98d93775b",
   "metadata": {
    "tags": []
   },
   "outputs": [
    {
     "name": "stdout",
     "output_type": "stream",
     "text": [
      "Dataset null values:\n",
      " id               0\n",
      "headline       558\n",
      "written_by    1957\n",
      "news            39\n",
      "label            0\n",
      "dtype: int64\n"
     ]
    }
   ],
   "source": [
    "print('Dataset null values:\\n',df.isna().sum())"
   ]
  },
  {
   "cell_type": "code",
   "execution_count": 11,
   "id": "a46fcdab-0130-4883-9600-43e2f44d8bf9",
   "metadata": {
    "tags": []
   },
   "outputs": [],
   "source": [
    "def show_tf_distribution(df, column) :\n",
    "    null = df[df[column].isna()]\n",
    "    total = len(null)\n",
    "    notfake_cnt = list(null[null['label']==0].shape)[0]\n",
    "    fake_cnt = list(null[null['label']==1].shape)[0]\n",
    "    \n",
    "    print('Null Values distribution for \\''+column+'\\' on basis for realness')\n",
    "    print('Total:\\t',total)\n",
    "    print('Real %:\\t',format(((notfake_cnt/total)*100),'.2f'))\n",
    "    print('Fake %:\\t',format(((fake_cnt/total)*100),'.2f'))"
   ]
  },
  {
   "cell_type": "code",
   "execution_count": 12,
   "id": "4c25e9d8-27e2-4bb2-8bdf-7c033a3069fa",
   "metadata": {},
   "outputs": [
    {
     "name": "stdout",
     "output_type": "stream",
     "text": [
      "Null Values distribution for 'news' on basis for realness\n",
      "Total:\t 39\n",
      "Real %:\t 0.00\n",
      "Fake %:\t 100.00\n"
     ]
    }
   ],
   "source": [
    "show_tf_distribution(df, 'news')"
   ]
  },
  {
   "cell_type": "code",
   "execution_count": 13,
   "id": "6f44aa54-bda5-452a-8208-625b16fd258e",
   "metadata": {
    "tags": []
   },
   "outputs": [
    {
     "name": "stdout",
     "output_type": "stream",
     "text": [
      "Null Values distribution for 'headline' on basis for realness\n",
      "Total:\t 558\n",
      "Real %:\t 0.00\n",
      "Fake %:\t 100.00\n"
     ]
    }
   ],
   "source": [
    "show_tf_distribution(df, 'headline')"
   ]
  },
  {
   "cell_type": "code",
   "execution_count": 14,
   "id": "f02ccc41-9670-400f-89e9-d0af5a41c094",
   "metadata": {
    "tags": []
   },
   "outputs": [
    {
     "name": "stdout",
     "output_type": "stream",
     "text": [
      "Null Values distribution for 'written_by' on basis for realness\n",
      "Total:\t 1957\n",
      "Real %:\t 1.33\n",
      "Fake %:\t 98.67\n"
     ]
    }
   ],
   "source": [
    "show_tf_distribution(df, 'written_by')"
   ]
  },
  {
   "cell_type": "markdown",
   "id": "9f07160f-a64f-491a-84ec-22c5981caba6",
   "metadata": {},
   "source": [
    "As every instance of missing value almost always indicates a fake news article, missing value/information can be an identifying factor. Hence not dropping rows with null values."
   ]
  },
  {
   "cell_type": "markdown",
   "id": "c4b8cadf-5911-4d1b-9f8b-01df372b7aed",
   "metadata": {},
   "source": [
    "Checking for placeholder values and duplicates"
   ]
  },
  {
   "cell_type": "code",
   "execution_count": 15,
   "id": "f625b078-e9d3-4f5c-977f-7fda79315213",
   "metadata": {
    "tags": []
   },
   "outputs": [
    {
     "data": {
      "text/plain": [
       "The Dark Agenda Behind Globalism And Open Borders                                                                            5\n",
       "Get Ready For Civil Unrest: Survey Finds That Most Americans Are Concerned About Election Violence                           5\n",
       "The Fix Is In: NBC Affiliate Accidentally Posts Election Results A Week Early: Hillary Wins Presidency 42% to Trump’s 40%    4\n",
       "Schools All Over America Are Closing On Election Day Due To Fears Of Violence                                                4\n",
       "Will Barack Obama Delay Or Suspend The Election If Hillary Is Forced Out By The New FBI Email Investigation?                 4\n",
       "                                                                                                                            ..\n",
       "War Less Imminent After Clinton Defeat                                                                                       2\n",
       "115 Million Americans Killed In 30 Minutes                                                                                   2\n",
       "YOUTUBE BANS ‘CLINTON’S BLACK SON’                                                                                           2\n",
       "Aspartame Corporation Searle Created First Birth Control Pill: American Eugenics and Big Pharma, a History                   2\n",
       "New French Law Makes It Illegal To Contact Employees After Work Hours                                                        2\n",
       "Name: headline, Length: 369, dtype: int64"
      ]
     },
     "execution_count": 15,
     "metadata": {},
     "output_type": "execute_result"
    }
   ],
   "source": [
    "headline_value_counts = df.headline.value_counts()\n",
    "headline_value_counts[headline_value_counts > 1]"
   ]
  },
  {
   "cell_type": "code",
   "execution_count": 16,
   "id": "8431dd6b-fe42-41be-9f35-d29509013d88",
   "metadata": {
    "tags": []
   },
   "outputs": [
    {
     "data": {
      "text/html": [
       "<div>\n",
       "<style scoped>\n",
       "    .dataframe tbody tr th:only-of-type {\n",
       "        vertical-align: middle;\n",
       "    }\n",
       "\n",
       "    .dataframe tbody tr th {\n",
       "        vertical-align: top;\n",
       "    }\n",
       "\n",
       "    .dataframe thead th {\n",
       "        text-align: right;\n",
       "    }\n",
       "</style>\n",
       "<table border=\"1\" class=\"dataframe\">\n",
       "  <thead>\n",
       "    <tr style=\"text-align: right;\">\n",
       "      <th></th>\n",
       "      <th>id</th>\n",
       "      <th>headline</th>\n",
       "      <th>written_by</th>\n",
       "      <th>news</th>\n",
       "      <th>label</th>\n",
       "    </tr>\n",
       "  </thead>\n",
       "  <tbody>\n",
       "    <tr>\n",
       "      <th>17</th>\n",
       "      <td>4694</td>\n",
       "      <td>Millions of South Koreans Rise Up Against Shad...</td>\n",
       "      <td>Madeline</td>\n",
       "      <td>Your News Wire \\nSouth Koreans are rising up i...</td>\n",
       "      <td>1</td>\n",
       "    </tr>\n",
       "    <tr>\n",
       "      <th>47</th>\n",
       "      <td>11814</td>\n",
       "      <td>Las imágenes libres de derechos más destacadas...</td>\n",
       "      <td>Tomás Fuentes</td>\n",
       "      <td>Las imágenes libres de derechos más destacadas...</td>\n",
       "      <td>1</td>\n",
       "    </tr>\n",
       "    <tr>\n",
       "      <th>66</th>\n",
       "      <td>14678</td>\n",
       "      <td>Young patient</td>\n",
       "      <td>-NO AUTHOR-</td>\n",
       "      <td>Anatomy lesson Published: 12 mins ago \\nEditor...</td>\n",
       "      <td>1</td>\n",
       "    </tr>\n",
       "    <tr>\n",
       "      <th>79</th>\n",
       "      <td>17351</td>\n",
       "      <td>Thomas Frank Explores Whether Hillary Clinton ...</td>\n",
       "      <td>NaN</td>\n",
       "      <td></td>\n",
       "      <td>1</td>\n",
       "    </tr>\n",
       "    <tr>\n",
       "      <th>84</th>\n",
       "      <td>12395</td>\n",
       "      <td>Russia is Hoarding Gold at an Alarming Rate — ...</td>\n",
       "      <td>Jay Syrmopoulos</td>\n",
       "      <td>Home / Be The Change / Antiwar / Russia is Hoa...</td>\n",
       "      <td>1</td>\n",
       "    </tr>\n",
       "    <tr>\n",
       "      <th>...</th>\n",
       "      <td>...</td>\n",
       "      <td>...</td>\n",
       "      <td>...</td>\n",
       "      <td>...</td>\n",
       "      <td>...</td>\n",
       "    </tr>\n",
       "    <tr>\n",
       "      <th>20633</th>\n",
       "      <td>10988</td>\n",
       "      <td>WHO cancer agency under fire for withholding ‘...</td>\n",
       "      <td>Editor</td>\n",
       "      <td>The International Agency for Research on Cance...</td>\n",
       "      <td>1</td>\n",
       "    </tr>\n",
       "    <tr>\n",
       "      <th>20677</th>\n",
       "      <td>18176</td>\n",
       "      <td>Rigged Primary, Media, and Candidate; the Amer...</td>\n",
       "      <td>NaN</td>\n",
       "      <td>Email \\n\\nThe excitement over the US election ...</td>\n",
       "      <td>1</td>\n",
       "    </tr>\n",
       "    <tr>\n",
       "      <th>20717</th>\n",
       "      <td>20652</td>\n",
       "      <td>Jeddah airport was targeted by Ansar Allah mis...</td>\n",
       "      <td>NaN</td>\n",
       "      <td>Email \\n\\nAn informed source in Yemen's AnsarA...</td>\n",
       "      <td>1</td>\n",
       "    </tr>\n",
       "    <tr>\n",
       "      <th>20753</th>\n",
       "      <td>9516</td>\n",
       "      <td>Las imágenes libres de derechos más destacadas...</td>\n",
       "      <td>Tomás Fuentes</td>\n",
       "      <td>Las imágenes libres de derechos más destacadas...</td>\n",
       "      <td>1</td>\n",
       "    </tr>\n",
       "    <tr>\n",
       "      <th>20759</th>\n",
       "      <td>16759</td>\n",
       "      <td>‘Arab Spring’ and the Washington-Brussels-Riya...</td>\n",
       "      <td>South Front</td>\n",
       "      <td>I thought I was just scared of Trump – but it’...</td>\n",
       "      <td>1</td>\n",
       "    </tr>\n",
       "  </tbody>\n",
       "</table>\n",
       "<p>808 rows × 5 columns</p>\n",
       "</div>"
      ],
      "text/plain": [
       "          id                                           headline  \\\n",
       "17      4694  Millions of South Koreans Rise Up Against Shad...   \n",
       "47     11814  Las imágenes libres de derechos más destacadas...   \n",
       "66     14678                                      Young patient   \n",
       "79     17351  Thomas Frank Explores Whether Hillary Clinton ...   \n",
       "84     12395  Russia is Hoarding Gold at an Alarming Rate — ...   \n",
       "...      ...                                                ...   \n",
       "20633  10988  WHO cancer agency under fire for withholding ‘...   \n",
       "20677  18176  Rigged Primary, Media, and Candidate; the Amer...   \n",
       "20717  20652  Jeddah airport was targeted by Ansar Allah mis...   \n",
       "20753   9516  Las imágenes libres de derechos más destacadas...   \n",
       "20759  16759  ‘Arab Spring’ and the Washington-Brussels-Riya...   \n",
       "\n",
       "            written_by                                               news  \\\n",
       "17            Madeline  Your News Wire \\nSouth Koreans are rising up i...   \n",
       "47       Tomás Fuentes  Las imágenes libres de derechos más destacadas...   \n",
       "66         -NO AUTHOR-  Anatomy lesson Published: 12 mins ago \\nEditor...   \n",
       "79                 NaN                                                      \n",
       "84     Jay Syrmopoulos  Home / Be The Change / Antiwar / Russia is Hoa...   \n",
       "...                ...                                                ...   \n",
       "20633           Editor  The International Agency for Research on Cance...   \n",
       "20677              NaN  Email \\n\\nThe excitement over the US election ...   \n",
       "20717              NaN  Email \\n\\nAn informed source in Yemen's AnsarA...   \n",
       "20753    Tomás Fuentes  Las imágenes libres de derechos más destacadas...   \n",
       "20759      South Front  I thought I was just scared of Trump – but it’...   \n",
       "\n",
       "       label  \n",
       "17         1  \n",
       "47         1  \n",
       "66         1  \n",
       "79         1  \n",
       "84         1  \n",
       "...      ...  \n",
       "20633      1  \n",
       "20677      1  \n",
       "20717      1  \n",
       "20753      1  \n",
       "20759      1  \n",
       "\n",
       "[808 rows x 5 columns]"
      ]
     },
     "execution_count": 16,
     "metadata": {},
     "output_type": "execute_result"
    }
   ],
   "source": [
    "duplicate_headline_list = set(headline_value_counts[headline_value_counts > 1].keys())\n",
    "df_dup_headline = df[df.headline.isin(duplicate_headline_list)]\n",
    "df_dup_headline"
   ]
  },
  {
   "cell_type": "code",
   "execution_count": 17,
   "id": "22b32f75-e1a4-4e52-976f-67caff90140d",
   "metadata": {
    "tags": []
   },
   "outputs": [
    {
     "data": {
      "text/html": [
       "<div>\n",
       "<style scoped>\n",
       "    .dataframe tbody tr th:only-of-type {\n",
       "        vertical-align: middle;\n",
       "    }\n",
       "\n",
       "    .dataframe tbody tr th {\n",
       "        vertical-align: top;\n",
       "    }\n",
       "\n",
       "    .dataframe thead th {\n",
       "        text-align: right;\n",
       "    }\n",
       "</style>\n",
       "<table border=\"1\" class=\"dataframe\">\n",
       "  <thead>\n",
       "    <tr style=\"text-align: right;\">\n",
       "      <th></th>\n",
       "      <th>id</th>\n",
       "      <th>headline</th>\n",
       "      <th>written_by</th>\n",
       "      <th>news</th>\n",
       "      <th>label</th>\n",
       "    </tr>\n",
       "  </thead>\n",
       "  <tbody>\n",
       "  </tbody>\n",
       "</table>\n",
       "</div>"
      ],
      "text/plain": [
       "Empty DataFrame\n",
       "Columns: [id, headline, written_by, news, label]\n",
       "Index: []"
      ]
     },
     "execution_count": 17,
     "metadata": {},
     "output_type": "execute_result"
    }
   ],
   "source": [
    "df_dup_headline[df_dup_headline.duplicated()]"
   ]
  },
  {
   "cell_type": "markdown",
   "id": "b59e2752-c265-43f1-bc4e-ab85c9fc1f4e",
   "metadata": {},
   "source": [
    "There are no directly duplicated rows"
   ]
  },
  {
   "cell_type": "code",
   "execution_count": 18,
   "id": "bec0e5ad-cf48-4636-ad84-613aea202f88",
   "metadata": {
    "tags": []
   },
   "outputs": [
    {
     "data": {
      "text/html": [
       "<div>\n",
       "<style scoped>\n",
       "    .dataframe tbody tr th:only-of-type {\n",
       "        vertical-align: middle;\n",
       "    }\n",
       "\n",
       "    .dataframe tbody tr th {\n",
       "        vertical-align: top;\n",
       "    }\n",
       "\n",
       "    .dataframe thead th {\n",
       "        text-align: right;\n",
       "    }\n",
       "</style>\n",
       "<table border=\"1\" class=\"dataframe\">\n",
       "  <thead>\n",
       "    <tr style=\"text-align: right;\">\n",
       "      <th></th>\n",
       "      <th>id</th>\n",
       "      <th>headline</th>\n",
       "      <th>written_by</th>\n",
       "      <th>news</th>\n",
       "      <th>label</th>\n",
       "    </tr>\n",
       "  </thead>\n",
       "  <tbody>\n",
       "    <tr>\n",
       "      <th>1818</th>\n",
       "      <td>7178</td>\n",
       "      <td>JASON CHAFFETZ EXPOSED HILLARY CLINTON’S PLAN ...</td>\n",
       "      <td>NaN</td>\n",
       "      <td>The Corruption of the Clinton’s is like an end...</td>\n",
       "      <td>1</td>\n",
       "    </tr>\n",
       "    <tr>\n",
       "      <th>5016</th>\n",
       "      <td>3244</td>\n",
       "      <td>The U.S./Turkey Plan For “Seizing, Holding, An...</td>\n",
       "      <td>Brandon Turbeville</td>\n",
       "      <td>By Brandon Turbeville As the U.S. Presidential...</td>\n",
       "      <td>1</td>\n",
       "    </tr>\n",
       "    <tr>\n",
       "      <th>5110</th>\n",
       "      <td>11407</td>\n",
       "      <td>19 men cry rape by Iran's top Quran reader</td>\n",
       "      <td>Jay Baggett</td>\n",
       "      <td>Print Saeed Toosi, right, and Ayatollah Khamen...</td>\n",
       "      <td>1</td>\n",
       "    </tr>\n",
       "    <tr>\n",
       "      <th>5284</th>\n",
       "      <td>14974</td>\n",
       "      <td>North Korea Threatens ‘Sacred’ Nuclear War Aga...</td>\n",
       "      <td>NaN</td>\n",
       "      <td>Email \\nNorth Korea’s Foreign Ministry slammed...</td>\n",
       "      <td>1</td>\n",
       "    </tr>\n",
       "    <tr>\n",
       "      <th>5390</th>\n",
       "      <td>15872</td>\n",
       "      <td>FEAR OF TRUMP: BUSH, OBAMA, CLINTON ALL BUYING...</td>\n",
       "      <td>NaN</td>\n",
       "      <td>Email \\n\\nIt appears Bill and Hillary Clinton ...</td>\n",
       "      <td>1</td>\n",
       "    </tr>\n",
       "    <tr>\n",
       "      <th>...</th>\n",
       "      <td>...</td>\n",
       "      <td>...</td>\n",
       "      <td>...</td>\n",
       "      <td>...</td>\n",
       "      <td>...</td>\n",
       "    </tr>\n",
       "    <tr>\n",
       "      <th>19953</th>\n",
       "      <td>12925</td>\n",
       "      <td>War Less Imminent After Clinton Defeat</td>\n",
       "      <td>Glen Ford</td>\n",
       "      <td>2016 presidential campaign A Black Agenda Radi...</td>\n",
       "      <td>1</td>\n",
       "    </tr>\n",
       "    <tr>\n",
       "      <th>20385</th>\n",
       "      <td>15010</td>\n",
       "      <td>Donald J. Trump’s 10 Point Plan to Put America...</td>\n",
       "      <td>Anonymous</td>\n",
       "      <td>Tweet Widget by Tanya Golash-Boza \\nHow will D...</td>\n",
       "      <td>1</td>\n",
       "    </tr>\n",
       "    <tr>\n",
       "      <th>20580</th>\n",
       "      <td>6111</td>\n",
       "      <td>Rand Paul: Polls Showing Hillary Ahead Are ‘De...</td>\n",
       "      <td>NaN</td>\n",
       "      <td>Email \\n\\nWednesday on 800 WVHU radio’s “The T...</td>\n",
       "      <td>1</td>\n",
       "    </tr>\n",
       "    <tr>\n",
       "      <th>20677</th>\n",
       "      <td>18176</td>\n",
       "      <td>Rigged Primary, Media, and Candidate; the Amer...</td>\n",
       "      <td>NaN</td>\n",
       "      <td>Email \\n\\nThe excitement over the US election ...</td>\n",
       "      <td>1</td>\n",
       "    </tr>\n",
       "    <tr>\n",
       "      <th>20717</th>\n",
       "      <td>20652</td>\n",
       "      <td>Jeddah airport was targeted by Ansar Allah mis...</td>\n",
       "      <td>NaN</td>\n",
       "      <td>Email \\n\\nAn informed source in Yemen's AnsarA...</td>\n",
       "      <td>1</td>\n",
       "    </tr>\n",
       "  </tbody>\n",
       "</table>\n",
       "<p>70 rows × 5 columns</p>\n",
       "</div>"
      ],
      "text/plain": [
       "          id                                           headline  \\\n",
       "1818    7178  JASON CHAFFETZ EXPOSED HILLARY CLINTON’S PLAN ...   \n",
       "5016    3244  The U.S./Turkey Plan For “Seizing, Holding, An...   \n",
       "5110   11407         19 men cry rape by Iran's top Quran reader   \n",
       "5284   14974  North Korea Threatens ‘Sacred’ Nuclear War Aga...   \n",
       "5390   15872  FEAR OF TRUMP: BUSH, OBAMA, CLINTON ALL BUYING...   \n",
       "...      ...                                                ...   \n",
       "19953  12925             War Less Imminent After Clinton Defeat   \n",
       "20385  15010  Donald J. Trump’s 10 Point Plan to Put America...   \n",
       "20580   6111  Rand Paul: Polls Showing Hillary Ahead Are ‘De...   \n",
       "20677  18176  Rigged Primary, Media, and Candidate; the Amer...   \n",
       "20717  20652  Jeddah airport was targeted by Ansar Allah mis...   \n",
       "\n",
       "               written_by                                               news  \\\n",
       "1818                  NaN  The Corruption of the Clinton’s is like an end...   \n",
       "5016   Brandon Turbeville  By Brandon Turbeville As the U.S. Presidential...   \n",
       "5110          Jay Baggett  Print Saeed Toosi, right, and Ayatollah Khamen...   \n",
       "5284                  NaN  Email \\nNorth Korea’s Foreign Ministry slammed...   \n",
       "5390                  NaN  Email \\n\\nIt appears Bill and Hillary Clinton ...   \n",
       "...                   ...                                                ...   \n",
       "19953           Glen Ford  2016 presidential campaign A Black Agenda Radi...   \n",
       "20385           Anonymous  Tweet Widget by Tanya Golash-Boza \\nHow will D...   \n",
       "20580                 NaN  Email \\n\\nWednesday on 800 WVHU radio’s “The T...   \n",
       "20677                 NaN  Email \\n\\nThe excitement over the US election ...   \n",
       "20717                 NaN  Email \\n\\nAn informed source in Yemen's AnsarA...   \n",
       "\n",
       "       label  \n",
       "1818       1  \n",
       "5016       1  \n",
       "5110       1  \n",
       "5284       1  \n",
       "5390       1  \n",
       "...      ...  \n",
       "19953      1  \n",
       "20385      1  \n",
       "20580      1  \n",
       "20677      1  \n",
       "20717      1  \n",
       "\n",
       "[70 rows x 5 columns]"
      ]
     },
     "execution_count": 18,
     "metadata": {},
     "output_type": "execute_result"
    }
   ],
   "source": [
    "df_dup_headline[df_dup_headline.duplicated(['headline', 'news'])]"
   ]
  },
  {
   "cell_type": "markdown",
   "id": "b769effc-6ca6-4d44-bcf2-6df81e5240bd",
   "metadata": {},
   "source": [
    "There are 70 rows with both headlines and news duplicated. These needs to be removed."
   ]
  },
  {
   "cell_type": "code",
   "execution_count": 19,
   "id": "8fd5bb54-5e78-46c0-8b78-96477d3d3735",
   "metadata": {
    "tags": []
   },
   "outputs": [
    {
     "data": {
      "text/html": [
       "<div>\n",
       "<style scoped>\n",
       "    .dataframe tbody tr th:only-of-type {\n",
       "        vertical-align: middle;\n",
       "    }\n",
       "\n",
       "    .dataframe tbody tr th {\n",
       "        vertical-align: top;\n",
       "    }\n",
       "\n",
       "    .dataframe thead th {\n",
       "        text-align: right;\n",
       "    }\n",
       "</style>\n",
       "<table border=\"1\" class=\"dataframe\">\n",
       "  <thead>\n",
       "    <tr style=\"text-align: right;\">\n",
       "      <th></th>\n",
       "      <th>id</th>\n",
       "      <th>headline</th>\n",
       "      <th>written_by</th>\n",
       "      <th>news</th>\n",
       "      <th>label</th>\n",
       "    </tr>\n",
       "  </thead>\n",
       "  <tbody>\n",
       "    <tr>\n",
       "      <th>79</th>\n",
       "      <td>17351</td>\n",
       "      <td>Thomas Frank Explores Whether Hillary Clinton ...</td>\n",
       "      <td>NaN</td>\n",
       "      <td></td>\n",
       "      <td>1</td>\n",
       "    </tr>\n",
       "    <tr>\n",
       "      <th>11572</th>\n",
       "      <td>5101</td>\n",
       "      <td>More on Trump’s Populism and How It Can Be Con...</td>\n",
       "      <td>Daily Bell Staff</td>\n",
       "      <td></td>\n",
       "      <td>1</td>\n",
       "    </tr>\n",
       "    <tr>\n",
       "      <th>15286</th>\n",
       "      <td>20141</td>\n",
       "      <td>Thomas Frank Explores Whether Hillary Clinton ...</td>\n",
       "      <td>NaN</td>\n",
       "      <td></td>\n",
       "      <td>1</td>\n",
       "    </tr>\n",
       "    <tr>\n",
       "      <th>17458</th>\n",
       "      <td>1591</td>\n",
       "      <td>More on Trump’s Populism and How It Can Be Con...</td>\n",
       "      <td>Daily Bell Staff</td>\n",
       "      <td></td>\n",
       "      <td>1</td>\n",
       "    </tr>\n",
       "  </tbody>\n",
       "</table>\n",
       "</div>"
      ],
      "text/plain": [
       "          id                                           headline  \\\n",
       "79     17351  Thomas Frank Explores Whether Hillary Clinton ...   \n",
       "11572   5101  More on Trump’s Populism and How It Can Be Con...   \n",
       "15286  20141  Thomas Frank Explores Whether Hillary Clinton ...   \n",
       "17458   1591  More on Trump’s Populism and How It Can Be Con...   \n",
       "\n",
       "             written_by news  label  \n",
       "79                  NaN           1  \n",
       "11572  Daily Bell Staff           1  \n",
       "15286               NaN           1  \n",
       "17458  Daily Bell Staff           1  "
      ]
     },
     "execution_count": 19,
     "metadata": {},
     "output_type": "execute_result"
    }
   ],
   "source": [
    "df_dup_headline[df_dup_headline.news == ' ']"
   ]
  },
  {
   "cell_type": "markdown",
   "id": "4b2396d9-6c77-4d0e-88c9-ac80dd40c9fb",
   "metadata": {},
   "source": [
    "We can leave duplicate headlines as that is a common part of news when it undergoes revision but those instances where both headline and news articles are same needs to be dropped. Rows without news will also be removed."
   ]
  },
  {
   "cell_type": "markdown",
   "id": "5810de32-adf3-41f3-bbeb-9a5c9dd8612d",
   "metadata": {},
   "source": [
    "Checking news for whitespaces."
   ]
  },
  {
   "cell_type": "code",
   "execution_count": 20,
   "id": "d7505a03-38c3-4d38-a7b8-d0075ef4189a",
   "metadata": {
    "tags": []
   },
   "outputs": [
    {
     "data": {
      "text/html": [
       "<div>\n",
       "<style scoped>\n",
       "    .dataframe tbody tr th:only-of-type {\n",
       "        vertical-align: middle;\n",
       "    }\n",
       "\n",
       "    .dataframe tbody tr th {\n",
       "        vertical-align: top;\n",
       "    }\n",
       "\n",
       "    .dataframe thead th {\n",
       "        text-align: right;\n",
       "    }\n",
       "</style>\n",
       "<table border=\"1\" class=\"dataframe\">\n",
       "  <thead>\n",
       "    <tr style=\"text-align: right;\">\n",
       "      <th></th>\n",
       "      <th>id</th>\n",
       "      <th>headline</th>\n",
       "      <th>written_by</th>\n",
       "      <th>news</th>\n",
       "      <th>label</th>\n",
       "    </tr>\n",
       "  </thead>\n",
       "  <tbody>\n",
       "    <tr>\n",
       "      <th>79</th>\n",
       "      <td>17351</td>\n",
       "      <td>Thomas Frank Explores Whether Hillary Clinton ...</td>\n",
       "      <td>NaN</td>\n",
       "      <td></td>\n",
       "      <td>1</td>\n",
       "    </tr>\n",
       "    <tr>\n",
       "      <th>210</th>\n",
       "      <td>936</td>\n",
       "      <td>Hillary is Sick &amp; Tired of Suffering from Wein...</td>\n",
       "      <td>Captain Craptek</td>\n",
       "      <td></td>\n",
       "      <td>1</td>\n",
       "    </tr>\n",
       "    <tr>\n",
       "      <th>271</th>\n",
       "      <td>295</td>\n",
       "      <td>A Connecticut Reader Reports Record Voter Regi...</td>\n",
       "      <td>VDARE.com Reader</td>\n",
       "      <td></td>\n",
       "      <td>1</td>\n",
       "    </tr>\n",
       "    <tr>\n",
       "      <th>472</th>\n",
       "      <td>16561</td>\n",
       "      <td>Not sure what to do with your time now Bake Of...</td>\n",
       "      <td>newsbiscuit editorial team</td>\n",
       "      <td></td>\n",
       "      <td>1</td>\n",
       "    </tr>\n",
       "    <tr>\n",
       "      <th>1573</th>\n",
       "      <td>16715</td>\n",
       "      <td>Citizens Reject Forced Diversity Policy by Sup...</td>\n",
       "      <td>Brenda Walker</td>\n",
       "      <td></td>\n",
       "      <td>1</td>\n",
       "    </tr>\n",
       "    <tr>\n",
       "      <th>...</th>\n",
       "      <td>...</td>\n",
       "      <td>...</td>\n",
       "      <td>...</td>\n",
       "      <td>...</td>\n",
       "      <td>...</td>\n",
       "    </tr>\n",
       "    <tr>\n",
       "      <th>19880</th>\n",
       "      <td>4275</td>\n",
       "      <td>Yes, Virginia (Dare), There ARE Righteous Jews...</td>\n",
       "      <td>Paul Gottfried</td>\n",
       "      <td></td>\n",
       "      <td>1</td>\n",
       "    </tr>\n",
       "    <tr>\n",
       "      <th>20232</th>\n",
       "      <td>16347</td>\n",
       "      <td>Trump’s Closing Argument</td>\n",
       "      <td>Steve Sailer</td>\n",
       "      <td></td>\n",
       "      <td>1</td>\n",
       "    </tr>\n",
       "    <tr>\n",
       "      <th>20543</th>\n",
       "      <td>592</td>\n",
       "      <td>Is your promising internet career over now Vin...</td>\n",
       "      <td>newsbiscuit editorial team</td>\n",
       "      <td></td>\n",
       "      <td>1</td>\n",
       "    </tr>\n",
       "    <tr>\n",
       "      <th>20559</th>\n",
       "      <td>2228</td>\n",
       "      <td>YIKES! HILLARY GOES OFF THE RAILS…Pulls A Howa...</td>\n",
       "      <td>EdJenner</td>\n",
       "      <td></td>\n",
       "      <td>1</td>\n",
       "    </tr>\n",
       "    <tr>\n",
       "      <th>20630</th>\n",
       "      <td>2163</td>\n",
       "      <td>John Derbyshire On Peter Thiel On Trump</td>\n",
       "      <td>John Derbyshire</td>\n",
       "      <td></td>\n",
       "      <td>1</td>\n",
       "    </tr>\n",
       "  </tbody>\n",
       "</table>\n",
       "<p>75 rows × 5 columns</p>\n",
       "</div>"
      ],
      "text/plain": [
       "          id                                           headline  \\\n",
       "79     17351  Thomas Frank Explores Whether Hillary Clinton ...   \n",
       "210      936  Hillary is Sick & Tired of Suffering from Wein...   \n",
       "271      295  A Connecticut Reader Reports Record Voter Regi...   \n",
       "472    16561  Not sure what to do with your time now Bake Of...   \n",
       "1573   16715  Citizens Reject Forced Diversity Policy by Sup...   \n",
       "...      ...                                                ...   \n",
       "19880   4275  Yes, Virginia (Dare), There ARE Righteous Jews...   \n",
       "20232  16347                           Trump’s Closing Argument   \n",
       "20543    592  Is your promising internet career over now Vin...   \n",
       "20559   2228  YIKES! HILLARY GOES OFF THE RAILS…Pulls A Howa...   \n",
       "20630   2163            John Derbyshire On Peter Thiel On Trump   \n",
       "\n",
       "                       written_by news  label  \n",
       "79                            NaN           1  \n",
       "210               Captain Craptek           1  \n",
       "271              VDARE.com Reader           1  \n",
       "472    newsbiscuit editorial team           1  \n",
       "1573                Brenda Walker           1  \n",
       "...                           ...  ...    ...  \n",
       "19880              Paul Gottfried           1  \n",
       "20232                Steve Sailer           1  \n",
       "20543  newsbiscuit editorial team           1  \n",
       "20559                    EdJenner           1  \n",
       "20630             John Derbyshire           1  \n",
       "\n",
       "[75 rows x 5 columns]"
      ]
     },
     "execution_count": 20,
     "metadata": {},
     "output_type": "execute_result"
    }
   ],
   "source": [
    "df[df.news == ' ']"
   ]
  },
  {
   "cell_type": "markdown",
   "id": "fba6e566-7425-49a5-aabe-db6285748a2f",
   "metadata": {},
   "source": [
    "Replacing white spaces with null."
   ]
  },
  {
   "cell_type": "code",
   "execution_count": 21,
   "id": "378de3ca-8262-4cdf-93e3-718ddbe5dcbb",
   "metadata": {
    "tags": []
   },
   "outputs": [],
   "source": [
    "df = df.replace(r'^\\s*$', np.nan, regex=True)"
   ]
  },
  {
   "cell_type": "code",
   "execution_count": 22,
   "id": "084626a9-1529-4943-a545-f435decd04b5",
   "metadata": {
    "tags": []
   },
   "outputs": [
    {
     "data": {
      "text/plain": [
       "id               0\n",
       "headline       558\n",
       "written_by    1957\n",
       "news           116\n",
       "label            0\n",
       "dtype: int64"
      ]
     },
     "execution_count": 22,
     "metadata": {},
     "output_type": "execute_result"
    }
   ],
   "source": [
    "df.isna().sum()"
   ]
  },
  {
   "cell_type": "markdown",
   "id": "6704c8b2-e6e5-4aaf-8cb3-3700cc8e2fdf",
   "metadata": {},
   "source": [
    "This shows that there is increase in null values in column news as we replace articles that only had null values."
   ]
  },
  {
   "cell_type": "code",
   "execution_count": 23,
   "id": "24ae4853-327f-41e4-9109-51f15597451b",
   "metadata": {
    "tags": []
   },
   "outputs": [
    {
     "name": "stdout",
     "output_type": "stream",
     "text": [
      "Null Values distribution for 'news' on basis for realness\n",
      "Total:\t 116\n",
      "Real %:\t 0.00\n",
      "Fake %:\t 100.00\n"
     ]
    }
   ],
   "source": [
    "show_tf_distribution(df, 'news')"
   ]
  },
  {
   "cell_type": "markdown",
   "id": "b2b83d6c-1861-4227-b509-6f6b1e1cd9da",
   "metadata": {},
   "source": [
    "The distribution shows that all null news values still point to fake news. As these values are small compared to total dataset size, dropping them might be preferable."
   ]
  },
  {
   "cell_type": "markdown",
   "id": "f9c6dcc7-ff49-4887-a4ec-144b85a67914",
   "metadata": {},
   "source": [
    "Removing Duplicated Data"
   ]
  },
  {
   "cell_type": "code",
   "execution_count": 24,
   "id": "52fa033b-d432-447d-8e73-5d3112a98b9a",
   "metadata": {
    "tags": []
   },
   "outputs": [
    {
     "data": {
      "text/plain": [
       "20800"
      ]
     },
     "execution_count": 24,
     "metadata": {},
     "output_type": "execute_result"
    }
   ],
   "source": [
    "len(df)"
   ]
  },
  {
   "cell_type": "markdown",
   "id": "a22dcd1b-b9c8-4cdf-9791-5a037ee489b6",
   "metadata": {},
   "source": [
    "Dropping rows with no news article or headlines"
   ]
  },
  {
   "cell_type": "code",
   "execution_count": 25,
   "id": "7798d3db-d8a1-435c-8df5-3caeaab5f4ca",
   "metadata": {
    "tags": []
   },
   "outputs": [],
   "source": [
    "df_clean = df.dropna(subset=['headline','news'])"
   ]
  },
  {
   "cell_type": "code",
   "execution_count": 26,
   "id": "c8ac7b8d-0ba4-4480-9aba-517a63066585",
   "metadata": {
    "tags": []
   },
   "outputs": [
    {
     "data": {
      "text/plain": [
       "20126"
      ]
     },
     "execution_count": 26,
     "metadata": {},
     "output_type": "execute_result"
    }
   ],
   "source": [
    "len(df_clean)"
   ]
  },
  {
   "cell_type": "markdown",
   "id": "525859fa-7fdc-4b58-8a77-5f7de7624802",
   "metadata": {},
   "source": [
    "Dropping rows with same headline and news articles"
   ]
  },
  {
   "cell_type": "code",
   "execution_count": 27,
   "id": "ffb3f1dc-6d92-49ed-8829-79d34dbc4ea1",
   "metadata": {
    "tags": []
   },
   "outputs": [],
   "source": [
    "df_clean = df_clean.drop_duplicates(['headline', 'news'], ignore_index=True)"
   ]
  },
  {
   "cell_type": "code",
   "execution_count": 28,
   "id": "96577c11-ef9f-4ab4-8b01-a31ea7895787",
   "metadata": {
    "tags": []
   },
   "outputs": [
    {
     "data": {
      "text/plain": [
       "20058"
      ]
     },
     "execution_count": 28,
     "metadata": {},
     "output_type": "execute_result"
    }
   ],
   "source": [
    "len(df_clean)"
   ]
  },
  {
   "cell_type": "markdown",
   "id": "a1e25978-6106-47e7-9cf0-c8c1fae9728a",
   "metadata": {},
   "source": [
    "Dropping rows with same news articles"
   ]
  },
  {
   "cell_type": "code",
   "execution_count": 29,
   "id": "c1dbcb2a-ce35-4925-942d-12e385b27545",
   "metadata": {
    "tags": []
   },
   "outputs": [],
   "source": [
    "df_clean = df_clean.drop_duplicates(['news'], ignore_index=True)"
   ]
  },
  {
   "cell_type": "code",
   "execution_count": 30,
   "id": "8992de9e-e06f-4502-83e0-ab133af7d59a",
   "metadata": {
    "tags": []
   },
   "outputs": [
    {
     "name": "stdout",
     "output_type": "stream",
     "text": [
      "<class 'pandas.core.frame.DataFrame'>\n",
      "RangeIndex: 19865 entries, 0 to 19864\n",
      "Data columns (total 5 columns):\n",
      " #   Column      Non-Null Count  Dtype \n",
      "---  ------      --------------  ----- \n",
      " 0   id          19865 non-null  int64 \n",
      " 1   headline    19865 non-null  object\n",
      " 2   written_by  18013 non-null  object\n",
      " 3   news        19865 non-null  object\n",
      " 4   label       19865 non-null  int64 \n",
      "dtypes: int64(2), object(3)\n",
      "memory usage: 776.1+ KB\n"
     ]
    }
   ],
   "source": [
    "df_clean.info()"
   ]
  },
  {
   "cell_type": "code",
   "execution_count": 31,
   "id": "7de1c9a6-de05-49f7-83d0-381539589664",
   "metadata": {
    "tags": []
   },
   "outputs": [
    {
     "data": {
      "text/plain": [
       "id               0\n",
       "headline         0\n",
       "written_by    1852\n",
       "news             0\n",
       "label            0\n",
       "dtype: int64"
      ]
     },
     "execution_count": 31,
     "metadata": {},
     "output_type": "execute_result"
    }
   ],
   "source": [
    "df_clean.isna().sum()"
   ]
  },
  {
   "cell_type": "code",
   "execution_count": 32,
   "id": "6e582c98-229c-44dc-a762-7af350cadc30",
   "metadata": {
    "tags": []
   },
   "outputs": [
    {
     "data": {
      "text/plain": [
       "935"
      ]
     },
     "execution_count": 32,
     "metadata": {},
     "output_type": "execute_result"
    }
   ],
   "source": [
    "len(df) - len(df_clean)"
   ]
  },
  {
   "cell_type": "code",
   "execution_count": 33,
   "id": "941c59d7-d451-4154-bba7-5d36269f3f62",
   "metadata": {
    "tags": []
   },
   "outputs": [
    {
     "data": {
      "text/plain": [
       "0    10387\n",
       "1     9478\n",
       "Name: label, dtype: int64"
      ]
     },
     "execution_count": 33,
     "metadata": {},
     "output_type": "execute_result"
    }
   ],
   "source": [
    "df_clean.label.value_counts()"
   ]
  },
  {
   "cell_type": "markdown",
   "id": "5175b06e-2f0d-4c4f-bfc0-9f65e742354e",
   "metadata": {},
   "source": [
    "Summary"
   ]
  },
  {
   "cell_type": "markdown",
   "id": "152f01dc-b4c8-4b27-ac7d-d8a06000500c",
   "metadata": {},
   "source": [
    "935 rows of data removed on basis of not having information in news column, headline column and or having duplicate values."
   ]
  },
  {
   "cell_type": "markdown",
   "id": "72904b6e-7100-4850-8355-a11d9df027e4",
   "metadata": {
    "tags": []
   },
   "source": [
    "Exploring the dataset"
   ]
  },
  {
   "cell_type": "markdown",
   "id": "a488a9a2-98a8-4e49-9cdb-2fb4d5619449",
   "metadata": {},
   "source": [
    "Helper Function"
   ]
  },
  {
   "cell_type": "code",
   "execution_count": 34,
   "id": "bd7167d1-55dd-4f61-88fe-022f60653e34",
   "metadata": {},
   "outputs": [],
   "source": [
    "graph_dir = os.path.join(cwd,'Graphs')"
   ]
  },
  {
   "cell_type": "code",
   "execution_count": 35,
   "id": "aa474705-f58e-4d2f-a27f-75eddc9c3506",
   "metadata": {
    "tags": []
   },
   "outputs": [],
   "source": [
    "def show_hist_for_col(df, column, title):\n",
    "    \"\"\"\n",
    "    Display a histogram for a column in a dataframe, splitting the data by label.\n",
    "    \"\"\"\n",
    "    plt.figure(figsize=(12,8))\n",
    "    df[df.label == 0][column].hist(label='True')\n",
    "    df[df.label == 1][column].hist(alpha=0.4, label='Fake')\n",
    "    plt.title(title)\n",
    "    plt.legend()\n",
    "    plt.savefig(os.path.join(graph_dir,title+'.png'), bbox_inches='tight')\n",
    "    plt.show()\n",
    "    plt.close()"
   ]
  },
  {
   "cell_type": "markdown",
   "id": "d15f4fca-b153-407f-a960-759861d2a33a",
   "metadata": {},
   "source": [
    "Distribution of Labels"
   ]
  },
  {
   "cell_type": "code",
   "execution_count": 36,
   "id": "121a07ce-022b-4802-a38d-9daabd1ccfce",
   "metadata": {
    "tags": []
   },
   "outputs": [
    {
     "data": {
      "image/png": "[encoded data removed]",
      "text/plain": [
       "<Figure size 1200x800 with 1 Axes>"
      ]
     },
     "metadata": {},
     "output_type": "display_data"
    }
   ],
   "source": [
    "plt.figure(figsize=(12,8))\n",
    "df_clean.label.hist()\n",
    "title = 'Fake or True News'\n",
    "plt.title(title)\n",
    "plt.savefig(os.path.join(graph_dir,title+'.png'), bbox_inches='tight')\n",
    "plt.show()\n",
    "plt.close()"
   ]
  },
  {
   "cell_type": "markdown",
   "id": "ae8d8f93-da85-4ed9-b622-e5be53e51e19",
   "metadata": {},
   "source": [
    "After cleaning the data there is an imbalance present but hopefully not enough to have effect on the models"
   ]
  },
  {
   "cell_type": "markdown",
   "id": "cb1b4800-4d17-4e46-b75d-dba885053961",
   "metadata": {},
   "source": [
    "Length of Headlines"
   ]
  },
  {
   "cell_type": "code",
   "execution_count": 37,
   "id": "f1da7d7d-c4f9-4f10-a79c-9fdbed28156f",
   "metadata": {
    "tags": []
   },
   "outputs": [],
   "source": [
    "df_clean['headline_len'] = df_clean.headline.str.len()"
   ]
  },
  {
   "cell_type": "code",
   "execution_count": 38,
   "id": "d7cbcca0-db47-4fab-9bc2-844eb0261a51",
   "metadata": {
    "tags": []
   },
   "outputs": [
    {
     "data": {
      "image/png": "[encoded data removed]",
      "text/plain": [
       "<Figure size 1200x800 with 1 Axes>"
      ]
     },
     "metadata": {},
     "output_type": "display_data"
    }
   ],
   "source": [
    "show_hist_for_col(df_clean, 'headline_len', 'Number of Characters in Headline')"
   ]
  },
  {
   "cell_type": "code",
   "execution_count": 39,
   "id": "0bb18494-d45c-4e09-9422-6ab2b3477787",
   "metadata": {
    "tags": []
   },
   "outputs": [
    {
     "data": {
      "text/plain": [
       "count    10387.000000\n",
       "mean        79.594974\n",
       "std         15.568225\n",
       "min         22.000000\n",
       "25%         70.000000\n",
       "50%         81.000000\n",
       "75%         89.000000\n",
       "max        175.000000\n",
       "Name: headline_len, dtype: float64"
      ]
     },
     "execution_count": 39,
     "metadata": {},
     "output_type": "execute_result"
    }
   ],
   "source": [
    "df_clean[df_clean.label == 0].headline_len.describe()"
   ]
  },
  {
   "cell_type": "code",
   "execution_count": 40,
   "id": "fda04288-7529-4d57-a7ed-a673b185fc88",
   "metadata": {
    "tags": []
   },
   "outputs": [
    {
     "data": {
      "text/plain": [
       "count    9478.000000\n",
       "mean       68.609200\n",
       "std        27.971262\n",
       "min         3.000000\n",
       "25%        50.000000\n",
       "50%        67.000000\n",
       "75%        83.000000\n",
       "max       456.000000\n",
       "Name: headline_len, dtype: float64"
      ]
     },
     "execution_count": 40,
     "metadata": {},
     "output_type": "execute_result"
    }
   ],
   "source": [
    "df_clean[df_clean.label == 1].headline_len.describe()"
   ]
  },
  {
   "cell_type": "markdown",
   "id": "0c7d0f24-6104-484a-9d14-79d8517e595e",
   "metadata": {},
   "source": [
    "Fake news stories have a wider range in the length of title than True news stories. The quartile differences between fake news articles is much larger than in case of true news article."
   ]
  },
  {
   "cell_type": "markdown",
   "id": "65077a00-d3a6-451a-9fc5-2a3842730825",
   "metadata": {},
   "source": [
    "Length of News article"
   ]
  },
  {
   "cell_type": "code",
   "execution_count": 41,
   "id": "478c4960-9548-4506-aaf3-4bb75c9dc5df",
   "metadata": {
    "tags": []
   },
   "outputs": [],
   "source": [
    "df_clean['news_len'] = df_clean.news.str.len()"
   ]
  },
  {
   "cell_type": "code",
   "execution_count": 42,
   "id": "bbe26241-3424-45f1-a5f8-96297da6d6e3",
   "metadata": {
    "tags": []
   },
   "outputs": [
    {
     "data": {
      "image/png": "[encoded data removed]",
      "text/plain": [
       "<Figure size 1200x800 with 1 Axes>"
      ]
     },
     "metadata": {},
     "output_type": "display_data"
    }
   ],
   "source": [
    "show_hist_for_col(df_clean, 'news_len', 'Length of Text for News')"
   ]
  },
  {
   "cell_type": "code",
   "execution_count": 43,
   "id": "6f2727d0-cbdd-4b87-ab64-5da4fc70695d",
   "metadata": {
    "tags": []
   },
   "outputs": [
    {
     "data": {
      "text/plain": [
       "count    10387.000000\n",
       "mean      5214.130452\n",
       "std       4313.791236\n",
       "min          3.000000\n",
       "25%       2397.000000\n",
       "50%       4591.000000\n",
       "75%       7015.000000\n",
       "max      85948.000000\n",
       "Name: news_len, dtype: float64"
      ]
     },
     "execution_count": 43,
     "metadata": {},
     "output_type": "execute_result"
    }
   ],
   "source": [
    "df_clean[df_clean.label == 0].news_len.describe()"
   ]
  },
  {
   "cell_type": "code",
   "execution_count": 44,
   "id": "7a7b23bf-bee2-4618-8785-5d156b06babe",
   "metadata": {
    "tags": []
   },
   "outputs": [
    {
     "data": {
      "text/plain": [
       "count      9478.000000\n",
       "mean       4134.509285\n",
       "std        5858.338319\n",
       "min           9.000000\n",
       "25%        1253.250000\n",
       "50%        2589.000000\n",
       "75%        5081.000000\n",
       "max      142961.000000\n",
       "Name: news_len, dtype: float64"
      ]
     },
     "execution_count": 44,
     "metadata": {},
     "output_type": "execute_result"
    }
   ],
   "source": [
    "df_clean[df_clean.label == 1].news_len.describe()"
   ]
  },
  {
   "cell_type": "code",
   "execution_count": 45,
   "id": "ecf92ed5-991a-4a23-9249-ea4c49a27d87",
   "metadata": {
    "tags": []
   },
   "outputs": [],
   "source": [
    "df_long = df_clean[df_clean.news_len > 10000]"
   ]
  },
  {
   "cell_type": "code",
   "execution_count": 46,
   "id": "687e5aea-9e89-42d3-a9f1-b876ddcb227a",
   "metadata": {
    "tags": []
   },
   "outputs": [
    {
     "data": {
      "text/html": [
       "<div>\n",
       "<style scoped>\n",
       "    .dataframe tbody tr th:only-of-type {\n",
       "        vertical-align: middle;\n",
       "    }\n",
       "\n",
       "    .dataframe tbody tr th {\n",
       "        vertical-align: top;\n",
       "    }\n",
       "\n",
       "    .dataframe thead th {\n",
       "        text-align: right;\n",
       "    }\n",
       "</style>\n",
       "<table border=\"1\" class=\"dataframe\">\n",
       "  <thead>\n",
       "    <tr style=\"text-align: right;\">\n",
       "      <th></th>\n",
       "      <th>id</th>\n",
       "      <th>headline</th>\n",
       "      <th>written_by</th>\n",
       "      <th>news</th>\n",
       "      <th>label</th>\n",
       "      <th>headline_len</th>\n",
       "      <th>news_len</th>\n",
       "    </tr>\n",
       "  </thead>\n",
       "  <tbody>\n",
       "    <tr>\n",
       "      <th>5</th>\n",
       "      <td>3196</td>\n",
       "      <td>Whatever the Outcome on November 8th the US Wi...</td>\n",
       "      <td>NaN</td>\n",
       "      <td>Taming the corporate media beast Whatever the ...</td>\n",
       "      <td>1</td>\n",
       "      <td>106</td>\n",
       "      <td>15285</td>\n",
       "    </tr>\n",
       "    <tr>\n",
       "      <th>52</th>\n",
       "      <td>880</td>\n",
       "      <td>How the Iranian-Saudi Proxy Struggle Tore Apar...</td>\n",
       "      <td>Max Fisher</td>\n",
       "      <td>Behind much of the Middle East’s chaos  —   th...</td>\n",
       "      <td>0</td>\n",
       "      <td>84</td>\n",
       "      <td>11755</td>\n",
       "    </tr>\n",
       "    <tr>\n",
       "      <th>58</th>\n",
       "      <td>6845</td>\n",
       "      <td>WikiLeaks Releases Trove of Alleged C.I.A. Hac...</td>\n",
       "      <td>Scott Shane, Matthew Rosenberg and Andrew W. L...</td>\n",
       "      <td>WASHINGTON  —   In what appears to be the larg...</td>\n",
       "      <td>0</td>\n",
       "      <td>81</td>\n",
       "      <td>10455</td>\n",
       "    </tr>\n",
       "    <tr>\n",
       "      <th>63</th>\n",
       "      <td>19180</td>\n",
       "      <td>Police Depts. Paid AT&amp;T Millions To Scrutinize...</td>\n",
       "      <td>Edmondo Burr</td>\n",
       "      <td>Edmondo Burr in News , US // 0 Comments Adam...</td>\n",
       "      <td>1</td>\n",
       "      <td>69</td>\n",
       "      <td>10786</td>\n",
       "    </tr>\n",
       "    <tr>\n",
       "      <th>67</th>\n",
       "      <td>13734</td>\n",
       "      <td>Decades Later, Sickness Among Airmen After a H...</td>\n",
       "      <td>Dave Philipps</td>\n",
       "      <td>Alarms sounded on United States Air Force base...</td>\n",
       "      <td>0</td>\n",
       "      <td>88</td>\n",
       "      <td>26860</td>\n",
       "    </tr>\n",
       "    <tr>\n",
       "      <th>...</th>\n",
       "      <td>...</td>\n",
       "      <td>...</td>\n",
       "      <td>...</td>\n",
       "      <td>...</td>\n",
       "      <td>...</td>\n",
       "      <td>...</td>\n",
       "      <td>...</td>\n",
       "    </tr>\n",
       "    <tr>\n",
       "      <th>19801</th>\n",
       "      <td>9392</td>\n",
       "      <td>When Solar Panels Became Job Killers - The New...</td>\n",
       "      <td>Keith Bradsher</td>\n",
       "      <td>WUHAN, China  —   Russell Abney raised two chi...</td>\n",
       "      <td>0</td>\n",
       "      <td>57</td>\n",
       "      <td>12783</td>\n",
       "    </tr>\n",
       "    <tr>\n",
       "      <th>19832</th>\n",
       "      <td>491</td>\n",
       "      <td>‘They Will Have to Die Now’ - The New York Times</td>\n",
       "      <td>James Verini</td>\n",
       "      <td>Before dawn on a Sunday late last month, a bat...</td>\n",
       "      <td>0</td>\n",
       "      <td>48</td>\n",
       "      <td>27714</td>\n",
       "    </tr>\n",
       "    <tr>\n",
       "      <th>19849</th>\n",
       "      <td>3629</td>\n",
       "      <td>Awakened Humanity Awaits Fully Scripted Ending...</td>\n",
       "      <td>noreply@blogger.com (Alexander Light)</td>\n",
       "      <td>. Awakened Humanity Awaits Fully Scripted Endi...</td>\n",
       "      <td>1</td>\n",
       "      <td>62</td>\n",
       "      <td>10650</td>\n",
       "    </tr>\n",
       "    <tr>\n",
       "      <th>19852</th>\n",
       "      <td>9792</td>\n",
       "      <td>The Lost Footage of Marilyn Monroe - The New Y...</td>\n",
       "      <td>Helene Stapinski</td>\n",
       "      <td>It happened one night in the late summer of 19...</td>\n",
       "      <td>0</td>\n",
       "      <td>55</td>\n",
       "      <td>15332</td>\n",
       "    </tr>\n",
       "    <tr>\n",
       "      <th>19860</th>\n",
       "      <td>366</td>\n",
       "      <td>One Police Shift: Patrolling an Anxious Americ...</td>\n",
       "      <td>The New York Times</td>\n",
       "      <td>Policing in America today is a rib dinner paid...</td>\n",
       "      <td>0</td>\n",
       "      <td>68</td>\n",
       "      <td>19894</td>\n",
       "    </tr>\n",
       "  </tbody>\n",
       "</table>\n",
       "<p>1354 rows × 7 columns</p>\n",
       "</div>"
      ],
      "text/plain": [
       "          id                                           headline  \\\n",
       "5       3196  Whatever the Outcome on November 8th the US Wi...   \n",
       "52       880  How the Iranian-Saudi Proxy Struggle Tore Apar...   \n",
       "58      6845  WikiLeaks Releases Trove of Alleged C.I.A. Hac...   \n",
       "63     19180  Police Depts. Paid AT&T Millions To Scrutinize...   \n",
       "67     13734  Decades Later, Sickness Among Airmen After a H...   \n",
       "...      ...                                                ...   \n",
       "19801   9392  When Solar Panels Became Job Killers - The New...   \n",
       "19832    491   ‘They Will Have to Die Now’ - The New York Times   \n",
       "19849   3629  Awakened Humanity Awaits Fully Scripted Ending...   \n",
       "19852   9792  The Lost Footage of Marilyn Monroe - The New Y...   \n",
       "19860    366  One Police Shift: Patrolling an Anxious Americ...   \n",
       "\n",
       "                                              written_by  \\\n",
       "5                                                    NaN   \n",
       "52                                            Max Fisher   \n",
       "58     Scott Shane, Matthew Rosenberg and Andrew W. L...   \n",
       "63                                          Edmondo Burr   \n",
       "67                                         Dave Philipps   \n",
       "...                                                  ...   \n",
       "19801                                     Keith Bradsher   \n",
       "19832                                       James Verini   \n",
       "19849              noreply@blogger.com (Alexander Light)   \n",
       "19852                                   Helene Stapinski   \n",
       "19860                                 The New York Times   \n",
       "\n",
       "                                                    news  label  headline_len  \\\n",
       "5      Taming the corporate media beast Whatever the ...      1           106   \n",
       "52     Behind much of the Middle East’s chaos  —   th...      0            84   \n",
       "58     WASHINGTON  —   In what appears to be the larg...      0            81   \n",
       "63       Edmondo Burr in News , US // 0 Comments Adam...      1            69   \n",
       "67     Alarms sounded on United States Air Force base...      0            88   \n",
       "...                                                  ...    ...           ...   \n",
       "19801  WUHAN, China  —   Russell Abney raised two chi...      0            57   \n",
       "19832  Before dawn on a Sunday late last month, a bat...      0            48   \n",
       "19849  . Awakened Humanity Awaits Fully Scripted Endi...      1            62   \n",
       "19852  It happened one night in the late summer of 19...      0            55   \n",
       "19860  Policing in America today is a rib dinner paid...      0            68   \n",
       "\n",
       "       news_len  \n",
       "5         15285  \n",
       "52        11755  \n",
       "58        10455  \n",
       "63        10786  \n",
       "67        26860  \n",
       "...         ...  \n",
       "19801     12783  \n",
       "19832     27714  \n",
       "19849     10650  \n",
       "19852     15332  \n",
       "19860     19894  \n",
       "\n",
       "[1354 rows x 7 columns]"
      ]
     },
     "execution_count": 46,
     "metadata": {},
     "output_type": "execute_result"
    }
   ],
   "source": [
    "df_long"
   ]
  },
  {
   "cell_type": "code",
   "execution_count": 47,
   "id": "624da3af-6944-4043-9352-fef3b7db108b",
   "metadata": {
    "tags": []
   },
   "outputs": [
    {
     "data": {
      "text/plain": [
       "1    707\n",
       "0    647\n",
       "Name: label, dtype: int64"
      ]
     },
     "execution_count": 47,
     "metadata": {},
     "output_type": "execute_result"
    }
   ],
   "source": [
    "df_long.label.value_counts()"
   ]
  },
  {
   "cell_type": "markdown",
   "id": "d1e958b6-d831-4171-8da0-172c9298edd1",
   "metadata": {
    "tags": []
   },
   "source": [
    "ok there does not seem to be bias in long stories towards either type of articles so they will be kept. also fake news article have shown much higher max story size and significantly lower quartile scores across the board."
   ]
  },
  {
   "cell_type": "markdown",
   "id": "b069f5f4-6bcf-4e54-9d12-6988d5f276c9",
   "metadata": {},
   "source": [
    "Capital letters in headline."
   ]
  },
  {
   "cell_type": "code",
   "execution_count": 48,
   "id": "f18b16f9-9f07-4a25-9fa0-787190459db9",
   "metadata": {
    "tags": []
   },
   "outputs": [],
   "source": [
    "df_clean['caps_in_headline'] = df_clean['headline'].apply(lambda headline: sum(1 for char in headline if char.isupper()))"
   ]
  },
  {
   "cell_type": "code",
   "execution_count": 49,
   "id": "84e7a135-ee8b-4130-b7a3-4758e27c0adc",
   "metadata": {
    "tags": []
   },
   "outputs": [
    {
     "data": {
      "text/html": [
       "<div>\n",
       "<style scoped>\n",
       "    .dataframe tbody tr th:only-of-type {\n",
       "        vertical-align: middle;\n",
       "    }\n",
       "\n",
       "    .dataframe tbody tr th {\n",
       "        vertical-align: top;\n",
       "    }\n",
       "\n",
       "    .dataframe thead th {\n",
       "        text-align: right;\n",
       "    }\n",
       "</style>\n",
       "<table border=\"1\" class=\"dataframe\">\n",
       "  <thead>\n",
       "    <tr style=\"text-align: right;\">\n",
       "      <th></th>\n",
       "      <th>id</th>\n",
       "      <th>headline</th>\n",
       "      <th>written_by</th>\n",
       "      <th>news</th>\n",
       "      <th>label</th>\n",
       "      <th>headline_len</th>\n",
       "      <th>news_len</th>\n",
       "      <th>caps_in_headline</th>\n",
       "    </tr>\n",
       "  </thead>\n",
       "  <tbody>\n",
       "    <tr>\n",
       "      <th>0</th>\n",
       "      <td>9653</td>\n",
       "      <td>Ethics Questions Dogged Agriculture Nominee as...</td>\n",
       "      <td>Eric Lipton and Steve Eder</td>\n",
       "      <td>WASHINGTON  —   In Sonny Perdue’s telling, Geo...</td>\n",
       "      <td>0</td>\n",
       "      <td>84</td>\n",
       "      <td>7936</td>\n",
       "      <td>11</td>\n",
       "    </tr>\n",
       "    <tr>\n",
       "      <th>1</th>\n",
       "      <td>10041</td>\n",
       "      <td>U.S. Must Dig Deep to Stop Argentina’s Lionel ...</td>\n",
       "      <td>David Waldstein</td>\n",
       "      <td>HOUSTON  —   Venezuela had a plan. It was a ta...</td>\n",
       "      <td>0</td>\n",
       "      <td>72</td>\n",
       "      <td>6112</td>\n",
       "      <td>13</td>\n",
       "    </tr>\n",
       "    <tr>\n",
       "      <th>2</th>\n",
       "      <td>19113</td>\n",
       "      <td>Cotton to House: ’Do Not Walk the Plank and Vo...</td>\n",
       "      <td>Pam Key</td>\n",
       "      <td>Sunday on ABC’s “This Week,” while discussing ...</td>\n",
       "      <td>0</td>\n",
       "      <td>100</td>\n",
       "      <td>425</td>\n",
       "      <td>12</td>\n",
       "    </tr>\n",
       "    <tr>\n",
       "      <th>3</th>\n",
       "      <td>6868</td>\n",
       "      <td>Paul LePage, Besieged Maine Governor, Sends Co...</td>\n",
       "      <td>Jess Bidgood</td>\n",
       "      <td>AUGUSTA, Me.  —   The beleaguered Republican g...</td>\n",
       "      <td>0</td>\n",
       "      <td>100</td>\n",
       "      <td>6516</td>\n",
       "      <td>15</td>\n",
       "    </tr>\n",
       "    <tr>\n",
       "      <th>4</th>\n",
       "      <td>7596</td>\n",
       "      <td>A Digital 9/11 If Trump Wins</td>\n",
       "      <td>Finian Cunningham</td>\n",
       "      <td>Finian Cunningham has written extensively on...</td>\n",
       "      <td>1</td>\n",
       "      <td>28</td>\n",
       "      <td>9164</td>\n",
       "      <td>5</td>\n",
       "    </tr>\n",
       "    <tr>\n",
       "      <th>...</th>\n",
       "      <td>...</td>\n",
       "      <td>...</td>\n",
       "      <td>...</td>\n",
       "      <td>...</td>\n",
       "      <td>...</td>\n",
       "      <td>...</td>\n",
       "      <td>...</td>\n",
       "      <td>...</td>\n",
       "    </tr>\n",
       "    <tr>\n",
       "      <th>19860</th>\n",
       "      <td>366</td>\n",
       "      <td>One Police Shift: Patrolling an Anxious Americ...</td>\n",
       "      <td>The New York Times</td>\n",
       "      <td>Policing in America today is a rib dinner paid...</td>\n",
       "      <td>0</td>\n",
       "      <td>68</td>\n",
       "      <td>19894</td>\n",
       "      <td>10</td>\n",
       "    </tr>\n",
       "    <tr>\n",
       "      <th>19861</th>\n",
       "      <td>14831</td>\n",
       "      <td>Albert Pike and the European Migrant Crisis</td>\n",
       "      <td>Rixon Stewart</td>\n",
       "      <td>By Rixon Stewart on November 5, 2016 Rixon Ste...</td>\n",
       "      <td>1</td>\n",
       "      <td>43</td>\n",
       "      <td>6621</td>\n",
       "      <td>5</td>\n",
       "    </tr>\n",
       "    <tr>\n",
       "      <th>19862</th>\n",
       "      <td>18142</td>\n",
       "      <td>Dakota Access Caught Infiltrating Protests to ...</td>\n",
       "      <td>Eddy Lavine</td>\n",
       "      <td>posted by Eddie You know the Dakota Access Pip...</td>\n",
       "      <td>1</td>\n",
       "      <td>84</td>\n",
       "      <td>3433</td>\n",
       "      <td>10</td>\n",
       "    </tr>\n",
       "    <tr>\n",
       "      <th>19863</th>\n",
       "      <td>12139</td>\n",
       "      <td>How to Stretch the Summer Solstice - The New Y...</td>\n",
       "      <td>Alison S. Cohn</td>\n",
       "      <td>It’s officially summer, and the Society Boutiq...</td>\n",
       "      <td>0</td>\n",
       "      <td>55</td>\n",
       "      <td>2334</td>\n",
       "      <td>8</td>\n",
       "    </tr>\n",
       "    <tr>\n",
       "      <th>19864</th>\n",
       "      <td>15660</td>\n",
       "      <td>Emory University to Pay for ’100 Percent’ of U...</td>\n",
       "      <td>Tom Ciccotta</td>\n",
       "      <td>Emory University in Atlanta, Georgia, has anno...</td>\n",
       "      <td>0</td>\n",
       "      <td>93</td>\n",
       "      <td>1932</td>\n",
       "      <td>9</td>\n",
       "    </tr>\n",
       "  </tbody>\n",
       "</table>\n",
       "<p>19865 rows × 8 columns</p>\n",
       "</div>"
      ],
      "text/plain": [
       "          id                                           headline  \\\n",
       "0       9653  Ethics Questions Dogged Agriculture Nominee as...   \n",
       "1      10041  U.S. Must Dig Deep to Stop Argentina’s Lionel ...   \n",
       "2      19113  Cotton to House: ’Do Not Walk the Plank and Vo...   \n",
       "3       6868  Paul LePage, Besieged Maine Governor, Sends Co...   \n",
       "4       7596                       A Digital 9/11 If Trump Wins   \n",
       "...      ...                                                ...   \n",
       "19860    366  One Police Shift: Patrolling an Anxious Americ...   \n",
       "19861  14831        Albert Pike and the European Migrant Crisis   \n",
       "19862  18142  Dakota Access Caught Infiltrating Protests to ...   \n",
       "19863  12139  How to Stretch the Summer Solstice - The New Y...   \n",
       "19864  15660  Emory University to Pay for ’100 Percent’ of U...   \n",
       "\n",
       "                       written_by  \\\n",
       "0      Eric Lipton and Steve Eder   \n",
       "1                 David Waldstein   \n",
       "2                         Pam Key   \n",
       "3                    Jess Bidgood   \n",
       "4               Finian Cunningham   \n",
       "...                           ...   \n",
       "19860          The New York Times   \n",
       "19861               Rixon Stewart   \n",
       "19862                 Eddy Lavine   \n",
       "19863              Alison S. Cohn   \n",
       "19864                Tom Ciccotta   \n",
       "\n",
       "                                                    news  label  headline_len  \\\n",
       "0      WASHINGTON  —   In Sonny Perdue’s telling, Geo...      0            84   \n",
       "1      HOUSTON  —   Venezuela had a plan. It was a ta...      0            72   \n",
       "2      Sunday on ABC’s “This Week,” while discussing ...      0           100   \n",
       "3      AUGUSTA, Me.  —   The beleaguered Republican g...      0           100   \n",
       "4        Finian Cunningham has written extensively on...      1            28   \n",
       "...                                                  ...    ...           ...   \n",
       "19860  Policing in America today is a rib dinner paid...      0            68   \n",
       "19861  By Rixon Stewart on November 5, 2016 Rixon Ste...      1            43   \n",
       "19862  posted by Eddie You know the Dakota Access Pip...      1            84   \n",
       "19863  It’s officially summer, and the Society Boutiq...      0            55   \n",
       "19864  Emory University in Atlanta, Georgia, has anno...      0            93   \n",
       "\n",
       "       news_len  caps_in_headline  \n",
       "0          7936                11  \n",
       "1          6112                13  \n",
       "2           425                12  \n",
       "3          6516                15  \n",
       "4          9164                 5  \n",
       "...         ...               ...  \n",
       "19860     19894                10  \n",
       "19861      6621                 5  \n",
       "19862      3433                10  \n",
       "19863      2334                 8  \n",
       "19864      1932                 9  \n",
       "\n",
       "[19865 rows x 8 columns]"
      ]
     },
     "execution_count": 49,
     "metadata": {},
     "output_type": "execute_result"
    }
   ],
   "source": [
    "df_clean"
   ]
  },
  {
   "cell_type": "code",
   "execution_count": 50,
   "id": "4e9fe8c3-d12f-4f5b-a46f-f7a54bf199d1",
   "metadata": {
    "tags": []
   },
   "outputs": [
    {
     "data": {
      "image/png": "[encoded data removed]",
      "text/plain": [
       "<Figure size 1200x800 with 1 Axes>"
      ]
     },
     "metadata": {},
     "output_type": "display_data"
    }
   ],
   "source": [
    "show_hist_for_col(df_clean, 'caps_in_headline', 'Number of Capitals in Headline')"
   ]
  },
  {
   "cell_type": "code",
   "execution_count": 51,
   "id": "9773a3ec-5d95-4e7d-8e77-222b37c82d8c",
   "metadata": {
    "tags": []
   },
   "outputs": [
    {
     "data": {
      "text/plain": [
       "count    10387.000000\n",
       "mean        11.809088\n",
       "std          2.676369\n",
       "min          3.000000\n",
       "25%         10.000000\n",
       "50%         12.000000\n",
       "75%         13.000000\n",
       "max         26.000000\n",
       "Name: caps_in_headline, dtype: float64"
      ]
     },
     "execution_count": 51,
     "metadata": {},
     "output_type": "execute_result"
    }
   ],
   "source": [
    "df_clean[df_clean.label == 0].caps_in_headline.describe()"
   ]
  },
  {
   "cell_type": "code",
   "execution_count": 52,
   "id": "c358d5ab-46e7-438e-afe3-b191c8141f40",
   "metadata": {
    "tags": []
   },
   "outputs": [
    {
     "data": {
      "text/plain": [
       "count    9478.000000\n",
       "mean       10.285714\n",
       "std         9.065833\n",
       "min         0.000000\n",
       "25%         5.000000\n",
       "50%         9.000000\n",
       "75%        13.000000\n",
       "max       110.000000\n",
       "Name: caps_in_headline, dtype: float64"
      ]
     },
     "execution_count": 52,
     "metadata": {},
     "output_type": "execute_result"
    }
   ],
   "source": [
    "df_clean[df_clean.label == 1].caps_in_headline.describe()"
   ]
  },
  {
   "cell_type": "markdown",
   "id": "0a0d6ccb-feff-4fc0-92c5-b655eaf8a840",
   "metadata": {},
   "source": [
    "There is much more deviation in number of Capital letter in headline in fake news articles. also fake news articles have much more amount of Capital letter in headline."
   ]
  },
  {
   "cell_type": "code",
   "execution_count": 53,
   "id": "99816261-6819-4655-b8b3-eb1672b912be",
   "metadata": {
    "tags": []
   },
   "outputs": [],
   "source": [
    "df_clean['norm_caps_in_headline'] = df_clean['caps_in_headline'] / df_clean['headline_len']"
   ]
  },
  {
   "cell_type": "code",
   "execution_count": 54,
   "id": "07e14af8-c5b6-453f-a572-458afda7ee9d",
   "metadata": {
    "tags": []
   },
   "outputs": [
    {
     "data": {
      "image/png": "[encoded data removed]",
      "text/plain": [
       "<Figure size 1200x800 with 1 Axes>"
      ]
     },
     "metadata": {},
     "output_type": "display_data"
    }
   ],
   "source": [
    "show_hist_for_col(df_clean, 'norm_caps_in_headline', 'Percentage of Capitals in Headline')"
   ]
  },
  {
   "cell_type": "code",
   "execution_count": 55,
   "id": "d447be6c-281d-429b-adea-02094cad8220",
   "metadata": {
    "tags": []
   },
   "outputs": [
    {
     "data": {
      "text/plain": [
       "count    10387.000000\n",
       "mean         0.149200\n",
       "std          0.024251\n",
       "min          0.064815\n",
       "25%          0.134328\n",
       "50%          0.147727\n",
       "75%          0.160920\n",
       "max          0.545455\n",
       "Name: norm_caps_in_headline, dtype: float64"
      ]
     },
     "execution_count": 55,
     "metadata": {},
     "output_type": "execute_result"
    }
   ],
   "source": [
    "df_clean[df_clean.label == 0].norm_caps_in_headline.describe()"
   ]
  },
  {
   "cell_type": "code",
   "execution_count": 56,
   "id": "6fe2cab8-f92f-4c88-8bcc-7ed1e9cb6f65",
   "metadata": {
    "tags": []
   },
   "outputs": [
    {
     "data": {
      "text/plain": [
       "count    9478.000000\n",
       "mean        0.149706\n",
       "std         0.112392\n",
       "min         0.000000\n",
       "25%         0.100000\n",
       "50%         0.139010\n",
       "75%         0.173077\n",
       "max         1.000000\n",
       "Name: norm_caps_in_headline, dtype: float64"
      ]
     },
     "execution_count": 56,
     "metadata": {},
     "output_type": "execute_result"
    }
   ],
   "source": [
    "df_clean[df_clean.label == 1].norm_caps_in_headline.describe()"
   ]
  },
  {
   "cell_type": "markdown",
   "id": "7d591ab2-6563-4dc3-8243-35eed3cbdc07",
   "metadata": {},
   "source": [
    "percentage of capitals is not good enough as the values is quite close between fake and true news headlines."
   ]
  },
  {
   "cell_type": "markdown",
   "id": "147671ee-2c48-44d6-a7ec-6dce13a3b2a0",
   "metadata": {},
   "source": [
    "Capital in news article"
   ]
  },
  {
   "cell_type": "code",
   "execution_count": 57,
   "id": "c2e8b3c0-0a65-434d-ab97-293e75a68b03",
   "metadata": {
    "tags": []
   },
   "outputs": [],
   "source": [
    "df_clean['caps_in_news'] = df_clean['news'].apply(lambda news: sum(1 for char in news if char.isupper()))"
   ]
  },
  {
   "cell_type": "code",
   "execution_count": 58,
   "id": "c0ef71d4-0eb5-4fc3-9b45-e85f247c5935",
   "metadata": {
    "tags": []
   },
   "outputs": [
    {
     "data": {
      "image/png": "[encoded data removed]",
      "text/plain": [
       "<Figure size 1200x800 with 1 Axes>"
      ]
     },
     "metadata": {},
     "output_type": "display_data"
    }
   ],
   "source": [
    "show_hist_for_col(df_clean, 'caps_in_news', 'Number of Capitals in News')"
   ]
  },
  {
   "cell_type": "code",
   "execution_count": 59,
   "id": "076a5bb7-a9e8-48c2-943e-0983b611e4e2",
   "metadata": {
    "tags": []
   },
   "outputs": [
    {
     "data": {
      "text/plain": [
       "count    10387.000000\n",
       "mean       159.919130\n",
       "std        134.498051\n",
       "min          0.000000\n",
       "25%         79.000000\n",
       "50%        136.000000\n",
       "75%        206.000000\n",
       "max       3809.000000\n",
       "Name: caps_in_news, dtype: float64"
      ]
     },
     "execution_count": 59,
     "metadata": {},
     "output_type": "execute_result"
    }
   ],
   "source": [
    "df_clean[df_clean.label == 0].caps_in_news.describe()"
   ]
  },
  {
   "cell_type": "code",
   "execution_count": 60,
   "id": "484a9074-e866-48ad-b712-518d96e406a3",
   "metadata": {
    "tags": []
   },
   "outputs": [
    {
     "data": {
      "text/plain": [
       "count    9478.000000\n",
       "mean      146.040937\n",
       "std       210.724968\n",
       "min         0.000000\n",
       "25%        49.250000\n",
       "50%        95.000000\n",
       "75%       173.000000\n",
       "max      5000.000000\n",
       "Name: caps_in_news, dtype: float64"
      ]
     },
     "execution_count": 60,
     "metadata": {},
     "output_type": "execute_result"
    }
   ],
   "source": [
    "df_clean[df_clean.label == 1].caps_in_news.describe()"
   ]
  },
  {
   "cell_type": "code",
   "execution_count": 61,
   "id": "a80f56c1-a963-4356-a8c6-da1b098daaf0",
   "metadata": {
    "tags": []
   },
   "outputs": [],
   "source": [
    "df_clean['norm_caps_in_news'] = df_clean['caps_in_news'] / df_clean['news_len']"
   ]
  },
  {
   "cell_type": "code",
   "execution_count": 62,
   "id": "76f74458-9c01-4435-8a02-ed4aa43fccd7",
   "metadata": {
    "tags": []
   },
   "outputs": [
    {
     "data": {
      "image/png": "[encoded data removed]",
      "text/plain": [
       "<Figure size 1200x800 with 1 Axes>"
      ]
     },
     "metadata": {},
     "output_type": "display_data"
    }
   ],
   "source": [
    "show_hist_for_col(df_clean, 'norm_caps_in_news', 'Percentage of Capitals in News')"
   ]
  },
  {
   "cell_type": "code",
   "execution_count": 63,
   "id": "a6b182f3-4c74-438d-9df5-35561ff6e6a1",
   "metadata": {
    "tags": []
   },
   "outputs": [
    {
     "data": {
      "text/plain": [
       "count    10387.000000\n",
       "mean         0.033159\n",
       "std          0.011551\n",
       "min          0.000000\n",
       "25%          0.026081\n",
       "50%          0.031427\n",
       "75%          0.037752\n",
       "max          0.333333\n",
       "Name: norm_caps_in_news, dtype: float64"
      ]
     },
     "execution_count": 63,
     "metadata": {},
     "output_type": "execute_result"
    }
   ],
   "source": [
    "df_clean[df_clean.label == 0].norm_caps_in_news.describe()"
   ]
  },
  {
   "cell_type": "code",
   "execution_count": 64,
   "id": "b839c437-d2a1-49c0-b46a-b42e3b34c5ce",
   "metadata": {
    "tags": []
   },
   "outputs": [
    {
     "data": {
      "text/plain": [
       "count    9478.000000\n",
       "mean        0.043653\n",
       "std         0.038608\n",
       "min         0.000000\n",
       "25%         0.027862\n",
       "50%         0.036180\n",
       "75%         0.047848\n",
       "max         0.846154\n",
       "Name: norm_caps_in_news, dtype: float64"
      ]
     },
     "execution_count": 64,
     "metadata": {},
     "output_type": "execute_result"
    }
   ],
   "source": [
    "df_clean[df_clean.label == 1].norm_caps_in_news.describe()"
   ]
  },
  {
   "cell_type": "markdown",
   "id": "fb1731dd-2256-4193-b85c-6e371a9c71d6",
   "metadata": {},
   "source": [
    "Once again there is a lot of overlap in number of capitals in news article between fake and real news. only in third quartile do fake news show much more amount of capitals in fake news articles."
   ]
  },
  {
   "cell_type": "code",
   "execution_count": 65,
   "id": "8cf7d3b1-55d1-41d7-a71c-4a111b65001b",
   "metadata": {
    "tags": []
   },
   "outputs": [],
   "source": [
    "def check_string_for(substring, fullstring):\n",
    "    \"\"\"Check if the substring is in the fullstring\"\"\"\n",
    "    if search(substring, fullstring):\n",
    "        return True\n",
    "    else:\n",
    "        return False"
   ]
  },
  {
   "cell_type": "markdown",
   "id": "85541851-344c-4a80-84ce-8b3d69dbbaca",
   "metadata": {},
   "source": [
    "Via and Image Via in article"
   ]
  },
  {
   "cell_type": "code",
   "execution_count": 66,
   "id": "e6a2f245-d5c7-49f5-ade7-a1b3750fadab",
   "metadata": {
    "tags": []
   },
   "outputs": [],
   "source": [
    "df_via = df_clean[df_clean.news.apply(lambda news_text: check_string_for(' via', news_text))]"
   ]
  },
  {
   "cell_type": "code",
   "execution_count": 67,
   "id": "b1c424b5-f41f-4eab-88fe-6201d8b695e8",
   "metadata": {
    "tags": []
   },
   "outputs": [
    {
     "data": {
      "text/html": [
       "<div>\n",
       "<style scoped>\n",
       "    .dataframe tbody tr th:only-of-type {\n",
       "        vertical-align: middle;\n",
       "    }\n",
       "\n",
       "    .dataframe tbody tr th {\n",
       "        vertical-align: top;\n",
       "    }\n",
       "\n",
       "    .dataframe thead th {\n",
       "        text-align: right;\n",
       "    }\n",
       "</style>\n",
       "<table border=\"1\" class=\"dataframe\">\n",
       "  <thead>\n",
       "    <tr style=\"text-align: right;\">\n",
       "      <th></th>\n",
       "      <th>id</th>\n",
       "      <th>headline</th>\n",
       "      <th>written_by</th>\n",
       "      <th>news</th>\n",
       "      <th>label</th>\n",
       "      <th>headline_len</th>\n",
       "      <th>news_len</th>\n",
       "      <th>caps_in_headline</th>\n",
       "      <th>norm_caps_in_headline</th>\n",
       "      <th>caps_in_news</th>\n",
       "      <th>norm_caps_in_news</th>\n",
       "    </tr>\n",
       "  </thead>\n",
       "  <tbody>\n",
       "    <tr>\n",
       "      <th>23</th>\n",
       "      <td>1155</td>\n",
       "      <td>Exclusive — Sarah Palin on Paul Ryan’s ‘RINO-C...</td>\n",
       "      <td>Matthew Boyle</td>\n",
       "      <td>Former Alaska Gov. Sarah Palin, the 2008 Repub...</td>\n",
       "      <td>0</td>\n",
       "      <td>115</td>\n",
       "      <td>9455</td>\n",
       "      <td>19</td>\n",
       "      <td>0.165217</td>\n",
       "      <td>291</td>\n",
       "      <td>0.030777</td>\n",
       "    </tr>\n",
       "    <tr>\n",
       "      <th>53</th>\n",
       "      <td>16954</td>\n",
       "      <td>‘Silicon Valley’ Season 3 Episode 6: Spaces vs...</td>\n",
       "      <td>Scott Tobias</td>\n",
       "      <td>For a show about a bunch of single dudes in th...</td>\n",
       "      <td>0</td>\n",
       "      <td>73</td>\n",
       "      <td>5494</td>\n",
       "      <td>10</td>\n",
       "      <td>0.136986</td>\n",
       "      <td>138</td>\n",
       "      <td>0.025118</td>\n",
       "    </tr>\n",
       "    <tr>\n",
       "      <th>64</th>\n",
       "      <td>16279</td>\n",
       "      <td>Anti-Abortion Group Presses Ahead Despite Rece...</td>\n",
       "      <td>Erik Eckholm</td>\n",
       "      <td>HERNDON, Va.  —   Stung by the recent Supreme ...</td>\n",
       "      <td>0</td>\n",
       "      <td>90</td>\n",
       "      <td>7465</td>\n",
       "      <td>14</td>\n",
       "      <td>0.155556</td>\n",
       "      <td>147</td>\n",
       "      <td>0.019692</td>\n",
       "    </tr>\n",
       "    <tr>\n",
       "      <th>66</th>\n",
       "      <td>2435</td>\n",
       "      <td>Someone Made a Guide for What To Do If You See...</td>\n",
       "      <td>Tom Cahill</td>\n",
       "      <td>Tom Cahill | November 11, 2016 \\nA brilliant g...</td>\n",
       "      <td>1</td>\n",
       "      <td>59</td>\n",
       "      <td>2381</td>\n",
       "      <td>12</td>\n",
       "      <td>0.203390</td>\n",
       "      <td>44</td>\n",
       "      <td>0.018480</td>\n",
       "    </tr>\n",
       "    <tr>\n",
       "      <th>77</th>\n",
       "      <td>451</td>\n",
       "      <td>The Jobs Americans Do - The New York Times</td>\n",
       "      <td>Binyamin Appelbaum</td>\n",
       "      <td>Forget the images of men in hard hats standing...</td>\n",
       "      <td>0</td>\n",
       "      <td>42</td>\n",
       "      <td>34313</td>\n",
       "      <td>8</td>\n",
       "      <td>0.190476</td>\n",
       "      <td>864</td>\n",
       "      <td>0.025180</td>\n",
       "    </tr>\n",
       "    <tr>\n",
       "      <th>...</th>\n",
       "      <td>...</td>\n",
       "      <td>...</td>\n",
       "      <td>...</td>\n",
       "      <td>...</td>\n",
       "      <td>...</td>\n",
       "      <td>...</td>\n",
       "      <td>...</td>\n",
       "      <td>...</td>\n",
       "      <td>...</td>\n",
       "      <td>...</td>\n",
       "      <td>...</td>\n",
       "    </tr>\n",
       "    <tr>\n",
       "      <th>19823</th>\n",
       "      <td>13182</td>\n",
       "      <td>FBI Found \"Tens Of Thousands Of Emails\" Belong...</td>\n",
       "      <td>NaN</td>\n",
       "      <td>FBI Found \"Tens Of Thousands Of Emails\" Belong...</td>\n",
       "      <td>1</td>\n",
       "      <td>83</td>\n",
       "      <td>4650</td>\n",
       "      <td>16</td>\n",
       "      <td>0.192771</td>\n",
       "      <td>177</td>\n",
       "      <td>0.038065</td>\n",
       "    </tr>\n",
       "    <tr>\n",
       "      <th>19824</th>\n",
       "      <td>12879</td>\n",
       "      <td>Wikileaks Director Gavin MacFadyen Dead</td>\n",
       "      <td>Tim Brown</td>\n",
       "      <td>9 News reports : \\nIt is understood the Americ...</td>\n",
       "      <td>1</td>\n",
       "      <td>39</td>\n",
       "      <td>3270</td>\n",
       "      <td>6</td>\n",
       "      <td>0.153846</td>\n",
       "      <td>91</td>\n",
       "      <td>0.027829</td>\n",
       "    </tr>\n",
       "    <tr>\n",
       "      <th>19845</th>\n",
       "      <td>3610</td>\n",
       "      <td>Paul Ryan’s Plan To Use Bernie To Scare Voters...</td>\n",
       "      <td>Michael Hayne</td>\n",
       "      <td>By Michael Hayne Election 2016 , News , Politi...</td>\n",
       "      <td>1</td>\n",
       "      <td>97</td>\n",
       "      <td>2238</td>\n",
       "      <td>19</td>\n",
       "      <td>0.195876</td>\n",
       "      <td>119</td>\n",
       "      <td>0.053172</td>\n",
       "    </tr>\n",
       "    <tr>\n",
       "      <th>19849</th>\n",
       "      <td>3629</td>\n",
       "      <td>Awakened Humanity Awaits Fully Scripted Ending...</td>\n",
       "      <td>noreply@blogger.com (Alexander Light)</td>\n",
       "      <td>. Awakened Humanity Awaits Fully Scripted Endi...</td>\n",
       "      <td>1</td>\n",
       "      <td>62</td>\n",
       "      <td>10650</td>\n",
       "      <td>7</td>\n",
       "      <td>0.112903</td>\n",
       "      <td>215</td>\n",
       "      <td>0.020188</td>\n",
       "    </tr>\n",
       "    <tr>\n",
       "      <th>19855</th>\n",
       "      <td>18359</td>\n",
       "      <td>AIDS epidemic in Russia: 'Crocodile' addicts o...</td>\n",
       "      <td>NaN</td>\n",
       "      <td>Print version Font Size The authorities of the...</td>\n",
       "      <td>1</td>\n",
       "      <td>67</td>\n",
       "      <td>2808</td>\n",
       "      <td>6</td>\n",
       "      <td>0.089552</td>\n",
       "      <td>120</td>\n",
       "      <td>0.042735</td>\n",
       "    </tr>\n",
       "  </tbody>\n",
       "</table>\n",
       "<p>1352 rows × 11 columns</p>\n",
       "</div>"
      ],
      "text/plain": [
       "          id                                           headline  \\\n",
       "23      1155  Exclusive — Sarah Palin on Paul Ryan’s ‘RINO-C...   \n",
       "53     16954  ‘Silicon Valley’ Season 3 Episode 6: Spaces vs...   \n",
       "64     16279  Anti-Abortion Group Presses Ahead Despite Rece...   \n",
       "66      2435  Someone Made a Guide for What To Do If You See...   \n",
       "77       451         The Jobs Americans Do - The New York Times   \n",
       "...      ...                                                ...   \n",
       "19823  13182  FBI Found \"Tens Of Thousands Of Emails\" Belong...   \n",
       "19824  12879            Wikileaks Director Gavin MacFadyen Dead   \n",
       "19845   3610  Paul Ryan’s Plan To Use Bernie To Scare Voters...   \n",
       "19849   3629  Awakened Humanity Awaits Fully Scripted Ending...   \n",
       "19855  18359  AIDS epidemic in Russia: 'Crocodile' addicts o...   \n",
       "\n",
       "                                  written_by  \\\n",
       "23                             Matthew Boyle   \n",
       "53                              Scott Tobias   \n",
       "64                              Erik Eckholm   \n",
       "66                                Tom Cahill   \n",
       "77                        Binyamin Appelbaum   \n",
       "...                                      ...   \n",
       "19823                                    NaN   \n",
       "19824                              Tim Brown   \n",
       "19845                          Michael Hayne   \n",
       "19849  noreply@blogger.com (Alexander Light)   \n",
       "19855                                    NaN   \n",
       "\n",
       "                                                    news  label  headline_len  \\\n",
       "23     Former Alaska Gov. Sarah Palin, the 2008 Repub...      0           115   \n",
       "53     For a show about a bunch of single dudes in th...      0            73   \n",
       "64     HERNDON, Va.  —   Stung by the recent Supreme ...      0            90   \n",
       "66     Tom Cahill | November 11, 2016 \\nA brilliant g...      1            59   \n",
       "77     Forget the images of men in hard hats standing...      0            42   \n",
       "...                                                  ...    ...           ...   \n",
       "19823  FBI Found \"Tens Of Thousands Of Emails\" Belong...      1            83   \n",
       "19824  9 News reports : \\nIt is understood the Americ...      1            39   \n",
       "19845  By Michael Hayne Election 2016 , News , Politi...      1            97   \n",
       "19849  . Awakened Humanity Awaits Fully Scripted Endi...      1            62   \n",
       "19855  Print version Font Size The authorities of the...      1            67   \n",
       "\n",
       "       news_len  caps_in_headline  norm_caps_in_headline  caps_in_news  \\\n",
       "23         9455                19               0.165217           291   \n",
       "53         5494                10               0.136986           138   \n",
       "64         7465                14               0.155556           147   \n",
       "66         2381                12               0.203390            44   \n",
       "77        34313                 8               0.190476           864   \n",
       "...         ...               ...                    ...           ...   \n",
       "19823      4650                16               0.192771           177   \n",
       "19824      3270                 6               0.153846            91   \n",
       "19845      2238                19               0.195876           119   \n",
       "19849     10650                 7               0.112903           215   \n",
       "19855      2808                 6               0.089552           120   \n",
       "\n",
       "       norm_caps_in_news  \n",
       "23              0.030777  \n",
       "53              0.025118  \n",
       "64              0.019692  \n",
       "66              0.018480  \n",
       "77              0.025180  \n",
       "...                  ...  \n",
       "19823           0.038065  \n",
       "19824           0.027829  \n",
       "19845           0.053172  \n",
       "19849           0.020188  \n",
       "19855           0.042735  \n",
       "\n",
       "[1352 rows x 11 columns]"
      ]
     },
     "execution_count": 67,
     "metadata": {},
     "output_type": "execute_result"
    }
   ],
   "source": [
    "df_via"
   ]
  },
  {
   "cell_type": "code",
   "execution_count": 68,
   "id": "e6d9dfb4-a8bf-4373-bf50-2ee64f67e23d",
   "metadata": {
    "tags": []
   },
   "outputs": [
    {
     "data": {
      "text/plain": [
       "1    843\n",
       "0    509\n",
       "Name: label, dtype: int64"
      ]
     },
     "execution_count": 68,
     "metadata": {},
     "output_type": "execute_result"
    }
   ],
   "source": [
    "df_via['label'].value_counts()"
   ]
  },
  {
   "cell_type": "markdown",
   "id": "588642d4-23c6-42e1-9bc9-4cfab3373492",
   "metadata": {},
   "source": [
    "Via is much more indicative of fake news article compared to true news article."
   ]
  },
  {
   "cell_type": "code",
   "execution_count": 69,
   "id": "150ef478-cb23-403b-b0ac-b56cc6d4f64d",
   "metadata": {
    "tags": []
   },
   "outputs": [],
   "source": [
    "df_image_via = df_clean[df_clean.news.apply(lambda news_text: check_string_for('image via', news_text))]"
   ]
  },
  {
   "cell_type": "code",
   "execution_count": 70,
   "id": "be585078-46d9-45a4-b14d-0ce4d6c939e3",
   "metadata": {
    "tags": []
   },
   "outputs": [
    {
     "data": {
      "text/html": [
       "<div>\n",
       "<style scoped>\n",
       "    .dataframe tbody tr th:only-of-type {\n",
       "        vertical-align: middle;\n",
       "    }\n",
       "\n",
       "    .dataframe tbody tr th {\n",
       "        vertical-align: top;\n",
       "    }\n",
       "\n",
       "    .dataframe thead th {\n",
       "        text-align: right;\n",
       "    }\n",
       "</style>\n",
       "<table border=\"1\" class=\"dataframe\">\n",
       "  <thead>\n",
       "    <tr style=\"text-align: right;\">\n",
       "      <th></th>\n",
       "      <th>id</th>\n",
       "      <th>headline</th>\n",
       "      <th>written_by</th>\n",
       "      <th>news</th>\n",
       "      <th>label</th>\n",
       "      <th>headline_len</th>\n",
       "      <th>news_len</th>\n",
       "      <th>caps_in_headline</th>\n",
       "      <th>norm_caps_in_headline</th>\n",
       "      <th>caps_in_news</th>\n",
       "      <th>norm_caps_in_news</th>\n",
       "    </tr>\n",
       "  </thead>\n",
       "  <tbody>\n",
       "    <tr>\n",
       "      <th>98</th>\n",
       "      <td>5144</td>\n",
       "      <td>Trump Gets Dumped On Instagram By Supermodel G...</td>\n",
       "      <td>Blanche Benson</td>\n",
       "      <td>Google Pinterest Digg Linkedin Reddit Stumbleu...</td>\n",
       "      <td>1</td>\n",
       "      <td>68</td>\n",
       "      <td>2424</td>\n",
       "      <td>14</td>\n",
       "      <td>0.205882</td>\n",
       "      <td>124</td>\n",
       "      <td>0.051155</td>\n",
       "    </tr>\n",
       "    <tr>\n",
       "      <th>342</th>\n",
       "      <td>10311</td>\n",
       "      <td>BOMBSHELL: Justice Clarence Thomas Accused Of ...</td>\n",
       "      <td>Karen Shiebler</td>\n",
       "      <td>BOMBSHELL: Justice Clarence Thomas Accused Of ...</td>\n",
       "      <td>1</td>\n",
       "      <td>71</td>\n",
       "      <td>2585</td>\n",
       "      <td>21</td>\n",
       "      <td>0.295775</td>\n",
       "      <td>125</td>\n",
       "      <td>0.048356</td>\n",
       "    </tr>\n",
       "    <tr>\n",
       "      <th>354</th>\n",
       "      <td>13955</td>\n",
       "      <td>Comment on WATCH: Human Rights Activists Are T...</td>\n",
       "      <td>information security architect</td>\n",
       "      <td>WATCH: Human Rights Activists Are Targeting Th...</td>\n",
       "      <td>1</td>\n",
       "      <td>116</td>\n",
       "      <td>4370</td>\n",
       "      <td>16</td>\n",
       "      <td>0.137931</td>\n",
       "      <td>106</td>\n",
       "      <td>0.024256</td>\n",
       "    </tr>\n",
       "    <tr>\n",
       "      <th>908</th>\n",
       "      <td>13532</td>\n",
       "      <td>Rally Of Deplorables Call For Clinton Assassin...</td>\n",
       "      <td>Blanche Benson</td>\n",
       "      <td>Google Pinterest Digg Linkedin Reddit Stumbleu...</td>\n",
       "      <td>1</td>\n",
       "      <td>97</td>\n",
       "      <td>1823</td>\n",
       "      <td>17</td>\n",
       "      <td>0.175258</td>\n",
       "      <td>79</td>\n",
       "      <td>0.043335</td>\n",
       "    </tr>\n",
       "    <tr>\n",
       "      <th>1670</th>\n",
       "      <td>18868</td>\n",
       "      <td>BREAKING: Melania Trump’s Immigration Records ...</td>\n",
       "      <td>NaN</td>\n",
       "      <td>on November 4, 2016 10:58 pm · \\nGOP president...</td>\n",
       "      <td>1</td>\n",
       "      <td>133</td>\n",
       "      <td>3562</td>\n",
       "      <td>31</td>\n",
       "      <td>0.233083</td>\n",
       "      <td>98</td>\n",
       "      <td>0.027513</td>\n",
       "    </tr>\n",
       "    <tr>\n",
       "      <th>...</th>\n",
       "      <td>...</td>\n",
       "      <td>...</td>\n",
       "      <td>...</td>\n",
       "      <td>...</td>\n",
       "      <td>...</td>\n",
       "      <td>...</td>\n",
       "      <td>...</td>\n",
       "      <td>...</td>\n",
       "      <td>...</td>\n",
       "      <td>...</td>\n",
       "      <td>...</td>\n",
       "    </tr>\n",
       "    <tr>\n",
       "      <th>19537</th>\n",
       "      <td>9135</td>\n",
       "      <td>Most Embarrassing Mom Liz Cheney Dresses Daugh...</td>\n",
       "      <td>Jameson Parker</td>\n",
       "      <td>\\nIt was recently noted that superhero costu...</td>\n",
       "      <td>1</td>\n",
       "      <td>97</td>\n",
       "      <td>2450</td>\n",
       "      <td>19</td>\n",
       "      <td>0.195876</td>\n",
       "      <td>71</td>\n",
       "      <td>0.028980</td>\n",
       "    </tr>\n",
       "    <tr>\n",
       "      <th>19616</th>\n",
       "      <td>15423</td>\n",
       "      <td>CNN’s Van Jones Has Some Reality For Trump: If...</td>\n",
       "      <td>Allison Vincent</td>\n",
       "      <td>By Allison Vincent Election 2016 , News , Poli...</td>\n",
       "      <td>1</td>\n",
       "      <td>91</td>\n",
       "      <td>1596</td>\n",
       "      <td>24</td>\n",
       "      <td>0.263736</td>\n",
       "      <td>104</td>\n",
       "      <td>0.065163</td>\n",
       "    </tr>\n",
       "    <tr>\n",
       "      <th>19678</th>\n",
       "      <td>9983</td>\n",
       "      <td>BREAKING: Miami Woman BUSTED On Election Fraud...</td>\n",
       "      <td>Karen Shiebler</td>\n",
       "      <td>BREAKING: Miami Woman BUSTED On Election Fraud...</td>\n",
       "      <td>1</td>\n",
       "      <td>80</td>\n",
       "      <td>2889</td>\n",
       "      <td>24</td>\n",
       "      <td>0.300000</td>\n",
       "      <td>105</td>\n",
       "      <td>0.036345</td>\n",
       "    </tr>\n",
       "    <tr>\n",
       "      <th>19699</th>\n",
       "      <td>5668</td>\n",
       "      <td>BREAKING: AP Finds Proof Melania Trump Illegal...</td>\n",
       "      <td>Jameson Parker</td>\n",
       "      <td>\\nIn what may be the last bombshell to drop ...</td>\n",
       "      <td>1</td>\n",
       "      <td>90</td>\n",
       "      <td>2538</td>\n",
       "      <td>28</td>\n",
       "      <td>0.311111</td>\n",
       "      <td>64</td>\n",
       "      <td>0.025217</td>\n",
       "    </tr>\n",
       "    <tr>\n",
       "      <th>19845</th>\n",
       "      <td>3610</td>\n",
       "      <td>Paul Ryan’s Plan To Use Bernie To Scare Voters...</td>\n",
       "      <td>Michael Hayne</td>\n",
       "      <td>By Michael Hayne Election 2016 , News , Politi...</td>\n",
       "      <td>1</td>\n",
       "      <td>97</td>\n",
       "      <td>2238</td>\n",
       "      <td>19</td>\n",
       "      <td>0.195876</td>\n",
       "      <td>119</td>\n",
       "      <td>0.053172</td>\n",
       "    </tr>\n",
       "  </tbody>\n",
       "</table>\n",
       "<p>90 rows × 11 columns</p>\n",
       "</div>"
      ],
      "text/plain": [
       "          id                                           headline  \\\n",
       "98      5144  Trump Gets Dumped On Instagram By Supermodel G...   \n",
       "342    10311  BOMBSHELL: Justice Clarence Thomas Accused Of ...   \n",
       "354    13955  Comment on WATCH: Human Rights Activists Are T...   \n",
       "908    13532  Rally Of Deplorables Call For Clinton Assassin...   \n",
       "1670   18868  BREAKING: Melania Trump’s Immigration Records ...   \n",
       "...      ...                                                ...   \n",
       "19537   9135  Most Embarrassing Mom Liz Cheney Dresses Daugh...   \n",
       "19616  15423  CNN’s Van Jones Has Some Reality For Trump: If...   \n",
       "19678   9983  BREAKING: Miami Woman BUSTED On Election Fraud...   \n",
       "19699   5668  BREAKING: AP Finds Proof Melania Trump Illegal...   \n",
       "19845   3610  Paul Ryan’s Plan To Use Bernie To Scare Voters...   \n",
       "\n",
       "                           written_by  \\\n",
       "98                     Blanche Benson   \n",
       "342                    Karen Shiebler   \n",
       "354    information security architect   \n",
       "908                    Blanche Benson   \n",
       "1670                              NaN   \n",
       "...                               ...   \n",
       "19537                  Jameson Parker   \n",
       "19616                 Allison Vincent   \n",
       "19678                  Karen Shiebler   \n",
       "19699                  Jameson Parker   \n",
       "19845                   Michael Hayne   \n",
       "\n",
       "                                                    news  label  headline_len  \\\n",
       "98     Google Pinterest Digg Linkedin Reddit Stumbleu...      1            68   \n",
       "342    BOMBSHELL: Justice Clarence Thomas Accused Of ...      1            71   \n",
       "354    WATCH: Human Rights Activists Are Targeting Th...      1           116   \n",
       "908    Google Pinterest Digg Linkedin Reddit Stumbleu...      1            97   \n",
       "1670   on November 4, 2016 10:58 pm · \\nGOP president...      1           133   \n",
       "...                                                  ...    ...           ...   \n",
       "19537    \\nIt was recently noted that superhero costu...      1            97   \n",
       "19616  By Allison Vincent Election 2016 , News , Poli...      1            91   \n",
       "19678  BREAKING: Miami Woman BUSTED On Election Fraud...      1            80   \n",
       "19699    \\nIn what may be the last bombshell to drop ...      1            90   \n",
       "19845  By Michael Hayne Election 2016 , News , Politi...      1            97   \n",
       "\n",
       "       news_len  caps_in_headline  norm_caps_in_headline  caps_in_news  \\\n",
       "98         2424                14               0.205882           124   \n",
       "342        2585                21               0.295775           125   \n",
       "354        4370                16               0.137931           106   \n",
       "908        1823                17               0.175258            79   \n",
       "1670       3562                31               0.233083            98   \n",
       "...         ...               ...                    ...           ...   \n",
       "19537      2450                19               0.195876            71   \n",
       "19616      1596                24               0.263736           104   \n",
       "19678      2889                24               0.300000           105   \n",
       "19699      2538                28               0.311111            64   \n",
       "19845      2238                19               0.195876           119   \n",
       "\n",
       "       norm_caps_in_news  \n",
       "98              0.051155  \n",
       "342             0.048356  \n",
       "354             0.024256  \n",
       "908             0.043335  \n",
       "1670            0.027513  \n",
       "...                  ...  \n",
       "19537           0.028980  \n",
       "19616           0.065163  \n",
       "19678           0.036345  \n",
       "19699           0.025217  \n",
       "19845           0.053172  \n",
       "\n",
       "[90 rows x 11 columns]"
      ]
     },
     "execution_count": 70,
     "metadata": {},
     "output_type": "execute_result"
    }
   ],
   "source": [
    "df_image_via"
   ]
  },
  {
   "cell_type": "code",
   "execution_count": 71,
   "id": "9064f042-60b8-4360-8000-be437e03c845",
   "metadata": {
    "tags": []
   },
   "outputs": [
    {
     "data": {
      "text/plain": [
       "1    90\n",
       "Name: label, dtype: int64"
      ]
     },
     "execution_count": 71,
     "metadata": {},
     "output_type": "execute_result"
    }
   ],
   "source": [
    "df_image_via['label'].value_counts()"
   ]
  },
  {
   "cell_type": "markdown",
   "id": "4a596c4c-b1ef-4b60-8339-d0251d9b9f7f",
   "metadata": {},
   "source": [
    "With all the posts with image via being Fake, it's highly indicative of that label, but this may be particular to this dataset and may not generalize."
   ]
  },
  {
   "cell_type": "markdown",
   "id": "5bf26baa-5882-4eb5-84bd-402992125bb0",
   "metadata": {},
   "source": [
    "Said in news article"
   ]
  },
  {
   "cell_type": "code",
   "execution_count": 72,
   "id": "53807b5d-26da-4482-a350-2a70ee6de463",
   "metadata": {
    "tags": []
   },
   "outputs": [],
   "source": [
    "df_said = df_clean[df_clean.news.apply(lambda news_text: check_string_for('said', news_text))]"
   ]
  },
  {
   "cell_type": "code",
   "execution_count": 73,
   "id": "6187b436-1e3b-4301-8e09-fadc10ddee31",
   "metadata": {
    "tags": []
   },
   "outputs": [
    {
     "data": {
      "text/html": [
       "<div>\n",
       "<style scoped>\n",
       "    .dataframe tbody tr th:only-of-type {\n",
       "        vertical-align: middle;\n",
       "    }\n",
       "\n",
       "    .dataframe tbody tr th {\n",
       "        vertical-align: top;\n",
       "    }\n",
       "\n",
       "    .dataframe thead th {\n",
       "        text-align: right;\n",
       "    }\n",
       "</style>\n",
       "<table border=\"1\" class=\"dataframe\">\n",
       "  <thead>\n",
       "    <tr style=\"text-align: right;\">\n",
       "      <th></th>\n",
       "      <th>id</th>\n",
       "      <th>headline</th>\n",
       "      <th>written_by</th>\n",
       "      <th>news</th>\n",
       "      <th>label</th>\n",
       "      <th>headline_len</th>\n",
       "      <th>news_len</th>\n",
       "      <th>caps_in_headline</th>\n",
       "      <th>norm_caps_in_headline</th>\n",
       "      <th>caps_in_news</th>\n",
       "      <th>norm_caps_in_news</th>\n",
       "    </tr>\n",
       "  </thead>\n",
       "  <tbody>\n",
       "    <tr>\n",
       "      <th>0</th>\n",
       "      <td>9653</td>\n",
       "      <td>Ethics Questions Dogged Agriculture Nominee as...</td>\n",
       "      <td>Eric Lipton and Steve Eder</td>\n",
       "      <td>WASHINGTON  —   In Sonny Perdue’s telling, Geo...</td>\n",
       "      <td>0</td>\n",
       "      <td>84</td>\n",
       "      <td>7936</td>\n",
       "      <td>11</td>\n",
       "      <td>0.130952</td>\n",
       "      <td>227</td>\n",
       "      <td>0.028604</td>\n",
       "    </tr>\n",
       "    <tr>\n",
       "      <th>1</th>\n",
       "      <td>10041</td>\n",
       "      <td>U.S. Must Dig Deep to Stop Argentina’s Lionel ...</td>\n",
       "      <td>David Waldstein</td>\n",
       "      <td>HOUSTON  —   Venezuela had a plan. It was a ta...</td>\n",
       "      <td>0</td>\n",
       "      <td>72</td>\n",
       "      <td>6112</td>\n",
       "      <td>13</td>\n",
       "      <td>0.180556</td>\n",
       "      <td>256</td>\n",
       "      <td>0.041885</td>\n",
       "    </tr>\n",
       "    <tr>\n",
       "      <th>3</th>\n",
       "      <td>6868</td>\n",
       "      <td>Paul LePage, Besieged Maine Governor, Sends Co...</td>\n",
       "      <td>Jess Bidgood</td>\n",
       "      <td>AUGUSTA, Me.  —   The beleaguered Republican g...</td>\n",
       "      <td>0</td>\n",
       "      <td>100</td>\n",
       "      <td>6516</td>\n",
       "      <td>15</td>\n",
       "      <td>0.150000</td>\n",
       "      <td>196</td>\n",
       "      <td>0.030080</td>\n",
       "    </tr>\n",
       "    <tr>\n",
       "      <th>5</th>\n",
       "      <td>3196</td>\n",
       "      <td>Whatever the Outcome on November 8th the US Wi...</td>\n",
       "      <td>NaN</td>\n",
       "      <td>Taming the corporate media beast Whatever the ...</td>\n",
       "      <td>1</td>\n",
       "      <td>106</td>\n",
       "      <td>15285</td>\n",
       "      <td>13</td>\n",
       "      <td>0.122642</td>\n",
       "      <td>465</td>\n",
       "      <td>0.030422</td>\n",
       "    </tr>\n",
       "    <tr>\n",
       "      <th>6</th>\n",
       "      <td>5134</td>\n",
       "      <td>Rapid Evolution Saved This Fish From Pollution...</td>\n",
       "      <td>JoAnna Klein</td>\n",
       "      <td>The State of New Jersey says you can’t eat the...</td>\n",
       "      <td>0</td>\n",
       "      <td>79</td>\n",
       "      <td>4159</td>\n",
       "      <td>13</td>\n",
       "      <td>0.164557</td>\n",
       "      <td>79</td>\n",
       "      <td>0.018995</td>\n",
       "    </tr>\n",
       "    <tr>\n",
       "      <th>...</th>\n",
       "      <td>...</td>\n",
       "      <td>...</td>\n",
       "      <td>...</td>\n",
       "      <td>...</td>\n",
       "      <td>...</td>\n",
       "      <td>...</td>\n",
       "      <td>...</td>\n",
       "      <td>...</td>\n",
       "      <td>...</td>\n",
       "      <td>...</td>\n",
       "      <td>...</td>\n",
       "    </tr>\n",
       "    <tr>\n",
       "      <th>19856</th>\n",
       "      <td>4857</td>\n",
       "      <td>A Suburban Experiment Aims for Free Energy - T...</td>\n",
       "      <td>Diane Cardwell</td>\n",
       "      <td>FONTANA, Calif.  —   At first glance, Anthony ...</td>\n",
       "      <td>0</td>\n",
       "      <td>63</td>\n",
       "      <td>6974</td>\n",
       "      <td>10</td>\n",
       "      <td>0.158730</td>\n",
       "      <td>126</td>\n",
       "      <td>0.018067</td>\n",
       "    </tr>\n",
       "    <tr>\n",
       "      <th>19857</th>\n",
       "      <td>5895</td>\n",
       "      <td>Putin: No difference between Clinton, Trump</td>\n",
       "      <td>Editor</td>\n",
       "      <td>Russian President Vladimir Putin has responded...</td>\n",
       "      <td>1</td>\n",
       "      <td>43</td>\n",
       "      <td>2209</td>\n",
       "      <td>4</td>\n",
       "      <td>0.093023</td>\n",
       "      <td>82</td>\n",
       "      <td>0.037121</td>\n",
       "    </tr>\n",
       "    <tr>\n",
       "      <th>19858</th>\n",
       "      <td>7244</td>\n",
       "      <td>REUTERS TO CUT 2,000 JOBS…</td>\n",
       "      <td>newsguy76</td>\n",
       "      <td>Warning : array_key_exists() expects parameter...</td>\n",
       "      <td>1</td>\n",
       "      <td>26</td>\n",
       "      <td>1922</td>\n",
       "      <td>16</td>\n",
       "      <td>0.615385</td>\n",
       "      <td>79</td>\n",
       "      <td>0.041103</td>\n",
       "    </tr>\n",
       "    <tr>\n",
       "      <th>19859</th>\n",
       "      <td>16132</td>\n",
       "      <td>Assad’s History of Chemical Attacks, and Other...</td>\n",
       "      <td>Russell Goldman</td>\n",
       "      <td>In six years of war, President Bashar   of Syr...</td>\n",
       "      <td>0</td>\n",
       "      <td>78</td>\n",
       "      <td>3850</td>\n",
       "      <td>10</td>\n",
       "      <td>0.128205</td>\n",
       "      <td>86</td>\n",
       "      <td>0.022338</td>\n",
       "    </tr>\n",
       "    <tr>\n",
       "      <th>19860</th>\n",
       "      <td>366</td>\n",
       "      <td>One Police Shift: Patrolling an Anxious Americ...</td>\n",
       "      <td>The New York Times</td>\n",
       "      <td>Policing in America today is a rib dinner paid...</td>\n",
       "      <td>0</td>\n",
       "      <td>68</td>\n",
       "      <td>19894</td>\n",
       "      <td>10</td>\n",
       "      <td>0.147059</td>\n",
       "      <td>513</td>\n",
       "      <td>0.025787</td>\n",
       "    </tr>\n",
       "  </tbody>\n",
       "</table>\n",
       "<p>12780 rows × 11 columns</p>\n",
       "</div>"
      ],
      "text/plain": [
       "          id                                           headline  \\\n",
       "0       9653  Ethics Questions Dogged Agriculture Nominee as...   \n",
       "1      10041  U.S. Must Dig Deep to Stop Argentina’s Lionel ...   \n",
       "3       6868  Paul LePage, Besieged Maine Governor, Sends Co...   \n",
       "5       3196  Whatever the Outcome on November 8th the US Wi...   \n",
       "6       5134  Rapid Evolution Saved This Fish From Pollution...   \n",
       "...      ...                                                ...   \n",
       "19856   4857  A Suburban Experiment Aims for Free Energy - T...   \n",
       "19857   5895        Putin: No difference between Clinton, Trump   \n",
       "19858   7244                         REUTERS TO CUT 2,000 JOBS…   \n",
       "19859  16132  Assad’s History of Chemical Attacks, and Other...   \n",
       "19860    366  One Police Shift: Patrolling an Anxious Americ...   \n",
       "\n",
       "                       written_by  \\\n",
       "0      Eric Lipton and Steve Eder   \n",
       "1                 David Waldstein   \n",
       "3                    Jess Bidgood   \n",
       "5                             NaN   \n",
       "6                    JoAnna Klein   \n",
       "...                           ...   \n",
       "19856              Diane Cardwell   \n",
       "19857                      Editor   \n",
       "19858                   newsguy76   \n",
       "19859             Russell Goldman   \n",
       "19860          The New York Times   \n",
       "\n",
       "                                                    news  label  headline_len  \\\n",
       "0      WASHINGTON  —   In Sonny Perdue’s telling, Geo...      0            84   \n",
       "1      HOUSTON  —   Venezuela had a plan. It was a ta...      0            72   \n",
       "3      AUGUSTA, Me.  —   The beleaguered Republican g...      0           100   \n",
       "5      Taming the corporate media beast Whatever the ...      1           106   \n",
       "6      The State of New Jersey says you can’t eat the...      0            79   \n",
       "...                                                  ...    ...           ...   \n",
       "19856  FONTANA, Calif.  —   At first glance, Anthony ...      0            63   \n",
       "19857  Russian President Vladimir Putin has responded...      1            43   \n",
       "19858  Warning : array_key_exists() expects parameter...      1            26   \n",
       "19859  In six years of war, President Bashar   of Syr...      0            78   \n",
       "19860  Policing in America today is a rib dinner paid...      0            68   \n",
       "\n",
       "       news_len  caps_in_headline  norm_caps_in_headline  caps_in_news  \\\n",
       "0          7936                11               0.130952           227   \n",
       "1          6112                13               0.180556           256   \n",
       "3          6516                15               0.150000           196   \n",
       "5         15285                13               0.122642           465   \n",
       "6          4159                13               0.164557            79   \n",
       "...         ...               ...                    ...           ...   \n",
       "19856      6974                10               0.158730           126   \n",
       "19857      2209                 4               0.093023            82   \n",
       "19858      1922                16               0.615385            79   \n",
       "19859      3850                10               0.128205            86   \n",
       "19860     19894                10               0.147059           513   \n",
       "\n",
       "       norm_caps_in_news  \n",
       "0               0.028604  \n",
       "1               0.041885  \n",
       "3               0.030080  \n",
       "5               0.030422  \n",
       "6               0.018995  \n",
       "...                  ...  \n",
       "19856           0.018067  \n",
       "19857           0.037121  \n",
       "19858           0.041103  \n",
       "19859           0.022338  \n",
       "19860           0.025787  \n",
       "\n",
       "[12780 rows x 11 columns]"
      ]
     },
     "execution_count": 73,
     "metadata": {},
     "output_type": "execute_result"
    }
   ],
   "source": [
    "df_said"
   ]
  },
  {
   "cell_type": "code",
   "execution_count": 74,
   "id": "da1eb178-cc08-458e-ac4d-1664e56b175f",
   "metadata": {
    "tags": []
   },
   "outputs": [
    {
     "data": {
      "text/plain": [
       "0    8670\n",
       "1    4110\n",
       "Name: label, dtype: int64"
      ]
     },
     "execution_count": 74,
     "metadata": {},
     "output_type": "execute_result"
    }
   ],
   "source": [
    "df_said['label'].value_counts()"
   ]
  },
  {
   "cell_type": "markdown",
   "id": "d2570246-02ce-4a2e-9429-c908c3afdd8c",
   "metadata": {},
   "source": [
    "The stories containing the word said are indicative of the news story being true. With twice as many of the \"true\" news stories containing said vs. \"fake\", the true ones must seem likely to be more concerned with providing quotations, or at least quotations in this style."
   ]
  },
  {
   "cell_type": "markdown",
   "id": "56d4e26a-65f9-46f3-83d5-e8d550ef1250",
   "metadata": {},
   "source": [
    "On in news article"
   ]
  },
  {
   "cell_type": "code",
   "execution_count": 75,
   "id": "aa668148-0544-4bc7-9730-d53a60a4ebc7",
   "metadata": {
    "tags": []
   },
   "outputs": [],
   "source": [
    "df_on = df_clean[df_clean.news.apply(lambda news_text: check_string_for(' on ', news_text))]"
   ]
  },
  {
   "cell_type": "code",
   "execution_count": 76,
   "id": "2cc38e6f-723d-45f0-a077-633e70e5c4c7",
   "metadata": {
    "tags": []
   },
   "outputs": [
    {
     "data": {
      "text/html": [
       "<div>\n",
       "<style scoped>\n",
       "    .dataframe tbody tr th:only-of-type {\n",
       "        vertical-align: middle;\n",
       "    }\n",
       "\n",
       "    .dataframe tbody tr th {\n",
       "        vertical-align: top;\n",
       "    }\n",
       "\n",
       "    .dataframe thead th {\n",
       "        text-align: right;\n",
       "    }\n",
       "</style>\n",
       "<table border=\"1\" class=\"dataframe\">\n",
       "  <thead>\n",
       "    <tr style=\"text-align: right;\">\n",
       "      <th></th>\n",
       "      <th>id</th>\n",
       "      <th>headline</th>\n",
       "      <th>written_by</th>\n",
       "      <th>news</th>\n",
       "      <th>label</th>\n",
       "      <th>headline_len</th>\n",
       "      <th>news_len</th>\n",
       "      <th>caps_in_headline</th>\n",
       "      <th>norm_caps_in_headline</th>\n",
       "      <th>caps_in_news</th>\n",
       "      <th>norm_caps_in_news</th>\n",
       "    </tr>\n",
       "  </thead>\n",
       "  <tbody>\n",
       "    <tr>\n",
       "      <th>0</th>\n",
       "      <td>9653</td>\n",
       "      <td>Ethics Questions Dogged Agriculture Nominee as...</td>\n",
       "      <td>Eric Lipton and Steve Eder</td>\n",
       "      <td>WASHINGTON  —   In Sonny Perdue’s telling, Geo...</td>\n",
       "      <td>0</td>\n",
       "      <td>84</td>\n",
       "      <td>7936</td>\n",
       "      <td>11</td>\n",
       "      <td>0.130952</td>\n",
       "      <td>227</td>\n",
       "      <td>0.028604</td>\n",
       "    </tr>\n",
       "    <tr>\n",
       "      <th>1</th>\n",
       "      <td>10041</td>\n",
       "      <td>U.S. Must Dig Deep to Stop Argentina’s Lionel ...</td>\n",
       "      <td>David Waldstein</td>\n",
       "      <td>HOUSTON  —   Venezuela had a plan. It was a ta...</td>\n",
       "      <td>0</td>\n",
       "      <td>72</td>\n",
       "      <td>6112</td>\n",
       "      <td>13</td>\n",
       "      <td>0.180556</td>\n",
       "      <td>256</td>\n",
       "      <td>0.041885</td>\n",
       "    </tr>\n",
       "    <tr>\n",
       "      <th>2</th>\n",
       "      <td>19113</td>\n",
       "      <td>Cotton to House: ’Do Not Walk the Plank and Vo...</td>\n",
       "      <td>Pam Key</td>\n",
       "      <td>Sunday on ABC’s “This Week,” while discussing ...</td>\n",
       "      <td>0</td>\n",
       "      <td>100</td>\n",
       "      <td>425</td>\n",
       "      <td>12</td>\n",
       "      <td>0.120000</td>\n",
       "      <td>28</td>\n",
       "      <td>0.065882</td>\n",
       "    </tr>\n",
       "    <tr>\n",
       "      <th>3</th>\n",
       "      <td>6868</td>\n",
       "      <td>Paul LePage, Besieged Maine Governor, Sends Co...</td>\n",
       "      <td>Jess Bidgood</td>\n",
       "      <td>AUGUSTA, Me.  —   The beleaguered Republican g...</td>\n",
       "      <td>0</td>\n",
       "      <td>100</td>\n",
       "      <td>6516</td>\n",
       "      <td>15</td>\n",
       "      <td>0.150000</td>\n",
       "      <td>196</td>\n",
       "      <td>0.030080</td>\n",
       "    </tr>\n",
       "    <tr>\n",
       "      <th>4</th>\n",
       "      <td>7596</td>\n",
       "      <td>A Digital 9/11 If Trump Wins</td>\n",
       "      <td>Finian Cunningham</td>\n",
       "      <td>Finian Cunningham has written extensively on...</td>\n",
       "      <td>1</td>\n",
       "      <td>28</td>\n",
       "      <td>9164</td>\n",
       "      <td>5</td>\n",
       "      <td>0.178571</td>\n",
       "      <td>309</td>\n",
       "      <td>0.033719</td>\n",
       "    </tr>\n",
       "    <tr>\n",
       "      <th>...</th>\n",
       "      <td>...</td>\n",
       "      <td>...</td>\n",
       "      <td>...</td>\n",
       "      <td>...</td>\n",
       "      <td>...</td>\n",
       "      <td>...</td>\n",
       "      <td>...</td>\n",
       "      <td>...</td>\n",
       "      <td>...</td>\n",
       "      <td>...</td>\n",
       "      <td>...</td>\n",
       "    </tr>\n",
       "    <tr>\n",
       "      <th>19860</th>\n",
       "      <td>366</td>\n",
       "      <td>One Police Shift: Patrolling an Anxious Americ...</td>\n",
       "      <td>The New York Times</td>\n",
       "      <td>Policing in America today is a rib dinner paid...</td>\n",
       "      <td>0</td>\n",
       "      <td>68</td>\n",
       "      <td>19894</td>\n",
       "      <td>10</td>\n",
       "      <td>0.147059</td>\n",
       "      <td>513</td>\n",
       "      <td>0.025787</td>\n",
       "    </tr>\n",
       "    <tr>\n",
       "      <th>19861</th>\n",
       "      <td>14831</td>\n",
       "      <td>Albert Pike and the European Migrant Crisis</td>\n",
       "      <td>Rixon Stewart</td>\n",
       "      <td>By Rixon Stewart on November 5, 2016 Rixon Ste...</td>\n",
       "      <td>1</td>\n",
       "      <td>43</td>\n",
       "      <td>6621</td>\n",
       "      <td>5</td>\n",
       "      <td>0.116279</td>\n",
       "      <td>212</td>\n",
       "      <td>0.032019</td>\n",
       "    </tr>\n",
       "    <tr>\n",
       "      <th>19862</th>\n",
       "      <td>18142</td>\n",
       "      <td>Dakota Access Caught Infiltrating Protests to ...</td>\n",
       "      <td>Eddy Lavine</td>\n",
       "      <td>posted by Eddie You know the Dakota Access Pip...</td>\n",
       "      <td>1</td>\n",
       "      <td>84</td>\n",
       "      <td>3433</td>\n",
       "      <td>10</td>\n",
       "      <td>0.119048</td>\n",
       "      <td>151</td>\n",
       "      <td>0.043985</td>\n",
       "    </tr>\n",
       "    <tr>\n",
       "      <th>19863</th>\n",
       "      <td>12139</td>\n",
       "      <td>How to Stretch the Summer Solstice - The New Y...</td>\n",
       "      <td>Alison S. Cohn</td>\n",
       "      <td>It’s officially summer, and the Society Boutiq...</td>\n",
       "      <td>0</td>\n",
       "      <td>55</td>\n",
       "      <td>2334</td>\n",
       "      <td>8</td>\n",
       "      <td>0.145455</td>\n",
       "      <td>91</td>\n",
       "      <td>0.038989</td>\n",
       "    </tr>\n",
       "    <tr>\n",
       "      <th>19864</th>\n",
       "      <td>15660</td>\n",
       "      <td>Emory University to Pay for ’100 Percent’ of U...</td>\n",
       "      <td>Tom Ciccotta</td>\n",
       "      <td>Emory University in Atlanta, Georgia, has anno...</td>\n",
       "      <td>0</td>\n",
       "      <td>93</td>\n",
       "      <td>1932</td>\n",
       "      <td>9</td>\n",
       "      <td>0.096774</td>\n",
       "      <td>58</td>\n",
       "      <td>0.030021</td>\n",
       "    </tr>\n",
       "  </tbody>\n",
       "</table>\n",
       "<p>17886 rows × 11 columns</p>\n",
       "</div>"
      ],
      "text/plain": [
       "          id                                           headline  \\\n",
       "0       9653  Ethics Questions Dogged Agriculture Nominee as...   \n",
       "1      10041  U.S. Must Dig Deep to Stop Argentina’s Lionel ...   \n",
       "2      19113  Cotton to House: ’Do Not Walk the Plank and Vo...   \n",
       "3       6868  Paul LePage, Besieged Maine Governor, Sends Co...   \n",
       "4       7596                       A Digital 9/11 If Trump Wins   \n",
       "...      ...                                                ...   \n",
       "19860    366  One Police Shift: Patrolling an Anxious Americ...   \n",
       "19861  14831        Albert Pike and the European Migrant Crisis   \n",
       "19862  18142  Dakota Access Caught Infiltrating Protests to ...   \n",
       "19863  12139  How to Stretch the Summer Solstice - The New Y...   \n",
       "19864  15660  Emory University to Pay for ’100 Percent’ of U...   \n",
       "\n",
       "                       written_by  \\\n",
       "0      Eric Lipton and Steve Eder   \n",
       "1                 David Waldstein   \n",
       "2                         Pam Key   \n",
       "3                    Jess Bidgood   \n",
       "4               Finian Cunningham   \n",
       "...                           ...   \n",
       "19860          The New York Times   \n",
       "19861               Rixon Stewart   \n",
       "19862                 Eddy Lavine   \n",
       "19863              Alison S. Cohn   \n",
       "19864                Tom Ciccotta   \n",
       "\n",
       "                                                    news  label  headline_len  \\\n",
       "0      WASHINGTON  —   In Sonny Perdue’s telling, Geo...      0            84   \n",
       "1      HOUSTON  —   Venezuela had a plan. It was a ta...      0            72   \n",
       "2      Sunday on ABC’s “This Week,” while discussing ...      0           100   \n",
       "3      AUGUSTA, Me.  —   The beleaguered Republican g...      0           100   \n",
       "4        Finian Cunningham has written extensively on...      1            28   \n",
       "...                                                  ...    ...           ...   \n",
       "19860  Policing in America today is a rib dinner paid...      0            68   \n",
       "19861  By Rixon Stewart on November 5, 2016 Rixon Ste...      1            43   \n",
       "19862  posted by Eddie You know the Dakota Access Pip...      1            84   \n",
       "19863  It’s officially summer, and the Society Boutiq...      0            55   \n",
       "19864  Emory University in Atlanta, Georgia, has anno...      0            93   \n",
       "\n",
       "       news_len  caps_in_headline  norm_caps_in_headline  caps_in_news  \\\n",
       "0          7936                11               0.130952           227   \n",
       "1          6112                13               0.180556           256   \n",
       "2           425                12               0.120000            28   \n",
       "3          6516                15               0.150000           196   \n",
       "4          9164                 5               0.178571           309   \n",
       "...         ...               ...                    ...           ...   \n",
       "19860     19894                10               0.147059           513   \n",
       "19861      6621                 5               0.116279           212   \n",
       "19862      3433                10               0.119048           151   \n",
       "19863      2334                 8               0.145455            91   \n",
       "19864      1932                 9               0.096774            58   \n",
       "\n",
       "       norm_caps_in_news  \n",
       "0               0.028604  \n",
       "1               0.041885  \n",
       "2               0.065882  \n",
       "3               0.030080  \n",
       "4               0.033719  \n",
       "...                  ...  \n",
       "19860           0.025787  \n",
       "19861           0.032019  \n",
       "19862           0.043985  \n",
       "19863           0.038989  \n",
       "19864           0.030021  \n",
       "\n",
       "[17886 rows x 11 columns]"
      ]
     },
     "execution_count": 76,
     "metadata": {},
     "output_type": "execute_result"
    }
   ],
   "source": [
    "df_on"
   ]
  },
  {
   "cell_type": "code",
   "execution_count": 77,
   "id": "23235107-4639-4c93-95b5-68b6445d8fcc",
   "metadata": {
    "tags": []
   },
   "outputs": [
    {
     "data": {
      "text/plain": [
       "0    10177\n",
       "1     7709\n",
       "Name: label, dtype: int64"
      ]
     },
     "execution_count": 77,
     "metadata": {},
     "output_type": "execute_result"
    }
   ],
   "source": [
    "df_on.label.value_counts()"
   ]
  },
  {
   "cell_type": "markdown",
   "id": "9afcf4f8-4426-4ac1-b474-5acc830429af",
   "metadata": {},
   "source": [
    "The use of 'on' is fairly balanced although somewhat indicative of a 'true' story."
   ]
  },
  {
   "cell_type": "markdown",
   "id": "f9e172c8-1b77-4906-92cd-04fbb02ac02e",
   "metadata": {},
   "source": [
    "You in news article"
   ]
  },
  {
   "cell_type": "code",
   "execution_count": 78,
   "id": "8ad74e2e-5ce7-4685-ad83-02e13acaca39",
   "metadata": {
    "tags": []
   },
   "outputs": [],
   "source": [
    "df_you = df_clean[df_clean.news.apply(lambda news_text: check_string_for(' you ', news_text))]"
   ]
  },
  {
   "cell_type": "code",
   "execution_count": 79,
   "id": "8271f66e-88e4-4d6b-a93e-88faa6ea43dc",
   "metadata": {
    "tags": []
   },
   "outputs": [
    {
     "data": {
      "text/html": [
       "<div>\n",
       "<style scoped>\n",
       "    .dataframe tbody tr th:only-of-type {\n",
       "        vertical-align: middle;\n",
       "    }\n",
       "\n",
       "    .dataframe tbody tr th {\n",
       "        vertical-align: top;\n",
       "    }\n",
       "\n",
       "    .dataframe thead th {\n",
       "        text-align: right;\n",
       "    }\n",
       "</style>\n",
       "<table border=\"1\" class=\"dataframe\">\n",
       "  <thead>\n",
       "    <tr style=\"text-align: right;\">\n",
       "      <th></th>\n",
       "      <th>id</th>\n",
       "      <th>headline</th>\n",
       "      <th>written_by</th>\n",
       "      <th>news</th>\n",
       "      <th>label</th>\n",
       "      <th>headline_len</th>\n",
       "      <th>news_len</th>\n",
       "      <th>caps_in_headline</th>\n",
       "      <th>norm_caps_in_headline</th>\n",
       "      <th>caps_in_news</th>\n",
       "      <th>norm_caps_in_news</th>\n",
       "    </tr>\n",
       "  </thead>\n",
       "  <tbody>\n",
       "    <tr>\n",
       "      <th>0</th>\n",
       "      <td>9653</td>\n",
       "      <td>Ethics Questions Dogged Agriculture Nominee as...</td>\n",
       "      <td>Eric Lipton and Steve Eder</td>\n",
       "      <td>WASHINGTON  —   In Sonny Perdue’s telling, Geo...</td>\n",
       "      <td>0</td>\n",
       "      <td>84</td>\n",
       "      <td>7936</td>\n",
       "      <td>11</td>\n",
       "      <td>0.130952</td>\n",
       "      <td>227</td>\n",
       "      <td>0.028604</td>\n",
       "    </tr>\n",
       "    <tr>\n",
       "      <th>1</th>\n",
       "      <td>10041</td>\n",
       "      <td>U.S. Must Dig Deep to Stop Argentina’s Lionel ...</td>\n",
       "      <td>David Waldstein</td>\n",
       "      <td>HOUSTON  —   Venezuela had a plan. It was a ta...</td>\n",
       "      <td>0</td>\n",
       "      <td>72</td>\n",
       "      <td>6112</td>\n",
       "      <td>13</td>\n",
       "      <td>0.180556</td>\n",
       "      <td>256</td>\n",
       "      <td>0.041885</td>\n",
       "    </tr>\n",
       "    <tr>\n",
       "      <th>3</th>\n",
       "      <td>6868</td>\n",
       "      <td>Paul LePage, Besieged Maine Governor, Sends Co...</td>\n",
       "      <td>Jess Bidgood</td>\n",
       "      <td>AUGUSTA, Me.  —   The beleaguered Republican g...</td>\n",
       "      <td>0</td>\n",
       "      <td>100</td>\n",
       "      <td>6516</td>\n",
       "      <td>15</td>\n",
       "      <td>0.150000</td>\n",
       "      <td>196</td>\n",
       "      <td>0.030080</td>\n",
       "    </tr>\n",
       "    <tr>\n",
       "      <th>6</th>\n",
       "      <td>5134</td>\n",
       "      <td>Rapid Evolution Saved This Fish From Pollution...</td>\n",
       "      <td>JoAnna Klein</td>\n",
       "      <td>The State of New Jersey says you can’t eat the...</td>\n",
       "      <td>0</td>\n",
       "      <td>79</td>\n",
       "      <td>4159</td>\n",
       "      <td>13</td>\n",
       "      <td>0.164557</td>\n",
       "      <td>79</td>\n",
       "      <td>0.018995</td>\n",
       "    </tr>\n",
       "    <tr>\n",
       "      <th>7</th>\n",
       "      <td>1504</td>\n",
       "      <td>Alabama Prison Officials Retaliate Against Pri...</td>\n",
       "      <td>Brian Sonenstein</td>\n",
       "      <td>Advocates say prison officials at the Kilby Co...</td>\n",
       "      <td>1</td>\n",
       "      <td>88</td>\n",
       "      <td>6311</td>\n",
       "      <td>13</td>\n",
       "      <td>0.147727</td>\n",
       "      <td>224</td>\n",
       "      <td>0.035494</td>\n",
       "    </tr>\n",
       "    <tr>\n",
       "      <th>...</th>\n",
       "      <td>...</td>\n",
       "      <td>...</td>\n",
       "      <td>...</td>\n",
       "      <td>...</td>\n",
       "      <td>...</td>\n",
       "      <td>...</td>\n",
       "      <td>...</td>\n",
       "      <td>...</td>\n",
       "      <td>...</td>\n",
       "      <td>...</td>\n",
       "      <td>...</td>\n",
       "    </tr>\n",
       "    <tr>\n",
       "      <th>19854</th>\n",
       "      <td>12386</td>\n",
       "      <td>Comment on Texas Police Arrest Trump Voter for...</td>\n",
       "      <td>Terry</td>\n",
       "      <td>Posted on October 30, 2016 by Tim Brown \\nOn M...</td>\n",
       "      <td>1</td>\n",
       "      <td>84</td>\n",
       "      <td>4440</td>\n",
       "      <td>11</td>\n",
       "      <td>0.130952</td>\n",
       "      <td>149</td>\n",
       "      <td>0.033559</td>\n",
       "    </tr>\n",
       "    <tr>\n",
       "      <th>19856</th>\n",
       "      <td>4857</td>\n",
       "      <td>A Suburban Experiment Aims for Free Energy - T...</td>\n",
       "      <td>Diane Cardwell</td>\n",
       "      <td>FONTANA, Calif.  —   At first glance, Anthony ...</td>\n",
       "      <td>0</td>\n",
       "      <td>63</td>\n",
       "      <td>6974</td>\n",
       "      <td>10</td>\n",
       "      <td>0.158730</td>\n",
       "      <td>126</td>\n",
       "      <td>0.018067</td>\n",
       "    </tr>\n",
       "    <tr>\n",
       "      <th>19857</th>\n",
       "      <td>5895</td>\n",
       "      <td>Putin: No difference between Clinton, Trump</td>\n",
       "      <td>Editor</td>\n",
       "      <td>Russian President Vladimir Putin has responded...</td>\n",
       "      <td>1</td>\n",
       "      <td>43</td>\n",
       "      <td>2209</td>\n",
       "      <td>4</td>\n",
       "      <td>0.093023</td>\n",
       "      <td>82</td>\n",
       "      <td>0.037121</td>\n",
       "    </tr>\n",
       "    <tr>\n",
       "      <th>19860</th>\n",
       "      <td>366</td>\n",
       "      <td>One Police Shift: Patrolling an Anxious Americ...</td>\n",
       "      <td>The New York Times</td>\n",
       "      <td>Policing in America today is a rib dinner paid...</td>\n",
       "      <td>0</td>\n",
       "      <td>68</td>\n",
       "      <td>19894</td>\n",
       "      <td>10</td>\n",
       "      <td>0.147059</td>\n",
       "      <td>513</td>\n",
       "      <td>0.025787</td>\n",
       "    </tr>\n",
       "    <tr>\n",
       "      <th>19862</th>\n",
       "      <td>18142</td>\n",
       "      <td>Dakota Access Caught Infiltrating Protests to ...</td>\n",
       "      <td>Eddy Lavine</td>\n",
       "      <td>posted by Eddie You know the Dakota Access Pip...</td>\n",
       "      <td>1</td>\n",
       "      <td>84</td>\n",
       "      <td>3433</td>\n",
       "      <td>10</td>\n",
       "      <td>0.119048</td>\n",
       "      <td>151</td>\n",
       "      <td>0.043985</td>\n",
       "    </tr>\n",
       "  </tbody>\n",
       "</table>\n",
       "<p>8967 rows × 11 columns</p>\n",
       "</div>"
      ],
      "text/plain": [
       "          id                                           headline  \\\n",
       "0       9653  Ethics Questions Dogged Agriculture Nominee as...   \n",
       "1      10041  U.S. Must Dig Deep to Stop Argentina’s Lionel ...   \n",
       "3       6868  Paul LePage, Besieged Maine Governor, Sends Co...   \n",
       "6       5134  Rapid Evolution Saved This Fish From Pollution...   \n",
       "7       1504  Alabama Prison Officials Retaliate Against Pri...   \n",
       "...      ...                                                ...   \n",
       "19854  12386  Comment on Texas Police Arrest Trump Voter for...   \n",
       "19856   4857  A Suburban Experiment Aims for Free Energy - T...   \n",
       "19857   5895        Putin: No difference between Clinton, Trump   \n",
       "19860    366  One Police Shift: Patrolling an Anxious Americ...   \n",
       "19862  18142  Dakota Access Caught Infiltrating Protests to ...   \n",
       "\n",
       "                       written_by  \\\n",
       "0      Eric Lipton and Steve Eder   \n",
       "1                 David Waldstein   \n",
       "3                    Jess Bidgood   \n",
       "6                    JoAnna Klein   \n",
       "7                Brian Sonenstein   \n",
       "...                           ...   \n",
       "19854                       Terry   \n",
       "19856              Diane Cardwell   \n",
       "19857                      Editor   \n",
       "19860          The New York Times   \n",
       "19862                 Eddy Lavine   \n",
       "\n",
       "                                                    news  label  headline_len  \\\n",
       "0      WASHINGTON  —   In Sonny Perdue’s telling, Geo...      0            84   \n",
       "1      HOUSTON  —   Venezuela had a plan. It was a ta...      0            72   \n",
       "3      AUGUSTA, Me.  —   The beleaguered Republican g...      0           100   \n",
       "6      The State of New Jersey says you can’t eat the...      0            79   \n",
       "7      Advocates say prison officials at the Kilby Co...      1            88   \n",
       "...                                                  ...    ...           ...   \n",
       "19854  Posted on October 30, 2016 by Tim Brown \\nOn M...      1            84   \n",
       "19856  FONTANA, Calif.  —   At first glance, Anthony ...      0            63   \n",
       "19857  Russian President Vladimir Putin has responded...      1            43   \n",
       "19860  Policing in America today is a rib dinner paid...      0            68   \n",
       "19862  posted by Eddie You know the Dakota Access Pip...      1            84   \n",
       "\n",
       "       news_len  caps_in_headline  norm_caps_in_headline  caps_in_news  \\\n",
       "0          7936                11               0.130952           227   \n",
       "1          6112                13               0.180556           256   \n",
       "3          6516                15               0.150000           196   \n",
       "6          4159                13               0.164557            79   \n",
       "7          6311                13               0.147727           224   \n",
       "...         ...               ...                    ...           ...   \n",
       "19854      4440                11               0.130952           149   \n",
       "19856      6974                10               0.158730           126   \n",
       "19857      2209                 4               0.093023            82   \n",
       "19860     19894                10               0.147059           513   \n",
       "19862      3433                10               0.119048           151   \n",
       "\n",
       "       norm_caps_in_news  \n",
       "0               0.028604  \n",
       "1               0.041885  \n",
       "3               0.030080  \n",
       "6               0.018995  \n",
       "7               0.035494  \n",
       "...                  ...  \n",
       "19854           0.033559  \n",
       "19856           0.018067  \n",
       "19857           0.037121  \n",
       "19860           0.025787  \n",
       "19862           0.043985  \n",
       "\n",
       "[8967 rows x 11 columns]"
      ]
     },
     "execution_count": 79,
     "metadata": {},
     "output_type": "execute_result"
    }
   ],
   "source": [
    "df_you"
   ]
  },
  {
   "cell_type": "code",
   "execution_count": 80,
   "id": "5029dd6a-815f-48a9-82ad-cc2764d24fa5",
   "metadata": {
    "tags": []
   },
   "outputs": [
    {
     "data": {
      "text/plain": [
       "0    4844\n",
       "1    4123\n",
       "Name: label, dtype: int64"
      ]
     },
     "execution_count": 80,
     "metadata": {},
     "output_type": "execute_result"
    }
   ],
   "source": [
    "df_you.label.value_counts()"
   ]
  },
  {
   "cell_type": "markdown",
   "id": "22fa2190-120a-43ff-860a-20a1070d5f06",
   "metadata": {},
   "source": [
    "You is equally present in both true and fake news stories."
   ]
  },
  {
   "cell_type": "markdown",
   "id": "7b850713-5c40-405e-a1fe-9ffa14a600a4",
   "metadata": {},
   "source": [
    "Save the Cleaned Dataset"
   ]
  },
  {
   "cell_type": "code",
   "execution_count": 81,
   "id": "4a5997fb-aea2-4380-a58d-ac3e3235a37c",
   "metadata": {
    "tags": []
   },
   "outputs": [],
   "source": [
    "df_clean.to_csv(os.path.join(dataset_dir,'train_news_cleaned.csv'),index=False)"
   ]
  },
  {
   "cell_type": "code",
   "execution_count": null,
   "id": "121f6bcb-a3c2-4d8c-8aa6-89693bca1dcf",
   "metadata": {},
   "outputs": [],
   "source": []
  }
 ],
 "metadata": {
  "kernelspec": {
   "display_name": "Python 3 (ipykernel)",
   "language": "python",
   "name": "python3"
  },
  "language_info": {
   "codemirror_mode": {
    "name": "ipython",
    "version": 3
   },
   "file_extension": ".py",
   "mimetype": "text/x-python",
   "name": "python",
   "nbconvert_exporter": "python",
   "pygments_lexer": "ipython3",
   "version": "3.11.3"
  }
 },
 "nbformat": 4,
 "nbformat_minor": 5
}
