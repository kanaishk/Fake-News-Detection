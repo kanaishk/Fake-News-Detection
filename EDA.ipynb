{
 "cells": [
  {
   "cell_type": "code",
   "execution_count": null,
   "id": "779a1662-6b4e-4550-8cc0-ee403ec0b3b5",
   "metadata": {
    "tags": []
   },
   "outputs": [],
   "source": [
    "import os\n",
    "import pandas as pd\n",
    "import numpy as np\n",
    "import matplotlib.pyplot as plt\n",
    "%matplotlib inline\n",
    "from re import search"
   ]
  },
  {
   "cell_type": "markdown",
   "id": "1fedcedc-cb45-4a09-ad34-9eb9a4f5b9ea",
   "metadata": {},
   "source": [
    "Preliminary Analysis"
   ]
  },
  {
   "cell_type": "markdown",
   "id": "27c0a26c-c52f-40c7-bfda-a35ddb41b7c9",
   "metadata": {},
   "source": [
    "Importing the dataset"
   ]
  },
  {
   "cell_type": "code",
   "execution_count": null,
   "id": "59273b87-a710-49a8-a58b-0e1cc121c84a",
   "metadata": {
    "tags": []
   },
   "outputs": [],
   "source": [
    "cwd = os.getcwd()\n",
    "dataset_dir = os.path.join(cwd,'Dataset')\n",
    "df = pd.read_csv(os.path.join(dataset_dir,'fake_or_real_news_mc.csv'))"
   ]
  },
  {
   "cell_type": "code",
   "execution_count": null,
   "id": "42612aa6-e6d0-4199-9429-0cf9a997a1b8",
   "metadata": {},
   "outputs": [],
   "source": [
    "df_true = pd.read_csv(os.path.join(dataset_dir,'BuzzFeed_real_news_content.csv'))\n",
    "df_false = pd.read_csv(os.path.join(dataset_dir,'BuzzFeed_fake_news_content.csv'))"
   ]
  },
  {
   "cell_type": "raw",
   "id": "1b4066e7-811c-4586-9110-dcebe52e2121",
   "metadata": {},
   "source": [
    "Problem Description\n",
    "The authenticity of Information has become a longstanding issue affecting businesses and society, both for printed and digital media. On social networks, the reach and effects of information spread occur at such a fast pace and so amplified that distorted, inaccurate, or false information acquires a tremendous potential to cause real-world impacts, within minutes, for millions of users. Recently, several public concerns about this problem and some approaches to mitigate the problem were expressed.\n",
    "\n",
    "Data- Description:\n",
    "There are 4 columns in the dataset provided to you. The description of each of the column is given below: \n",
    "“Unnamed:0”: It is a serial number \n",
    "“headline”: It is the title of the news. \n",
    "“news”: It contains the full text of the news article \n",
    "“label”: It tells whether the news is fake (1) or not fake (0)."
   ]
  },
  {
   "cell_type": "code",
   "execution_count": null,
   "id": "8a53f245-a2e0-454d-8a10-f761d8d55054",
   "metadata": {
    "tags": []
   },
   "outputs": [],
   "source": [
    "print(\"True Dataset shape:\", df_true.shape)\n",
    "print(\"Fake Dataset shape:\", df_false.shape)"
   ]
  },
  {
   "cell_type": "code",
   "execution_count": null,
   "id": "c16471eb-4c61-4c92-aede-652ef5436006",
   "metadata": {
    "tags": []
   },
   "outputs": [],
   "source": [
    "df_true.head()"
   ]
  },
  {
   "cell_type": "code",
   "execution_count": null,
   "id": "cf327053-a62c-4ef5-bf9b-d259d9993d3d",
   "metadata": {
    "tags": []
   },
   "outputs": [],
   "source": [
    "df_false.head()"
   ]
  },
  {
   "cell_type": "code",
   "execution_count": null,
   "id": "f0e5cb3d-5b21-4be8-b21f-2566a6d6f3d2",
   "metadata": {
    "tags": []
   },
   "outputs": [],
   "source": [
    "unnamed_columns = [col for col in df_true.columns if search(r'^Unnamed', col)]\n",
    "\n",
    "df_true = df_true.drop(unnamed_columns, axis=1)\n",
    "\n",
    "df_true.head()"
   ]
  },
  {
   "cell_type": "code",
   "execution_count": null,
   "id": "caa7b66b-d0e3-423e-8cea-fedd5c38a132",
   "metadata": {
    "tags": []
   },
   "outputs": [],
   "source": [
    "unnamed_columns = [col for col in df_false.columns if search(r'^Unnamed', col)]\n",
    "\n",
    "df_false = df_false.drop(unnamed_columns, axis=1)\n",
    "\n",
    "df_false.head()"
   ]
  },
  {
   "cell_type": "code",
   "execution_count": null,
   "id": "4c5d9099-d9c8-41c5-8ff0-f4734327345b",
   "metadata": {
    "tags": []
   },
   "outputs": [],
   "source": [
    "df_true = df_true.drop(columns=df_true.columns.difference(['id','title','text','authors']))\n",
    "df_true.shape"
   ]
  },
  {
   "cell_type": "code",
   "execution_count": null,
   "id": "c98d2df8-1c7e-4f95-9b4f-935d8922a81d",
   "metadata": {
    "tags": []
   },
   "outputs": [],
   "source": [
    "df_false = df_false.drop(columns=df_false.columns.difference(['id','title','text','authors']))\n",
    "df_false.shape"
   ]
  },
  {
   "cell_type": "code",
   "execution_count": null,
   "id": "b5f83ad7-b7da-4a1c-9b97-384696e9c47b",
   "metadata": {
    "tags": []
   },
   "outputs": [],
   "source": [
    "df_true['label']=0\n",
    "df_true.head()"
   ]
  },
  {
   "cell_type": "code",
   "execution_count": null,
   "id": "8a11a45c-c9e5-4385-b160-81d966b8d9d4",
   "metadata": {
    "tags": []
   },
   "outputs": [],
   "source": [
    "df_false['label']=1\n",
    "df_false.head()"
   ]
  },
  {
   "cell_type": "code",
   "execution_count": null,
   "id": "7d39fe0e-cbe6-43b9-b524-3b4ba74b85ba",
   "metadata": {
    "tags": []
   },
   "outputs": [],
   "source": [
    "df = pd.concat([df_true, df_false], axis=0)\n",
    "df = df.sample(frac=1, random_state=1973)\n",
    "df.head()"
   ]
  },
  {
   "cell_type": "code",
   "execution_count": null,
   "id": "5fdc2a06-40df-4788-8f34-57f6cba2e326",
   "metadata": {
    "tags": []
   },
   "outputs": [],
   "source": [
    "print(\"Dataset shape:\", df.shape)"
   ]
  },
  {
   "cell_type": "code",
   "execution_count": null,
   "id": "4ebc4566-fa13-44b1-ae26-ac8220350c06",
   "metadata": {
    "tags": []
   },
   "outputs": [],
   "source": [
    "news = 'text'\n",
    "headline = 'title'"
   ]
  },
  {
   "cell_type": "markdown",
   "id": "8d1dc672-6757-4ea0-bcdf-c4b7d639ddb9",
   "metadata": {},
   "source": [
    "Cleaning the data"
   ]
  },
  {
   "cell_type": "markdown",
   "id": "9d7f7b84-6a64-452d-8d57-21551226ff07",
   "metadata": {},
   "source": [
    "Checking for missing data"
   ]
  },
  {
   "cell_type": "code",
   "execution_count": null,
   "id": "29d2fe9c-be52-480a-be01-324e6e05645f",
   "metadata": {
    "tags": []
   },
   "outputs": [],
   "source": [
    "df.info()"
   ]
  },
  {
   "cell_type": "code",
   "execution_count": null,
   "id": "155a8fce-02a6-4d81-92ff-a97826c1c3c4",
   "metadata": {
    "tags": []
   },
   "outputs": [],
   "source": [
    "df.label.value_counts()"
   ]
  },
  {
   "cell_type": "markdown",
   "id": "f092ca0c-3636-4648-bfbe-570933030679",
   "metadata": {},
   "source": [
    "This confirms that 0 label is used for true news and 1 label is used for fake news"
   ]
  },
  {
   "cell_type": "code",
   "execution_count": null,
   "id": "d4d5ed4c-bc29-4715-8e62-8fb98d93775b",
   "metadata": {
    "tags": []
   },
   "outputs": [],
   "source": [
    "print('Dataset null values:\\n',df.isna().sum())"
   ]
  },
  {
   "cell_type": "code",
   "execution_count": null,
   "id": "a46fcdab-0130-4883-9600-43e2f44d8bf9",
   "metadata": {
    "tags": []
   },
   "outputs": [],
   "source": [
    "def show_tf_distribution(df, column) :\n",
    "    null = df[df[column].isna()]\n",
    "    total = len(null)\n",
    "    notfake_cnt = list(null[null['label']==0].shape)[0]\n",
    "    fake_cnt = list(null[null['label']==1].shape)[0]\n",
    "    \n",
    "    print('Null Values distribution for \\''+column+'\\' on basis for realness')\n",
    "    print('Total:\\t',total)\n",
    "    print('Real %:\\t',format(((notfake_cnt/total)*100),'.2f'))\n",
    "    print('Fake %:\\t',format(((fake_cnt/total)*100),'.2f'))"
   ]
  },
  {
   "cell_type": "code",
   "execution_count": null,
   "id": "4c25e9d8-27e2-4bb2-8bdf-7c033a3069fa",
   "metadata": {
    "tags": []
   },
   "outputs": [],
   "source": [
    "show_tf_distribution(df, news)"
   ]
  },
  {
   "cell_type": "code",
   "execution_count": null,
   "id": "6f44aa54-bda5-452a-8208-625b16fd258e",
   "metadata": {
    "tags": []
   },
   "outputs": [],
   "source": [
    "show_tf_distribution(df, headline)"
   ]
  },
  {
   "cell_type": "markdown",
   "id": "9f07160f-a64f-491a-84ec-22c5981caba6",
   "metadata": {},
   "source": [
    "As every instance of missing value almost always indicates a fake news article, missing value/information can be an identifying factor. Hence not dropping rows with null values."
   ]
  },
  {
   "cell_type": "markdown",
   "id": "c4b8cadf-5911-4d1b-9f8b-01df372b7aed",
   "metadata": {},
   "source": [
    "Checking for placeholder values and duplicates"
   ]
  },
  {
   "cell_type": "code",
   "execution_count": null,
   "id": "f625b078-e9d3-4f5c-977f-7fda79315213",
   "metadata": {
    "tags": []
   },
   "outputs": [],
   "source": [
    "headline_value_counts = df[headline].value_counts()\n",
    "headline_value_counts[headline_value_counts > 1]"
   ]
  },
  {
   "cell_type": "code",
   "execution_count": null,
   "id": "8431dd6b-fe42-41be-9f35-d29509013d88",
   "metadata": {
    "tags": []
   },
   "outputs": [],
   "source": [
    "duplicate_headline_list = set(headline_value_counts[headline_value_counts > 1].keys())\n",
    "df_dup_headline = df[df[headline].isin(duplicate_headline_list)]\n",
    "df_dup_headline"
   ]
  },
  {
   "cell_type": "code",
   "execution_count": null,
   "id": "22b32f75-e1a4-4e52-976f-67caff90140d",
   "metadata": {
    "tags": []
   },
   "outputs": [],
   "source": [
    "df_dup_headline[df_dup_headline.duplicated()]"
   ]
  },
  {
   "cell_type": "markdown",
   "id": "b59e2752-c265-43f1-bc4e-ab85c9fc1f4e",
   "metadata": {},
   "source": [
    "There are no duplicated rows that needs to be deleted"
   ]
  },
  {
   "cell_type": "code",
   "execution_count": null,
   "id": "450a2df2-5b9a-4818-b55c-447423d773e6",
   "metadata": {
    "tags": []
   },
   "outputs": [],
   "source": [
    "df_dup_headline[df_dup_headline.duplicated([news])]"
   ]
  },
  {
   "cell_type": "markdown",
   "id": "4a15fc25-d386-4bec-b524-49fc15262990",
   "metadata": {},
   "source": [
    "There are 4 rows with duplicated text"
   ]
  },
  {
   "cell_type": "code",
   "execution_count": null,
   "id": "bec0e5ad-cf48-4636-ad84-613aea202f88",
   "metadata": {
    "tags": []
   },
   "outputs": [],
   "source": [
    "df_dup_headline[df_dup_headline.duplicated([headline, news])]"
   ]
  },
  {
   "cell_type": "markdown",
   "id": "b769effc-6ca6-4d44-bcf2-6df81e5240bd",
   "metadata": {},
   "source": [
    "There are 4 rows with both headlines and news duplicated. These needs to be removed."
   ]
  },
  {
   "cell_type": "code",
   "execution_count": null,
   "id": "8fd5bb54-5e78-46c0-8b78-96477d3d3735",
   "metadata": {
    "tags": []
   },
   "outputs": [],
   "source": [
    "df_dup_headline[df_dup_headline[news] == ' ']"
   ]
  },
  {
   "cell_type": "markdown",
   "id": "4b2396d9-6c77-4d0e-88c9-ac80dd40c9fb",
   "metadata": {},
   "source": [
    "We can leave duplicate headlines as that is a common part of news when it undergoes revision but those instances where both headline and news articles are same needs to be dropped. Rows without news will also be removed."
   ]
  },
  {
   "cell_type": "markdown",
   "id": "5810de32-adf3-41f3-bbeb-9a5c9dd8612d",
   "metadata": {},
   "source": [
    "Checking news for whitespaces."
   ]
  },
  {
   "cell_type": "code",
   "execution_count": null,
   "id": "d7505a03-38c3-4d38-a7b8-d0075ef4189a",
   "metadata": {
    "tags": []
   },
   "outputs": [],
   "source": [
    "df[df[news] == ' ']"
   ]
  },
  {
   "cell_type": "markdown",
   "id": "fba6e566-7425-49a5-aabe-db6285748a2f",
   "metadata": {},
   "source": [
    "Replacing white spaces with null."
   ]
  },
  {
   "cell_type": "code",
   "execution_count": null,
   "id": "378de3ca-8262-4cdf-93e3-718ddbe5dcbb",
   "metadata": {
    "tags": []
   },
   "outputs": [],
   "source": [
    "df = df.replace(r'^\\s*$', np.nan, regex=True)"
   ]
  },
  {
   "cell_type": "code",
   "execution_count": null,
   "id": "084626a9-1529-4943-a545-f435decd04b5",
   "metadata": {
    "tags": []
   },
   "outputs": [],
   "source": [
    "df.isna().sum()"
   ]
  },
  {
   "cell_type": "markdown",
   "id": "6704c8b2-e6e5-4aaf-8cb3-3700cc8e2fdf",
   "metadata": {},
   "source": [
    "This shows that there is increase in null values in column news as we replace articles that only had null values."
   ]
  },
  {
   "cell_type": "code",
   "execution_count": null,
   "id": "24ae4853-327f-41e4-9109-51f15597451b",
   "metadata": {
    "tags": []
   },
   "outputs": [],
   "source": [
    "show_tf_distribution(df, news)"
   ]
  },
  {
   "cell_type": "markdown",
   "id": "b2b83d6c-1861-4227-b509-6f6b1e1cd9da",
   "metadata": {},
   "source": [
    "The distribution shows that all null news values still point to fake news. As these values are small compared to total dataset size, dropping them might be preferable."
   ]
  },
  {
   "cell_type": "markdown",
   "id": "f9c6dcc7-ff49-4887-a4ec-144b85a67914",
   "metadata": {},
   "source": [
    "Removing Duplicated Data"
   ]
  },
  {
   "cell_type": "code",
   "execution_count": null,
   "id": "52fa033b-d432-447d-8e73-5d3112a98b9a",
   "metadata": {
    "tags": []
   },
   "outputs": [],
   "source": [
    "len(df)"
   ]
  },
  {
   "cell_type": "markdown",
   "id": "a22dcd1b-b9c8-4cdf-9791-5a037ee489b6",
   "metadata": {},
   "source": [
    "Dropping rows with no news article or headlines"
   ]
  },
  {
   "cell_type": "code",
   "execution_count": null,
   "id": "7798d3db-d8a1-435c-8df5-3caeaab5f4ca",
   "metadata": {
    "tags": []
   },
   "outputs": [],
   "source": [
    "df_clean = df.dropna(subset=[headline,news])"
   ]
  },
  {
   "cell_type": "code",
   "execution_count": null,
   "id": "c8ac7b8d-0ba4-4480-9aba-517a63066585",
   "metadata": {
    "tags": []
   },
   "outputs": [],
   "source": [
    "len(df_clean)"
   ]
  },
  {
   "cell_type": "markdown",
   "id": "525859fa-7fdc-4b58-8a77-5f7de7624802",
   "metadata": {},
   "source": [
    "Dropping rows with same headline and news articles"
   ]
  },
  {
   "cell_type": "code",
   "execution_count": null,
   "id": "ffb3f1dc-6d92-49ed-8829-79d34dbc4ea1",
   "metadata": {
    "tags": []
   },
   "outputs": [],
   "source": [
    "df_clean = df_clean.drop_duplicates([headline, news], ignore_index=True)"
   ]
  },
  {
   "cell_type": "code",
   "execution_count": null,
   "id": "96577c11-ef9f-4ab4-8b01-a31ea7895787",
   "metadata": {
    "tags": []
   },
   "outputs": [],
   "source": [
    "len(df_clean)"
   ]
  },
  {
   "cell_type": "markdown",
   "id": "a1e25978-6106-47e7-9cf0-c8c1fae9728a",
   "metadata": {},
   "source": [
    "Dropping rows with same news articles"
   ]
  },
  {
   "cell_type": "code",
   "execution_count": null,
   "id": "c1dbcb2a-ce35-4925-942d-12e385b27545",
   "metadata": {
    "tags": []
   },
   "outputs": [],
   "source": [
    "df_clean = df_clean.drop_duplicates([news], ignore_index=True)"
   ]
  },
  {
   "cell_type": "code",
   "execution_count": null,
   "id": "8992de9e-e06f-4502-83e0-ab133af7d59a",
   "metadata": {
    "tags": []
   },
   "outputs": [],
   "source": [
    "df_clean.info()"
   ]
  },
  {
   "cell_type": "code",
   "execution_count": null,
   "id": "7de1c9a6-de05-49f7-83d0-381539589664",
   "metadata": {
    "tags": []
   },
   "outputs": [],
   "source": [
    "df_clean.isna().sum()"
   ]
  },
  {
   "cell_type": "code",
   "execution_count": null,
   "id": "6e582c98-229c-44dc-a762-7af350cadc30",
   "metadata": {
    "tags": []
   },
   "outputs": [],
   "source": [
    "len(df) - len(df_clean)"
   ]
  },
  {
   "cell_type": "code",
   "execution_count": null,
   "id": "941c59d7-d451-4154-bba7-5d36269f3f62",
   "metadata": {
    "tags": []
   },
   "outputs": [],
   "source": [
    "df_clean.label.value_counts()"
   ]
  },
  {
   "cell_type": "markdown",
   "id": "5175b06e-2f0d-4c4f-bfc0-9f65e742354e",
   "metadata": {},
   "source": [
    "Summary"
   ]
  },
  {
   "cell_type": "markdown",
   "id": "152f01dc-b4c8-4b27-ac7d-d8a06000500c",
   "metadata": {},
   "source": [
    "0 rows of data removed on basis of not having information in news column, headline column and or having duplicate values."
   ]
  },
  {
   "cell_type": "markdown",
   "id": "72904b6e-7100-4850-8355-a11d9df027e4",
   "metadata": {
    "tags": []
   },
   "source": [
    "Exploring the dataset"
   ]
  },
  {
   "cell_type": "markdown",
   "id": "a488a9a2-98a8-4e49-9cdb-2fb4d5619449",
   "metadata": {},
   "source": [
    "Helper Function"
   ]
  },
  {
   "cell_type": "code",
   "execution_count": null,
   "id": "bd7167d1-55dd-4f61-88fe-022f60653e34",
   "metadata": {
    "tags": []
   },
   "outputs": [],
   "source": [
    "graph_dir = os.path.join(cwd,'Graphs')"
   ]
  },
  {
   "cell_type": "code",
   "execution_count": null,
   "id": "aa474705-f58e-4d2f-a27f-75eddc9c3506",
   "metadata": {
    "tags": []
   },
   "outputs": [],
   "source": [
    "def show_hist_for_col(df, column, title):\n",
    "    \"\"\"\n",
    "    Display a histogram for a column in a dataframe, splitting the data by label.\n",
    "    \"\"\"\n",
    "    plt.figure(figsize=(12,8))\n",
    "    df[df.label == 0][column].hist(label='True')\n",
    "    df[df.label == 1][column].hist(alpha=0.4, label='Fake')\n",
    "    plt.title(title)\n",
    "    plt.legend()\n",
    "    plt.savefig(os.path.join(graph_dir,title+'.png'), bbox_inches='tight')\n",
    "    plt.show()\n",
    "    plt.close()"
   ]
  },
  {
   "cell_type": "markdown",
   "id": "d15f4fca-b153-407f-a960-759861d2a33a",
   "metadata": {},
   "source": [
    "Distribution of Labels"
   ]
  },
  {
   "cell_type": "code",
   "execution_count": null,
   "id": "121a07ce-022b-4802-a38d-9daabd1ccfce",
   "metadata": {
    "tags": []
   },
   "outputs": [],
   "source": [
    "plt.figure(figsize=(12,8))\n",
    "df_clean.label.hist()\n",
    "title = 'Fake or True News'\n",
    "plt.title(title)\n",
    "plt.savefig(os.path.join(graph_dir,title+'.png'), bbox_inches='tight')\n",
    "plt.show()\n",
    "plt.close()"
   ]
  },
  {
   "cell_type": "markdown",
   "id": "ae8d8f93-da85-4ed9-b622-e5be53e51e19",
   "metadata": {},
   "source": [
    "After cleaning the data there is an imbalance present but hopefully not enough to have effect on the models"
   ]
  },
  {
   "cell_type": "markdown",
   "id": "cb1b4800-4d17-4e46-b75d-dba885053961",
   "metadata": {},
   "source": [
    "Length of Headlines"
   ]
  },
  {
   "cell_type": "code",
   "execution_count": null,
   "id": "f1da7d7d-c4f9-4f10-a79c-9fdbed28156f",
   "metadata": {
    "tags": []
   },
   "outputs": [],
   "source": [
    "df_clean['headline_len'] = df_clean[headline].str.len()"
   ]
  },
  {
   "cell_type": "code",
   "execution_count": null,
   "id": "d7cbcca0-db47-4fab-9bc2-844eb0261a51",
   "metadata": {
    "tags": []
   },
   "outputs": [],
   "source": [
    "show_hist_for_col(df_clean, 'headline_len', 'Number of Characters in Headline')"
   ]
  },
  {
   "cell_type": "code",
   "execution_count": null,
   "id": "0bb18494-d45c-4e09-9422-6ab2b3477787",
   "metadata": {
    "tags": []
   },
   "outputs": [],
   "source": [
    "df_clean[df_clean.label == 0].headline_len.describe()"
   ]
  },
  {
   "cell_type": "code",
   "execution_count": null,
   "id": "fda04288-7529-4d57-a7ed-a673b185fc88",
   "metadata": {
    "tags": []
   },
   "outputs": [],
   "source": [
    "df_clean[df_clean.label == 1].headline_len.describe()"
   ]
  },
  {
   "cell_type": "markdown",
   "id": "0c7d0f24-6104-484a-9d14-79d8517e595e",
   "metadata": {},
   "source": [
    "Fake news stories have a wider range in the length of title than True news stories. The quartile differences between fake news articles is much larger than in case of true news article."
   ]
  },
  {
   "cell_type": "markdown",
   "id": "65077a00-d3a6-451a-9fc5-2a3842730825",
   "metadata": {},
   "source": [
    "Length of News article"
   ]
  },
  {
   "cell_type": "code",
   "execution_count": null,
   "id": "478c4960-9548-4506-aaf3-4bb75c9dc5df",
   "metadata": {
    "tags": []
   },
   "outputs": [],
   "source": [
    "df_clean['news_len'] = df_clean[news].str.len()"
   ]
  },
  {
   "cell_type": "code",
   "execution_count": null,
   "id": "bbe26241-3424-45f1-a5f8-96297da6d6e3",
   "metadata": {
    "tags": []
   },
   "outputs": [],
   "source": [
    "show_hist_for_col(df_clean, 'news_len', 'Length of Text for News')"
   ]
  },
  {
   "cell_type": "code",
   "execution_count": null,
   "id": "6f2727d0-cbdd-4b87-ab64-5da4fc70695d",
   "metadata": {
    "tags": []
   },
   "outputs": [],
   "source": [
    "df_clean[df_clean.label == 0].news_len.describe()"
   ]
  },
  {
   "cell_type": "code",
   "execution_count": null,
   "id": "7a7b23bf-bee2-4618-8785-5d156b06babe",
   "metadata": {
    "tags": []
   },
   "outputs": [],
   "source": [
    "df_clean[df_clean.label == 1].news_len.describe()"
   ]
  },
  {
   "cell_type": "code",
   "execution_count": null,
   "id": "ecf92ed5-991a-4a23-9249-ea4c49a27d87",
   "metadata": {
    "tags": []
   },
   "outputs": [],
   "source": [
    "df_long = df_clean[df_clean.news_len > 10000]"
   ]
  },
  {
   "cell_type": "code",
   "execution_count": null,
   "id": "687e5aea-9e89-42d3-a9f1-b876ddcb227a",
   "metadata": {
    "tags": []
   },
   "outputs": [],
   "source": [
    "df_long"
   ]
  },
  {
   "cell_type": "code",
   "execution_count": null,
   "id": "624da3af-6944-4043-9352-fef3b7db108b",
   "metadata": {
    "tags": []
   },
   "outputs": [],
   "source": [
    "df_long.label.value_counts()"
   ]
  },
  {
   "cell_type": "markdown",
   "id": "d1e958b6-d831-4171-8da0-172c9298edd1",
   "metadata": {
    "tags": []
   },
   "source": [
    "ok there does not seem to be bias in long stories towards either type of articles so they will be kept. also fake news article have shown much higher max story size and significantly lower quartile scores across the board."
   ]
  },
  {
   "cell_type": "markdown",
   "id": "b069f5f4-6bcf-4e54-9d12-6988d5f276c9",
   "metadata": {},
   "source": [
    "Capital letters in headline."
   ]
  },
  {
   "cell_type": "code",
   "execution_count": null,
   "id": "f18b16f9-9f07-4a25-9fa0-787190459db9",
   "metadata": {
    "tags": []
   },
   "outputs": [],
   "source": [
    "df_clean['caps_in_headline'] = df_clean[headline].apply(lambda headline: sum(1 for char in headline if char.isupper()))"
   ]
  },
  {
   "cell_type": "code",
   "execution_count": null,
   "id": "84e7a135-ee8b-4130-b7a3-4758e27c0adc",
   "metadata": {
    "tags": []
   },
   "outputs": [],
   "source": [
    "df_clean"
   ]
  },
  {
   "cell_type": "code",
   "execution_count": null,
   "id": "4e9fe8c3-d12f-4f5b-a46f-f7a54bf199d1",
   "metadata": {
    "tags": []
   },
   "outputs": [],
   "source": [
    "show_hist_for_col(df_clean, 'caps_in_headline', 'Number of Capitals in Headline')"
   ]
  },
  {
   "cell_type": "code",
   "execution_count": null,
   "id": "9773a3ec-5d95-4e7d-8e77-222b37c82d8c",
   "metadata": {
    "tags": []
   },
   "outputs": [],
   "source": [
    "df_clean[df_clean.label == 0].caps_in_headline.describe()"
   ]
  },
  {
   "cell_type": "code",
   "execution_count": null,
   "id": "c358d5ab-46e7-438e-afe3-b191c8141f40",
   "metadata": {
    "tags": []
   },
   "outputs": [],
   "source": [
    "df_clean[df_clean.label == 1].caps_in_headline.describe()"
   ]
  },
  {
   "cell_type": "markdown",
   "id": "0a0d6ccb-feff-4fc0-92c5-b655eaf8a840",
   "metadata": {},
   "source": [
    "There is much more deviation in number of Capital letter in headline in fake news articles. also fake news articles have much more amount of Capital letter in headline."
   ]
  },
  {
   "cell_type": "code",
   "execution_count": null,
   "id": "99816261-6819-4655-b8b3-eb1672b912be",
   "metadata": {
    "tags": []
   },
   "outputs": [],
   "source": [
    "df_clean['norm_caps_in_headline'] = df_clean['caps_in_headline'] / df_clean['headline_len']"
   ]
  },
  {
   "cell_type": "code",
   "execution_count": null,
   "id": "07e14af8-c5b6-453f-a572-458afda7ee9d",
   "metadata": {
    "tags": []
   },
   "outputs": [],
   "source": [
    "show_hist_for_col(df_clean, 'norm_caps_in_headline', 'Percentage of Capitals in Headline')"
   ]
  },
  {
   "cell_type": "code",
   "execution_count": null,
   "id": "d447be6c-281d-429b-adea-02094cad8220",
   "metadata": {
    "tags": []
   },
   "outputs": [],
   "source": [
    "df_clean[df_clean.label == 0].norm_caps_in_headline.describe()"
   ]
  },
  {
   "cell_type": "code",
   "execution_count": null,
   "id": "6fe2cab8-f92f-4c88-8bcc-7ed1e9cb6f65",
   "metadata": {
    "tags": []
   },
   "outputs": [],
   "source": [
    "df_clean[df_clean.label == 1].norm_caps_in_headline.describe()"
   ]
  },
  {
   "cell_type": "markdown",
   "id": "7d591ab2-6563-4dc3-8243-35eed3cbdc07",
   "metadata": {},
   "source": [
    "percentage of capitals may be useful as even first quartile of percentage of capitals in fake news is larger than even third quartile in true news article. but this might not be generalizable"
   ]
  },
  {
   "cell_type": "markdown",
   "id": "147671ee-2c48-44d6-a7ec-6dce13a3b2a0",
   "metadata": {},
   "source": [
    "Capital in news article"
   ]
  },
  {
   "cell_type": "code",
   "execution_count": null,
   "id": "c2e8b3c0-0a65-434d-ab97-293e75a68b03",
   "metadata": {
    "tags": []
   },
   "outputs": [],
   "source": [
    "df_clean['caps_in_news'] = df_clean[news].apply(lambda news: sum(1 for char in news if char.isupper()))"
   ]
  },
  {
   "cell_type": "code",
   "execution_count": null,
   "id": "c0ef71d4-0eb5-4fc3-9b45-e85f247c5935",
   "metadata": {
    "tags": []
   },
   "outputs": [],
   "source": [
    "show_hist_for_col(df_clean, 'caps_in_news', 'Number of Capitals in News')"
   ]
  },
  {
   "cell_type": "code",
   "execution_count": null,
   "id": "076a5bb7-a9e8-48c2-943e-0983b611e4e2",
   "metadata": {
    "tags": []
   },
   "outputs": [],
   "source": [
    "df_clean[df_clean.label == 0].caps_in_news.describe()"
   ]
  },
  {
   "cell_type": "code",
   "execution_count": null,
   "id": "484a9074-e866-48ad-b712-518d96e406a3",
   "metadata": {
    "tags": []
   },
   "outputs": [],
   "source": [
    "df_clean[df_clean.label == 1].caps_in_news.describe()"
   ]
  },
  {
   "cell_type": "code",
   "execution_count": null,
   "id": "a80f56c1-a963-4356-a8c6-da1b098daaf0",
   "metadata": {
    "tags": []
   },
   "outputs": [],
   "source": [
    "df_clean['norm_caps_in_news'] = df_clean['caps_in_news'] / df_clean['news_len']"
   ]
  },
  {
   "cell_type": "code",
   "execution_count": null,
   "id": "76f74458-9c01-4435-8a02-ed4aa43fccd7",
   "metadata": {
    "tags": []
   },
   "outputs": [],
   "source": [
    "show_hist_for_col(df_clean, 'norm_caps_in_news', 'Percentage of Capitals in News')"
   ]
  },
  {
   "cell_type": "code",
   "execution_count": null,
   "id": "a6b182f3-4c74-438d-9df5-35561ff6e6a1",
   "metadata": {
    "tags": []
   },
   "outputs": [],
   "source": [
    "df_clean[df_clean.label == 0].norm_caps_in_news.describe()"
   ]
  },
  {
   "cell_type": "code",
   "execution_count": null,
   "id": "b839c437-d2a1-49c0-b46a-b42e3b34c5ce",
   "metadata": {
    "tags": []
   },
   "outputs": [],
   "source": [
    "df_clean[df_clean.label == 1].norm_caps_in_news.describe()"
   ]
  },
  {
   "cell_type": "markdown",
   "id": "fb1731dd-2256-4193-b85c-6e371a9c71d6",
   "metadata": {},
   "source": [
    "There is a lot of overlap in number of capitals in news article between fake and real news."
   ]
  },
  {
   "cell_type": "code",
   "execution_count": null,
   "id": "8cf7d3b1-55d1-41d7-a71c-4a111b65001b",
   "metadata": {
    "tags": []
   },
   "outputs": [],
   "source": [
    "def check_string_for(substring, fullstring):\n",
    "    \"\"\"Check if the substring is in the fullstring\"\"\"\n",
    "    if search(substring, fullstring):\n",
    "        return True\n",
    "    else:\n",
    "        return False"
   ]
  },
  {
   "cell_type": "markdown",
   "id": "85541851-344c-4a80-84ce-8b3d69dbbaca",
   "metadata": {},
   "source": [
    "Via and Image Via in article"
   ]
  },
  {
   "cell_type": "code",
   "execution_count": null,
   "id": "e6a2f245-d5c7-49f5-ade7-a1b3750fadab",
   "metadata": {
    "tags": []
   },
   "outputs": [],
   "source": [
    "df_via = df_clean[df_clean[news].apply(lambda news_text: check_string_for(' via', news_text))]"
   ]
  },
  {
   "cell_type": "code",
   "execution_count": null,
   "id": "b1c424b5-f41f-4eab-88fe-6201d8b695e8",
   "metadata": {
    "tags": []
   },
   "outputs": [],
   "source": [
    "df_via"
   ]
  },
  {
   "cell_type": "code",
   "execution_count": null,
   "id": "e6d9dfb4-a8bf-4373-bf50-2ee64f67e23d",
   "metadata": {
    "tags": []
   },
   "outputs": [],
   "source": [
    "df_via['label'].value_counts()"
   ]
  },
  {
   "cell_type": "markdown",
   "id": "588642d4-23c6-42e1-9bc9-4cfab3373492",
   "metadata": {},
   "source": [
    "Via is much more indicative of fake news article compared to true news article."
   ]
  },
  {
   "cell_type": "code",
   "execution_count": null,
   "id": "150ef478-cb23-403b-b0ac-b56cc6d4f64d",
   "metadata": {
    "tags": []
   },
   "outputs": [],
   "source": [
    "df_image_via = df_clean[df_clean[news].apply(lambda news_text: check_string_for('image via', news_text))]"
   ]
  },
  {
   "cell_type": "code",
   "execution_count": null,
   "id": "be585078-46d9-45a4-b14d-0ce4d6c939e3",
   "metadata": {
    "tags": []
   },
   "outputs": [],
   "source": [
    "df_image_via"
   ]
  },
  {
   "cell_type": "code",
   "execution_count": null,
   "id": "9064f042-60b8-4360-8000-be437e03c845",
   "metadata": {
    "tags": []
   },
   "outputs": [],
   "source": [
    "df_image_via['label'].value_counts()"
   ]
  },
  {
   "cell_type": "markdown",
   "id": "4a596c4c-b1ef-4b60-8339-d0251d9b9f7f",
   "metadata": {},
   "source": [
    "With all the posts with image via being Fake, it's highly indicative of that label, but this may be particular to this dataset and may not generalize."
   ]
  },
  {
   "cell_type": "markdown",
   "id": "5bf26baa-5882-4eb5-84bd-402992125bb0",
   "metadata": {},
   "source": [
    "Said in news article"
   ]
  },
  {
   "cell_type": "code",
   "execution_count": null,
   "id": "53807b5d-26da-4482-a350-2a70ee6de463",
   "metadata": {
    "tags": []
   },
   "outputs": [],
   "source": [
    "df_said = df_clean[df_clean[news].apply(lambda news_text: check_string_for('said', news_text))]"
   ]
  },
  {
   "cell_type": "code",
   "execution_count": null,
   "id": "6187b436-1e3b-4301-8e09-fadc10ddee31",
   "metadata": {
    "tags": []
   },
   "outputs": [],
   "source": [
    "df_said"
   ]
  },
  {
   "cell_type": "code",
   "execution_count": null,
   "id": "da1eb178-cc08-458e-ac4d-1664e56b175f",
   "metadata": {
    "tags": []
   },
   "outputs": [],
   "source": [
    "df_said['label'].value_counts()"
   ]
  },
  {
   "cell_type": "markdown",
   "id": "d2570246-02ce-4a2e-9429-c908c3afdd8c",
   "metadata": {},
   "source": [
    "The stories containing the word said are indicative of the news story being true. With twice as many of the \"true\" news stories containing said vs. \"fake\", the true ones must seem likely to be more concerned with providing quotations, or at least quotations in this style."
   ]
  },
  {
   "cell_type": "markdown",
   "id": "56d4e26a-65f9-46f3-83d5-e8d550ef1250",
   "metadata": {},
   "source": [
    "On in news article"
   ]
  },
  {
   "cell_type": "code",
   "execution_count": null,
   "id": "aa668148-0544-4bc7-9730-d53a60a4ebc7",
   "metadata": {
    "tags": []
   },
   "outputs": [],
   "source": [
    "df_on = df_clean[df_clean[news].apply(lambda news_text: check_string_for(' on ', news_text))]"
   ]
  },
  {
   "cell_type": "code",
   "execution_count": null,
   "id": "2cc38e6f-723d-45f0-a077-633e70e5c4c7",
   "metadata": {
    "tags": []
   },
   "outputs": [],
   "source": [
    "df_on"
   ]
  },
  {
   "cell_type": "code",
   "execution_count": null,
   "id": "23235107-4639-4c93-95b5-68b6445d8fcc",
   "metadata": {
    "tags": []
   },
   "outputs": [],
   "source": [
    "df_on.label.value_counts()"
   ]
  },
  {
   "cell_type": "markdown",
   "id": "9afcf4f8-4426-4ac1-b474-5acc830429af",
   "metadata": {},
   "source": [
    "The use of 'on' is fairly balanced although somewhat indicative of a 'true' story."
   ]
  },
  {
   "cell_type": "markdown",
   "id": "f9e172c8-1b77-4906-92cd-04fbb02ac02e",
   "metadata": {},
   "source": [
    "You in news article"
   ]
  },
  {
   "cell_type": "code",
   "execution_count": null,
   "id": "8ad74e2e-5ce7-4685-ad83-02e13acaca39",
   "metadata": {
    "tags": []
   },
   "outputs": [],
   "source": [
    "df_you = df_clean[df_clean[news].apply(lambda news_text: check_string_for(' you ', news_text))]"
   ]
  },
  {
   "cell_type": "code",
   "execution_count": null,
   "id": "8271f66e-88e4-4d6b-a93e-88faa6ea43dc",
   "metadata": {
    "tags": []
   },
   "outputs": [],
   "source": [
    "df_you"
   ]
  },
  {
   "cell_type": "code",
   "execution_count": null,
   "id": "5029dd6a-815f-48a9-82ad-cc2764d24fa5",
   "metadata": {
    "tags": []
   },
   "outputs": [],
   "source": [
    "df_you.label.value_counts()"
   ]
  },
  {
   "cell_type": "markdown",
   "id": "22fa2190-120a-43ff-860a-20a1070d5f06",
   "metadata": {},
   "source": [
    "You is present in both true and fake news stories with a bit more mention in fake news stories which might be due to a more informal writing approach."
   ]
  },
  {
   "cell_type": "code",
   "execution_count": null,
   "id": "8e8fdc53-03d2-4259-8625-7443084d9f2b",
   "metadata": {
    "tags": []
   },
   "outputs": [],
   "source": [
    "df_clean = df_clean.rename(columns={'title': 'headline'})\n",
    "df_clean = df_clean.rename(columns={'text': 'news'})\n",
    "df_clean.head()"
   ]
  },
  {
   "cell_type": "markdown",
   "id": "7b850713-5c40-405e-a1fe-9ffa14a600a4",
   "metadata": {},
   "source": [
    "Save the Cleaned Dataset"
   ]
  },
  {
   "cell_type": "code",
   "execution_count": null,
   "id": "4a5997fb-aea2-4380-a58d-ac3e3235a37c",
   "metadata": {
    "tags": []
   },
   "outputs": [],
   "source": [
    "df_clean.to_csv(os.path.join(dataset_dir,'train_news_cleaned.csv'),index=False)"
   ]
  },
  {
   "cell_type": "code",
   "execution_count": null,
   "id": "121f6bcb-a3c2-4d8c-8aa6-89693bca1dcf",
   "metadata": {},
   "outputs": [],
   "source": []
  }
 ],
 "metadata": {
  "kernelspec": {
   "display_name": "Python 3 (ipykernel)",
   "language": "python",
   "name": "python3"
  },
  "language_info": {
   "codemirror_mode": {
    "name": "ipython",
    "version": 3
   },
   "file_extension": ".py",
   "mimetype": "text/x-python",
   "name": "python",
   "nbconvert_exporter": "python",
   "pygments_lexer": "ipython3",
   "version": "3.11.3"
  }
 },
 "nbformat": 4,
 "nbformat_minor": 5
}
