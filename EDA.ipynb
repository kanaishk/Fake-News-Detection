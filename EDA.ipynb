{
 "cells": [
  {
   "cell_type": "code",
   "execution_count": 1,
   "id": "21d5e336-cf31-45a0-b500-374e696d2486",
   "metadata": {
    "tags": []
   },
   "outputs": [],
   "source": [
    "import sys"
   ]
  },
  {
   "cell_type": "code",
   "execution_count": 2,
   "id": "c38c8ff2-b290-4a75-a752-a753acffb88b",
   "metadata": {
    "tags": []
   },
   "outputs": [
    {
     "name": "stdout",
     "output_type": "stream",
     "text": [
      "Requirement already satisfied: numpy in c:\\python311\\lib\\site-packages (1.23.5)\n",
      "Requirement already satisfied: pandas in c:\\python311\\lib\\site-packages (1.5.3)\n",
      "Requirement already satisfied: python-dateutil>=2.8.1 in c:\\python311\\lib\\site-packages (from pandas) (2.8.2)\n",
      "Requirement already satisfied: pytz>=2020.1 in c:\\python311\\lib\\site-packages (from pandas) (2023.3)\n",
      "Requirement already satisfied: numpy>=1.21.0 in c:\\python311\\lib\\site-packages (from pandas) (1.23.5)\n",
      "Requirement already satisfied: six>=1.5 in c:\\python311\\lib\\site-packages (from python-dateutil>=2.8.1->pandas) (1.16.0)\n",
      "Requirement already satisfied: matplotlib in c:\\python311\\lib\\site-packages (3.7.1)\n",
      "Requirement already satisfied: contourpy>=1.0.1 in c:\\python311\\lib\\site-packages (from matplotlib) (1.0.7)\n",
      "Requirement already satisfied: cycler>=0.10 in c:\\python311\\lib\\site-packages (from matplotlib) (0.11.0)\n",
      "Requirement already satisfied: fonttools>=4.22.0 in c:\\python311\\lib\\site-packages (from matplotlib) (4.39.3)\n",
      "Requirement already satisfied: kiwisolver>=1.0.1 in c:\\python311\\lib\\site-packages (from matplotlib) (1.4.4)\n",
      "Requirement already satisfied: numpy>=1.20 in c:\\python311\\lib\\site-packages (from matplotlib) (1.23.5)\n",
      "Requirement already satisfied: packaging>=20.0 in c:\\python311\\lib\\site-packages (from matplotlib) (23.1)\n",
      "Requirement already satisfied: pillow>=6.2.0 in c:\\python311\\lib\\site-packages (from matplotlib) (9.5.0)\n",
      "Requirement already satisfied: pyparsing>=2.3.1 in c:\\python311\\lib\\site-packages (from matplotlib) (3.0.9)\n",
      "Requirement already satisfied: python-dateutil>=2.7 in c:\\python311\\lib\\site-packages (from matplotlib) (2.8.2)\n",
      "Requirement already satisfied: six>=1.5 in c:\\python311\\lib\\site-packages (from python-dateutil>=2.7->matplotlib) (1.16.0)\n",
      "Requirement already satisfied: regex in c:\\python311\\lib\\site-packages (2023.5.5)\n"
     ]
    }
   ],
   "source": [
    "!{sys.executable} -m pip install numpy\n",
    "!{sys.executable} -m pip install pandas\n",
    "!{sys.executable} -m pip install matplotlib\n",
    "!{sys.executable} -m pip install regex"
   ]
  },
  {
   "cell_type": "code",
   "execution_count": 3,
   "id": "779a1662-6b4e-4550-8cc0-ee403ec0b3b5",
   "metadata": {
    "tags": []
   },
   "outputs": [],
   "source": [
    "import os\n",
    "import pandas as pd\n",
    "import numpy as np\n",
    "import matplotlib.pyplot as plt\n",
    "%matplotlib inline\n",
    "from re import search"
   ]
  },
  {
   "cell_type": "markdown",
   "id": "1fedcedc-cb45-4a09-ad34-9eb9a4f5b9ea",
   "metadata": {},
   "source": [
    "Preliminary Analysis"
   ]
  },
  {
   "cell_type": "markdown",
   "id": "27c0a26c-c52f-40c7-bfda-a35ddb41b7c9",
   "metadata": {},
   "source": [
    "Importing the dataset"
   ]
  },
  {
   "cell_type": "code",
   "execution_count": 4,
   "id": "59273b87-a710-49a8-a58b-0e1cc121c84a",
   "metadata": {
    "tags": []
   },
   "outputs": [],
   "source": [
    "cwd = os.getcwd()\n",
    "dataset_dir = os.path.join(cwd,'Dataset')\n",
    "df = pd.read_csv(os.path.join(dataset_dir,'train_news.csv'))"
   ]
  },
  {
   "cell_type": "markdown",
   "id": "770c2a56-acdb-42b0-a78c-a7130e2e9fd8",
   "metadata": {},
   "source": [
    "Problem Description\n",
    "The authenticity of Information has become a longstanding issue affecting businesses and society, both for printed and digital media. On social networks, the reach and effects of information spread occur at such a fast pace and so amplified that distorted, inaccurate, or false information acquires a tremendous potential to cause real-world impacts, within minutes, ffor millions of users. Recently, several public concerns about this problem and some approaches to mitigate the problem were expressed.\n",
    "\n",
    "Data- Description:\n",
    "There are 6 columns in the dataset provided to you. The description of each of the column is given below: “id”: Unique id of each news article “headline”: It is the title of the news. “news”: It contains the full text of the news article “Unnamed:0”: It is a serial number “written_by”: It represents the author of the news article “label”: It tells whether the news is fake (1) or not fake (0)."
   ]
  },
  {
   "cell_type": "code",
   "execution_count": 5,
   "id": "8a53f245-a2e0-454d-8a10-f761d8d55054",
   "metadata": {
    "tags": []
   },
   "outputs": [
    {
     "name": "stdout",
     "output_type": "stream",
     "text": [
      "Dataset shape: (20800, 6)\n"
     ]
    }
   ],
   "source": [
    "print(\"Dataset shape:\", df.shape)"
   ]
  },
  {
   "cell_type": "code",
   "execution_count": 6,
   "id": "c16471eb-4c61-4c92-aede-652ef5436006",
   "metadata": {
    "tags": []
   },
   "outputs": [
    {
     "data": {
      "text/html": [
       "<div>\n",
       "<style scoped>\n",
       "    .dataframe tbody tr th:only-of-type {\n",
       "        vertical-align: middle;\n",
       "    }\n",
       "\n",
       "    .dataframe tbody tr th {\n",
       "        vertical-align: top;\n",
       "    }\n",
       "\n",
       "    .dataframe thead th {\n",
       "        text-align: right;\n",
       "    }\n",
       "</style>\n",
       "<table border=\"1\" class=\"dataframe\">\n",
       "  <thead>\n",
       "    <tr style=\"text-align: right;\">\n",
       "      <th></th>\n",
       "      <th>Unnamed: 0</th>\n",
       "      <th>id</th>\n",
       "      <th>headline</th>\n",
       "      <th>written_by</th>\n",
       "      <th>news</th>\n",
       "      <th>label</th>\n",
       "    </tr>\n",
       "  </thead>\n",
       "  <tbody>\n",
       "    <tr>\n",
       "      <th>0</th>\n",
       "      <td>0</td>\n",
       "      <td>9653</td>\n",
       "      <td>Ethics Questions Dogged Agriculture Nominee as...</td>\n",
       "      <td>Eric Lipton and Steve Eder</td>\n",
       "      <td>WASHINGTON  —   In Sonny Perdue’s telling, Geo...</td>\n",
       "      <td>0</td>\n",
       "    </tr>\n",
       "    <tr>\n",
       "      <th>1</th>\n",
       "      <td>1</td>\n",
       "      <td>10041</td>\n",
       "      <td>U.S. Must Dig Deep to Stop Argentina’s Lionel ...</td>\n",
       "      <td>David Waldstein</td>\n",
       "      <td>HOUSTON  —   Venezuela had a plan. It was a ta...</td>\n",
       "      <td>0</td>\n",
       "    </tr>\n",
       "    <tr>\n",
       "      <th>2</th>\n",
       "      <td>2</td>\n",
       "      <td>19113</td>\n",
       "      <td>Cotton to House: ’Do Not Walk the Plank and Vo...</td>\n",
       "      <td>Pam Key</td>\n",
       "      <td>Sunday on ABC’s “This Week,” while discussing ...</td>\n",
       "      <td>0</td>\n",
       "    </tr>\n",
       "    <tr>\n",
       "      <th>3</th>\n",
       "      <td>3</td>\n",
       "      <td>6868</td>\n",
       "      <td>Paul LePage, Besieged Maine Governor, Sends Co...</td>\n",
       "      <td>Jess Bidgood</td>\n",
       "      <td>AUGUSTA, Me.  —   The beleaguered Republican g...</td>\n",
       "      <td>0</td>\n",
       "    </tr>\n",
       "    <tr>\n",
       "      <th>4</th>\n",
       "      <td>4</td>\n",
       "      <td>7596</td>\n",
       "      <td>A Digital 9/11 If Trump Wins</td>\n",
       "      <td>Finian Cunningham</td>\n",
       "      <td>Finian Cunningham has written extensively on...</td>\n",
       "      <td>1</td>\n",
       "    </tr>\n",
       "  </tbody>\n",
       "</table>\n",
       "</div>"
      ],
      "text/plain": [
       "   Unnamed: 0     id                                           headline  \\\n",
       "0           0   9653  Ethics Questions Dogged Agriculture Nominee as...   \n",
       "1           1  10041  U.S. Must Dig Deep to Stop Argentina’s Lionel ...   \n",
       "2           2  19113  Cotton to House: ’Do Not Walk the Plank and Vo...   \n",
       "3           3   6868  Paul LePage, Besieged Maine Governor, Sends Co...   \n",
       "4           4   7596                       A Digital 9/11 If Trump Wins   \n",
       "\n",
       "                   written_by  \\\n",
       "0  Eric Lipton and Steve Eder   \n",
       "1             David Waldstein   \n",
       "2                     Pam Key   \n",
       "3                Jess Bidgood   \n",
       "4           Finian Cunningham   \n",
       "\n",
       "                                                news  label  \n",
       "0  WASHINGTON  —   In Sonny Perdue’s telling, Geo...      0  \n",
       "1  HOUSTON  —   Venezuela had a plan. It was a ta...      0  \n",
       "2  Sunday on ABC’s “This Week,” while discussing ...      0  \n",
       "3  AUGUSTA, Me.  —   The beleaguered Republican g...      0  \n",
       "4    Finian Cunningham has written extensively on...      1  "
      ]
     },
     "execution_count": 6,
     "metadata": {},
     "output_type": "execute_result"
    }
   ],
   "source": [
    "df.head()"
   ]
  },
  {
   "cell_type": "code",
   "execution_count": 7,
   "id": "f0e5cb3d-5b21-4be8-b21f-2566a6d6f3d2",
   "metadata": {
    "tags": []
   },
   "outputs": [
    {
     "data": {
      "text/html": [
       "<div>\n",
       "<style scoped>\n",
       "    .dataframe tbody tr th:only-of-type {\n",
       "        vertical-align: middle;\n",
       "    }\n",
       "\n",
       "    .dataframe tbody tr th {\n",
       "        vertical-align: top;\n",
       "    }\n",
       "\n",
       "    .dataframe thead th {\n",
       "        text-align: right;\n",
       "    }\n",
       "</style>\n",
       "<table border=\"1\" class=\"dataframe\">\n",
       "  <thead>\n",
       "    <tr style=\"text-align: right;\">\n",
       "      <th></th>\n",
       "      <th>id</th>\n",
       "      <th>headline</th>\n",
       "      <th>written_by</th>\n",
       "      <th>news</th>\n",
       "      <th>label</th>\n",
       "    </tr>\n",
       "  </thead>\n",
       "  <tbody>\n",
       "    <tr>\n",
       "      <th>0</th>\n",
       "      <td>9653</td>\n",
       "      <td>Ethics Questions Dogged Agriculture Nominee as...</td>\n",
       "      <td>Eric Lipton and Steve Eder</td>\n",
       "      <td>WASHINGTON  —   In Sonny Perdue’s telling, Geo...</td>\n",
       "      <td>0</td>\n",
       "    </tr>\n",
       "    <tr>\n",
       "      <th>1</th>\n",
       "      <td>10041</td>\n",
       "      <td>U.S. Must Dig Deep to Stop Argentina’s Lionel ...</td>\n",
       "      <td>David Waldstein</td>\n",
       "      <td>HOUSTON  —   Venezuela had a plan. It was a ta...</td>\n",
       "      <td>0</td>\n",
       "    </tr>\n",
       "    <tr>\n",
       "      <th>2</th>\n",
       "      <td>19113</td>\n",
       "      <td>Cotton to House: ’Do Not Walk the Plank and Vo...</td>\n",
       "      <td>Pam Key</td>\n",
       "      <td>Sunday on ABC’s “This Week,” while discussing ...</td>\n",
       "      <td>0</td>\n",
       "    </tr>\n",
       "    <tr>\n",
       "      <th>3</th>\n",
       "      <td>6868</td>\n",
       "      <td>Paul LePage, Besieged Maine Governor, Sends Co...</td>\n",
       "      <td>Jess Bidgood</td>\n",
       "      <td>AUGUSTA, Me.  —   The beleaguered Republican g...</td>\n",
       "      <td>0</td>\n",
       "    </tr>\n",
       "    <tr>\n",
       "      <th>4</th>\n",
       "      <td>7596</td>\n",
       "      <td>A Digital 9/11 If Trump Wins</td>\n",
       "      <td>Finian Cunningham</td>\n",
       "      <td>Finian Cunningham has written extensively on...</td>\n",
       "      <td>1</td>\n",
       "    </tr>\n",
       "  </tbody>\n",
       "</table>\n",
       "</div>"
      ],
      "text/plain": [
       "      id                                           headline  \\\n",
       "0   9653  Ethics Questions Dogged Agriculture Nominee as...   \n",
       "1  10041  U.S. Must Dig Deep to Stop Argentina’s Lionel ...   \n",
       "2  19113  Cotton to House: ’Do Not Walk the Plank and Vo...   \n",
       "3   6868  Paul LePage, Besieged Maine Governor, Sends Co...   \n",
       "4   7596                       A Digital 9/11 If Trump Wins   \n",
       "\n",
       "                   written_by  \\\n",
       "0  Eric Lipton and Steve Eder   \n",
       "1             David Waldstein   \n",
       "2                     Pam Key   \n",
       "3                Jess Bidgood   \n",
       "4           Finian Cunningham   \n",
       "\n",
       "                                                news  label  \n",
       "0  WASHINGTON  —   In Sonny Perdue’s telling, Geo...      0  \n",
       "1  HOUSTON  —   Venezuela had a plan. It was a ta...      0  \n",
       "2  Sunday on ABC’s “This Week,” while discussing ...      0  \n",
       "3  AUGUSTA, Me.  —   The beleaguered Republican g...      0  \n",
       "4    Finian Cunningham has written extensively on...      1  "
      ]
     },
     "execution_count": 7,
     "metadata": {},
     "output_type": "execute_result"
    }
   ],
   "source": [
    "unnamed_columns = [col for col in df.columns if search(r'^Unnamed', col)]\n",
    "\n",
    "df = df.drop(unnamed_columns, axis=1)\n",
    "\n",
    "df.head()"
   ]
  },
  {
   "cell_type": "code",
   "execution_count": 8,
   "id": "5fdc2a06-40df-4788-8f34-57f6cba2e326",
   "metadata": {
    "tags": []
   },
   "outputs": [
    {
     "name": "stdout",
     "output_type": "stream",
     "text": [
      "Dataset shape: (20800, 5)\n"
     ]
    }
   ],
   "source": [
    "print(\"Dataset shape:\", df.shape)"
   ]
  },
  {
   "cell_type": "markdown",
   "id": "8d1dc672-6757-4ea0-bcdf-c4b7d639ddb9",
   "metadata": {},
   "source": [
    "Cleaning the data"
   ]
  },
  {
   "cell_type": "markdown",
   "id": "9d7f7b84-6a64-452d-8d57-21551226ff07",
   "metadata": {},
   "source": [
    "Checking for missing data"
   ]
  },
  {
   "cell_type": "code",
   "execution_count": 9,
   "id": "29d2fe9c-be52-480a-be01-324e6e05645f",
   "metadata": {
    "tags": []
   },
   "outputs": [
    {
     "name": "stdout",
     "output_type": "stream",
     "text": [
      "<class 'pandas.core.frame.DataFrame'>\n",
      "RangeIndex: 20800 entries, 0 to 20799\n",
      "Data columns (total 5 columns):\n",
      " #   Column      Non-Null Count  Dtype \n",
      "---  ------      --------------  ----- \n",
      " 0   id          20800 non-null  int64 \n",
      " 1   headline    20242 non-null  object\n",
      " 2   written_by  18843 non-null  object\n",
      " 3   news        20761 non-null  object\n",
      " 4   label       20800 non-null  int64 \n",
      "dtypes: int64(2), object(3)\n",
      "memory usage: 812.6+ KB\n"
     ]
    }
   ],
   "source": [
    "df.info()"
   ]
  },
  {
   "cell_type": "code",
   "execution_count": 10,
   "id": "d4d5ed4c-bc29-4715-8e62-8fb98d93775b",
   "metadata": {
    "tags": []
   },
   "outputs": [
    {
     "name": "stdout",
     "output_type": "stream",
     "text": [
      "Dataset null values:\n",
      " id               0\n",
      "headline       558\n",
      "written_by    1957\n",
      "news            39\n",
      "label            0\n",
      "dtype: int64\n"
     ]
    }
   ],
   "source": [
    "print('Dataset null values:\\n',df.isna().sum())"
   ]
  },
  {
   "cell_type": "code",
   "execution_count": 11,
   "id": "a46fcdab-0130-4883-9600-43e2f44d8bf9",
   "metadata": {
    "tags": []
   },
   "outputs": [],
   "source": [
    "def show_tf_distribution(column) :\n",
    "    null = df[df[column].isna()]\n",
    "    total = len(null)\n",
    "    notfake_cnt = list(null[null['label']==0].shape)[0]\n",
    "    fake_cnt = list(null[null['label']==1].shape)[0]\n",
    "    \n",
    "    print('Null Values distribution for \\''+column+'\\' on basis for realness')\n",
    "    print('Total:\\t',total)\n",
    "    print('True %:\\t',format(((notfake_cnt/total)*100),'.2f'))\n",
    "    print('False %:',format(((fake_cnt/total)*100),'.2f'))"
   ]
  },
  {
   "cell_type": "code",
   "execution_count": 12,
   "id": "4c25e9d8-27e2-4bb2-8bdf-7c033a3069fa",
   "metadata": {},
   "outputs": [
    {
     "name": "stdout",
     "output_type": "stream",
     "text": [
      "Null Values distribution for 'news' on basis for realness\n",
      "Total:\t 39\n",
      "True %:\t 0.00\n",
      "False %: 100.00\n"
     ]
    }
   ],
   "source": [
    "show_tf_distribution('news')"
   ]
  },
  {
   "cell_type": "code",
   "execution_count": 13,
   "id": "6f44aa54-bda5-452a-8208-625b16fd258e",
   "metadata": {
    "tags": []
   },
   "outputs": [
    {
     "name": "stdout",
     "output_type": "stream",
     "text": [
      "Null Values distribution for 'headline' on basis for realness\n",
      "Total:\t 558\n",
      "True %:\t 0.00\n",
      "False %: 100.00\n"
     ]
    }
   ],
   "source": [
    "show_tf_distribution('headline')"
   ]
  },
  {
   "cell_type": "code",
   "execution_count": 14,
   "id": "f02ccc41-9670-400f-89e9-d0af5a41c094",
   "metadata": {
    "tags": []
   },
   "outputs": [
    {
     "name": "stdout",
     "output_type": "stream",
     "text": [
      "Null Values distribution for 'written_by' on basis for realness\n",
      "Total:\t 1957\n",
      "True %:\t 1.33\n",
      "False %: 98.67\n"
     ]
    }
   ],
   "source": [
    "show_tf_distribution('written_by')"
   ]
  },
  {
   "cell_type": "markdown",
   "id": "9f07160f-a64f-491a-84ec-22c5981caba6",
   "metadata": {},
   "source": [
    "As every instance of missing value almost always indicates a fake news article, missing value/information can be an identifying factor. Hence not dropping rows with null values."
   ]
  },
  {
   "cell_type": "code",
   "execution_count": null,
   "id": "33409ff6-6f24-4b92-b4f8-e081ab6c23bf",
   "metadata": {},
   "outputs": [],
   "source": []
  }
 ],
 "metadata": {
  "kernelspec": {
   "display_name": "Python 3 (ipykernel)",
   "language": "python",
   "name": "python3"
  },
  "language_info": {
   "codemirror_mode": {
    "name": "ipython",
    "version": 3
   },
   "file_extension": ".py",
   "mimetype": "text/x-python",
   "name": "python",
   "nbconvert_exporter": "python",
   "pygments_lexer": "ipython3",
   "version": "3.11.3"
  }
 },
 "nbformat": 4,
 "nbformat_minor": 5
}
