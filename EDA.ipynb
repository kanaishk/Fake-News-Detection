{
 "cells": [
  {
   "cell_type": "code",
   "execution_count": 1,
   "id": "779a1662-6b4e-4550-8cc0-ee403ec0b3b5",
   "metadata": {
    "tags": []
   },
   "outputs": [],
   "source": [
    "import os\n",
    "import pandas as pd\n",
    "import numpy as np\n",
    "import matplotlib.pyplot as plt\n",
    "%matplotlib inline\n",
    "from re import search"
   ]
  },
  {
   "cell_type": "markdown",
   "id": "1fedcedc-cb45-4a09-ad34-9eb9a4f5b9ea",
   "metadata": {},
   "source": [
    "Preliminary Analysis"
   ]
  },
  {
   "cell_type": "markdown",
   "id": "27c0a26c-c52f-40c7-bfda-a35ddb41b7c9",
   "metadata": {},
   "source": [
    "Importing the dataset"
   ]
  },
  {
   "cell_type": "code",
   "execution_count": 2,
   "id": "59273b87-a710-49a8-a58b-0e1cc121c84a",
   "metadata": {
    "tags": []
   },
   "outputs": [],
   "source": [
    "cwd = os.getcwd()\n",
    "dataset_dir = os.path.join(cwd,'Dataset')\n",
    "df = pd.read_csv(os.path.join(dataset_dir,'BuzzFeed Dataset.csv'))"
   ]
  },
  {
   "cell_type": "code",
   "execution_count": null,
   "id": "42612aa6-e6d0-4199-9429-0cf9a997a1b8",
   "metadata": {},
   "outputs": [],
   "source": [
    "df_true = pd.read_csv(os.path.join(dataset_dir,'BuzzFeed_real_news_content.csv'))\n",
    "df_false = pd.read_csv(os.path.join(dataset_dir,'BuzzFeed_fake_news_content.csv'))"
   ]
  },
  {
   "cell_type": "raw",
   "id": "1b4066e7-811c-4586-9110-dcebe52e2121",
   "metadata": {},
   "source": [
    "Problem Description\n",
    "The authenticity of Information has become a longstanding issue affecting businesses and society, both for printed and digital media. On social networks, the reach and effects of information spread occur at such a fast pace and so amplified that distorted, inaccurate, or false information acquires a tremendous potential to cause real-world impacts, within minutes, for millions of users. Recently, several public concerns about this problem and some approaches to mitigate the problem were expressed.\n",
    "\n",
    "Data- Description:\n",
    "There are 4 columns in the dataset provided to you. The description of each of the column is given below: \n",
    "“Unnamed:0”: It is a serial number \n",
    "“headline”: It is the title of the news. \n",
    "“news”: It contains the full text of the news article \n",
    "“label”: It tells whether the news is fake (1) or not fake (0)."
   ]
  },
  {
   "cell_type": "code",
   "execution_count": null,
   "id": "8a53f245-a2e0-454d-8a10-f761d8d55054",
   "metadata": {
    "tags": []
   },
   "outputs": [],
   "source": [
    "print(\"True Dataset shape:\", df_true.shape)\n",
    "print(\"Fake Dataset shape:\", df_false.shape)"
   ]
  },
  {
   "cell_type": "code",
   "execution_count": null,
   "id": "c16471eb-4c61-4c92-aede-652ef5436006",
   "metadata": {
    "tags": []
   },
   "outputs": [],
   "source": [
    "df_true.head()"
   ]
  },
  {
   "cell_type": "code",
   "execution_count": null,
   "id": "cf327053-a62c-4ef5-bf9b-d259d9993d3d",
   "metadata": {
    "tags": []
   },
   "outputs": [],
   "source": [
    "df_false.head()"
   ]
  },
  {
   "cell_type": "code",
   "execution_count": null,
   "id": "f0e5cb3d-5b21-4be8-b21f-2566a6d6f3d2",
   "metadata": {
    "tags": []
   },
   "outputs": [],
   "source": [
    "unnamed_columns = [col for col in df_true.columns if search(r'^Unnamed', col)]\n",
    "\n",
    "df_true = df_true.drop(unnamed_columns, axis=1)\n",
    "\n",
    "df_true.head()"
   ]
  },
  {
   "cell_type": "code",
   "execution_count": null,
   "id": "caa7b66b-d0e3-423e-8cea-fedd5c38a132",
   "metadata": {
    "tags": []
   },
   "outputs": [],
   "source": [
    "unnamed_columns = [col for col in df_false.columns if search(r'^Unnamed', col)]\n",
    "\n",
    "df_false = df_false.drop(unnamed_columns, axis=1)\n",
    "\n",
    "df_false.head()"
   ]
  },
  {
   "cell_type": "code",
   "execution_count": null,
   "id": "4c5d9099-d9c8-41c5-8ff0-f4734327345b",
   "metadata": {
    "tags": []
   },
   "outputs": [],
   "source": [
    "df_true = df_true.drop(columns=df_true.columns.difference(['id','title','text','authors']))\n",
    "df_true.shape"
   ]
  },
  {
   "cell_type": "code",
   "execution_count": null,
   "id": "c98d2df8-1c7e-4f95-9b4f-935d8922a81d",
   "metadata": {
    "tags": []
   },
   "outputs": [],
   "source": [
    "df_false = df_false.drop(columns=df_false.columns.difference(['id','title','text','authors']))\n",
    "df_false.shape"
   ]
  },
  {
   "cell_type": "code",
   "execution_count": null,
   "id": "b5f83ad7-b7da-4a1c-9b97-384696e9c47b",
   "metadata": {
    "tags": []
   },
   "outputs": [],
   "source": [
    "df_true['label']=0\n",
    "df_true.head()"
   ]
  },
  {
   "cell_type": "code",
   "execution_count": null,
   "id": "8a11a45c-c9e5-4385-b160-81d966b8d9d4",
   "metadata": {
    "tags": []
   },
   "outputs": [],
   "source": [
    "df_false['label']=1\n",
    "df_false.head()"
   ]
  },
  {
   "cell_type": "code",
   "execution_count": null,
   "id": "7d39fe0e-cbe6-43b9-b524-3b4ba74b85ba",
   "metadata": {
    "tags": []
   },
   "outputs": [],
   "source": [
    "df = pd.concat([df_true, df_false], axis=0)\n",
    "df = df.sample(frac=1, random_state=1973)\n",
    "df.head()"
   ]
  },
  {
   "cell_type": "code",
   "execution_count": 3,
   "id": "5fdc2a06-40df-4788-8f34-57f6cba2e326",
   "metadata": {
    "tags": []
   },
   "outputs": [
    {
     "name": "stdout",
     "output_type": "stream",
     "text": [
      "Dataset shape: (101, 4)\n"
     ]
    }
   ],
   "source": [
    "print(\"Dataset shape:\", df.shape)"
   ]
  },
  {
   "cell_type": "code",
   "execution_count": 4,
   "id": "4ebc4566-fa13-44b1-ae26-ac8220350c06",
   "metadata": {
    "tags": []
   },
   "outputs": [],
   "source": [
    "news = 'text'\n",
    "headline = 'title'"
   ]
  },
  {
   "cell_type": "markdown",
   "id": "8d1dc672-6757-4ea0-bcdf-c4b7d639ddb9",
   "metadata": {},
   "source": [
    "Cleaning the data"
   ]
  },
  {
   "cell_type": "markdown",
   "id": "9d7f7b84-6a64-452d-8d57-21551226ff07",
   "metadata": {},
   "source": [
    "Checking for missing data"
   ]
  },
  {
   "cell_type": "code",
   "execution_count": 5,
   "id": "29d2fe9c-be52-480a-be01-324e6e05645f",
   "metadata": {
    "tags": []
   },
   "outputs": [
    {
     "name": "stdout",
     "output_type": "stream",
     "text": [
      "<class 'pandas.core.frame.DataFrame'>\n",
      "RangeIndex: 101 entries, 0 to 100\n",
      "Data columns (total 4 columns):\n",
      " #   Column  Non-Null Count  Dtype \n",
      "---  ------  --------------  ----- \n",
      " 0   id      101 non-null    object\n",
      " 1   text    101 non-null    object\n",
      " 2   title   101 non-null    object\n",
      " 3   label   101 non-null    int64 \n",
      "dtypes: int64(1), object(3)\n",
      "memory usage: 3.3+ KB\n"
     ]
    }
   ],
   "source": [
    "df.info()"
   ]
  },
  {
   "cell_type": "code",
   "execution_count": 6,
   "id": "155a8fce-02a6-4d81-92ff-a97826c1c3c4",
   "metadata": {
    "tags": []
   },
   "outputs": [
    {
     "data": {
      "text/plain": [
       "0    53\n",
       "1    48\n",
       "Name: label, dtype: int64"
      ]
     },
     "execution_count": 6,
     "metadata": {},
     "output_type": "execute_result"
    }
   ],
   "source": [
    "df.label.value_counts()"
   ]
  },
  {
   "cell_type": "markdown",
   "id": "f092ca0c-3636-4648-bfbe-570933030679",
   "metadata": {},
   "source": [
    "This confirms that 0 label is used for true news and 1 label is used for fake news"
   ]
  },
  {
   "cell_type": "code",
   "execution_count": 7,
   "id": "d4d5ed4c-bc29-4715-8e62-8fb98d93775b",
   "metadata": {
    "tags": []
   },
   "outputs": [
    {
     "name": "stdout",
     "output_type": "stream",
     "text": [
      "Dataset null values:\n",
      " id       0\n",
      "text     0\n",
      "title    0\n",
      "label    0\n",
      "dtype: int64\n"
     ]
    }
   ],
   "source": [
    "print('Dataset null values:\\n',df.isna().sum())"
   ]
  },
  {
   "cell_type": "code",
   "execution_count": null,
   "id": "a46fcdab-0130-4883-9600-43e2f44d8bf9",
   "metadata": {
    "tags": []
   },
   "outputs": [],
   "source": [
    "def show_tf_distribution(df, column) :\n",
    "    null = df[df[column].isna()]\n",
    "    total = len(null)\n",
    "    notfake_cnt = list(null[null['label']==0].shape)[0]\n",
    "    fake_cnt = list(null[null['label']==1].shape)[0]\n",
    "    \n",
    "    print('Null Values distribution for \\''+column+'\\' on basis for realness')\n",
    "    print('Total:\\t',total)\n",
    "    print('Real %:\\t',format(((notfake_cnt/total)*100),'.2f'))\n",
    "    print('Fake %:\\t',format(((fake_cnt/total)*100),'.2f'))"
   ]
  },
  {
   "cell_type": "code",
   "execution_count": null,
   "id": "4c25e9d8-27e2-4bb2-8bdf-7c033a3069fa",
   "metadata": {
    "tags": []
   },
   "outputs": [],
   "source": [
    "show_tf_distribution(df, news)"
   ]
  },
  {
   "cell_type": "code",
   "execution_count": null,
   "id": "6f44aa54-bda5-452a-8208-625b16fd258e",
   "metadata": {
    "tags": []
   },
   "outputs": [],
   "source": [
    "show_tf_distribution(df, headline)"
   ]
  },
  {
   "cell_type": "markdown",
   "id": "9f07160f-a64f-491a-84ec-22c5981caba6",
   "metadata": {},
   "source": [
    "As every instance of missing value almost always indicates a fake news article, missing value/information can be an identifying factor. Hence not dropping rows with null values."
   ]
  },
  {
   "cell_type": "markdown",
   "id": "c4b8cadf-5911-4d1b-9f8b-01df372b7aed",
   "metadata": {},
   "source": [
    "Checking for placeholder values and duplicates"
   ]
  },
  {
   "cell_type": "code",
   "execution_count": 8,
   "id": "f625b078-e9d3-4f5c-977f-7fda79315213",
   "metadata": {
    "tags": []
   },
   "outputs": [
    {
     "data": {
      "text/plain": [
       "Series([], Name: title, dtype: int64)"
      ]
     },
     "execution_count": 8,
     "metadata": {},
     "output_type": "execute_result"
    }
   ],
   "source": [
    "headline_value_counts = df[headline].value_counts()\n",
    "headline_value_counts[headline_value_counts > 1]"
   ]
  },
  {
   "cell_type": "code",
   "execution_count": 9,
   "id": "8431dd6b-fe42-41be-9f35-d29509013d88",
   "metadata": {
    "tags": []
   },
   "outputs": [
    {
     "data": {
      "text/html": [
       "<div>\n",
       "<style scoped>\n",
       "    .dataframe tbody tr th:only-of-type {\n",
       "        vertical-align: middle;\n",
       "    }\n",
       "\n",
       "    .dataframe tbody tr th {\n",
       "        vertical-align: top;\n",
       "    }\n",
       "\n",
       "    .dataframe thead th {\n",
       "        text-align: right;\n",
       "    }\n",
       "</style>\n",
       "<table border=\"1\" class=\"dataframe\">\n",
       "  <thead>\n",
       "    <tr style=\"text-align: right;\">\n",
       "      <th></th>\n",
       "      <th>id</th>\n",
       "      <th>text</th>\n",
       "      <th>title</th>\n",
       "      <th>label</th>\n",
       "    </tr>\n",
       "  </thead>\n",
       "  <tbody>\n",
       "  </tbody>\n",
       "</table>\n",
       "</div>"
      ],
      "text/plain": [
       "Empty DataFrame\n",
       "Columns: [id, text, title, label]\n",
       "Index: []"
      ]
     },
     "execution_count": 9,
     "metadata": {},
     "output_type": "execute_result"
    }
   ],
   "source": [
    "duplicate_headline_list = set(headline_value_counts[headline_value_counts > 1].keys())\n",
    "df_dup_headline = df[df[headline].isin(duplicate_headline_list)]\n",
    "df_dup_headline"
   ]
  },
  {
   "cell_type": "code",
   "execution_count": 10,
   "id": "22b32f75-e1a4-4e52-976f-67caff90140d",
   "metadata": {
    "tags": []
   },
   "outputs": [
    {
     "data": {
      "text/html": [
       "<div>\n",
       "<style scoped>\n",
       "    .dataframe tbody tr th:only-of-type {\n",
       "        vertical-align: middle;\n",
       "    }\n",
       "\n",
       "    .dataframe tbody tr th {\n",
       "        vertical-align: top;\n",
       "    }\n",
       "\n",
       "    .dataframe thead th {\n",
       "        text-align: right;\n",
       "    }\n",
       "</style>\n",
       "<table border=\"1\" class=\"dataframe\">\n",
       "  <thead>\n",
       "    <tr style=\"text-align: right;\">\n",
       "      <th></th>\n",
       "      <th>id</th>\n",
       "      <th>text</th>\n",
       "      <th>title</th>\n",
       "      <th>label</th>\n",
       "    </tr>\n",
       "  </thead>\n",
       "  <tbody>\n",
       "  </tbody>\n",
       "</table>\n",
       "</div>"
      ],
      "text/plain": [
       "Empty DataFrame\n",
       "Columns: [id, text, title, label]\n",
       "Index: []"
      ]
     },
     "execution_count": 10,
     "metadata": {},
     "output_type": "execute_result"
    }
   ],
   "source": [
    "df_dup_headline[df_dup_headline.duplicated()]"
   ]
  },
  {
   "cell_type": "markdown",
   "id": "b59e2752-c265-43f1-bc4e-ab85c9fc1f4e",
   "metadata": {},
   "source": [
    "There are no duplicated rows that needs to be deleted"
   ]
  },
  {
   "cell_type": "code",
   "execution_count": 11,
   "id": "450a2df2-5b9a-4818-b55c-447423d773e6",
   "metadata": {
    "tags": []
   },
   "outputs": [
    {
     "data": {
      "text/html": [
       "<div>\n",
       "<style scoped>\n",
       "    .dataframe tbody tr th:only-of-type {\n",
       "        vertical-align: middle;\n",
       "    }\n",
       "\n",
       "    .dataframe tbody tr th {\n",
       "        vertical-align: top;\n",
       "    }\n",
       "\n",
       "    .dataframe thead th {\n",
       "        text-align: right;\n",
       "    }\n",
       "</style>\n",
       "<table border=\"1\" class=\"dataframe\">\n",
       "  <thead>\n",
       "    <tr style=\"text-align: right;\">\n",
       "      <th></th>\n",
       "      <th>id</th>\n",
       "      <th>text</th>\n",
       "      <th>title</th>\n",
       "      <th>label</th>\n",
       "    </tr>\n",
       "  </thead>\n",
       "  <tbody>\n",
       "  </tbody>\n",
       "</table>\n",
       "</div>"
      ],
      "text/plain": [
       "Empty DataFrame\n",
       "Columns: [id, text, title, label]\n",
       "Index: []"
      ]
     },
     "execution_count": 11,
     "metadata": {},
     "output_type": "execute_result"
    }
   ],
   "source": [
    "df_dup_headline[df_dup_headline.duplicated([news])]"
   ]
  },
  {
   "cell_type": "markdown",
   "id": "4a15fc25-d386-4bec-b524-49fc15262990",
   "metadata": {},
   "source": [
    "There are 4 rows with duplicated text"
   ]
  },
  {
   "cell_type": "code",
   "execution_count": 12,
   "id": "bec0e5ad-cf48-4636-ad84-613aea202f88",
   "metadata": {
    "tags": []
   },
   "outputs": [
    {
     "data": {
      "text/html": [
       "<div>\n",
       "<style scoped>\n",
       "    .dataframe tbody tr th:only-of-type {\n",
       "        vertical-align: middle;\n",
       "    }\n",
       "\n",
       "    .dataframe tbody tr th {\n",
       "        vertical-align: top;\n",
       "    }\n",
       "\n",
       "    .dataframe thead th {\n",
       "        text-align: right;\n",
       "    }\n",
       "</style>\n",
       "<table border=\"1\" class=\"dataframe\">\n",
       "  <thead>\n",
       "    <tr style=\"text-align: right;\">\n",
       "      <th></th>\n",
       "      <th>id</th>\n",
       "      <th>text</th>\n",
       "      <th>title</th>\n",
       "      <th>label</th>\n",
       "    </tr>\n",
       "  </thead>\n",
       "  <tbody>\n",
       "  </tbody>\n",
       "</table>\n",
       "</div>"
      ],
      "text/plain": [
       "Empty DataFrame\n",
       "Columns: [id, text, title, label]\n",
       "Index: []"
      ]
     },
     "execution_count": 12,
     "metadata": {},
     "output_type": "execute_result"
    }
   ],
   "source": [
    "df_dup_headline[df_dup_headline.duplicated([headline, news])]"
   ]
  },
  {
   "cell_type": "markdown",
   "id": "b769effc-6ca6-4d44-bcf2-6df81e5240bd",
   "metadata": {},
   "source": [
    "There are 4 rows with both headlines and news duplicated. These needs to be removed."
   ]
  },
  {
   "cell_type": "code",
   "execution_count": 13,
   "id": "8fd5bb54-5e78-46c0-8b78-96477d3d3735",
   "metadata": {
    "tags": []
   },
   "outputs": [
    {
     "data": {
      "text/html": [
       "<div>\n",
       "<style scoped>\n",
       "    .dataframe tbody tr th:only-of-type {\n",
       "        vertical-align: middle;\n",
       "    }\n",
       "\n",
       "    .dataframe tbody tr th {\n",
       "        vertical-align: top;\n",
       "    }\n",
       "\n",
       "    .dataframe thead th {\n",
       "        text-align: right;\n",
       "    }\n",
       "</style>\n",
       "<table border=\"1\" class=\"dataframe\">\n",
       "  <thead>\n",
       "    <tr style=\"text-align: right;\">\n",
       "      <th></th>\n",
       "      <th>id</th>\n",
       "      <th>text</th>\n",
       "      <th>title</th>\n",
       "      <th>label</th>\n",
       "    </tr>\n",
       "  </thead>\n",
       "  <tbody>\n",
       "  </tbody>\n",
       "</table>\n",
       "</div>"
      ],
      "text/plain": [
       "Empty DataFrame\n",
       "Columns: [id, text, title, label]\n",
       "Index: []"
      ]
     },
     "execution_count": 13,
     "metadata": {},
     "output_type": "execute_result"
    }
   ],
   "source": [
    "df_dup_headline[df_dup_headline[news] == ' ']"
   ]
  },
  {
   "cell_type": "markdown",
   "id": "4b2396d9-6c77-4d0e-88c9-ac80dd40c9fb",
   "metadata": {},
   "source": [
    "We can leave duplicate headlines as that is a common part of news when it undergoes revision but those instances where both headline and news articles are same needs to be dropped. Rows without news will also be removed."
   ]
  },
  {
   "cell_type": "markdown",
   "id": "5810de32-adf3-41f3-bbeb-9a5c9dd8612d",
   "metadata": {},
   "source": [
    "Checking news for whitespaces."
   ]
  },
  {
   "cell_type": "code",
   "execution_count": 14,
   "id": "d7505a03-38c3-4d38-a7b8-d0075ef4189a",
   "metadata": {
    "tags": []
   },
   "outputs": [
    {
     "data": {
      "text/html": [
       "<div>\n",
       "<style scoped>\n",
       "    .dataframe tbody tr th:only-of-type {\n",
       "        vertical-align: middle;\n",
       "    }\n",
       "\n",
       "    .dataframe tbody tr th {\n",
       "        vertical-align: top;\n",
       "    }\n",
       "\n",
       "    .dataframe thead th {\n",
       "        text-align: right;\n",
       "    }\n",
       "</style>\n",
       "<table border=\"1\" class=\"dataframe\">\n",
       "  <thead>\n",
       "    <tr style=\"text-align: right;\">\n",
       "      <th></th>\n",
       "      <th>id</th>\n",
       "      <th>text</th>\n",
       "      <th>title</th>\n",
       "      <th>label</th>\n",
       "    </tr>\n",
       "  </thead>\n",
       "  <tbody>\n",
       "  </tbody>\n",
       "</table>\n",
       "</div>"
      ],
      "text/plain": [
       "Empty DataFrame\n",
       "Columns: [id, text, title, label]\n",
       "Index: []"
      ]
     },
     "execution_count": 14,
     "metadata": {},
     "output_type": "execute_result"
    }
   ],
   "source": [
    "df[df[news] == ' ']"
   ]
  },
  {
   "cell_type": "markdown",
   "id": "fba6e566-7425-49a5-aabe-db6285748a2f",
   "metadata": {},
   "source": [
    "Replacing white spaces with null."
   ]
  },
  {
   "cell_type": "code",
   "execution_count": 15,
   "id": "378de3ca-8262-4cdf-93e3-718ddbe5dcbb",
   "metadata": {
    "tags": []
   },
   "outputs": [],
   "source": [
    "df = df.replace(r'^\\s*$', np.nan, regex=True)"
   ]
  },
  {
   "cell_type": "code",
   "execution_count": 16,
   "id": "084626a9-1529-4943-a545-f435decd04b5",
   "metadata": {
    "tags": []
   },
   "outputs": [
    {
     "data": {
      "text/plain": [
       "id       0\n",
       "text     0\n",
       "title    0\n",
       "label    0\n",
       "dtype: int64"
      ]
     },
     "execution_count": 16,
     "metadata": {},
     "output_type": "execute_result"
    }
   ],
   "source": [
    "df.isna().sum()"
   ]
  },
  {
   "cell_type": "markdown",
   "id": "6704c8b2-e6e5-4aaf-8cb3-3700cc8e2fdf",
   "metadata": {},
   "source": [
    "This shows that there is increase in null values in column news as we replace articles that only had null values."
   ]
  },
  {
   "cell_type": "code",
   "execution_count": null,
   "id": "24ae4853-327f-41e4-9109-51f15597451b",
   "metadata": {
    "tags": []
   },
   "outputs": [],
   "source": [
    "show_tf_distribution(df, news)"
   ]
  },
  {
   "cell_type": "markdown",
   "id": "b2b83d6c-1861-4227-b509-6f6b1e1cd9da",
   "metadata": {},
   "source": [
    "The distribution shows that all null news values still point to fake news. As these values are small compared to total dataset size, dropping them might be preferable."
   ]
  },
  {
   "cell_type": "markdown",
   "id": "f9c6dcc7-ff49-4887-a4ec-144b85a67914",
   "metadata": {},
   "source": [
    "Removing Duplicated Data"
   ]
  },
  {
   "cell_type": "code",
   "execution_count": 18,
   "id": "52fa033b-d432-447d-8e73-5d3112a98b9a",
   "metadata": {
    "tags": []
   },
   "outputs": [
    {
     "data": {
      "text/plain": [
       "101"
      ]
     },
     "execution_count": 18,
     "metadata": {},
     "output_type": "execute_result"
    }
   ],
   "source": [
    "len(df)"
   ]
  },
  {
   "cell_type": "markdown",
   "id": "a22dcd1b-b9c8-4cdf-9791-5a037ee489b6",
   "metadata": {},
   "source": [
    "Dropping rows with no news article or headlines"
   ]
  },
  {
   "cell_type": "code",
   "execution_count": 19,
   "id": "7798d3db-d8a1-435c-8df5-3caeaab5f4ca",
   "metadata": {
    "tags": []
   },
   "outputs": [],
   "source": [
    "df_clean = df.dropna(subset=[headline,news])"
   ]
  },
  {
   "cell_type": "code",
   "execution_count": 20,
   "id": "c8ac7b8d-0ba4-4480-9aba-517a63066585",
   "metadata": {
    "tags": []
   },
   "outputs": [
    {
     "data": {
      "text/plain": [
       "101"
      ]
     },
     "execution_count": 20,
     "metadata": {},
     "output_type": "execute_result"
    }
   ],
   "source": [
    "len(df_clean)"
   ]
  },
  {
   "cell_type": "markdown",
   "id": "525859fa-7fdc-4b58-8a77-5f7de7624802",
   "metadata": {},
   "source": [
    "Dropping rows with same headline and news articles"
   ]
  },
  {
   "cell_type": "code",
   "execution_count": 21,
   "id": "ffb3f1dc-6d92-49ed-8829-79d34dbc4ea1",
   "metadata": {
    "tags": []
   },
   "outputs": [],
   "source": [
    "df_clean = df_clean.drop_duplicates([headline, news], ignore_index=True)"
   ]
  },
  {
   "cell_type": "code",
   "execution_count": 22,
   "id": "96577c11-ef9f-4ab4-8b01-a31ea7895787",
   "metadata": {
    "tags": []
   },
   "outputs": [
    {
     "data": {
      "text/plain": [
       "101"
      ]
     },
     "execution_count": 22,
     "metadata": {},
     "output_type": "execute_result"
    }
   ],
   "source": [
    "len(df_clean)"
   ]
  },
  {
   "cell_type": "markdown",
   "id": "a1e25978-6106-47e7-9cf0-c8c1fae9728a",
   "metadata": {},
   "source": [
    "Dropping rows with same news articles"
   ]
  },
  {
   "cell_type": "code",
   "execution_count": 23,
   "id": "c1dbcb2a-ce35-4925-942d-12e385b27545",
   "metadata": {
    "tags": []
   },
   "outputs": [],
   "source": [
    "df_clean = df_clean.drop_duplicates([news], ignore_index=True)"
   ]
  },
  {
   "cell_type": "code",
   "execution_count": 24,
   "id": "8992de9e-e06f-4502-83e0-ab133af7d59a",
   "metadata": {
    "tags": []
   },
   "outputs": [
    {
     "name": "stdout",
     "output_type": "stream",
     "text": [
      "<class 'pandas.core.frame.DataFrame'>\n",
      "RangeIndex: 101 entries, 0 to 100\n",
      "Data columns (total 4 columns):\n",
      " #   Column  Non-Null Count  Dtype \n",
      "---  ------  --------------  ----- \n",
      " 0   id      101 non-null    object\n",
      " 1   text    101 non-null    object\n",
      " 2   title   101 non-null    object\n",
      " 3   label   101 non-null    int64 \n",
      "dtypes: int64(1), object(3)\n",
      "memory usage: 3.3+ KB\n"
     ]
    }
   ],
   "source": [
    "df_clean.info()"
   ]
  },
  {
   "cell_type": "code",
   "execution_count": 25,
   "id": "7de1c9a6-de05-49f7-83d0-381539589664",
   "metadata": {
    "tags": []
   },
   "outputs": [
    {
     "data": {
      "text/plain": [
       "id       0\n",
       "text     0\n",
       "title    0\n",
       "label    0\n",
       "dtype: int64"
      ]
     },
     "execution_count": 25,
     "metadata": {},
     "output_type": "execute_result"
    }
   ],
   "source": [
    "df_clean.isna().sum()"
   ]
  },
  {
   "cell_type": "code",
   "execution_count": 26,
   "id": "6e582c98-229c-44dc-a762-7af350cadc30",
   "metadata": {
    "tags": []
   },
   "outputs": [
    {
     "data": {
      "text/plain": [
       "0"
      ]
     },
     "execution_count": 26,
     "metadata": {},
     "output_type": "execute_result"
    }
   ],
   "source": [
    "len(df) - len(df_clean)"
   ]
  },
  {
   "cell_type": "code",
   "execution_count": 27,
   "id": "941c59d7-d451-4154-bba7-5d36269f3f62",
   "metadata": {
    "tags": []
   },
   "outputs": [
    {
     "data": {
      "text/plain": [
       "0    53\n",
       "1    48\n",
       "Name: label, dtype: int64"
      ]
     },
     "execution_count": 27,
     "metadata": {},
     "output_type": "execute_result"
    }
   ],
   "source": [
    "df_clean.label.value_counts()"
   ]
  },
  {
   "cell_type": "markdown",
   "id": "5175b06e-2f0d-4c4f-bfc0-9f65e742354e",
   "metadata": {},
   "source": [
    "Summary"
   ]
  },
  {
   "cell_type": "markdown",
   "id": "152f01dc-b4c8-4b27-ac7d-d8a06000500c",
   "metadata": {},
   "source": [
    "0 rows of data removed on basis of not having information in news column, headline column and or having duplicate values."
   ]
  },
  {
   "cell_type": "markdown",
   "id": "72904b6e-7100-4850-8355-a11d9df027e4",
   "metadata": {
    "tags": []
   },
   "source": [
    "Exploring the dataset"
   ]
  },
  {
   "cell_type": "markdown",
   "id": "a488a9a2-98a8-4e49-9cdb-2fb4d5619449",
   "metadata": {},
   "source": [
    "Helper Function"
   ]
  },
  {
   "cell_type": "code",
   "execution_count": 28,
   "id": "bd7167d1-55dd-4f61-88fe-022f60653e34",
   "metadata": {
    "tags": []
   },
   "outputs": [],
   "source": [
    "graph_dir = os.path.join(cwd,'Graphs')"
   ]
  },
  {
   "cell_type": "code",
   "execution_count": 29,
   "id": "aa474705-f58e-4d2f-a27f-75eddc9c3506",
   "metadata": {
    "tags": []
   },
   "outputs": [],
   "source": [
    "def show_hist_for_col(df, column, title):\n",
    "    \"\"\"\n",
    "    Display a histogram for a column in a dataframe, splitting the data by label.\n",
    "    \"\"\"\n",
    "    plt.figure(figsize=(12,8))\n",
    "    df[df.label == 0][column].hist(label='True')\n",
    "    df[df.label == 1][column].hist(alpha=0.4, label='Fake')\n",
    "    plt.title(title)\n",
    "    plt.legend()\n",
    "    plt.savefig(os.path.join(graph_dir,title+'.png'), bbox_inches='tight')\n",
    "    plt.show()\n",
    "    plt.close()"
   ]
  },
  {
   "cell_type": "markdown",
   "id": "d15f4fca-b153-407f-a960-759861d2a33a",
   "metadata": {},
   "source": [
    "Distribution of Labels"
   ]
  },
  {
   "cell_type": "code",
   "execution_count": 30,
   "id": "121a07ce-022b-4802-a38d-9daabd1ccfce",
   "metadata": {
    "tags": []
   },
   "outputs": [
    {
     "data": {
      "image/png": "[encoded data removed]",
      "text/plain": [
       "<Figure size 1200x800 with 1 Axes>"
      ]
     },
     "metadata": {},
     "output_type": "display_data"
    }
   ],
   "source": [
    "plt.figure(figsize=(12,8))\n",
    "df_clean.label.hist()\n",
    "title = 'Fake or True News'\n",
    "plt.title(title)\n",
    "plt.savefig(os.path.join(graph_dir,title+'.png'), bbox_inches='tight')\n",
    "plt.show()\n",
    "plt.close()"
   ]
  },
  {
   "cell_type": "markdown",
   "id": "ae8d8f93-da85-4ed9-b622-e5be53e51e19",
   "metadata": {},
   "source": [
    "After cleaning the data there is an imbalance present but hopefully not enough to have effect on the models"
   ]
  },
  {
   "cell_type": "markdown",
   "id": "cb1b4800-4d17-4e46-b75d-dba885053961",
   "metadata": {},
   "source": [
    "Length of Headlines"
   ]
  },
  {
   "cell_type": "code",
   "execution_count": 31,
   "id": "f1da7d7d-c4f9-4f10-a79c-9fdbed28156f",
   "metadata": {
    "tags": []
   },
   "outputs": [],
   "source": [
    "df_clean['headline_len'] = df_clean[headline].str.len()"
   ]
  },
  {
   "cell_type": "code",
   "execution_count": 32,
   "id": "d7cbcca0-db47-4fab-9bc2-844eb0261a51",
   "metadata": {
    "tags": []
   },
   "outputs": [
    {
     "data": {
      "image/png": "[encoded data removed]",
      "text/plain": [
       "<Figure size 1200x800 with 1 Axes>"
      ]
     },
     "metadata": {},
     "output_type": "display_data"
    }
   ],
   "source": [
    "show_hist_for_col(df_clean, 'headline_len', 'Number of Characters in Headline')"
   ]
  },
  {
   "cell_type": "code",
   "execution_count": 33,
   "id": "0bb18494-d45c-4e09-9422-6ab2b3477787",
   "metadata": {
    "tags": []
   },
   "outputs": [
    {
     "data": {
      "text/plain": [
       "count    53.000000\n",
       "mean     59.490566\n",
       "std      20.620772\n",
       "min      19.000000\n",
       "25%      41.000000\n",
       "50%      59.000000\n",
       "75%      79.000000\n",
       "max      95.000000\n",
       "Name: headline_len, dtype: float64"
      ]
     },
     "execution_count": 33,
     "metadata": {},
     "output_type": "execute_result"
    }
   ],
   "source": [
    "df_clean[df_clean.label == 0].headline_len.describe()"
   ]
  },
  {
   "cell_type": "code",
   "execution_count": 34,
   "id": "fda04288-7529-4d57-a7ed-a673b185fc88",
   "metadata": {
    "tags": []
   },
   "outputs": [
    {
     "data": {
      "text/plain": [
       "count     48.0000\n",
       "mean      71.5000\n",
       "std       20.3135\n",
       "min       29.0000\n",
       "25%       60.7500\n",
       "50%       71.0000\n",
       "75%       78.7500\n",
       "max      126.0000\n",
       "Name: headline_len, dtype: float64"
      ]
     },
     "execution_count": 34,
     "metadata": {},
     "output_type": "execute_result"
    }
   ],
   "source": [
    "df_clean[df_clean.label == 1].headline_len.describe()"
   ]
  },
  {
   "cell_type": "markdown",
   "id": "0c7d0f24-6104-484a-9d14-79d8517e595e",
   "metadata": {},
   "source": [
    "Fake news stories have a wider range in the length of title than True news stories. The quartile differences between fake news articles is much larger than in case of true news article."
   ]
  },
  {
   "cell_type": "markdown",
   "id": "65077a00-d3a6-451a-9fc5-2a3842730825",
   "metadata": {},
   "source": [
    "Length of News article"
   ]
  },
  {
   "cell_type": "code",
   "execution_count": 35,
   "id": "478c4960-9548-4506-aaf3-4bb75c9dc5df",
   "metadata": {
    "tags": []
   },
   "outputs": [],
   "source": [
    "df_clean['news_len'] = df_clean[news].str.len()"
   ]
  },
  {
   "cell_type": "code",
   "execution_count": 36,
   "id": "bbe26241-3424-45f1-a5f8-96297da6d6e3",
   "metadata": {
    "tags": []
   },
   "outputs": [
    {
     "data": {
      "image/png": "[encoded data removed]",
      "text/plain": [
       "<Figure size 1200x800 with 1 Axes>"
      ]
     },
     "metadata": {},
     "output_type": "display_data"
    }
   ],
   "source": [
    "show_hist_for_col(df_clean, 'news_len', 'Length of Text for News')"
   ]
  },
  {
   "cell_type": "code",
   "execution_count": 37,
   "id": "6f2727d0-cbdd-4b87-ab64-5da4fc70695d",
   "metadata": {
    "tags": []
   },
   "outputs": [
    {
     "data": {
      "text/plain": [
       "count       53.000000\n",
       "mean      8433.018868\n",
       "std       9342.344685\n",
       "min        520.000000\n",
       "25%       3703.000000\n",
       "50%       5659.000000\n",
       "75%       9835.000000\n",
       "max      49332.000000\n",
       "Name: news_len, dtype: float64"
      ]
     },
     "execution_count": 37,
     "metadata": {},
     "output_type": "execute_result"
    }
   ],
   "source": [
    "df_clean[df_clean.label == 0].news_len.describe()"
   ]
  },
  {
   "cell_type": "code",
   "execution_count": 38,
   "id": "7a7b23bf-bee2-4618-8785-5d156b06babe",
   "metadata": {
    "tags": []
   },
   "outputs": [
    {
     "data": {
      "text/plain": [
       "count       48.000000\n",
       "mean      2350.479167\n",
       "std       2056.558393\n",
       "min        519.000000\n",
       "25%       1282.000000\n",
       "50%       1731.000000\n",
       "75%       2468.250000\n",
       "max      12025.000000\n",
       "Name: news_len, dtype: float64"
      ]
     },
     "execution_count": 38,
     "metadata": {},
     "output_type": "execute_result"
    }
   ],
   "source": [
    "df_clean[df_clean.label == 1].news_len.describe()"
   ]
  },
  {
   "cell_type": "code",
   "execution_count": 39,
   "id": "ecf92ed5-991a-4a23-9249-ea4c49a27d87",
   "metadata": {
    "tags": []
   },
   "outputs": [],
   "source": [
    "df_long = df_clean[df_clean.news_len > 10000]"
   ]
  },
  {
   "cell_type": "code",
   "execution_count": 40,
   "id": "687e5aea-9e89-42d3-a9f1-b876ddcb227a",
   "metadata": {
    "tags": []
   },
   "outputs": [
    {
     "data": {
      "text/html": [
       "<div>\n",
       "<style scoped>\n",
       "    .dataframe tbody tr th:only-of-type {\n",
       "        vertical-align: middle;\n",
       "    }\n",
       "\n",
       "    .dataframe tbody tr th {\n",
       "        vertical-align: top;\n",
       "    }\n",
       "\n",
       "    .dataframe thead th {\n",
       "        text-align: right;\n",
       "    }\n",
       "</style>\n",
       "<table border=\"1\" class=\"dataframe\">\n",
       "  <thead>\n",
       "    <tr style=\"text-align: right;\">\n",
       "      <th></th>\n",
       "      <th>id</th>\n",
       "      <th>text</th>\n",
       "      <th>title</th>\n",
       "      <th>label</th>\n",
       "      <th>headline_len</th>\n",
       "      <th>news_len</th>\n",
       "    </tr>\n",
       "  </thead>\n",
       "  <tbody>\n",
       "    <tr>\n",
       "      <th>2</th>\n",
       "      <td>152_Real.txt</td>\n",
       "      <td>An anonymous Jane Doe filed a federal lawsuit ...</td>\n",
       "      <td>Why The New Child Rape Case Filed Against Dona...</td>\n",
       "      <td>0</td>\n",
       "      <td>77</td>\n",
       "      <td>13675</td>\n",
       "    </tr>\n",
       "    <tr>\n",
       "      <th>14</th>\n",
       "      <td>103_Real.txt</td>\n",
       "      <td>All politicians bend the truth to fit their pu...</td>\n",
       "      <td>A Week of Whoppers From Donald Trump\\n</td>\n",
       "      <td>0</td>\n",
       "      <td>37</td>\n",
       "      <td>10705</td>\n",
       "    </tr>\n",
       "    <tr>\n",
       "      <th>25</th>\n",
       "      <td>7_Fake.txt</td>\n",
       "      <td>Khizr Khan, the Muslim Gold Star father that t...</td>\n",
       "      <td>\"Clinton Cash Khizr Khan's Deep Legal Financia...</td>\n",
       "      <td>1</td>\n",
       "      <td>116</td>\n",
       "      <td>12025</td>\n",
       "    </tr>\n",
       "    <tr>\n",
       "      <th>34</th>\n",
       "      <td>116_Real.txt</td>\n",
       "      <td>Tonight, Donald J. Trump accepted the Republic...</td>\n",
       "      <td>Donald Trump's nomination is the first time Am...</td>\n",
       "      <td>0</td>\n",
       "      <td>87</td>\n",
       "      <td>15323</td>\n",
       "    </tr>\n",
       "    <tr>\n",
       "      <th>40</th>\n",
       "      <td>101_Real.txt</td>\n",
       "      <td>The list of Republicans supporting Hillary Cli...</td>\n",
       "      <td>78 Republican politicians donors and officials...</td>\n",
       "      <td>0</td>\n",
       "      <td>82</td>\n",
       "      <td>13677</td>\n",
       "    </tr>\n",
       "    <tr>\n",
       "      <th>41</th>\n",
       "      <td>131_Real.txt</td>\n",
       "      <td>Let us now address the greatest American myste...</td>\n",
       "      <td>Millions of ordinary Americans support Donald ...</td>\n",
       "      <td>0</td>\n",
       "      <td>64</td>\n",
       "      <td>12815</td>\n",
       "    </tr>\n",
       "    <tr>\n",
       "      <th>56</th>\n",
       "      <td>110_Real.txt</td>\n",
       "      <td>I like authenticity, especially as compared to...</td>\n",
       "      <td>Donald Trump 'If I lose I don't think you will...</td>\n",
       "      <td>0</td>\n",
       "      <td>66</td>\n",
       "      <td>28707</td>\n",
       "    </tr>\n",
       "    <tr>\n",
       "      <th>67</th>\n",
       "      <td>104_Real.txt</td>\n",
       "      <td>m cool with you removing me from your friends ...</td>\n",
       "      <td>An Open Letter to My Friends Who Support Donal...</td>\n",
       "      <td>0</td>\n",
       "      <td>54</td>\n",
       "      <td>10832</td>\n",
       "    </tr>\n",
       "    <tr>\n",
       "      <th>76</th>\n",
       "      <td>123_Real.txt</td>\n",
       "      <td>It seems were entering another of those stupid...</td>\n",
       "      <td>History Tells Us What Will Happen Next With Br...</td>\n",
       "      <td>0</td>\n",
       "      <td>61</td>\n",
       "      <td>14163</td>\n",
       "    </tr>\n",
       "    <tr>\n",
       "      <th>92</th>\n",
       "      <td>141_Real.txt</td>\n",
       "      <td>There is a smug style in American liberalism. ...</td>\n",
       "      <td>The smug style in American liberalism\\n</td>\n",
       "      <td>0</td>\n",
       "      <td>38</td>\n",
       "      <td>43353</td>\n",
       "    </tr>\n",
       "    <tr>\n",
       "      <th>93</th>\n",
       "      <td>133_Real.txt</td>\n",
       "      <td>People who have been added to the list since a...</td>\n",
       "      <td>More Than 160 Republicans Don't Support Donald...</td>\n",
       "      <td>0</td>\n",
       "      <td>53</td>\n",
       "      <td>20042</td>\n",
       "    </tr>\n",
       "    <tr>\n",
       "      <th>94</th>\n",
       "      <td>138_Real.txt</td>\n",
       "      <td>Some time ago, Hillary Clinton and her adviser...</td>\n",
       "      <td>The real Clinton email scandal is that a bulls...</td>\n",
       "      <td>0</td>\n",
       "      <td>83</td>\n",
       "      <td>19838</td>\n",
       "    </tr>\n",
       "    <tr>\n",
       "      <th>99</th>\n",
       "      <td>139_Real.txt</td>\n",
       "      <td>The American media, over the past year, has be...</td>\n",
       "      <td>The rise of American authoritarianism\\n</td>\n",
       "      <td>0</td>\n",
       "      <td>38</td>\n",
       "      <td>49332</td>\n",
       "    </tr>\n",
       "  </tbody>\n",
       "</table>\n",
       "</div>"
      ],
      "text/plain": [
       "              id                                               text  \\\n",
       "2   152_Real.txt  An anonymous Jane Doe filed a federal lawsuit ...   \n",
       "14  103_Real.txt  All politicians bend the truth to fit their pu...   \n",
       "25    7_Fake.txt  Khizr Khan, the Muslim Gold Star father that t...   \n",
       "34  116_Real.txt  Tonight, Donald J. Trump accepted the Republic...   \n",
       "40  101_Real.txt  The list of Republicans supporting Hillary Cli...   \n",
       "41  131_Real.txt  Let us now address the greatest American myste...   \n",
       "56  110_Real.txt  I like authenticity, especially as compared to...   \n",
       "67  104_Real.txt  m cool with you removing me from your friends ...   \n",
       "76  123_Real.txt  It seems were entering another of those stupid...   \n",
       "92  141_Real.txt  There is a smug style in American liberalism. ...   \n",
       "93  133_Real.txt  People who have been added to the list since a...   \n",
       "94  138_Real.txt  Some time ago, Hillary Clinton and her adviser...   \n",
       "99  139_Real.txt  The American media, over the past year, has be...   \n",
       "\n",
       "                                                title  label  headline_len  \\\n",
       "2   Why The New Child Rape Case Filed Against Dona...      0            77   \n",
       "14             A Week of Whoppers From Donald Trump\\n      0            37   \n",
       "25  \"Clinton Cash Khizr Khan's Deep Legal Financia...      1           116   \n",
       "34  Donald Trump's nomination is the first time Am...      0            87   \n",
       "40  78 Republican politicians donors and officials...      0            82   \n",
       "41  Millions of ordinary Americans support Donald ...      0            64   \n",
       "56  Donald Trump 'If I lose I don't think you will...      0            66   \n",
       "67  An Open Letter to My Friends Who Support Donal...      0            54   \n",
       "76  History Tells Us What Will Happen Next With Br...      0            61   \n",
       "92            The smug style in American liberalism\\n      0            38   \n",
       "93  More Than 160 Republicans Don't Support Donald...      0            53   \n",
       "94  The real Clinton email scandal is that a bulls...      0            83   \n",
       "99            The rise of American authoritarianism\\n      0            38   \n",
       "\n",
       "    news_len  \n",
       "2      13675  \n",
       "14     10705  \n",
       "25     12025  \n",
       "34     15323  \n",
       "40     13677  \n",
       "41     12815  \n",
       "56     28707  \n",
       "67     10832  \n",
       "76     14163  \n",
       "92     43353  \n",
       "93     20042  \n",
       "94     19838  \n",
       "99     49332  "
      ]
     },
     "execution_count": 40,
     "metadata": {},
     "output_type": "execute_result"
    }
   ],
   "source": [
    "df_long"
   ]
  },
  {
   "cell_type": "code",
   "execution_count": 41,
   "id": "624da3af-6944-4043-9352-fef3b7db108b",
   "metadata": {
    "tags": []
   },
   "outputs": [
    {
     "data": {
      "text/plain": [
       "0    12\n",
       "1     1\n",
       "Name: label, dtype: int64"
      ]
     },
     "execution_count": 41,
     "metadata": {},
     "output_type": "execute_result"
    }
   ],
   "source": [
    "df_long.label.value_counts()"
   ]
  },
  {
   "cell_type": "markdown",
   "id": "d1e958b6-d831-4171-8da0-172c9298edd1",
   "metadata": {
    "tags": []
   },
   "source": [
    "ok there does not seem to be bias in long stories towards either type of articles so they will be kept. also fake news article have shown much higher max story size and significantly lower quartile scores across the board."
   ]
  },
  {
   "cell_type": "markdown",
   "id": "b069f5f4-6bcf-4e54-9d12-6988d5f276c9",
   "metadata": {},
   "source": [
    "Capital letters in headline."
   ]
  },
  {
   "cell_type": "code",
   "execution_count": 42,
   "id": "f18b16f9-9f07-4a25-9fa0-787190459db9",
   "metadata": {
    "tags": []
   },
   "outputs": [],
   "source": [
    "df_clean['caps_in_headline'] = df_clean[headline].apply(lambda headline: sum(1 for char in headline if char.isupper()))"
   ]
  },
  {
   "cell_type": "code",
   "execution_count": 43,
   "id": "84e7a135-ee8b-4130-b7a3-4758e27c0adc",
   "metadata": {
    "tags": []
   },
   "outputs": [
    {
     "data": {
      "text/html": [
       "<div>\n",
       "<style scoped>\n",
       "    .dataframe tbody tr th:only-of-type {\n",
       "        vertical-align: middle;\n",
       "    }\n",
       "\n",
       "    .dataframe tbody tr th {\n",
       "        vertical-align: top;\n",
       "    }\n",
       "\n",
       "    .dataframe thead th {\n",
       "        text-align: right;\n",
       "    }\n",
       "</style>\n",
       "<table border=\"1\" class=\"dataframe\">\n",
       "  <thead>\n",
       "    <tr style=\"text-align: right;\">\n",
       "      <th></th>\n",
       "      <th>id</th>\n",
       "      <th>text</th>\n",
       "      <th>title</th>\n",
       "      <th>label</th>\n",
       "      <th>headline_len</th>\n",
       "      <th>news_len</th>\n",
       "      <th>caps_in_headline</th>\n",
       "    </tr>\n",
       "  </thead>\n",
       "  <tbody>\n",
       "    <tr>\n",
       "      <th>0</th>\n",
       "      <td>107_Real.txt</td>\n",
       "      <td>See Liberal Facebook and Conservative Facebook...</td>\n",
       "      <td>Blue Feed Red Feed\\n</td>\n",
       "      <td>0</td>\n",
       "      <td>19</td>\n",
       "      <td>1151</td>\n",
       "      <td>4</td>\n",
       "    </tr>\n",
       "    <tr>\n",
       "      <th>1</th>\n",
       "      <td>125_Real.txt</td>\n",
       "      <td>Contrary to the conventional wisdom saying tha...</td>\n",
       "      <td>\"It's Official \"\"Bernie Sanders Is Staying In ...</td>\n",
       "      <td>0</td>\n",
       "      <td>79</td>\n",
       "      <td>7740</td>\n",
       "      <td>13</td>\n",
       "    </tr>\n",
       "    <tr>\n",
       "      <th>2</th>\n",
       "      <td>152_Real.txt</td>\n",
       "      <td>An anonymous Jane Doe filed a federal lawsuit ...</td>\n",
       "      <td>Why The New Child Rape Case Filed Against Dona...</td>\n",
       "      <td>0</td>\n",
       "      <td>77</td>\n",
       "      <td>13675</td>\n",
       "      <td>14</td>\n",
       "    </tr>\n",
       "    <tr>\n",
       "      <th>3</th>\n",
       "      <td>153_Real.txt</td>\n",
       "      <td>It came together in about a week. First, the i...</td>\n",
       "      <td>Pantsuit Power flashmob video for Hillary Clin...</td>\n",
       "      <td>0</td>\n",
       "      <td>86</td>\n",
       "      <td>5102</td>\n",
       "      <td>5</td>\n",
       "    </tr>\n",
       "    <tr>\n",
       "      <th>4</th>\n",
       "      <td>115_Real.txt</td>\n",
       "      <td>Donald Trumps new campaign manager once insist...</td>\n",
       "      <td>Donald Trump's campaign manager says rape woul...</td>\n",
       "      <td>0</td>\n",
       "      <td>81</td>\n",
       "      <td>2068</td>\n",
       "      <td>2</td>\n",
       "    </tr>\n",
       "    <tr>\n",
       "      <th>...</th>\n",
       "      <td>...</td>\n",
       "      <td>...</td>\n",
       "      <td>...</td>\n",
       "      <td>...</td>\n",
       "      <td>...</td>\n",
       "      <td>...</td>\n",
       "      <td>...</td>\n",
       "    </tr>\n",
       "    <tr>\n",
       "      <th>96</th>\n",
       "      <td>28_Fake.txt</td>\n",
       "      <td>WASHINGTON, D.C.  \\n\\nFormer presidential inte...</td>\n",
       "      <td>Monica Lewinsky Says She Is Voting For Hillary...</td>\n",
       "      <td>1</td>\n",
       "      <td>55</td>\n",
       "      <td>1013</td>\n",
       "      <td>9</td>\n",
       "    </tr>\n",
       "    <tr>\n",
       "      <th>97</th>\n",
       "      <td>113_Real.txt</td>\n",
       "      <td>Donald Trump is going to be elected president....</td>\n",
       "      <td>Donald Trump Is Going To Be Elected\\n</td>\n",
       "      <td>0</td>\n",
       "      <td>36</td>\n",
       "      <td>3682</td>\n",
       "      <td>7</td>\n",
       "    </tr>\n",
       "    <tr>\n",
       "      <th>98</th>\n",
       "      <td>132_Real.txt</td>\n",
       "      <td>Park City, Utah (CNN)Mitt Romney suggested Fri...</td>\n",
       "      <td>Mitt Romney says Donald Trump will change Amer...</td>\n",
       "      <td>0</td>\n",
       "      <td>76</td>\n",
       "      <td>7593</td>\n",
       "      <td>5</td>\n",
       "    </tr>\n",
       "    <tr>\n",
       "      <th>99</th>\n",
       "      <td>139_Real.txt</td>\n",
       "      <td>The American media, over the past year, has be...</td>\n",
       "      <td>The rise of American authoritarianism\\n</td>\n",
       "      <td>0</td>\n",
       "      <td>38</td>\n",
       "      <td>49332</td>\n",
       "      <td>2</td>\n",
       "    </tr>\n",
       "    <tr>\n",
       "      <th>100</th>\n",
       "      <td>48_Fake.txt</td>\n",
       "      <td>Julian Assange, the founder of WikiLeaks, is a...</td>\n",
       "      <td>WikiLeaks CONFIRMS Hillary Sold Weapons to ISI...</td>\n",
       "      <td>1</td>\n",
       "      <td>78</td>\n",
       "      <td>3765</td>\n",
       "      <td>29</td>\n",
       "    </tr>\n",
       "  </tbody>\n",
       "</table>\n",
       "<p>101 rows × 7 columns</p>\n",
       "</div>"
      ],
      "text/plain": [
       "               id                                               text  \\\n",
       "0    107_Real.txt  See Liberal Facebook and Conservative Facebook...   \n",
       "1    125_Real.txt  Contrary to the conventional wisdom saying tha...   \n",
       "2    152_Real.txt  An anonymous Jane Doe filed a federal lawsuit ...   \n",
       "3    153_Real.txt  It came together in about a week. First, the i...   \n",
       "4    115_Real.txt  Donald Trumps new campaign manager once insist...   \n",
       "..            ...                                                ...   \n",
       "96    28_Fake.txt  WASHINGTON, D.C.  \\n\\nFormer presidential inte...   \n",
       "97   113_Real.txt  Donald Trump is going to be elected president....   \n",
       "98   132_Real.txt  Park City, Utah (CNN)Mitt Romney suggested Fri...   \n",
       "99   139_Real.txt  The American media, over the past year, has be...   \n",
       "100   48_Fake.txt  Julian Assange, the founder of WikiLeaks, is a...   \n",
       "\n",
       "                                                 title  label  headline_len  \\\n",
       "0                                 Blue Feed Red Feed\\n      0            19   \n",
       "1    \"It's Official \"\"Bernie Sanders Is Staying In ...      0            79   \n",
       "2    Why The New Child Rape Case Filed Against Dona...      0            77   \n",
       "3    Pantsuit Power flashmob video for Hillary Clin...      0            86   \n",
       "4    Donald Trump's campaign manager says rape woul...      0            81   \n",
       "..                                                 ...    ...           ...   \n",
       "96   Monica Lewinsky Says She Is Voting For Hillary...      1            55   \n",
       "97               Donald Trump Is Going To Be Elected\\n      0            36   \n",
       "98   Mitt Romney says Donald Trump will change Amer...      0            76   \n",
       "99             The rise of American authoritarianism\\n      0            38   \n",
       "100  WikiLeaks CONFIRMS Hillary Sold Weapons to ISI...      1            78   \n",
       "\n",
       "     news_len  caps_in_headline  \n",
       "0        1151                 4  \n",
       "1        7740                13  \n",
       "2       13675                14  \n",
       "3        5102                 5  \n",
       "4        2068                 2  \n",
       "..        ...               ...  \n",
       "96       1013                 9  \n",
       "97       3682                 7  \n",
       "98       7593                 5  \n",
       "99      49332                 2  \n",
       "100      3765                29  \n",
       "\n",
       "[101 rows x 7 columns]"
      ]
     },
     "execution_count": 43,
     "metadata": {},
     "output_type": "execute_result"
    }
   ],
   "source": [
    "df_clean"
   ]
  },
  {
   "cell_type": "code",
   "execution_count": 44,
   "id": "4e9fe8c3-d12f-4f5b-a46f-f7a54bf199d1",
   "metadata": {
    "tags": []
   },
   "outputs": [
    {
     "data": {
      "image/png": "[encoded data removed]",
      "text/plain": [
       "<Figure size 1200x800 with 1 Axes>"
      ]
     },
     "metadata": {},
     "output_type": "display_data"
    }
   ],
   "source": [
    "show_hist_for_col(df_clean, 'caps_in_headline', 'Number of Capitals in Headline')"
   ]
  },
  {
   "cell_type": "code",
   "execution_count": 45,
   "id": "9773a3ec-5d95-4e7d-8e77-222b37c82d8c",
   "metadata": {
    "tags": []
   },
   "outputs": [
    {
     "data": {
      "text/plain": [
       "count    53.000000\n",
       "mean      6.018868\n",
       "std       4.538259\n",
       "min       1.000000\n",
       "25%       3.000000\n",
       "50%       4.000000\n",
       "75%       8.000000\n",
       "max      26.000000\n",
       "Name: caps_in_headline, dtype: float64"
      ]
     },
     "execution_count": 45,
     "metadata": {},
     "output_type": "execute_result"
    }
   ],
   "source": [
    "df_clean[df_clean.label == 0].caps_in_headline.describe()"
   ]
  },
  {
   "cell_type": "code",
   "execution_count": 46,
   "id": "c358d5ab-46e7-438e-afe3-b191c8141f40",
   "metadata": {
    "tags": []
   },
   "outputs": [
    {
     "data": {
      "text/plain": [
       "count    48.000000\n",
       "mean     16.979167\n",
       "std      16.489184\n",
       "min       3.000000\n",
       "25%       9.000000\n",
       "50%      10.500000\n",
       "75%      18.250000\n",
       "max      87.000000\n",
       "Name: caps_in_headline, dtype: float64"
      ]
     },
     "execution_count": 46,
     "metadata": {},
     "output_type": "execute_result"
    }
   ],
   "source": [
    "df_clean[df_clean.label == 1].caps_in_headline.describe()"
   ]
  },
  {
   "cell_type": "markdown",
   "id": "0a0d6ccb-feff-4fc0-92c5-b655eaf8a840",
   "metadata": {},
   "source": [
    "There is much more deviation in number of Capital letter in headline in fake news articles. also fake news articles have much more amount of Capital letter in headline."
   ]
  },
  {
   "cell_type": "code",
   "execution_count": 47,
   "id": "99816261-6819-4655-b8b3-eb1672b912be",
   "metadata": {
    "tags": []
   },
   "outputs": [],
   "source": [
    "df_clean['norm_caps_in_headline'] = df_clean['caps_in_headline'] / df_clean['headline_len']"
   ]
  },
  {
   "cell_type": "code",
   "execution_count": 48,
   "id": "07e14af8-c5b6-453f-a572-458afda7ee9d",
   "metadata": {
    "tags": []
   },
   "outputs": [
    {
     "data": {
      "image/png": "[encoded data removed]",
      "text/plain": [
       "<Figure size 1200x800 with 1 Axes>"
      ]
     },
     "metadata": {},
     "output_type": "display_data"
    }
   ],
   "source": [
    "show_hist_for_col(df_clean, 'norm_caps_in_headline', 'Percentage of Capitals in Headline')"
   ]
  },
  {
   "cell_type": "code",
   "execution_count": 49,
   "id": "d447be6c-281d-429b-adea-02094cad8220",
   "metadata": {
    "tags": []
   },
   "outputs": [
    {
     "data": {
      "text/plain": [
       "count    53.000000\n",
       "mean      0.117381\n",
       "std       0.122373\n",
       "min       0.011364\n",
       "25%       0.052632\n",
       "50%       0.076923\n",
       "75%       0.164557\n",
       "max       0.866667\n",
       "Name: norm_caps_in_headline, dtype: float64"
      ]
     },
     "execution_count": 49,
     "metadata": {},
     "output_type": "execute_result"
    }
   ],
   "source": [
    "df_clean[df_clean.label == 0].norm_caps_in_headline.describe()"
   ]
  },
  {
   "cell_type": "code",
   "execution_count": 50,
   "id": "6fe2cab8-f92f-4c88-8bcc-7ed1e9cb6f65",
   "metadata": {
    "tags": []
   },
   "outputs": [
    {
     "data": {
      "text/plain": [
       "count    48.000000\n",
       "mean      0.246332\n",
       "std       0.229212\n",
       "min       0.034884\n",
       "25%       0.135005\n",
       "50%       0.162175\n",
       "75%       0.235184\n",
       "max       0.861386\n",
       "Name: norm_caps_in_headline, dtype: float64"
      ]
     },
     "execution_count": 50,
     "metadata": {},
     "output_type": "execute_result"
    }
   ],
   "source": [
    "df_clean[df_clean.label == 1].norm_caps_in_headline.describe()"
   ]
  },
  {
   "cell_type": "markdown",
   "id": "7d591ab2-6563-4dc3-8243-35eed3cbdc07",
   "metadata": {},
   "source": [
    "percentage of capitals may be useful as even first quartile of percentage of capitals in fake news is larger than even third quartile in true news article. but this might not be generalizable"
   ]
  },
  {
   "cell_type": "markdown",
   "id": "147671ee-2c48-44d6-a7ec-6dce13a3b2a0",
   "metadata": {},
   "source": [
    "Capital in news article"
   ]
  },
  {
   "cell_type": "code",
   "execution_count": 51,
   "id": "c2e8b3c0-0a65-434d-ab97-293e75a68b03",
   "metadata": {
    "tags": []
   },
   "outputs": [],
   "source": [
    "df_clean['caps_in_news'] = df_clean[news].apply(lambda news: sum(1 for char in news if char.isupper()))"
   ]
  },
  {
   "cell_type": "code",
   "execution_count": 52,
   "id": "c0ef71d4-0eb5-4fc3-9b45-e85f247c5935",
   "metadata": {
    "tags": []
   },
   "outputs": [
    {
     "data": {
      "image/png": "[encoded data removed]",
      "text/plain": [
       "<Figure size 1200x800 with 1 Axes>"
      ]
     },
     "metadata": {},
     "output_type": "display_data"
    }
   ],
   "source": [
    "show_hist_for_col(df_clean, 'caps_in_news', 'Number of Capitals in News')"
   ]
  },
  {
   "cell_type": "code",
   "execution_count": 53,
   "id": "076a5bb7-a9e8-48c2-943e-0983b611e4e2",
   "metadata": {
    "tags": []
   },
   "outputs": [
    {
     "data": {
      "text/plain": [
       "count      53.000000\n",
       "mean      267.660377\n",
       "std       298.024840\n",
       "min        19.000000\n",
       "25%       107.000000\n",
       "50%       159.000000\n",
       "75%       307.000000\n",
       "max      1465.000000\n",
       "Name: caps_in_news, dtype: float64"
      ]
     },
     "execution_count": 53,
     "metadata": {},
     "output_type": "execute_result"
    }
   ],
   "source": [
    "df_clean[df_clean.label == 0].caps_in_news.describe()"
   ]
  },
  {
   "cell_type": "code",
   "execution_count": 54,
   "id": "484a9074-e866-48ad-b712-518d96e406a3",
   "metadata": {
    "tags": []
   },
   "outputs": [
    {
     "data": {
      "text/plain": [
       "count     48.000000\n",
       "mean      96.937500\n",
       "std       82.735263\n",
       "min       28.000000\n",
       "25%       49.750000\n",
       "50%       75.500000\n",
       "75%      101.000000\n",
       "max      504.000000\n",
       "Name: caps_in_news, dtype: float64"
      ]
     },
     "execution_count": 54,
     "metadata": {},
     "output_type": "execute_result"
    }
   ],
   "source": [
    "df_clean[df_clean.label == 1].caps_in_news.describe()"
   ]
  },
  {
   "cell_type": "code",
   "execution_count": 55,
   "id": "a80f56c1-a963-4356-a8c6-da1b098daaf0",
   "metadata": {
    "tags": []
   },
   "outputs": [],
   "source": [
    "df_clean['norm_caps_in_news'] = df_clean['caps_in_news'] / df_clean['news_len']"
   ]
  },
  {
   "cell_type": "code",
   "execution_count": 56,
   "id": "76f74458-9c01-4435-8a02-ed4aa43fccd7",
   "metadata": {
    "tags": []
   },
   "outputs": [
    {
     "data": {
      "image/png": "[encoded data removed]",
      "text/plain": [
       "<Figure size 1200x800 with 1 Axes>"
      ]
     },
     "metadata": {},
     "output_type": "display_data"
    }
   ],
   "source": [
    "show_hist_for_col(df_clean, 'norm_caps_in_news', 'Percentage of Capitals in News')"
   ]
  },
  {
   "cell_type": "code",
   "execution_count": 57,
   "id": "a6b182f3-4c74-438d-9df5-35561ff6e6a1",
   "metadata": {
    "tags": []
   },
   "outputs": [
    {
     "data": {
      "text/plain": [
       "count    53.000000\n",
       "mean      0.033688\n",
       "std       0.015386\n",
       "min       0.017287\n",
       "25%       0.024733\n",
       "50%       0.029511\n",
       "75%       0.037954\n",
       "max       0.111537\n",
       "Name: norm_caps_in_news, dtype: float64"
      ]
     },
     "execution_count": 57,
     "metadata": {},
     "output_type": "execute_result"
    }
   ],
   "source": [
    "df_clean[df_clean.label == 0].norm_caps_in_news.describe()"
   ]
  },
  {
   "cell_type": "code",
   "execution_count": 58,
   "id": "b839c437-d2a1-49c0-b46a-b42e3b34c5ce",
   "metadata": {
    "tags": []
   },
   "outputs": [
    {
     "data": {
      "text/plain": [
       "count    48.000000\n",
       "mean      0.046219\n",
       "std       0.037564\n",
       "min       0.019192\n",
       "25%       0.032863\n",
       "50%       0.039331\n",
       "75%       0.048854\n",
       "max       0.277457\n",
       "Name: norm_caps_in_news, dtype: float64"
      ]
     },
     "execution_count": 58,
     "metadata": {},
     "output_type": "execute_result"
    }
   ],
   "source": [
    "df_clean[df_clean.label == 1].norm_caps_in_news.describe()"
   ]
  },
  {
   "cell_type": "markdown",
   "id": "fb1731dd-2256-4193-b85c-6e371a9c71d6",
   "metadata": {},
   "source": [
    "There is a lot of overlap in number of capitals in news article between fake and real news."
   ]
  },
  {
   "cell_type": "code",
   "execution_count": 59,
   "id": "8cf7d3b1-55d1-41d7-a71c-4a111b65001b",
   "metadata": {
    "tags": []
   },
   "outputs": [],
   "source": [
    "def check_string_for(substring, fullstring):\n",
    "    \"\"\"Check if the substring is in the fullstring\"\"\"\n",
    "    if search(substring, fullstring):\n",
    "        return True\n",
    "    else:\n",
    "        return False"
   ]
  },
  {
   "cell_type": "markdown",
   "id": "85541851-344c-4a80-84ce-8b3d69dbbaca",
   "metadata": {},
   "source": [
    "Via and Image Via in article"
   ]
  },
  {
   "cell_type": "code",
   "execution_count": 60,
   "id": "e6a2f245-d5c7-49f5-ade7-a1b3750fadab",
   "metadata": {
    "tags": []
   },
   "outputs": [],
   "source": [
    "df_via = df_clean[df_clean[news].apply(lambda news_text: check_string_for(' via', news_text))]"
   ]
  },
  {
   "cell_type": "code",
   "execution_count": 61,
   "id": "b1c424b5-f41f-4eab-88fe-6201d8b695e8",
   "metadata": {
    "tags": []
   },
   "outputs": [
    {
     "data": {
      "text/html": [
       "<div>\n",
       "<style scoped>\n",
       "    .dataframe tbody tr th:only-of-type {\n",
       "        vertical-align: middle;\n",
       "    }\n",
       "\n",
       "    .dataframe tbody tr th {\n",
       "        vertical-align: top;\n",
       "    }\n",
       "\n",
       "    .dataframe thead th {\n",
       "        text-align: right;\n",
       "    }\n",
       "</style>\n",
       "<table border=\"1\" class=\"dataframe\">\n",
       "  <thead>\n",
       "    <tr style=\"text-align: right;\">\n",
       "      <th></th>\n",
       "      <th>id</th>\n",
       "      <th>text</th>\n",
       "      <th>title</th>\n",
       "      <th>label</th>\n",
       "      <th>headline_len</th>\n",
       "      <th>news_len</th>\n",
       "      <th>caps_in_headline</th>\n",
       "      <th>norm_caps_in_headline</th>\n",
       "      <th>caps_in_news</th>\n",
       "      <th>norm_caps_in_news</th>\n",
       "    </tr>\n",
       "  </thead>\n",
       "  <tbody>\n",
       "    <tr>\n",
       "      <th>1</th>\n",
       "      <td>125_Real.txt</td>\n",
       "      <td>Contrary to the conventional wisdom saying tha...</td>\n",
       "      <td>\"It's Official \"\"Bernie Sanders Is Staying In ...</td>\n",
       "      <td>0</td>\n",
       "      <td>79</td>\n",
       "      <td>7740</td>\n",
       "      <td>13</td>\n",
       "      <td>0.164557</td>\n",
       "      <td>307</td>\n",
       "      <td>0.039664</td>\n",
       "    </tr>\n",
       "    <tr>\n",
       "      <th>2</th>\n",
       "      <td>152_Real.txt</td>\n",
       "      <td>An anonymous Jane Doe filed a federal lawsuit ...</td>\n",
       "      <td>Why The New Child Rape Case Filed Against Dona...</td>\n",
       "      <td>0</td>\n",
       "      <td>77</td>\n",
       "      <td>13675</td>\n",
       "      <td>14</td>\n",
       "      <td>0.181818</td>\n",
       "      <td>376</td>\n",
       "      <td>0.027495</td>\n",
       "    </tr>\n",
       "    <tr>\n",
       "      <th>5</th>\n",
       "      <td>150_Real.txt</td>\n",
       "      <td>I dont know about you, but Im getting tired of...</td>\n",
       "      <td>Why Do We Hear More About Hillary's Emails Tha...</td>\n",
       "      <td>0</td>\n",
       "      <td>80</td>\n",
       "      <td>4360</td>\n",
       "      <td>13</td>\n",
       "      <td>0.162500</td>\n",
       "      <td>91</td>\n",
       "      <td>0.020872</td>\n",
       "    </tr>\n",
       "    <tr>\n",
       "      <th>38</th>\n",
       "      <td>102_Real.txt</td>\n",
       "      <td>CLEVELAND  Avik Roy is a Republicans Republica...</td>\n",
       "      <td>A Republican intellectual explains why the Rep...</td>\n",
       "      <td>0</td>\n",
       "      <td>76</td>\n",
       "      <td>9835</td>\n",
       "      <td>4</td>\n",
       "      <td>0.052632</td>\n",
       "      <td>350</td>\n",
       "      <td>0.035587</td>\n",
       "    </tr>\n",
       "    <tr>\n",
       "      <th>40</th>\n",
       "      <td>101_Real.txt</td>\n",
       "      <td>The list of Republicans supporting Hillary Cli...</td>\n",
       "      <td>78 Republican politicians donors and officials...</td>\n",
       "      <td>0</td>\n",
       "      <td>82</td>\n",
       "      <td>13677</td>\n",
       "      <td>3</td>\n",
       "      <td>0.036585</td>\n",
       "      <td>723</td>\n",
       "      <td>0.052862</td>\n",
       "    </tr>\n",
       "    <tr>\n",
       "      <th>75</th>\n",
       "      <td>117_Real.txt</td>\n",
       "      <td>Conservatives efforts to recruit a candidate t...</td>\n",
       "      <td>Dwayne Johnson says he might want to run for p...</td>\n",
       "      <td>0</td>\n",
       "      <td>79</td>\n",
       "      <td>3947</td>\n",
       "      <td>3</td>\n",
       "      <td>0.037975</td>\n",
       "      <td>101</td>\n",
       "      <td>0.025589</td>\n",
       "    </tr>\n",
       "    <tr>\n",
       "      <th>90</th>\n",
       "      <td>9_Fake.txt</td>\n",
       "      <td>Indianapolis, IN  Some are calling Donald Trum...</td>\n",
       "      <td>Donald Trump Bombshell Ted Cruz's Wife Former ...</td>\n",
       "      <td>1</td>\n",
       "      <td>56</td>\n",
       "      <td>1888</td>\n",
       "      <td>9</td>\n",
       "      <td>0.160714</td>\n",
       "      <td>92</td>\n",
       "      <td>0.048729</td>\n",
       "    </tr>\n",
       "    <tr>\n",
       "      <th>94</th>\n",
       "      <td>138_Real.txt</td>\n",
       "      <td>Some time ago, Hillary Clinton and her adviser...</td>\n",
       "      <td>The real Clinton email scandal is that a bulls...</td>\n",
       "      <td>0</td>\n",
       "      <td>83</td>\n",
       "      <td>19838</td>\n",
       "      <td>2</td>\n",
       "      <td>0.024096</td>\n",
       "      <td>436</td>\n",
       "      <td>0.021978</td>\n",
       "    </tr>\n",
       "  </tbody>\n",
       "</table>\n",
       "</div>"
      ],
      "text/plain": [
       "              id                                               text  \\\n",
       "1   125_Real.txt  Contrary to the conventional wisdom saying tha...   \n",
       "2   152_Real.txt  An anonymous Jane Doe filed a federal lawsuit ...   \n",
       "5   150_Real.txt  I dont know about you, but Im getting tired of...   \n",
       "38  102_Real.txt  CLEVELAND  Avik Roy is a Republicans Republica...   \n",
       "40  101_Real.txt  The list of Republicans supporting Hillary Cli...   \n",
       "75  117_Real.txt  Conservatives efforts to recruit a candidate t...   \n",
       "90    9_Fake.txt  Indianapolis, IN  Some are calling Donald Trum...   \n",
       "94  138_Real.txt  Some time ago, Hillary Clinton and her adviser...   \n",
       "\n",
       "                                                title  label  headline_len  \\\n",
       "1   \"It's Official \"\"Bernie Sanders Is Staying In ...      0            79   \n",
       "2   Why The New Child Rape Case Filed Against Dona...      0            77   \n",
       "5   Why Do We Hear More About Hillary's Emails Tha...      0            80   \n",
       "38  A Republican intellectual explains why the Rep...      0            76   \n",
       "40  78 Republican politicians donors and officials...      0            82   \n",
       "75  Dwayne Johnson says he might want to run for p...      0            79   \n",
       "90  Donald Trump Bombshell Ted Cruz's Wife Former ...      1            56   \n",
       "94  The real Clinton email scandal is that a bulls...      0            83   \n",
       "\n",
       "    news_len  caps_in_headline  norm_caps_in_headline  caps_in_news  \\\n",
       "1       7740                13               0.164557           307   \n",
       "2      13675                14               0.181818           376   \n",
       "5       4360                13               0.162500            91   \n",
       "38      9835                 4               0.052632           350   \n",
       "40     13677                 3               0.036585           723   \n",
       "75      3947                 3               0.037975           101   \n",
       "90      1888                 9               0.160714            92   \n",
       "94     19838                 2               0.024096           436   \n",
       "\n",
       "    norm_caps_in_news  \n",
       "1            0.039664  \n",
       "2            0.027495  \n",
       "5            0.020872  \n",
       "38           0.035587  \n",
       "40           0.052862  \n",
       "75           0.025589  \n",
       "90           0.048729  \n",
       "94           0.021978  "
      ]
     },
     "execution_count": 61,
     "metadata": {},
     "output_type": "execute_result"
    }
   ],
   "source": [
    "df_via"
   ]
  },
  {
   "cell_type": "code",
   "execution_count": 62,
   "id": "e6d9dfb4-a8bf-4373-bf50-2ee64f67e23d",
   "metadata": {
    "tags": []
   },
   "outputs": [
    {
     "data": {
      "text/plain": [
       "0    7\n",
       "1    1\n",
       "Name: label, dtype: int64"
      ]
     },
     "execution_count": 62,
     "metadata": {},
     "output_type": "execute_result"
    }
   ],
   "source": [
    "df_via['label'].value_counts()"
   ]
  },
  {
   "cell_type": "markdown",
   "id": "588642d4-23c6-42e1-9bc9-4cfab3373492",
   "metadata": {},
   "source": [
    "Via is much more indicative of fake news article compared to true news article."
   ]
  },
  {
   "cell_type": "code",
   "execution_count": 63,
   "id": "150ef478-cb23-403b-b0ac-b56cc6d4f64d",
   "metadata": {
    "tags": []
   },
   "outputs": [],
   "source": [
    "df_image_via = df_clean[df_clean[news].apply(lambda news_text: check_string_for('image via', news_text))]"
   ]
  },
  {
   "cell_type": "code",
   "execution_count": 64,
   "id": "be585078-46d9-45a4-b14d-0ce4d6c939e3",
   "metadata": {
    "tags": []
   },
   "outputs": [
    {
     "data": {
      "text/html": [
       "<div>\n",
       "<style scoped>\n",
       "    .dataframe tbody tr th:only-of-type {\n",
       "        vertical-align: middle;\n",
       "    }\n",
       "\n",
       "    .dataframe tbody tr th {\n",
       "        vertical-align: top;\n",
       "    }\n",
       "\n",
       "    .dataframe thead th {\n",
       "        text-align: right;\n",
       "    }\n",
       "</style>\n",
       "<table border=\"1\" class=\"dataframe\">\n",
       "  <thead>\n",
       "    <tr style=\"text-align: right;\">\n",
       "      <th></th>\n",
       "      <th>id</th>\n",
       "      <th>text</th>\n",
       "      <th>title</th>\n",
       "      <th>label</th>\n",
       "      <th>headline_len</th>\n",
       "      <th>news_len</th>\n",
       "      <th>caps_in_headline</th>\n",
       "      <th>norm_caps_in_headline</th>\n",
       "      <th>caps_in_news</th>\n",
       "      <th>norm_caps_in_news</th>\n",
       "    </tr>\n",
       "  </thead>\n",
       "  <tbody>\n",
       "  </tbody>\n",
       "</table>\n",
       "</div>"
      ],
      "text/plain": [
       "Empty DataFrame\n",
       "Columns: [id, text, title, label, headline_len, news_len, caps_in_headline, norm_caps_in_headline, caps_in_news, norm_caps_in_news]\n",
       "Index: []"
      ]
     },
     "execution_count": 64,
     "metadata": {},
     "output_type": "execute_result"
    }
   ],
   "source": [
    "df_image_via"
   ]
  },
  {
   "cell_type": "code",
   "execution_count": 65,
   "id": "9064f042-60b8-4360-8000-be437e03c845",
   "metadata": {
    "tags": []
   },
   "outputs": [
    {
     "data": {
      "text/plain": [
       "Series([], Name: label, dtype: int64)"
      ]
     },
     "execution_count": 65,
     "metadata": {},
     "output_type": "execute_result"
    }
   ],
   "source": [
    "df_image_via['label'].value_counts()"
   ]
  },
  {
   "cell_type": "markdown",
   "id": "4a596c4c-b1ef-4b60-8339-d0251d9b9f7f",
   "metadata": {},
   "source": [
    "With all the posts with image via being Fake, it's highly indicative of that label, but this may be particular to this dataset and may not generalize."
   ]
  },
  {
   "cell_type": "markdown",
   "id": "5bf26baa-5882-4eb5-84bd-402992125bb0",
   "metadata": {},
   "source": [
    "Said in news article"
   ]
  },
  {
   "cell_type": "code",
   "execution_count": 66,
   "id": "53807b5d-26da-4482-a350-2a70ee6de463",
   "metadata": {
    "tags": []
   },
   "outputs": [],
   "source": [
    "df_said = df_clean[df_clean[news].apply(lambda news_text: check_string_for('said', news_text))]"
   ]
  },
  {
   "cell_type": "code",
   "execution_count": 67,
   "id": "6187b436-1e3b-4301-8e09-fadc10ddee31",
   "metadata": {
    "tags": []
   },
   "outputs": [
    {
     "data": {
      "text/html": [
       "<div>\n",
       "<style scoped>\n",
       "    .dataframe tbody tr th:only-of-type {\n",
       "        vertical-align: middle;\n",
       "    }\n",
       "\n",
       "    .dataframe tbody tr th {\n",
       "        vertical-align: top;\n",
       "    }\n",
       "\n",
       "    .dataframe thead th {\n",
       "        text-align: right;\n",
       "    }\n",
       "</style>\n",
       "<table border=\"1\" class=\"dataframe\">\n",
       "  <thead>\n",
       "    <tr style=\"text-align: right;\">\n",
       "      <th></th>\n",
       "      <th>id</th>\n",
       "      <th>text</th>\n",
       "      <th>title</th>\n",
       "      <th>label</th>\n",
       "      <th>headline_len</th>\n",
       "      <th>news_len</th>\n",
       "      <th>caps_in_headline</th>\n",
       "      <th>norm_caps_in_headline</th>\n",
       "      <th>caps_in_news</th>\n",
       "      <th>norm_caps_in_news</th>\n",
       "    </tr>\n",
       "  </thead>\n",
       "  <tbody>\n",
       "    <tr>\n",
       "      <th>2</th>\n",
       "      <td>152_Real.txt</td>\n",
       "      <td>An anonymous Jane Doe filed a federal lawsuit ...</td>\n",
       "      <td>Why The New Child Rape Case Filed Against Dona...</td>\n",
       "      <td>0</td>\n",
       "      <td>77</td>\n",
       "      <td>13675</td>\n",
       "      <td>14</td>\n",
       "      <td>0.181818</td>\n",
       "      <td>376</td>\n",
       "      <td>0.027495</td>\n",
       "    </tr>\n",
       "    <tr>\n",
       "      <th>4</th>\n",
       "      <td>115_Real.txt</td>\n",
       "      <td>Donald Trumps new campaign manager once insist...</td>\n",
       "      <td>Donald Trump's campaign manager says rape woul...</td>\n",
       "      <td>0</td>\n",
       "      <td>81</td>\n",
       "      <td>2068</td>\n",
       "      <td>2</td>\n",
       "      <td>0.024691</td>\n",
       "      <td>94</td>\n",
       "      <td>0.045455</td>\n",
       "    </tr>\n",
       "    <tr>\n",
       "      <th>6</th>\n",
       "      <td>142_Real.txt</td>\n",
       "      <td>These celebrities had some, uh, extreme respon...</td>\n",
       "      <td>These Celebrities Say They'd Leave the Country...</td>\n",
       "      <td>0</td>\n",
       "      <td>61</td>\n",
       "      <td>744</td>\n",
       "      <td>9</td>\n",
       "      <td>0.147541</td>\n",
       "      <td>39</td>\n",
       "      <td>0.052419</td>\n",
       "    </tr>\n",
       "    <tr>\n",
       "      <th>11</th>\n",
       "      <td>108_Real.txt</td>\n",
       "      <td>(CNN)The Democratic National Convention kicked...</td>\n",
       "      <td>Dems open convention without Wasserman Schultz\\n</td>\n",
       "      <td>0</td>\n",
       "      <td>47</td>\n",
       "      <td>9893</td>\n",
       "      <td>3</td>\n",
       "      <td>0.063830</td>\n",
       "      <td>409</td>\n",
       "      <td>0.041342</td>\n",
       "    </tr>\n",
       "    <tr>\n",
       "      <th>12</th>\n",
       "      <td>106_Real.txt</td>\n",
       "      <td>Former first lady Barbara Bush said Friday tha...</td>\n",
       "      <td>Barbara Bush I don’t know how women can vote f...</td>\n",
       "      <td>0</td>\n",
       "      <td>55</td>\n",
       "      <td>803</td>\n",
       "      <td>4</td>\n",
       "      <td>0.072727</td>\n",
       "      <td>37</td>\n",
       "      <td>0.046077</td>\n",
       "    </tr>\n",
       "    <tr>\n",
       "      <th>...</th>\n",
       "      <td>...</td>\n",
       "      <td>...</td>\n",
       "      <td>...</td>\n",
       "      <td>...</td>\n",
       "      <td>...</td>\n",
       "      <td>...</td>\n",
       "      <td>...</td>\n",
       "      <td>...</td>\n",
       "      <td>...</td>\n",
       "      <td>...</td>\n",
       "    </tr>\n",
       "    <tr>\n",
       "      <th>95</th>\n",
       "      <td>19_Fake.txt</td>\n",
       "      <td>Theres no telling how many times during the ca...</td>\n",
       "      <td>Hey Hillary thanks for telling the world Ameri...</td>\n",
       "      <td>1</td>\n",
       "      <td>86</td>\n",
       "      <td>3106</td>\n",
       "      <td>3</td>\n",
       "      <td>0.034884</td>\n",
       "      <td>180</td>\n",
       "      <td>0.057952</td>\n",
       "    </tr>\n",
       "    <tr>\n",
       "      <th>96</th>\n",
       "      <td>28_Fake.txt</td>\n",
       "      <td>WASHINGTON, D.C.  \\n\\nFormer presidential inte...</td>\n",
       "      <td>Monica Lewinsky Says She Is Voting For Hillary...</td>\n",
       "      <td>1</td>\n",
       "      <td>55</td>\n",
       "      <td>1013</td>\n",
       "      <td>9</td>\n",
       "      <td>0.163636</td>\n",
       "      <td>36</td>\n",
       "      <td>0.035538</td>\n",
       "    </tr>\n",
       "    <tr>\n",
       "      <th>97</th>\n",
       "      <td>113_Real.txt</td>\n",
       "      <td>Donald Trump is going to be elected president....</td>\n",
       "      <td>Donald Trump Is Going To Be Elected\\n</td>\n",
       "      <td>0</td>\n",
       "      <td>36</td>\n",
       "      <td>3682</td>\n",
       "      <td>7</td>\n",
       "      <td>0.194444</td>\n",
       "      <td>188</td>\n",
       "      <td>0.051059</td>\n",
       "    </tr>\n",
       "    <tr>\n",
       "      <th>98</th>\n",
       "      <td>132_Real.txt</td>\n",
       "      <td>Park City, Utah (CNN)Mitt Romney suggested Fri...</td>\n",
       "      <td>Mitt Romney says Donald Trump will change Amer...</td>\n",
       "      <td>0</td>\n",
       "      <td>76</td>\n",
       "      <td>7593</td>\n",
       "      <td>5</td>\n",
       "      <td>0.065789</td>\n",
       "      <td>276</td>\n",
       "      <td>0.036349</td>\n",
       "    </tr>\n",
       "    <tr>\n",
       "      <th>99</th>\n",
       "      <td>139_Real.txt</td>\n",
       "      <td>The American media, over the past year, has be...</td>\n",
       "      <td>The rise of American authoritarianism\\n</td>\n",
       "      <td>0</td>\n",
       "      <td>38</td>\n",
       "      <td>49332</td>\n",
       "      <td>2</td>\n",
       "      <td>0.052632</td>\n",
       "      <td>1008</td>\n",
       "      <td>0.020433</td>\n",
       "    </tr>\n",
       "  </tbody>\n",
       "</table>\n",
       "<p>62 rows × 10 columns</p>\n",
       "</div>"
      ],
      "text/plain": [
       "              id                                               text  \\\n",
       "2   152_Real.txt  An anonymous Jane Doe filed a federal lawsuit ...   \n",
       "4   115_Real.txt  Donald Trumps new campaign manager once insist...   \n",
       "6   142_Real.txt  These celebrities had some, uh, extreme respon...   \n",
       "11  108_Real.txt  (CNN)The Democratic National Convention kicked...   \n",
       "12  106_Real.txt  Former first lady Barbara Bush said Friday tha...   \n",
       "..           ...                                                ...   \n",
       "95   19_Fake.txt  Theres no telling how many times during the ca...   \n",
       "96   28_Fake.txt  WASHINGTON, D.C.  \\n\\nFormer presidential inte...   \n",
       "97  113_Real.txt  Donald Trump is going to be elected president....   \n",
       "98  132_Real.txt  Park City, Utah (CNN)Mitt Romney suggested Fri...   \n",
       "99  139_Real.txt  The American media, over the past year, has be...   \n",
       "\n",
       "                                                title  label  headline_len  \\\n",
       "2   Why The New Child Rape Case Filed Against Dona...      0            77   \n",
       "4   Donald Trump's campaign manager says rape woul...      0            81   \n",
       "6   These Celebrities Say They'd Leave the Country...      0            61   \n",
       "11   Dems open convention without Wasserman Schultz\\n      0            47   \n",
       "12  Barbara Bush I don’t know how women can vote f...      0            55   \n",
       "..                                                ...    ...           ...   \n",
       "95  Hey Hillary thanks for telling the world Ameri...      1            86   \n",
       "96  Monica Lewinsky Says She Is Voting For Hillary...      1            55   \n",
       "97              Donald Trump Is Going To Be Elected\\n      0            36   \n",
       "98  Mitt Romney says Donald Trump will change Amer...      0            76   \n",
       "99            The rise of American authoritarianism\\n      0            38   \n",
       "\n",
       "    news_len  caps_in_headline  norm_caps_in_headline  caps_in_news  \\\n",
       "2      13675                14               0.181818           376   \n",
       "4       2068                 2               0.024691            94   \n",
       "6        744                 9               0.147541            39   \n",
       "11      9893                 3               0.063830           409   \n",
       "12       803                 4               0.072727            37   \n",
       "..       ...               ...                    ...           ...   \n",
       "95      3106                 3               0.034884           180   \n",
       "96      1013                 9               0.163636            36   \n",
       "97      3682                 7               0.194444           188   \n",
       "98      7593                 5               0.065789           276   \n",
       "99     49332                 2               0.052632          1008   \n",
       "\n",
       "    norm_caps_in_news  \n",
       "2            0.027495  \n",
       "4            0.045455  \n",
       "6            0.052419  \n",
       "11           0.041342  \n",
       "12           0.046077  \n",
       "..                ...  \n",
       "95           0.057952  \n",
       "96           0.035538  \n",
       "97           0.051059  \n",
       "98           0.036349  \n",
       "99           0.020433  \n",
       "\n",
       "[62 rows x 10 columns]"
      ]
     },
     "execution_count": 67,
     "metadata": {},
     "output_type": "execute_result"
    }
   ],
   "source": [
    "df_said"
   ]
  },
  {
   "cell_type": "code",
   "execution_count": 68,
   "id": "da1eb178-cc08-458e-ac4d-1664e56b175f",
   "metadata": {
    "tags": []
   },
   "outputs": [
    {
     "data": {
      "text/plain": [
       "0    36\n",
       "1    26\n",
       "Name: label, dtype: int64"
      ]
     },
     "execution_count": 68,
     "metadata": {},
     "output_type": "execute_result"
    }
   ],
   "source": [
    "df_said['label'].value_counts()"
   ]
  },
  {
   "cell_type": "markdown",
   "id": "d2570246-02ce-4a2e-9429-c908c3afdd8c",
   "metadata": {},
   "source": [
    "The stories containing the word said are indicative of the news story being true. With twice as many of the \"true\" news stories containing said vs. \"fake\", the true ones must seem likely to be more concerned with providing quotations, or at least quotations in this style."
   ]
  },
  {
   "cell_type": "markdown",
   "id": "56d4e26a-65f9-46f3-83d5-e8d550ef1250",
   "metadata": {},
   "source": [
    "On in news article"
   ]
  },
  {
   "cell_type": "code",
   "execution_count": 69,
   "id": "aa668148-0544-4bc7-9730-d53a60a4ebc7",
   "metadata": {
    "tags": []
   },
   "outputs": [],
   "source": [
    "df_on = df_clean[df_clean[news].apply(lambda news_text: check_string_for(' on ', news_text))]"
   ]
  },
  {
   "cell_type": "code",
   "execution_count": 70,
   "id": "2cc38e6f-723d-45f0-a077-633e70e5c4c7",
   "metadata": {
    "tags": []
   },
   "outputs": [
    {
     "data": {
      "text/html": [
       "<div>\n",
       "<style scoped>\n",
       "    .dataframe tbody tr th:only-of-type {\n",
       "        vertical-align: middle;\n",
       "    }\n",
       "\n",
       "    .dataframe tbody tr th {\n",
       "        vertical-align: top;\n",
       "    }\n",
       "\n",
       "    .dataframe thead th {\n",
       "        text-align: right;\n",
       "    }\n",
       "</style>\n",
       "<table border=\"1\" class=\"dataframe\">\n",
       "  <thead>\n",
       "    <tr style=\"text-align: right;\">\n",
       "      <th></th>\n",
       "      <th>id</th>\n",
       "      <th>text</th>\n",
       "      <th>title</th>\n",
       "      <th>label</th>\n",
       "      <th>headline_len</th>\n",
       "      <th>news_len</th>\n",
       "      <th>caps_in_headline</th>\n",
       "      <th>norm_caps_in_headline</th>\n",
       "      <th>caps_in_news</th>\n",
       "      <th>norm_caps_in_news</th>\n",
       "    </tr>\n",
       "  </thead>\n",
       "  <tbody>\n",
       "    <tr>\n",
       "      <th>0</th>\n",
       "      <td>107_Real.txt</td>\n",
       "      <td>See Liberal Facebook and Conservative Facebook...</td>\n",
       "      <td>Blue Feed Red Feed\\n</td>\n",
       "      <td>0</td>\n",
       "      <td>19</td>\n",
       "      <td>1151</td>\n",
       "      <td>4</td>\n",
       "      <td>0.210526</td>\n",
       "      <td>32</td>\n",
       "      <td>0.027802</td>\n",
       "    </tr>\n",
       "    <tr>\n",
       "      <th>1</th>\n",
       "      <td>125_Real.txt</td>\n",
       "      <td>Contrary to the conventional wisdom saying tha...</td>\n",
       "      <td>\"It's Official \"\"Bernie Sanders Is Staying In ...</td>\n",
       "      <td>0</td>\n",
       "      <td>79</td>\n",
       "      <td>7740</td>\n",
       "      <td>13</td>\n",
       "      <td>0.164557</td>\n",
       "      <td>307</td>\n",
       "      <td>0.039664</td>\n",
       "    </tr>\n",
       "    <tr>\n",
       "      <th>2</th>\n",
       "      <td>152_Real.txt</td>\n",
       "      <td>An anonymous Jane Doe filed a federal lawsuit ...</td>\n",
       "      <td>Why The New Child Rape Case Filed Against Dona...</td>\n",
       "      <td>0</td>\n",
       "      <td>77</td>\n",
       "      <td>13675</td>\n",
       "      <td>14</td>\n",
       "      <td>0.181818</td>\n",
       "      <td>376</td>\n",
       "      <td>0.027495</td>\n",
       "    </tr>\n",
       "    <tr>\n",
       "      <th>3</th>\n",
       "      <td>153_Real.txt</td>\n",
       "      <td>It came together in about a week. First, the i...</td>\n",
       "      <td>Pantsuit Power flashmob video for Hillary Clin...</td>\n",
       "      <td>0</td>\n",
       "      <td>86</td>\n",
       "      <td>5102</td>\n",
       "      <td>5</td>\n",
       "      <td>0.058140</td>\n",
       "      <td>186</td>\n",
       "      <td>0.036456</td>\n",
       "    </tr>\n",
       "    <tr>\n",
       "      <th>4</th>\n",
       "      <td>115_Real.txt</td>\n",
       "      <td>Donald Trumps new campaign manager once insist...</td>\n",
       "      <td>Donald Trump's campaign manager says rape woul...</td>\n",
       "      <td>0</td>\n",
       "      <td>81</td>\n",
       "      <td>2068</td>\n",
       "      <td>2</td>\n",
       "      <td>0.024691</td>\n",
       "      <td>94</td>\n",
       "      <td>0.045455</td>\n",
       "    </tr>\n",
       "    <tr>\n",
       "      <th>...</th>\n",
       "      <td>...</td>\n",
       "      <td>...</td>\n",
       "      <td>...</td>\n",
       "      <td>...</td>\n",
       "      <td>...</td>\n",
       "      <td>...</td>\n",
       "      <td>...</td>\n",
       "      <td>...</td>\n",
       "      <td>...</td>\n",
       "      <td>...</td>\n",
       "    </tr>\n",
       "    <tr>\n",
       "      <th>96</th>\n",
       "      <td>28_Fake.txt</td>\n",
       "      <td>WASHINGTON, D.C.  \\n\\nFormer presidential inte...</td>\n",
       "      <td>Monica Lewinsky Says She Is Voting For Hillary...</td>\n",
       "      <td>1</td>\n",
       "      <td>55</td>\n",
       "      <td>1013</td>\n",
       "      <td>9</td>\n",
       "      <td>0.163636</td>\n",
       "      <td>36</td>\n",
       "      <td>0.035538</td>\n",
       "    </tr>\n",
       "    <tr>\n",
       "      <th>97</th>\n",
       "      <td>113_Real.txt</td>\n",
       "      <td>Donald Trump is going to be elected president....</td>\n",
       "      <td>Donald Trump Is Going To Be Elected\\n</td>\n",
       "      <td>0</td>\n",
       "      <td>36</td>\n",
       "      <td>3682</td>\n",
       "      <td>7</td>\n",
       "      <td>0.194444</td>\n",
       "      <td>188</td>\n",
       "      <td>0.051059</td>\n",
       "    </tr>\n",
       "    <tr>\n",
       "      <th>98</th>\n",
       "      <td>132_Real.txt</td>\n",
       "      <td>Park City, Utah (CNN)Mitt Romney suggested Fri...</td>\n",
       "      <td>Mitt Romney says Donald Trump will change Amer...</td>\n",
       "      <td>0</td>\n",
       "      <td>76</td>\n",
       "      <td>7593</td>\n",
       "      <td>5</td>\n",
       "      <td>0.065789</td>\n",
       "      <td>276</td>\n",
       "      <td>0.036349</td>\n",
       "    </tr>\n",
       "    <tr>\n",
       "      <th>99</th>\n",
       "      <td>139_Real.txt</td>\n",
       "      <td>The American media, over the past year, has be...</td>\n",
       "      <td>The rise of American authoritarianism\\n</td>\n",
       "      <td>0</td>\n",
       "      <td>38</td>\n",
       "      <td>49332</td>\n",
       "      <td>2</td>\n",
       "      <td>0.052632</td>\n",
       "      <td>1008</td>\n",
       "      <td>0.020433</td>\n",
       "    </tr>\n",
       "    <tr>\n",
       "      <th>100</th>\n",
       "      <td>48_Fake.txt</td>\n",
       "      <td>Julian Assange, the founder of WikiLeaks, is a...</td>\n",
       "      <td>WikiLeaks CONFIRMS Hillary Sold Weapons to ISI...</td>\n",
       "      <td>1</td>\n",
       "      <td>78</td>\n",
       "      <td>3765</td>\n",
       "      <td>29</td>\n",
       "      <td>0.371795</td>\n",
       "      <td>181</td>\n",
       "      <td>0.048074</td>\n",
       "    </tr>\n",
       "  </tbody>\n",
       "</table>\n",
       "<p>89 rows × 10 columns</p>\n",
       "</div>"
      ],
      "text/plain": [
       "               id                                               text  \\\n",
       "0    107_Real.txt  See Liberal Facebook and Conservative Facebook...   \n",
       "1    125_Real.txt  Contrary to the conventional wisdom saying tha...   \n",
       "2    152_Real.txt  An anonymous Jane Doe filed a federal lawsuit ...   \n",
       "3    153_Real.txt  It came together in about a week. First, the i...   \n",
       "4    115_Real.txt  Donald Trumps new campaign manager once insist...   \n",
       "..            ...                                                ...   \n",
       "96    28_Fake.txt  WASHINGTON, D.C.  \\n\\nFormer presidential inte...   \n",
       "97   113_Real.txt  Donald Trump is going to be elected president....   \n",
       "98   132_Real.txt  Park City, Utah (CNN)Mitt Romney suggested Fri...   \n",
       "99   139_Real.txt  The American media, over the past year, has be...   \n",
       "100   48_Fake.txt  Julian Assange, the founder of WikiLeaks, is a...   \n",
       "\n",
       "                                                 title  label  headline_len  \\\n",
       "0                                 Blue Feed Red Feed\\n      0            19   \n",
       "1    \"It's Official \"\"Bernie Sanders Is Staying In ...      0            79   \n",
       "2    Why The New Child Rape Case Filed Against Dona...      0            77   \n",
       "3    Pantsuit Power flashmob video for Hillary Clin...      0            86   \n",
       "4    Donald Trump's campaign manager says rape woul...      0            81   \n",
       "..                                                 ...    ...           ...   \n",
       "96   Monica Lewinsky Says She Is Voting For Hillary...      1            55   \n",
       "97               Donald Trump Is Going To Be Elected\\n      0            36   \n",
       "98   Mitt Romney says Donald Trump will change Amer...      0            76   \n",
       "99             The rise of American authoritarianism\\n      0            38   \n",
       "100  WikiLeaks CONFIRMS Hillary Sold Weapons to ISI...      1            78   \n",
       "\n",
       "     news_len  caps_in_headline  norm_caps_in_headline  caps_in_news  \\\n",
       "0        1151                 4               0.210526            32   \n",
       "1        7740                13               0.164557           307   \n",
       "2       13675                14               0.181818           376   \n",
       "3        5102                 5               0.058140           186   \n",
       "4        2068                 2               0.024691            94   \n",
       "..        ...               ...                    ...           ...   \n",
       "96       1013                 9               0.163636            36   \n",
       "97       3682                 7               0.194444           188   \n",
       "98       7593                 5               0.065789           276   \n",
       "99      49332                 2               0.052632          1008   \n",
       "100      3765                29               0.371795           181   \n",
       "\n",
       "     norm_caps_in_news  \n",
       "0             0.027802  \n",
       "1             0.039664  \n",
       "2             0.027495  \n",
       "3             0.036456  \n",
       "4             0.045455  \n",
       "..                 ...  \n",
       "96            0.035538  \n",
       "97            0.051059  \n",
       "98            0.036349  \n",
       "99            0.020433  \n",
       "100           0.048074  \n",
       "\n",
       "[89 rows x 10 columns]"
      ]
     },
     "execution_count": 70,
     "metadata": {},
     "output_type": "execute_result"
    }
   ],
   "source": [
    "df_on"
   ]
  },
  {
   "cell_type": "code",
   "execution_count": 71,
   "id": "23235107-4639-4c93-95b5-68b6445d8fcc",
   "metadata": {
    "tags": []
   },
   "outputs": [
    {
     "data": {
      "text/plain": [
       "0    51\n",
       "1    38\n",
       "Name: label, dtype: int64"
      ]
     },
     "execution_count": 71,
     "metadata": {},
     "output_type": "execute_result"
    }
   ],
   "source": [
    "df_on.label.value_counts()"
   ]
  },
  {
   "cell_type": "markdown",
   "id": "9afcf4f8-4426-4ac1-b474-5acc830429af",
   "metadata": {},
   "source": [
    "The use of 'on' is fairly balanced although somewhat indicative of a 'true' story."
   ]
  },
  {
   "cell_type": "markdown",
   "id": "f9e172c8-1b77-4906-92cd-04fbb02ac02e",
   "metadata": {},
   "source": [
    "You in news article"
   ]
  },
  {
   "cell_type": "code",
   "execution_count": 72,
   "id": "8ad74e2e-5ce7-4685-ad83-02e13acaca39",
   "metadata": {
    "tags": []
   },
   "outputs": [],
   "source": [
    "df_you = df_clean[df_clean[news].apply(lambda news_text: check_string_for(' you ', news_text))]"
   ]
  },
  {
   "cell_type": "code",
   "execution_count": 73,
   "id": "8271f66e-88e4-4d6b-a93e-88faa6ea43dc",
   "metadata": {
    "tags": []
   },
   "outputs": [
    {
     "data": {
      "text/html": [
       "<div>\n",
       "<style scoped>\n",
       "    .dataframe tbody tr th:only-of-type {\n",
       "        vertical-align: middle;\n",
       "    }\n",
       "\n",
       "    .dataframe tbody tr th {\n",
       "        vertical-align: top;\n",
       "    }\n",
       "\n",
       "    .dataframe thead th {\n",
       "        text-align: right;\n",
       "    }\n",
       "</style>\n",
       "<table border=\"1\" class=\"dataframe\">\n",
       "  <thead>\n",
       "    <tr style=\"text-align: right;\">\n",
       "      <th></th>\n",
       "      <th>id</th>\n",
       "      <th>text</th>\n",
       "      <th>title</th>\n",
       "      <th>label</th>\n",
       "      <th>headline_len</th>\n",
       "      <th>news_len</th>\n",
       "      <th>caps_in_headline</th>\n",
       "      <th>norm_caps_in_headline</th>\n",
       "      <th>caps_in_news</th>\n",
       "      <th>norm_caps_in_news</th>\n",
       "    </tr>\n",
       "  </thead>\n",
       "  <tbody>\n",
       "    <tr>\n",
       "      <th>1</th>\n",
       "      <td>125_Real.txt</td>\n",
       "      <td>Contrary to the conventional wisdom saying tha...</td>\n",
       "      <td>\"It's Official \"\"Bernie Sanders Is Staying In ...</td>\n",
       "      <td>0</td>\n",
       "      <td>79</td>\n",
       "      <td>7740</td>\n",
       "      <td>13</td>\n",
       "      <td>0.164557</td>\n",
       "      <td>307</td>\n",
       "      <td>0.039664</td>\n",
       "    </tr>\n",
       "    <tr>\n",
       "      <th>2</th>\n",
       "      <td>152_Real.txt</td>\n",
       "      <td>An anonymous Jane Doe filed a federal lawsuit ...</td>\n",
       "      <td>Why The New Child Rape Case Filed Against Dona...</td>\n",
       "      <td>0</td>\n",
       "      <td>77</td>\n",
       "      <td>13675</td>\n",
       "      <td>14</td>\n",
       "      <td>0.181818</td>\n",
       "      <td>376</td>\n",
       "      <td>0.027495</td>\n",
       "    </tr>\n",
       "    <tr>\n",
       "      <th>3</th>\n",
       "      <td>153_Real.txt</td>\n",
       "      <td>It came together in about a week. First, the i...</td>\n",
       "      <td>Pantsuit Power flashmob video for Hillary Clin...</td>\n",
       "      <td>0</td>\n",
       "      <td>86</td>\n",
       "      <td>5102</td>\n",
       "      <td>5</td>\n",
       "      <td>0.058140</td>\n",
       "      <td>186</td>\n",
       "      <td>0.036456</td>\n",
       "    </tr>\n",
       "    <tr>\n",
       "      <th>5</th>\n",
       "      <td>150_Real.txt</td>\n",
       "      <td>I dont know about you, but Im getting tired of...</td>\n",
       "      <td>Why Do We Hear More About Hillary's Emails Tha...</td>\n",
       "      <td>0</td>\n",
       "      <td>80</td>\n",
       "      <td>4360</td>\n",
       "      <td>13</td>\n",
       "      <td>0.162500</td>\n",
       "      <td>91</td>\n",
       "      <td>0.020872</td>\n",
       "    </tr>\n",
       "    <tr>\n",
       "      <th>8</th>\n",
       "      <td>122_Real.txt</td>\n",
       "      <td>In any normal election year, wed compare the t...</td>\n",
       "      <td>HILLARY CLINTON FOR PRESIDENT\\n</td>\n",
       "      <td>0</td>\n",
       "      <td>30</td>\n",
       "      <td>2265</td>\n",
       "      <td>26</td>\n",
       "      <td>0.866667</td>\n",
       "      <td>54</td>\n",
       "      <td>0.023841</td>\n",
       "    </tr>\n",
       "    <tr>\n",
       "      <th>...</th>\n",
       "      <td>...</td>\n",
       "      <td>...</td>\n",
       "      <td>...</td>\n",
       "      <td>...</td>\n",
       "      <td>...</td>\n",
       "      <td>...</td>\n",
       "      <td>...</td>\n",
       "      <td>...</td>\n",
       "      <td>...</td>\n",
       "      <td>...</td>\n",
       "    </tr>\n",
       "    <tr>\n",
       "      <th>96</th>\n",
       "      <td>28_Fake.txt</td>\n",
       "      <td>WASHINGTON, D.C.  \\n\\nFormer presidential inte...</td>\n",
       "      <td>Monica Lewinsky Says She Is Voting For Hillary...</td>\n",
       "      <td>1</td>\n",
       "      <td>55</td>\n",
       "      <td>1013</td>\n",
       "      <td>9</td>\n",
       "      <td>0.163636</td>\n",
       "      <td>36</td>\n",
       "      <td>0.035538</td>\n",
       "    </tr>\n",
       "    <tr>\n",
       "      <th>97</th>\n",
       "      <td>113_Real.txt</td>\n",
       "      <td>Donald Trump is going to be elected president....</td>\n",
       "      <td>Donald Trump Is Going To Be Elected\\n</td>\n",
       "      <td>0</td>\n",
       "      <td>36</td>\n",
       "      <td>3682</td>\n",
       "      <td>7</td>\n",
       "      <td>0.194444</td>\n",
       "      <td>188</td>\n",
       "      <td>0.051059</td>\n",
       "    </tr>\n",
       "    <tr>\n",
       "      <th>98</th>\n",
       "      <td>132_Real.txt</td>\n",
       "      <td>Park City, Utah (CNN)Mitt Romney suggested Fri...</td>\n",
       "      <td>Mitt Romney says Donald Trump will change Amer...</td>\n",
       "      <td>0</td>\n",
       "      <td>76</td>\n",
       "      <td>7593</td>\n",
       "      <td>5</td>\n",
       "      <td>0.065789</td>\n",
       "      <td>276</td>\n",
       "      <td>0.036349</td>\n",
       "    </tr>\n",
       "    <tr>\n",
       "      <th>99</th>\n",
       "      <td>139_Real.txt</td>\n",
       "      <td>The American media, over the past year, has be...</td>\n",
       "      <td>The rise of American authoritarianism\\n</td>\n",
       "      <td>0</td>\n",
       "      <td>38</td>\n",
       "      <td>49332</td>\n",
       "      <td>2</td>\n",
       "      <td>0.052632</td>\n",
       "      <td>1008</td>\n",
       "      <td>0.020433</td>\n",
       "    </tr>\n",
       "    <tr>\n",
       "      <th>100</th>\n",
       "      <td>48_Fake.txt</td>\n",
       "      <td>Julian Assange, the founder of WikiLeaks, is a...</td>\n",
       "      <td>WikiLeaks CONFIRMS Hillary Sold Weapons to ISI...</td>\n",
       "      <td>1</td>\n",
       "      <td>78</td>\n",
       "      <td>3765</td>\n",
       "      <td>29</td>\n",
       "      <td>0.371795</td>\n",
       "      <td>181</td>\n",
       "      <td>0.048074</td>\n",
       "    </tr>\n",
       "  </tbody>\n",
       "</table>\n",
       "<p>62 rows × 10 columns</p>\n",
       "</div>"
      ],
      "text/plain": [
       "               id                                               text  \\\n",
       "1    125_Real.txt  Contrary to the conventional wisdom saying tha...   \n",
       "2    152_Real.txt  An anonymous Jane Doe filed a federal lawsuit ...   \n",
       "3    153_Real.txt  It came together in about a week. First, the i...   \n",
       "5    150_Real.txt  I dont know about you, but Im getting tired of...   \n",
       "8    122_Real.txt  In any normal election year, wed compare the t...   \n",
       "..            ...                                                ...   \n",
       "96    28_Fake.txt  WASHINGTON, D.C.  \\n\\nFormer presidential inte...   \n",
       "97   113_Real.txt  Donald Trump is going to be elected president....   \n",
       "98   132_Real.txt  Park City, Utah (CNN)Mitt Romney suggested Fri...   \n",
       "99   139_Real.txt  The American media, over the past year, has be...   \n",
       "100   48_Fake.txt  Julian Assange, the founder of WikiLeaks, is a...   \n",
       "\n",
       "                                                 title  label  headline_len  \\\n",
       "1    \"It's Official \"\"Bernie Sanders Is Staying In ...      0            79   \n",
       "2    Why The New Child Rape Case Filed Against Dona...      0            77   \n",
       "3    Pantsuit Power flashmob video for Hillary Clin...      0            86   \n",
       "5    Why Do We Hear More About Hillary's Emails Tha...      0            80   \n",
       "8                      HILLARY CLINTON FOR PRESIDENT\\n      0            30   \n",
       "..                                                 ...    ...           ...   \n",
       "96   Monica Lewinsky Says She Is Voting For Hillary...      1            55   \n",
       "97               Donald Trump Is Going To Be Elected\\n      0            36   \n",
       "98   Mitt Romney says Donald Trump will change Amer...      0            76   \n",
       "99             The rise of American authoritarianism\\n      0            38   \n",
       "100  WikiLeaks CONFIRMS Hillary Sold Weapons to ISI...      1            78   \n",
       "\n",
       "     news_len  caps_in_headline  norm_caps_in_headline  caps_in_news  \\\n",
       "1        7740                13               0.164557           307   \n",
       "2       13675                14               0.181818           376   \n",
       "3        5102                 5               0.058140           186   \n",
       "5        4360                13               0.162500            91   \n",
       "8        2265                26               0.866667            54   \n",
       "..        ...               ...                    ...           ...   \n",
       "96       1013                 9               0.163636            36   \n",
       "97       3682                 7               0.194444           188   \n",
       "98       7593                 5               0.065789           276   \n",
       "99      49332                 2               0.052632          1008   \n",
       "100      3765                29               0.371795           181   \n",
       "\n",
       "     norm_caps_in_news  \n",
       "1             0.039664  \n",
       "2             0.027495  \n",
       "3             0.036456  \n",
       "5             0.020872  \n",
       "8             0.023841  \n",
       "..                 ...  \n",
       "96            0.035538  \n",
       "97            0.051059  \n",
       "98            0.036349  \n",
       "99            0.020433  \n",
       "100           0.048074  \n",
       "\n",
       "[62 rows x 10 columns]"
      ]
     },
     "execution_count": 73,
     "metadata": {},
     "output_type": "execute_result"
    }
   ],
   "source": [
    "df_you"
   ]
  },
  {
   "cell_type": "code",
   "execution_count": 74,
   "id": "5029dd6a-815f-48a9-82ad-cc2764d24fa5",
   "metadata": {
    "tags": []
   },
   "outputs": [
    {
     "data": {
      "text/plain": [
       "0    38\n",
       "1    24\n",
       "Name: label, dtype: int64"
      ]
     },
     "execution_count": 74,
     "metadata": {},
     "output_type": "execute_result"
    }
   ],
   "source": [
    "df_you.label.value_counts()"
   ]
  },
  {
   "cell_type": "markdown",
   "id": "22fa2190-120a-43ff-860a-20a1070d5f06",
   "metadata": {},
   "source": [
    "You is present in both true and fake news stories with a bit more mention in fake news stories which might be due to a more informal writing approach."
   ]
  },
  {
   "cell_type": "code",
   "execution_count": 75,
   "id": "8e8fdc53-03d2-4259-8625-7443084d9f2b",
   "metadata": {
    "tags": []
   },
   "outputs": [
    {
     "data": {
      "text/html": [
       "<div>\n",
       "<style scoped>\n",
       "    .dataframe tbody tr th:only-of-type {\n",
       "        vertical-align: middle;\n",
       "    }\n",
       "\n",
       "    .dataframe tbody tr th {\n",
       "        vertical-align: top;\n",
       "    }\n",
       "\n",
       "    .dataframe thead th {\n",
       "        text-align: right;\n",
       "    }\n",
       "</style>\n",
       "<table border=\"1\" class=\"dataframe\">\n",
       "  <thead>\n",
       "    <tr style=\"text-align: right;\">\n",
       "      <th></th>\n",
       "      <th>id</th>\n",
       "      <th>news</th>\n",
       "      <th>headline</th>\n",
       "      <th>label</th>\n",
       "      <th>headline_len</th>\n",
       "      <th>news_len</th>\n",
       "      <th>caps_in_headline</th>\n",
       "      <th>norm_caps_in_headline</th>\n",
       "      <th>caps_in_news</th>\n",
       "      <th>norm_caps_in_news</th>\n",
       "    </tr>\n",
       "  </thead>\n",
       "  <tbody>\n",
       "    <tr>\n",
       "      <th>0</th>\n",
       "      <td>107_Real.txt</td>\n",
       "      <td>See Liberal Facebook and Conservative Facebook...</td>\n",
       "      <td>Blue Feed Red Feed\\n</td>\n",
       "      <td>0</td>\n",
       "      <td>19</td>\n",
       "      <td>1151</td>\n",
       "      <td>4</td>\n",
       "      <td>0.210526</td>\n",
       "      <td>32</td>\n",
       "      <td>0.027802</td>\n",
       "    </tr>\n",
       "    <tr>\n",
       "      <th>1</th>\n",
       "      <td>125_Real.txt</td>\n",
       "      <td>Contrary to the conventional wisdom saying tha...</td>\n",
       "      <td>\"It's Official \"\"Bernie Sanders Is Staying In ...</td>\n",
       "      <td>0</td>\n",
       "      <td>79</td>\n",
       "      <td>7740</td>\n",
       "      <td>13</td>\n",
       "      <td>0.164557</td>\n",
       "      <td>307</td>\n",
       "      <td>0.039664</td>\n",
       "    </tr>\n",
       "    <tr>\n",
       "      <th>2</th>\n",
       "      <td>152_Real.txt</td>\n",
       "      <td>An anonymous Jane Doe filed a federal lawsuit ...</td>\n",
       "      <td>Why The New Child Rape Case Filed Against Dona...</td>\n",
       "      <td>0</td>\n",
       "      <td>77</td>\n",
       "      <td>13675</td>\n",
       "      <td>14</td>\n",
       "      <td>0.181818</td>\n",
       "      <td>376</td>\n",
       "      <td>0.027495</td>\n",
       "    </tr>\n",
       "    <tr>\n",
       "      <th>3</th>\n",
       "      <td>153_Real.txt</td>\n",
       "      <td>It came together in about a week. First, the i...</td>\n",
       "      <td>Pantsuit Power flashmob video for Hillary Clin...</td>\n",
       "      <td>0</td>\n",
       "      <td>86</td>\n",
       "      <td>5102</td>\n",
       "      <td>5</td>\n",
       "      <td>0.058140</td>\n",
       "      <td>186</td>\n",
       "      <td>0.036456</td>\n",
       "    </tr>\n",
       "    <tr>\n",
       "      <th>4</th>\n",
       "      <td>115_Real.txt</td>\n",
       "      <td>Donald Trumps new campaign manager once insist...</td>\n",
       "      <td>Donald Trump's campaign manager says rape woul...</td>\n",
       "      <td>0</td>\n",
       "      <td>81</td>\n",
       "      <td>2068</td>\n",
       "      <td>2</td>\n",
       "      <td>0.024691</td>\n",
       "      <td>94</td>\n",
       "      <td>0.045455</td>\n",
       "    </tr>\n",
       "  </tbody>\n",
       "</table>\n",
       "</div>"
      ],
      "text/plain": [
       "             id                                               news  \\\n",
       "0  107_Real.txt  See Liberal Facebook and Conservative Facebook...   \n",
       "1  125_Real.txt  Contrary to the conventional wisdom saying tha...   \n",
       "2  152_Real.txt  An anonymous Jane Doe filed a federal lawsuit ...   \n",
       "3  153_Real.txt  It came together in about a week. First, the i...   \n",
       "4  115_Real.txt  Donald Trumps new campaign manager once insist...   \n",
       "\n",
       "                                            headline  label  headline_len  \\\n",
       "0                               Blue Feed Red Feed\\n      0            19   \n",
       "1  \"It's Official \"\"Bernie Sanders Is Staying In ...      0            79   \n",
       "2  Why The New Child Rape Case Filed Against Dona...      0            77   \n",
       "3  Pantsuit Power flashmob video for Hillary Clin...      0            86   \n",
       "4  Donald Trump's campaign manager says rape woul...      0            81   \n",
       "\n",
       "   news_len  caps_in_headline  norm_caps_in_headline  caps_in_news  \\\n",
       "0      1151                 4               0.210526            32   \n",
       "1      7740                13               0.164557           307   \n",
       "2     13675                14               0.181818           376   \n",
       "3      5102                 5               0.058140           186   \n",
       "4      2068                 2               0.024691            94   \n",
       "\n",
       "   norm_caps_in_news  \n",
       "0           0.027802  \n",
       "1           0.039664  \n",
       "2           0.027495  \n",
       "3           0.036456  \n",
       "4           0.045455  "
      ]
     },
     "execution_count": 75,
     "metadata": {},
     "output_type": "execute_result"
    }
   ],
   "source": [
    "df_clean = df_clean.rename(columns={'title': 'headline'})\n",
    "df_clean = df_clean.rename(columns={'text': 'news'})\n",
    "df_clean.head()"
   ]
  },
  {
   "cell_type": "markdown",
   "id": "7b850713-5c40-405e-a1fe-9ffa14a600a4",
   "metadata": {},
   "source": [
    "Save the Cleaned Dataset"
   ]
  },
  {
   "cell_type": "code",
   "execution_count": 76,
   "id": "4a5997fb-aea2-4380-a58d-ac3e3235a37c",
   "metadata": {
    "tags": []
   },
   "outputs": [],
   "source": [
    "df_clean.to_csv(os.path.join(dataset_dir,'train_news_cleaned.csv'),index=False)"
   ]
  },
  {
   "cell_type": "code",
   "execution_count": null,
   "id": "121f6bcb-a3c2-4d8c-8aa6-89693bca1dcf",
   "metadata": {},
   "outputs": [],
   "source": []
  }
 ],
 "metadata": {
  "kernelspec": {
   "display_name": "Python 3 (ipykernel)",
   "language": "python",
   "name": "python3"
  },
  "language_info": {
   "codemirror_mode": {
    "name": "ipython",
    "version": 3
   },
   "file_extension": ".py",
   "mimetype": "text/x-python",
   "name": "python",
   "nbconvert_exporter": "python",
   "pygments_lexer": "ipython3",
   "version": "3.11.3"
  }
 },
 "nbformat": 4,
 "nbformat_minor": 5
}
