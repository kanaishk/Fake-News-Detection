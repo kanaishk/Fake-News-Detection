{
 "cells": [
  {
   "cell_type": "code",
   "execution_count": null,
   "id": "4994e908-2b65-48bc-a9b2-7f4375078de4",
   "metadata": {},
   "outputs": [],
   "source": [
    "import sys"
   ]
  },
  {
   "cell_type": "code",
   "execution_count": null,
   "id": "36c6a1e8-69bf-486d-9119-8fd387019d6a",
   "metadata": {
    "tags": []
   },
   "outputs": [],
   "source": [
    "!{sys.executable} -m pip install pandas\n",
    "!{sys.executable} -m pip install numpy\n",
    "!{sys.executable} -m pip install scikit-learn"
   ]
  },
  {
   "cell_type": "code",
   "execution_count": null,
   "id": "548b2302-1d9a-4b11-a01e-9e0fe9773f35",
   "metadata": {
    "tags": []
   },
   "outputs": [],
   "source": [
    "import os\n",
    "import random\n",
    "import pandas as pd\n",
    "import numpy as np "
   ]
  },
  {
   "cell_type": "code",
   "execution_count": null,
   "id": "ddec1429-327e-4e62-894f-7d6a116c9388",
   "metadata": {},
   "outputs": [],
   "source": [
    "from sklearn.model_selection import RandomizedSearchCV, train_test_split\n",
    "from sklearn.feature_extraction.text import CountVectorizer, TfidfTransformer, TfidfVectorizer\n",
    "from sklearn.naive_bayes import MultinomialNB\n",
    "from sklearn.neighbors import KNeighborsClassifier\n",
    "from sklearn.linear_model import LogisticRegression\n",
    "from sklearn.ensemble import GradientBoostingClassifier, RandomForestClassifier\n",
    "from sklearn.svm import SVC\n",
    "from sklearn.metrics import make_scorer, accuracy_score, f1_score, recall_score, precision_score\n",
    "from sklearn.metrics import classification_report"
   ]
  },
  {
   "cell_type": "markdown",
   "id": "f5e98b1c-5f08-46ca-9c35-c401ec21b3b2",
   "metadata": {},
   "source": [
    "<h3>Importing the dataset</h3>"
   ]
  },
  {
   "cell_type": "code",
   "execution_count": null,
   "id": "c867905d-d70b-48eb-8549-55ea02413482",
   "metadata": {
    "tags": []
   },
   "outputs": [],
   "source": [
    "cwd = os.getcwd()\n",
    "dataset_dir = os.path.join(cwd,'Dataset')\n",
    "result_dir = os.path.join(cwd,'Results')"
   ]
  },
  {
   "cell_type": "raw",
   "id": "7755d2e5-e935-4be4-9213-463091c0faff",
   "metadata": {},
   "source": [
    "Data- Description: There are 11 columns in the dataset provided to you. The description of each of the column is given below: \n",
    "“id”: Unique id of each news article \n",
    "“headline”: It is the title of the news. \n",
    "“written_by”: It represents the author of the news article\n",
    "“news”: It contains the full text of the news article \n",
    "“label”: It tells whether the news is fake (1) or not fake (0).\n",
    "\"headline_len\": length of headline\n",
    "\"news_len\": length of news article\n",
    "\"caps_in_headline\": number of capital letter in headline\n",
    "\"norm_caps_in_headline\": percentage of capital in headline\n",
    "\"caps_in_news\": number of capital letter in news article\n",
    "\"norm_caps_in_news\": percentage of capital in news article\n",
    "\"news_tokens\": tokenized news article\n",
    "\"news_url\": urls in news article\n",
    "\"clean_news\": cleaned up news article\n",
    "\"headline_url\": urls in headlines\n",
    "\"clean_headline\": cleaned up news headline\n",
    "\"twitter_handles\": twitter handles in news article\n",
    "\"clean_news_tokens\": tokens of cleaned news article\n",
    "\"clean_headline_tokens\": tokens of cleaned headline"
   ]
  },
  {
   "cell_type": "code",
   "execution_count": null,
   "id": "c3de9c07-3776-443b-ad15-a1291493401c",
   "metadata": {
    "tags": []
   },
   "outputs": [],
   "source": [
    "df = pd.read_csv(os.path.join(dataset_dir,'train_news_preprocessed.csv'), low_memory=False, \n",
    "                 usecols = ['label','clean_news_tokens','clean_headline_tokens'])\n",
    "# 'headline','news','headline_len','news_len','caps_in_headline','caps_in_news',"
   ]
  },
  {
   "cell_type": "markdown",
   "id": "9b4deeeb-d395-4406-b6da-9d9e856c27a0",
   "metadata": {},
   "source": [
    "<h3>Setting environment variables</h3>"
   ]
  },
  {
   "cell_type": "code",
   "execution_count": null,
   "id": "adebff42-7528-4011-a44b-a6b336fad5fa",
   "metadata": {
    "tags": []
   },
   "outputs": [],
   "source": [
    "RANDOM_STATE = 1973\n",
    "random.seed(RANDOM_STATE)\n",
    "np.random.seed(RANDOM_STATE)\n",
    "pd.options.display.max_seq_items = 20\n",
    "pd.options.display.max_rows = 50"
   ]
  },
  {
   "cell_type": "markdown",
   "id": "ff12aa39-db28-4591-bb7e-1e39b72c5748",
   "metadata": {
    "tags": []
   },
   "source": [
    "<h3>Starting model implementation</h3>"
   ]
  },
  {
   "cell_type": "code",
   "execution_count": null,
   "id": "eae36f7d-92db-41c9-9cdf-94be4ed6ed54",
   "metadata": {
    "tags": []
   },
   "outputs": [],
   "source": [
    "X = df['clean_news_tokens'].apply(lambda x: ' '.join(eval(x)))  # Concatenate tokens into space-separated strings\n",
    "y = df['label']  # Target variable (fake or not fake)"
   ]
  },
  {
   "cell_type": "code",
   "execution_count": null,
   "id": "e6e22f18-a31a-4fd8-8536-86bb4b8e469c",
   "metadata": {
    "tags": []
   },
   "outputs": [],
   "source": [
    "X_train, X_valid, y_train, y_valid = train_test_split(X, y, test_size=0.2, random_state=RANDOM_STATE)"
   ]
  },
  {
   "cell_type": "code",
   "execution_count": null,
   "id": "394468bd-489a-415a-a5f6-b2496e239b81",
   "metadata": {
    "tags": []
   },
   "outputs": [],
   "source": [
    "transformer = TfidfTransformer(smooth_idf=False)\n",
    "vectorizer = CountVectorizer(ngram_range=(1, 2))\n",
    "X_train_count = vectorizer.fit_transform(X_train)\n",
    "X_valid_count = vectorizer.transform(X_valid)"
   ]
  },
  {
   "cell_type": "code",
   "execution_count": null,
   "id": "51687c3a-05e0-4726-9963-158df7ad305b",
   "metadata": {
    "tags": []
   },
   "outputs": [],
   "source": [
    "X_train_count = transformer.fit_transform(X_train_count)\n",
    "X_valid_count = transformer.fit_transform(X_valid_count)"
   ]
  },
  {
   "cell_type": "code",
   "execution_count": null,
   "id": "0b68e098-e53f-40d7-abf2-bfc693975d3e",
   "metadata": {},
   "outputs": [],
   "source": [
    "vectorizer = TfidfVectorizer()\n",
    "X_train_tfidf = vectorizer.fit_transform(X_train)\n",
    "X_valid_tfidf = vectorizer.transform(X_valid)"
   ]
  },
  {
   "cell_type": "code",
   "execution_count": null,
   "id": "e1a4fb7a-c50a-4681-971f-3eaabfa42971",
   "metadata": {},
   "outputs": [],
   "source": [
    "Iters = 100\n",
    "parallel_workers = 9\n",
    "cross_val_works = 5\n",
    "verbose = 2"
   ]
  },
  {
   "cell_type": "code",
   "execution_count": null,
   "id": "c599398c-9368-4fc6-8658-fc703dc84594",
   "metadata": {
    "tags": []
   },
   "outputs": [],
   "source": [
    "scorers = {\n",
    "    'accuracy': make_scorer(accuracy_score),\n",
    "    'f1': make_scorer(f1_score),\n",
    "    'recall': make_scorer(recall_score),\n",
    "    'precision': make_scorer(precision_score)\n",
    "}"
   ]
  },
  {
   "cell_type": "code",
   "execution_count": null,
   "id": "54f261ad-7405-4627-8b8a-c6bc4dda9afe",
   "metadata": {
    "tags": []
   },
   "outputs": [],
   "source": [
    "def model_logging(modelname, Iters, random_search):\n",
    "    ID_lst = [f'{modelname}-{str(j).zfill(4)}' for j in range(1, 1+Iters)]\n",
    "    val = random_search.cv_results_\n",
    "\n",
    "    para_df = pd.DataFrame.from_dict(val['params'])\n",
    "    para_df['ID'] = ID_lst\n",
    "    para_df.to_csv(os.path.join(result_dir, f'{modelname}_Parameters.csv'))\n",
    "\n",
    "    result_train_df = pd.DataFrame()\n",
    "    result_train_df['ID'] = ID_lst\n",
    "    result_train_df['Accuracy'] = list(val['mean_train_accuracy'])\n",
    "    result_train_df['F1-Score'] = list(val['mean_train_f1'])\n",
    "    result_train_df['Recall'] = list(val['mean_train_recall'])\n",
    "    result_train_df['Precision'] = list(val['mean_train_precision'])\n",
    "    result_train_df['Time (Sec)'] = list(val['mean_score_time'])\n",
    "    result_train_df.to_csv(os.path.join(result_dir, f'{modelname}_Train_result.csv'))\n",
    "    \n",
    "    result_test_df = pd.DataFrame()\n",
    "    result_test_df['ID'] = ID_lst\n",
    "    result_test_df['Accuracy'] = list(val['mean_test_accuracy'])\n",
    "    result_test_df['F1-Score'] = list(val['mean_test_f1'])\n",
    "    result_test_df['Recall'] = list(val['mean_test_recall'])\n",
    "    result_test_df['Precision'] = list(val['mean_test_precision'])\n",
    "    result_test_df['Time (Sec)'] = list(val['mean_fit_time'])\n",
    "    result_test_df.to_csv(os.path.join(result_dir, f'{modelname}_Test_result.csv'))"
   ]
  },
  {
   "cell_type": "code",
   "execution_count": null,
   "id": "a92b3bc6-44c4-4e6b-8a6f-8262751754b2",
   "metadata": {},
   "outputs": [],
   "source": [
    "def model_logging_valid(modelname, random_search, X_valid_tfidf, y_valid):\n",
    "    y_pred = random_search.predict(X_valid_tfidf)\n",
    "    report = classification_report(y_valid, y_pred, digits=5)\n",
    "    \n",
    "    with open(os.path.join(result_dir, f'{modelname}_Valid_report.txt'), 'w') as f:\n",
    "        f.write(report)"
   ]
  },
  {
   "cell_type": "markdown",
   "id": "b7f4d895-5200-41bd-863c-64c27b4692e5",
   "metadata": {
    "tags": []
   },
   "source": [
    "<h3>Naive Bayes</h3>"
   ]
  },
  {
   "cell_type": "code",
   "execution_count": null,
   "id": "b54c5c0f-bee9-4372-abf6-249786e761cd",
   "metadata": {
    "tags": []
   },
   "outputs": [],
   "source": [
    "MNB_para = {\n",
    "    'alpha': np.arange(1e-2, 2, 1e-2),\n",
    "    'fit_prior': [True, False]\n",
    "    #'max_iter': [1000],\n",
    "}"
   ]
  },
  {
   "cell_type": "code",
   "execution_count": null,
   "id": "d8ca7735-6fbc-427c-8fda-b220d14c095d",
   "metadata": {
    "tags": []
   },
   "outputs": [],
   "source": [
    "random_search = RandomizedSearchCV(\n",
    "    estimator=MultinomialNB(),\n",
    "    param_distributions=MNB_para,\n",
    "    n_iter=Iters,\n",
    "    n_jobs=parallel_workers,\n",
    "    cv=cross_val_works,\n",
    "    scoring=scorers,\n",
    "    refit='accuracy',\n",
    "    return_train_score=True,\n",
    "    verbose=verbose\n",
    ")"
   ]
  },
  {
   "cell_type": "code",
   "execution_count": null,
   "id": "e08ca12a-57a1-4cfa-9d33-9f1c223dbaaf",
   "metadata": {
    "tags": []
   },
   "outputs": [],
   "source": [
    "random_search.fit(X_train_tfidf, y_train)"
   ]
  },
  {
   "cell_type": "code",
   "execution_count": null,
   "id": "f33e1084-8533-4d21-b015-fe6e6da3740e",
   "metadata": {},
   "outputs": [],
   "source": [
    "model_logging('MNB',Iters,random_search)\n",
    "model_logging_valid('MNB',random_search,X_valid_tfidf,y_valid)"
   ]
  },
  {
   "cell_type": "markdown",
   "id": "2969b34c-2168-440e-8d30-f6682636088e",
   "metadata": {
    "tags": []
   },
   "source": [
    "<h3>K Nearest Neighbours</h3>"
   ]
  },
  {
   "cell_type": "code",
   "execution_count": null,
   "id": "d19c62a3-5546-4a7d-85b6-b013db470438",
   "metadata": {
    "tags": []
   },
   "outputs": [],
   "source": [
    "KNN_para = {\n",
    "    'n_neighbors': range(2, 5),\n",
    "    'weights': ['uniform', 'distance'],\n",
    "    'p': [1, 2],\n",
    "    'leaf_size': range(10, 100, 10)\n",
    "}"
   ]
  },
  {
   "cell_type": "code",
   "execution_count": null,
   "id": "00502017-4f97-47fb-ad79-92e80bdd7fc9",
   "metadata": {
    "tags": []
   },
   "outputs": [],
   "source": [
    "random_search = RandomizedSearchCV(\n",
    "    estimator=KNeighborsClassifier(),\n",
    "    param_distributions=KNN_para,\n",
    "    n_iter=Iters,\n",
    "    n_jobs=parallel_workers,\n",
    "    cv=cross_val_works,\n",
    "    scoring=scorers,\n",
    "    refit='accuracy',\n",
    "    return_train_score=True,\n",
    "    verbose=verbose\n",
    ")"
   ]
  },
  {
   "cell_type": "code",
   "execution_count": null,
   "id": "f3ad9e03-c547-4efa-9df1-f4f5e67dbb2a",
   "metadata": {
    "tags": []
   },
   "outputs": [],
   "source": [
    "random_search.fit(X_train_tfidf, y_train)"
   ]
  },
  {
   "cell_type": "code",
   "execution_count": null,
   "id": "65e8e669-7ca4-4e71-8414-d888c6f4b8cb",
   "metadata": {
    "tags": []
   },
   "outputs": [],
   "source": [
    "model_logging('KNN',Iters,random_search)\n",
    "model_logging_valid('KNN',random_search,X_valid_tfidf,y_valid)"
   ]
  },
  {
   "cell_type": "markdown",
   "id": "53c881a1-ab9b-4ed3-a4b0-adcd4ce15df7",
   "metadata": {
    "tags": []
   },
   "source": [
    "<h3>Logistic Regression</h3>"
   ]
  },
  {
   "cell_type": "code",
   "execution_count": null,
   "id": "1c5d2c6f-2809-4bee-9319-33d03ba46395",
   "metadata": {},
   "outputs": [],
   "source": [
    "LR_para = {\n",
    "    'C': np.arange(1e-2, 1e2, 1e-2),\n",
    "    'penalty': ['l1', 'l2'],\n",
    "    'solver': ['liblinear', 'saga'],\n",
    "    'max_iter': [1000],\n",
    "    'random_state': [RANDOM_STATE]\n",
    "}"
   ]
  },
  {
   "cell_type": "code",
   "execution_count": null,
   "id": "a6fb9a90-7038-4d1a-97ce-53fa777e41c5",
   "metadata": {},
   "outputs": [],
   "source": [
    "random_search = RandomizedSearchCV(\n",
    "    estimator=LogisticRegression(),\n",
    "    param_distributions=LR_para,\n",
    "    n_iter=Iters,\n",
    "    n_jobs=parallel_workers,\n",
    "    cv=cross_val_works,\n",
    "    scoring=scorers,\n",
    "    refit='accuracy',\n",
    "    return_train_score=True,\n",
    "    verbose=verbose\n",
    ")"
   ]
  },
  {
   "cell_type": "code",
   "execution_count": null,
   "id": "920ac944-396b-412e-bf37-b270acd7209c",
   "metadata": {
    "tags": []
   },
   "outputs": [],
   "source": [
    "random_search.fit(X_train_tfidf, y_train)"
   ]
  },
  {
   "cell_type": "code",
   "execution_count": null,
   "id": "e996ba43-0593-4597-8183-eaf290dcd633",
   "metadata": {},
   "outputs": [],
   "source": [
    "model_logging('LR',Iters,random_search)\n",
    "model_logging_valid('LR',random_search,X_valid_tfidf,y_valid)"
   ]
  },
  {
   "cell_type": "markdown",
   "id": "a68a979d-11ab-43f0-9f5a-ebece68da853",
   "metadata": {
    "tags": []
   },
   "source": [
    "<h3>Gradient Boosting</h3>"
   ]
  },
  {
   "cell_type": "code",
   "execution_count": null,
   "id": "e4d1a501-8e9b-4fe3-b679-0803463dd22f",
   "metadata": {
    "tags": []
   },
   "outputs": [],
   "source": [
    "GBC_para = {\n",
    "    'n_estimators': range(100, 551, 50),\n",
    "    'criterion': ['friedman_mse'],\n",
    "    'learning_rate': np.arange(1e-2, 0.1, 1e-2),\n",
    "    'max_features': ['sqrt', 'log2'],\n",
    "    'max_depth': [None] + list(range(1, 100)),\n",
    "    'min_samples_split': list(np.arange(0.1, 1, 0.1)) + list(range(2,100)),\n",
    "    'min_samples_leaf': list(np.arange(0.1, 0.5, 0.1)) + list(range(1,100)),\n",
    "    #'max_iter': [1000],\n",
    "    'random_state': [RANDOM_STATE]\n",
    "}"
   ]
  },
  {
   "cell_type": "code",
   "execution_count": null,
   "id": "f94d3424-92e3-4573-ae40-bf3fc15adbb3",
   "metadata": {
    "tags": []
   },
   "outputs": [],
   "source": [
    "random_search = RandomizedSearchCV(\n",
    "    estimator=GradientBoostingClassifier(),\n",
    "    param_distributions=GBC_para,\n",
    "    n_iter=Iters,\n",
    "    n_jobs=parallel_workers,\n",
    "    cv=cross_val_works,\n",
    "    scoring=scorers,\n",
    "    refit='accuracy',\n",
    "    return_train_score=True,\n",
    "    verbose=verbose\n",
    ")"
   ]
  },
  {
   "cell_type": "code",
   "execution_count": null,
   "id": "ff00bdef-cd46-4647-a01c-08fe756eb5ed",
   "metadata": {
    "tags": []
   },
   "outputs": [],
   "source": [
    "random_search.fit(X_train_tfidf, y_train)"
   ]
  },
  {
   "cell_type": "code",
   "execution_count": null,
   "id": "3fd40311-9ebc-42d1-8898-3043d6faf788",
   "metadata": {},
   "outputs": [],
   "source": [
    "model_logging('GBC',Iters,random_search)\n",
    "model_logging_valid('GBC',random_search,X_valid_tfidf,y_valid)"
   ]
  },
  {
   "cell_type": "markdown",
   "id": "343f5475-4a78-4cd2-97ff-3ecc0a34d3ea",
   "metadata": {
    "tags": []
   },
   "source": [
    "<h3>Random Forest</h3>"
   ]
  },
  {
   "cell_type": "code",
   "execution_count": null,
   "id": "5d894802-0cb1-49ed-8f26-3507e628bdce",
   "metadata": {
    "tags": []
   },
   "outputs": [],
   "source": [
    "RFC_para = {\n",
    "    'n_estimators': range(100, 551, 50),\n",
    "    'criterion': ['gini', 'entropy'],\n",
    "    'max_features': ['sqrt', 'log2'],\n",
    "    'max_depth': [None] + list(range(1, 100)),\n",
    "    'min_samples_split': list(np.arange(0.1, 1, 0.1)) + list(range(2,100)),\n",
    "    'min_samples_leaf': list(np.arange(0.1, 0.5, 0.1)) + list(range(1,100)),\n",
    "    'random_state': [RANDOM_STATE]\n",
    "}"
   ]
  },
  {
   "cell_type": "code",
   "execution_count": null,
   "id": "b68f8d58-6135-42d3-9352-15d1faedacf2",
   "metadata": {
    "tags": []
   },
   "outputs": [],
   "source": [
    "random_search = RandomizedSearchCV(\n",
    "    estimator=RandomForestClassifier(),\n",
    "    param_distributions=RFC_para,\n",
    "    n_iter=Iters,\n",
    "    n_jobs=parallel_workers,\n",
    "    cv=cross_val_works,\n",
    "    scoring=scorers,\n",
    "    refit='accuracy',\n",
    "    return_train_score=True,\n",
    "    verbose=verbose\n",
    ")"
   ]
  },
  {
   "cell_type": "code",
   "execution_count": null,
   "id": "6ed84891-37fd-4285-b218-79f6a1bc5f21",
   "metadata": {
    "tags": []
   },
   "outputs": [],
   "source": [
    "random_search.fit(X_train_tfidf, y_train)"
   ]
  },
  {
   "cell_type": "code",
   "execution_count": null,
   "id": "a20b7443-d86b-4ccd-9453-5e9300af050f",
   "metadata": {},
   "outputs": [],
   "source": [
    "model_logging('RFC',Iters,random_search)\n",
    "model_logging_valid('RFC',random_search,X_valid_tfidf,y_valid)"
   ]
  },
  {
   "cell_type": "markdown",
   "id": "f4cf4899-2c7e-43de-8a1f-d495f5258d25",
   "metadata": {
    "tags": []
   },
   "source": [
    "<h3>SVC</h3>"
   ]
  },
  {
   "cell_type": "code",
   "execution_count": null,
   "id": "e13763c8-8247-4993-a6e0-dda825e03898",
   "metadata": {},
   "outputs": [],
   "source": [
    "SVC_para = {\n",
    "    'kernel': ['linear', 'poly', 'rbf'],\n",
    "    'degree': range(1, 6),\n",
    "    'C': np.arange(1e-2, 10, 1e-2),\n",
    "    'gamma': ['scale', 'auto'] + list(np.arange(1e-2, 10, 1e-2)),\n",
    "    'random_state': [RANDOM_STATE]\n",
    "}"
   ]
  },
  {
   "cell_type": "code",
   "execution_count": null,
   "id": "c8878d1e-3880-47a1-b0a8-105d6cd41b30",
   "metadata": {},
   "outputs": [],
   "source": [
    "random_search = RandomizedSearchCV(\n",
    "    estimator=SVC(),\n",
    "    param_distributions=SVC_para,\n",
    "    n_iter=Iters,\n",
    "    n_jobs=parallel_workers,\n",
    "    cv=cross_val_works,\n",
    "    scoring=scorers,\n",
    "    refit='accuracy',\n",
    "    return_train_score=True,\n",
    "    verbose=verbose\n",
    ")"
   ]
  },
  {
   "cell_type": "code",
   "execution_count": null,
   "id": "1cc07fe5-b08f-4731-87fd-49b52334afcb",
   "metadata": {
    "tags": []
   },
   "outputs": [],
   "source": [
    "random_search.fit(X_train_tfidf, y_train)"
   ]
  },
  {
   "cell_type": "code",
   "execution_count": null,
   "id": "f5b3564f-5e55-4c77-80ce-fe14cdd335b3",
   "metadata": {},
   "outputs": [],
   "source": [
    "model_logging('SVC',Iters,random_search)\n",
    "model_logging_valid('SVC',random_search,X_valid_tfidf,y_valid)"
   ]
  }
 ],
 "metadata": {
  "kernelspec": {
   "display_name": "Python 3 (ipykernel)",
   "language": "python",
   "name": "python3"
  },
  "language_info": {
   "codemirror_mode": {
    "name": "ipython",
    "version": 3
   },
   "file_extension": ".py",
   "mimetype": "text/x-python",
   "name": "python",
   "nbconvert_exporter": "python",
   "pygments_lexer": "ipython3",
   "version": "3.11.3"
  }
 },
 "nbformat": 4,
 "nbformat_minor": 5
}
