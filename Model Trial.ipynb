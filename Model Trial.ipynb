{
 "cells": [
  {
   "cell_type": "code",
   "execution_count": null,
   "id": "4994e908-2b65-48bc-a9b2-7f4375078de4",
   "metadata": {},
   "outputs": [],
   "source": [
    "import sys"
   ]
  },
  {
   "cell_type": "code",
   "execution_count": null,
   "id": "36c6a1e8-69bf-486d-9119-8fd387019d6a",
   "metadata": {
    "tags": []
   },
   "outputs": [],
   "source": [
    "!{sys.executable} -m pip install pandas\n",
    "!{sys.executable} -m pip install numpy\n",
    "!{sys.executable} -m pip install scikit-learn"
   ]
  },
  {
   "cell_type": "code",
   "execution_count": null,
   "id": "548b2302-1d9a-4b11-a01e-9e0fe9773f35",
   "metadata": {
    "tags": []
   },
   "outputs": [],
   "source": [
    "import os\n",
    "import random\n",
    "import pandas as pd\n",
    "import numpy as np "
   ]
  },
  {
   "cell_type": "code",
   "execution_count": null,
   "id": "ddec1429-327e-4e62-894f-7d6a116c9388",
   "metadata": {},
   "outputs": [],
   "source": [
    "from sklearn.model_selection import RandomizedSearchCV, train_test_split\n",
    "from sklearn.feature_extraction.text import TfidfVectorizer\n",
    "from sklearn.linear_model import LogisticRegression\n",
    "from sklearn.svm import SVC\n",
    "from sklearn.ensemble import RandomForestClassifier\n",
    "from sklearn.naive_bayes import MultinomialNB\n",
    "from sklearn.metrics import classification_report"
   ]
  },
  {
   "cell_type": "markdown",
   "id": "f5e98b1c-5f08-46ca-9c35-c401ec21b3b2",
   "metadata": {},
   "source": [
    "<h3>Importing the dataset</h3>"
   ]
  },
  {
   "cell_type": "code",
   "execution_count": null,
   "id": "c867905d-d70b-48eb-8549-55ea02413482",
   "metadata": {
    "tags": []
   },
   "outputs": [],
   "source": [
    "cwd = os.getcwd()\n",
    "dataset_dir = os.path.join(cwd,'Dataset')\n",
    "result_dir = os.path.join(cwd,'Results')"
   ]
  },
  {
   "cell_type": "raw",
   "id": "7755d2e5-e935-4be4-9213-463091c0faff",
   "metadata": {},
   "source": [
    "Data- Description: There are 11 columns in the dataset provided to you. The description of each of the column is given below: \n",
    "“id”: Unique id of each news article \n",
    "“headline”: It is the title of the news. \n",
    "“written_by”: It represents the author of the news article\n",
    "“news”: It contains the full text of the news article \n",
    "“label”: It tells whether the news is fake (1) or not fake (0).\n",
    "\"headline_len\": length of headline\n",
    "\"news_len\": length of news article\n",
    "\"caps_in_headline\": number of capital letter in headline\n",
    "\"norm_caps_in_headline\": percentage of capital in headline\n",
    "\"caps_in_news\": number of capital letter in news article\n",
    "\"norm_caps_in_news\": percentage of capital in news article\n",
    "\"news_tokens\": tokenized news article\n",
    "\"news_url\": urls in news article\n",
    "\"clean_news\": cleaned up news article\n",
    "\"headline_url\": urls in headlines\n",
    "\"clean_headline\": cleaned up news headline\n",
    "\"twitter_handles\": twitter handles in news article\n",
    "\"clean_news_tokens\": tokens of cleaned news article\n",
    "\"clean_headline_tokens\": tokens of cleaned headline"
   ]
  },
  {
   "cell_type": "code",
   "execution_count": null,
   "id": "c3de9c07-3776-443b-ad15-a1291493401c",
   "metadata": {
    "tags": []
   },
   "outputs": [],
   "source": [
    "df = pd.read_csv(os.path.join(dataset_dir,'train_news_preprocessed.csv'), low_memory=False, \n",
    "                 usecols = ['label','clean_news_tokens','clean_headline_tokens'])\n",
    "# 'headline','news','headline_len','news_len','caps_in_headline','caps_in_news',"
   ]
  },
  {
   "cell_type": "markdown",
   "id": "9b4deeeb-d395-4406-b6da-9d9e856c27a0",
   "metadata": {},
   "source": [
    "<h3>Setting environment variables</h3>"
   ]
  },
  {
   "cell_type": "code",
   "execution_count": null,
   "id": "adebff42-7528-4011-a44b-a6b336fad5fa",
   "metadata": {
    "tags": []
   },
   "outputs": [],
   "source": [
    "RANDOM_STATE = 1973\n",
    "random.seed(RANDOM_STATE)\n",
    "np.random.seed(RANDOM_STATE)\n",
    "pd.options.display.max_seq_items = 20\n",
    "pd.options.display.max_rows = 50"
   ]
  },
  {
   "cell_type": "markdown",
   "id": "ff12aa39-db28-4591-bb7e-1e39b72c5748",
   "metadata": {
    "tags": []
   },
   "source": [
    "<h3>Starting model implementation</h3>"
   ]
  },
  {
   "cell_type": "code",
   "execution_count": null,
   "id": "eae36f7d-92db-41c9-9cdf-94be4ed6ed54",
   "metadata": {
    "tags": []
   },
   "outputs": [],
   "source": [
    "X = df['clean_news_tokens'].apply(lambda x: ' '.join(eval(x)))  # Concatenate tokens into space-separated strings\n",
    "y = df['label']  # Target variable (fake or not fake)"
   ]
  },
  {
   "cell_type": "code",
   "execution_count": null,
   "id": "e6e22f18-a31a-4fd8-8536-86bb4b8e469c",
   "metadata": {
    "tags": []
   },
   "outputs": [],
   "source": [
    "X_train, X_test, y_train, y_test = train_test_split(X, y, test_size=0.2, random_state=RANDOM_STATE)"
   ]
  },
  {
   "cell_type": "code",
   "execution_count": null,
   "id": "394468bd-489a-415a-a5f6-b2496e239b81",
   "metadata": {
    "tags": []
   },
   "outputs": [],
   "source": [
    "vectorizer = TfidfVectorizer()\n",
    "X_train_tfidf = vectorizer.fit_transform(X_train)\n",
    "X_test_tfidf = vectorizer.transform(X_test)"
   ]
  },
  {
   "cell_type": "code",
   "execution_count": null,
   "id": "e1a4fb7a-c50a-4681-971f-3eaabfa42971",
   "metadata": {},
   "outputs": [],
   "source": [
    "Iters = 100\n",
    "parallel_workers = -1\n",
    "cross_val_works = 5\n",
    "verbose = 10"
   ]
  },
  {
   "cell_type": "markdown",
   "id": "53c881a1-ab9b-4ed3-a4b0-adcd4ce15df7",
   "metadata": {
    "tags": []
   },
   "source": [
    "<h3>Logistic Regression</h3>"
   ]
  },
  {
   "cell_type": "code",
   "execution_count": null,
   "id": "1c5d2c6f-2809-4bee-9319-33d03ba46395",
   "metadata": {},
   "outputs": [],
   "source": [
    "LR_para = {\n",
    "    'C': np.arange(1e-2, 1e2, 1e-2),\n",
    "    'penalty': ['l1', 'l2'],\n",
    "    'solver': ['liblinear', 'saga'],\n",
    "    'max_iter': [1000],\n",
    "    'random_state': [RANDOM_STATE]\n",
    "}"
   ]
  },
  {
   "cell_type": "code",
   "execution_count": null,
   "id": "a6fb9a90-7038-4d1a-97ce-53fa777e41c5",
   "metadata": {},
   "outputs": [],
   "source": [
    "random_search = RandomizedSearchCV(\n",
    "    estimator=LogisticRegression(),\n",
    "    param_distributions=LR_para,\n",
    "    n_iter=Iters,\n",
    "    n_jobs=parallel_workers,\n",
    "    cv=cross_val_works,\n",
    "    scoring=['accuracy', 'f1', 'recall', 'precision'],\n",
    "    refit=True,\n",
    "    return_train_score=True,\n",
    "    verbose=verbose\n",
    ")"
   ]
  },
  {
   "cell_type": "code",
   "execution_count": null,
   "id": "920ac944-396b-412e-bf37-b270acd7209c",
   "metadata": {
    "tags": []
   },
   "outputs": [],
   "source": [
    "random_search.fit(X_train_tfidf, y_train)"
   ]
  },
  {
   "cell_type": "code",
   "execution_count": null,
   "id": "d64ad082-b8d9-429b-b2e9-0c05db06cb76",
   "metadata": {},
   "outputs": [],
   "source": [
    "ID_lst = [f'LR-{str(j).zfill(4)}' for j in range(1, 1+Iters)]\n",
    "val = random_search.cv_results_"
   ]
  },
  {
   "cell_type": "code",
   "execution_count": null,
   "id": "53b08160-1305-489b-96e3-b877675f0241",
   "metadata": {},
   "outputs": [],
   "source": [
    "para_df = pd.DataFrame.from_dict(val['params'])\n",
    "para_df['ID'] = ID_lst\n",
    "para_df.to_csv(os.path.join(result_dir,'LR_parameters.csv'))"
   ]
  },
  {
   "cell_type": "code",
   "execution_count": null,
   "id": "c51dbafc-4826-425e-af39-bf5125e4f727",
   "metadata": {},
   "outputs": [],
   "source": [
    "result_test_df = pd.DataFrame()\n",
    "result_test_df['ID'] = ID_lst\n",
    "result_test_df['Accuracy'] = list(val['mean_train_accuracy'])\n",
    "result_test_df['F1-Score'] = list(val['mean_train_f1'])\n",
    "result_test_df['Recall'] = list(val['mean_train_recall'])\n",
    "result_test_df['Precision'] = list(val['mean_train_precision'])\n",
    "result_test_df['Time (Sec)'] = list(val['mean_fit_time'])\n",
    "result_test_df.to_csv(os.path.join(result_dir, 'LR_Train_result.csv'))"
   ]
  },
  {
   "cell_type": "code",
   "execution_count": null,
   "id": "1a2da59e-d4b4-4d25-a906-ab20fea19504",
   "metadata": {},
   "outputs": [],
   "source": [
    "y_pred = random_search.predict(X_test_tfidf)\n",
    "report = classification_report(y_test, y_pred)"
   ]
  },
  {
   "cell_type": "code",
   "execution_count": null,
   "id": "42162ea2-035d-497a-b7e0-95f05a3f0e97",
   "metadata": {
    "tags": []
   },
   "outputs": [],
   "source": [
    "with open(os.path.join(result_dir, 'LR_Test_report.txt'), 'w') as f:\n",
    "    f.write(report)"
   ]
  },
  {
   "cell_type": "markdown",
   "id": "5468e3f9-3637-4577-904b-b93a69cec9de",
   "metadata": {
    "tags": []
   },
   "source": [
    "<h3>SVC</h3>"
   ]
  },
  {
   "cell_type": "code",
   "execution_count": null,
   "id": "e13763c8-8247-4993-a6e0-dda825e03898",
   "metadata": {},
   "outputs": [],
   "source": [
    "SVC_para = {\n",
    "    'kernel': ['linear', 'poly', 'rbf'],\n",
    "    'degree': range(1, 6),\n",
    "    'C': np.arange(1e-2, 10, 1e-2),\n",
    "    'gamma': ['scale', 'auto'] + list(np.arange(1e-2, 10, 1e-2)),\n",
    "    'random_state': [RANDOM_STATE]\n",
    "}"
   ]
  },
  {
   "cell_type": "code",
   "execution_count": null,
   "id": "c8878d1e-3880-47a1-b0a8-105d6cd41b30",
   "metadata": {},
   "outputs": [],
   "source": [
    "random_search = RandomizedSearchCV(\n",
    "    estimator=SVC(),\n",
    "    param_distributions=SVC_para,\n",
    "    n_iter=Iters,\n",
    "    n_jobs=parallel_workers,\n",
    "    cv=cross_val_works,\n",
    "    scoring=['accuracy', 'f1', 'recall', 'precision'],\n",
    "    refit=True,\n",
    "    return_train_score=True,\n",
    "    verbose=verbose\n",
    ")"
   ]
  },
  {
   "cell_type": "code",
   "execution_count": null,
   "id": "1cc07fe5-b08f-4731-87fd-49b52334afcb",
   "metadata": {
    "tags": []
   },
   "outputs": [],
   "source": [
    "random_search.fit(X_train_tfidf, y_train)"
   ]
  },
  {
   "cell_type": "code",
   "execution_count": null,
   "id": "99fab8f0-ce6a-4a2a-b6a9-fedef9ed357e",
   "metadata": {},
   "outputs": [],
   "source": [
    "ID_lst = [f'SVC-{str(j).zfill(4)}' for j in range(1, 1+Iters)]\n",
    "val = random_search.cv_results_"
   ]
  },
  {
   "cell_type": "code",
   "execution_count": null,
   "id": "e5dfe5b8-7153-41c0-acb0-3f172798596d",
   "metadata": {},
   "outputs": [],
   "source": [
    "para_df = pd.DataFrame.from_dict(val['params'])\n",
    "para_df['ID'] = ID_lst\n",
    "para_df.to_csv(os.path.join(result_dir,'SVM_parameters.csv'))"
   ]
  },
  {
   "cell_type": "code",
   "execution_count": null,
   "id": "cff28cf5-0ddb-4b9f-8479-102084a04ed3",
   "metadata": {},
   "outputs": [],
   "source": [
    "result_test_df = pd.DataFrame()\n",
    "result_test_df['ID'] = ID_lst\n",
    "result_test_df['Accuracy'] = list(val['mean_train_accuracy'])\n",
    "result_test_df['F1-Score'] = list(val['mean_train_f1'])\n",
    "result_test_df['Recall'] = list(val['mean_train_recall'])\n",
    "result_test_df['Precision'] = list(val['mean_train_precision'])\n",
    "result_test_df['Time (Sec)'] = list(val['mean_fit_time'])\n",
    "result_test_df.to_csv(os.path.join(result_dir, 'SVM_Train_result.csv'))"
   ]
  },
  {
   "cell_type": "code",
   "execution_count": null,
   "id": "e66341ad-20f9-494d-b2dd-2c5b3dab4aab",
   "metadata": {},
   "outputs": [],
   "source": [
    "y_pred = random_search.predict(X_test_tfidf)\n",
    "report = classification_report(y_test, y_pred)"
   ]
  },
  {
   "cell_type": "code",
   "execution_count": null,
   "id": "1856f775-136a-4d19-8e06-ced52d3882e4",
   "metadata": {
    "tags": []
   },
   "outputs": [],
   "source": [
    "with open(os.path.join(result_dir, 'SVM_Test_report.txt'), 'w') as f:\n",
    "    f.write(report)"
   ]
  },
  {
   "cell_type": "markdown",
   "id": "b7f4d895-5200-41bd-863c-64c27b4692e5",
   "metadata": {
    "tags": []
   },
   "source": [
    "<h3>Naive Bayes</h3>"
   ]
  },
  {
   "cell_type": "code",
   "execution_count": null,
   "id": "b54c5c0f-bee9-4372-abf6-249786e761cd",
   "metadata": {
    "tags": []
   },
   "outputs": [],
   "source": [
    "MNB_para = {\n",
    "    'alpha': np.arange(1e-2, 2, 1e-2),\n",
    "    'fit_prior': [True, False]\n",
    "    #'max_iter': [1000],\n",
    "}"
   ]
  },
  {
   "cell_type": "code",
   "execution_count": null,
   "id": "d8ca7735-6fbc-427c-8fda-b220d14c095d",
   "metadata": {
    "tags": []
   },
   "outputs": [],
   "source": [
    "random_search = RandomizedSearchCV(\n",
    "    estimator=MultinomialNB(),\n",
    "    param_distributions=MNB_para,\n",
    "    n_iter=Iters,\n",
    "    n_jobs=parallel_workers,\n",
    "    cv=cross_val_works,\n",
    "    scoring=['accuracy', 'f1', 'recall', 'precision'],\n",
    "    refit=True,\n",
    "    return_train_score=True,\n",
    "    verbose=verbose\n",
    ")"
   ]
  },
  {
   "cell_type": "code",
   "execution_count": null,
   "id": "e08ca12a-57a1-4cfa-9d33-9f1c223dbaaf",
   "metadata": {
    "tags": []
   },
   "outputs": [],
   "source": [
    "random_search.fit(X_train_tfidf, y_train)"
   ]
  },
  {
   "cell_type": "code",
   "execution_count": null,
   "id": "cbb0f2c8-5331-465a-9a35-3266487ce1f9",
   "metadata": {
    "tags": []
   },
   "outputs": [],
   "source": [
    "ID_lst = [f'MNB-{str(j).zfill(4)}' for j in range(1, 1+Iters)]\n",
    "val = random_search.cv_results_"
   ]
  },
  {
   "cell_type": "code",
   "execution_count": null,
   "id": "25005bf5-bab6-4535-bd1d-a918d9ce4aa1",
   "metadata": {
    "tags": []
   },
   "outputs": [],
   "source": [
    "para_df = pd.DataFrame.from_dict(val['params'])\n",
    "para_df['ID'] = ID_lst\n",
    "para_df.to_csv(os.path.join(result_dir,'MNB_parameters.csv'))"
   ]
  },
  {
   "cell_type": "code",
   "execution_count": null,
   "id": "e41449f8-104d-4342-93f0-623bc1582506",
   "metadata": {
    "tags": []
   },
   "outputs": [],
   "source": [
    "result_test_df = pd.DataFrame()\n",
    "result_test_df['ID'] = ID_lst\n",
    "result_test_df['Accuracy'] = list(val['mean_train_accuracy'])\n",
    "result_test_df['F1-Score'] = list(val['mean_train_f1'])\n",
    "result_test_df['Recall'] = list(val['mean_train_recall'])\n",
    "result_test_df['Precision'] = list(val['mean_train_precision'])\n",
    "result_test_df['Time (Sec)'] = list(val['mean_fit_time'])\n",
    "result_test_df.to_csv(os.path.join(result_dir, 'MNB_Train_result.csv'))"
   ]
  },
  {
   "cell_type": "code",
   "execution_count": null,
   "id": "7a413936-1b31-4a34-bf31-30efb1b97502",
   "metadata": {
    "tags": []
   },
   "outputs": [],
   "source": [
    "y_pred = random_search.predict(X_test_tfidf)\n",
    "report = classification_report(y_test, y_pred)"
   ]
  },
  {
   "cell_type": "code",
   "execution_count": null,
   "id": "51ffd0ba-a001-496e-a7e3-b7ab29e73271",
   "metadata": {
    "tags": []
   },
   "outputs": [],
   "source": [
    "with open(os.path.join(result_dir, 'MNB_Test_report.txt'), 'w') as f:\n",
    "    f.write(report)"
   ]
  },
  {
   "cell_type": "markdown",
   "id": "343f5475-4a78-4cd2-97ff-3ecc0a34d3ea",
   "metadata": {},
   "source": [
    "<h3>Random Forest</h3>"
   ]
  },
  {
   "cell_type": "code",
   "execution_count": null,
   "id": "5d894802-0cb1-49ed-8f26-3507e628bdce",
   "metadata": {
    "tags": []
   },
   "outputs": [],
   "source": [
    "RFC_para = {\n",
    "    'n_estimators': range(100, 551, 50),\n",
    "    'criterion': ['gini', 'entropy', 'log_loss'],\n",
    "    'max_features': [None, 'sqrt', 'log2'],\n",
    "    'max_depth': [None] + list(range(1, 100)),\n",
    "    'min_samples_split': list(np.arange(0, 1, 0.1)) + list(range(2,100)),\n",
    "    'min_samples_leaf': list(np.arange(0, 1, 0.1)) + list(range(1,100)),\n",
    "    'random_state': [RANDOM_STATE]\n",
    "}"
   ]
  },
  {
   "cell_type": "code",
   "execution_count": null,
   "id": "b68f8d58-6135-42d3-9352-15d1faedacf2",
   "metadata": {
    "tags": []
   },
   "outputs": [],
   "source": [
    "random_search = RandomizedSearchCV(\n",
    "    estimator=RandomForestClassifier(),\n",
    "    param_distributions=SVC_para,\n",
    "    n_iter=Iters,\n",
    "    n_jobs=parallel_workers,\n",
    "    cv=cross_val_works,\n",
    "    scoring=['accuracy', 'f1', 'recall', 'precision'],\n",
    "    refit=True,\n",
    "    return_train_score=True,\n",
    "    verbose=verbose\n",
    ")"
   ]
  },
  {
   "cell_type": "code",
   "execution_count": null,
   "id": "6ed84891-37fd-4285-b218-79f6a1bc5f21",
   "metadata": {
    "tags": []
   },
   "outputs": [],
   "source": [
    "random_search.fit(X_train_tfidf, y_train)"
   ]
  },
  {
   "cell_type": "code",
   "execution_count": null,
   "id": "56e94d2d-6ebc-4c1c-a30b-d3660c57ab20",
   "metadata": {
    "tags": []
   },
   "outputs": [],
   "source": [
    "ID_lst = [f'RFC-{str(j).zfill(4)}' for j in range(1, 1+Iters)]\n",
    "val = random_search.cv_results_"
   ]
  },
  {
   "cell_type": "code",
   "execution_count": null,
   "id": "5ab6ce6f-370f-4c92-99cc-0f32ac7c3f29",
   "metadata": {
    "tags": []
   },
   "outputs": [],
   "source": [
    "para_df = pd.DataFrame.from_dict(val['params'])\n",
    "para_df['ID'] = ID_lst\n",
    "para_df.to_csv(os.path.join(result_dir,'RFC_parameters.csv'))"
   ]
  },
  {
   "cell_type": "code",
   "execution_count": null,
   "id": "f548cfff-1304-4f31-9cfc-c3ad2d061f40",
   "metadata": {
    "tags": []
   },
   "outputs": [],
   "source": [
    "result_test_df = pd.DataFrame()\n",
    "result_test_df['ID'] = ID_lst\n",
    "result_test_df['Accuracy'] = list(val['mean_train_accuracy'])\n",
    "result_test_df['F1-Score'] = list(val['mean_train_f1'])\n",
    "result_test_df['Recall'] = list(val['mean_train_recall'])\n",
    "result_test_df['Precision'] = list(val['mean_train_precision'])\n",
    "result_test_df['Time (Sec)'] = list(val['mean_fit_time'])\n",
    "result_test_df.to_csv(os.path.join(result_dir, 'RFC_Train_result.csv'))"
   ]
  },
  {
   "cell_type": "code",
   "execution_count": null,
   "id": "6362045a-bf86-48b8-b93e-119ea2a21f18",
   "metadata": {
    "tags": []
   },
   "outputs": [],
   "source": [
    "y_pred = random_search.predict(X_test_tfidf)\n",
    "report = classification_report(y_test, y_pred)"
   ]
  },
  {
   "cell_type": "code",
   "execution_count": null,
   "id": "a55994c2-3c4e-491f-ad0f-20cc946888c0",
   "metadata": {
    "tags": []
   },
   "outputs": [],
   "source": [
    "with open(os.path.join(result_dir, 'RFC_Test_report.txt'), 'w') as f:\n",
    "    f.write(report)"
   ]
  },
  {
   "cell_type": "code",
   "execution_count": null,
   "id": "95938400-37f1-4f87-bf05-d23fa2474d8d",
   "metadata": {},
   "outputs": [],
   "source": []
  }
 ],
 "metadata": {
  "kernelspec": {
   "display_name": "Python 3 (ipykernel)",
   "language": "python",
   "name": "python3"
  },
  "language_info": {
   "codemirror_mode": {
    "name": "ipython",
    "version": 3
   },
   "file_extension": ".py",
   "mimetype": "text/x-python",
   "name": "python",
   "nbconvert_exporter": "python",
   "pygments_lexer": "ipython3",
   "version": "3.11.3"
  }
 },
 "nbformat": 4,
 "nbformat_minor": 5
}
