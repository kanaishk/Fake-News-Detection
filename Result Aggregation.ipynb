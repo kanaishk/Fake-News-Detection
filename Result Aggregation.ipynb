{
 "cells": [
  {
   "cell_type": "code",
   "execution_count": 1,
   "id": "4994e908-2b65-48bc-a9b2-7f4375078de4",
   "metadata": {},
   "outputs": [],
   "source": [
    "import sys"
   ]
  },
  {
   "cell_type": "code",
   "execution_count": 2,
   "id": "36c6a1e8-69bf-486d-9119-8fd387019d6a",
   "metadata": {
    "tags": []
   },
   "outputs": [
    {
     "name": "stdout",
     "output_type": "stream",
     "text": [
      "Requirement already satisfied: pandas in c:\\python311\\lib\\site-packages (1.5.3)\n",
      "Requirement already satisfied: python-dateutil>=2.8.1 in c:\\python311\\lib\\site-packages (from pandas) (2.8.2)\n",
      "Requirement already satisfied: pytz>=2020.1 in c:\\python311\\lib\\site-packages (from pandas) (2023.3)\n",
      "Requirement already satisfied: numpy>=1.21.0 in c:\\python311\\lib\\site-packages (from pandas) (1.23.5)\n",
      "Requirement already satisfied: six>=1.5 in c:\\python311\\lib\\site-packages (from python-dateutil>=2.8.1->pandas) (1.16.0)\n",
      "Requirement already satisfied: numpy in c:\\python311\\lib\\site-packages (1.23.5)\n",
      "Requirement already satisfied: regex in c:\\python311\\lib\\site-packages (2023.5.5)\n",
      "Requirement already satisfied: matplotlib in c:\\python311\\lib\\site-packages (3.7.1)\n",
      "Requirement already satisfied: contourpy>=1.0.1 in c:\\python311\\lib\\site-packages (from matplotlib) (1.0.7)\n",
      "Requirement already satisfied: cycler>=0.10 in c:\\python311\\lib\\site-packages (from matplotlib) (0.11.0)\n",
      "Requirement already satisfied: fonttools>=4.22.0 in c:\\python311\\lib\\site-packages (from matplotlib) (4.39.3)\n",
      "Requirement already satisfied: kiwisolver>=1.0.1 in c:\\python311\\lib\\site-packages (from matplotlib) (1.4.4)\n",
      "Requirement already satisfied: numpy>=1.20 in c:\\python311\\lib\\site-packages (from matplotlib) (1.23.5)\n",
      "Requirement already satisfied: packaging>=20.0 in c:\\python311\\lib\\site-packages (from matplotlib) (23.1)\n",
      "Requirement already satisfied: pillow>=6.2.0 in c:\\python311\\lib\\site-packages (from matplotlib) (9.5.0)\n",
      "Requirement already satisfied: pyparsing>=2.3.1 in c:\\python311\\lib\\site-packages (from matplotlib) (3.0.9)\n",
      "Requirement already satisfied: python-dateutil>=2.7 in c:\\python311\\lib\\site-packages (from matplotlib) (2.8.2)\n",
      "Requirement already satisfied: six>=1.5 in c:\\python311\\lib\\site-packages (from python-dateutil>=2.7->matplotlib) (1.16.0)\n",
      "Requirement already satisfied: seaborn in c:\\python311\\lib\\site-packages (0.12.2)\n",
      "Requirement already satisfied: numpy!=1.24.0,>=1.17 in c:\\python311\\lib\\site-packages (from seaborn) (1.23.5)\n",
      "Requirement already satisfied: pandas>=0.25 in c:\\python311\\lib\\site-packages (from seaborn) (1.5.3)\n",
      "Requirement already satisfied: matplotlib!=3.6.1,>=3.1 in c:\\python311\\lib\\site-packages (from seaborn) (3.7.1)\n",
      "Requirement already satisfied: contourpy>=1.0.1 in c:\\python311\\lib\\site-packages (from matplotlib!=3.6.1,>=3.1->seaborn) (1.0.7)\n",
      "Requirement already satisfied: cycler>=0.10 in c:\\python311\\lib\\site-packages (from matplotlib!=3.6.1,>=3.1->seaborn) (0.11.0)\n",
      "Requirement already satisfied: fonttools>=4.22.0 in c:\\python311\\lib\\site-packages (from matplotlib!=3.6.1,>=3.1->seaborn) (4.39.3)\n",
      "Requirement already satisfied: kiwisolver>=1.0.1 in c:\\python311\\lib\\site-packages (from matplotlib!=3.6.1,>=3.1->seaborn) (1.4.4)\n",
      "Requirement already satisfied: packaging>=20.0 in c:\\python311\\lib\\site-packages (from matplotlib!=3.6.1,>=3.1->seaborn) (23.1)\n",
      "Requirement already satisfied: pillow>=6.2.0 in c:\\python311\\lib\\site-packages (from matplotlib!=3.6.1,>=3.1->seaborn) (9.5.0)\n",
      "Requirement already satisfied: pyparsing>=2.3.1 in c:\\python311\\lib\\site-packages (from matplotlib!=3.6.1,>=3.1->seaborn) (3.0.9)\n",
      "Requirement already satisfied: python-dateutil>=2.7 in c:\\python311\\lib\\site-packages (from matplotlib!=3.6.1,>=3.1->seaborn) (2.8.2)\n",
      "Requirement already satisfied: pytz>=2020.1 in c:\\python311\\lib\\site-packages (from pandas>=0.25->seaborn) (2023.3)\n",
      "Requirement already satisfied: six>=1.5 in c:\\python311\\lib\\site-packages (from python-dateutil>=2.7->matplotlib!=3.6.1,>=3.1->seaborn) (1.16.0)\n"
     ]
    }
   ],
   "source": [
    "!{sys.executable} -m pip install pandas\n",
    "!{sys.executable} -m pip install numpy\n",
    "!{sys.executable} -m pip install regex\n",
    "!{sys.executable} -m pip install matplotlib\n",
    "!{sys.executable} -m pip install seaborn"
   ]
  },
  {
   "cell_type": "code",
   "execution_count": 3,
   "id": "548b2302-1d9a-4b11-a01e-9e0fe9773f35",
   "metadata": {
    "tags": []
   },
   "outputs": [],
   "source": [
    "import os\n",
    "import pandas as pd\n",
    "import numpy as np \n",
    "from re import search"
   ]
  },
  {
   "cell_type": "code",
   "execution_count": 4,
   "id": "9807048a-ffd4-42dc-be3d-4d581f7022a4",
   "metadata": {
    "tags": []
   },
   "outputs": [],
   "source": [
    "import matplotlib.pyplot as plt\n",
    "%matplotlib inline\n",
    "import seaborn as sns"
   ]
  },
  {
   "cell_type": "code",
   "execution_count": 5,
   "id": "5dc28af4-3567-40b7-bcae-962bd7c7ff01",
   "metadata": {},
   "outputs": [],
   "source": [
    "import warnings\n",
    "warnings.filterwarnings(\"ignore\")"
   ]
  },
  {
   "cell_type": "markdown",
   "id": "f5e98b1c-5f08-46ca-9c35-c401ec21b3b2",
   "metadata": {},
   "source": [
    "<h3>Importing the dataset</h3>"
   ]
  },
  {
   "cell_type": "code",
   "execution_count": 6,
   "id": "c867905d-d70b-48eb-8549-55ea02413482",
   "metadata": {
    "tags": []
   },
   "outputs": [],
   "source": [
    "cwd = os.getcwd()\n",
    "dataset_dir = os.path.join(cwd,'Dataset')\n",
    "result_dir = os.path.join(cwd,'Results')"
   ]
  },
  {
   "cell_type": "raw",
   "id": "7755d2e5-e935-4be4-9213-463091c0faff",
   "metadata": {},
   "source": [
    "Data- Description: There are 11 columns in the dataset provided to you. The description of each of the column is given below: \n",
    "“id”: Unique id of each news article \n",
    "“headline”: It is the title of the news. \n",
    "“written_by”: It represents the author of the news article\n",
    "“news”: It contains the full text of the news article \n",
    "“label”: It tells whether the news is fake (1) or not fake (0).\n",
    "\"headline_len\": length of headline\n",
    "\"news_len\": length of news article\n",
    "\"caps_in_headline\": number of capital letter in headline\n",
    "\"norm_caps_in_headline\": percentage of capital in headline\n",
    "\"caps_in_news\": number of capital letter in news article\n",
    "\"norm_caps_in_news\": percentage of capital in news article\n",
    "\"news_tokens\": tokenized news article\n",
    "\"news_url\": urls in news article\n",
    "\"clean_news\": cleaned up news article\n",
    "\"headline_url\": urls in headlines\n",
    "\"clean_headline\": cleaned up news headline\n",
    "\"twitter_handles\": twitter handles in news article\n",
    "\"clean_news_tokens\": tokens of cleaned news article\n",
    "\"clean_headline_tokens\": tokens of cleaned headline"
   ]
  },
  {
   "cell_type": "code",
   "execution_count": 7,
   "id": "c3de9c07-3776-443b-ad15-a1291493401c",
   "metadata": {
    "tags": []
   },
   "outputs": [],
   "source": [
    "modelname = ['GBC','LR','MNB','RFC','SVC']\n",
    "modelnamebase = ['GBC','LR','MNB','RFC','SVM']"
   ]
  },
  {
   "cell_type": "code",
   "execution_count": 8,
   "id": "bbacb3d0-6727-4d98-8aac-fa9bdf0c14fc",
   "metadata": {},
   "outputs": [],
   "source": [
    "test_res = []\n",
    "train_res = []\n",
    "valid_res = []"
   ]
  },
  {
   "cell_type": "code",
   "execution_count": 9,
   "id": "fbe8cdec-042e-4e79-aeeb-0167cb0c26bd",
   "metadata": {
    "tags": []
   },
   "outputs": [],
   "source": [
    "base_test_res = []\n",
    "base_train_res = []\n",
    "base_valid_res = []"
   ]
  },
  {
   "cell_type": "markdown",
   "id": "ff12aa39-db28-4591-bb7e-1e39b72c5748",
   "metadata": {
    "tags": []
   },
   "source": [
    "<h3>Result Processing</h3>"
   ]
  },
  {
   "cell_type": "markdown",
   "id": "f3ff373b-7c20-4665-b034-170c8e8b1f93",
   "metadata": {
    "tags": []
   },
   "source": [
    "<h4>Base</h4>"
   ]
  },
  {
   "cell_type": "code",
   "execution_count": 10,
   "id": "722e2151-40c1-4f73-8ea6-3a2e5ed98fe2",
   "metadata": {
    "tags": []
   },
   "outputs": [],
   "source": [
    "for model in modelnamebase:\n",
    "    base_train_df = pd.read_csv(os.path.join(result_dir, f'BASE\\BASE_{model}_Train_result.csv'))\n",
    "    base_test_df = pd.read_csv(os.path.join(result_dir, f'BASE\\BASE_{model}_Test_result.csv'))\n",
    "    \n",
    "    unnamed_columns = [col for col in base_test_df.columns if search(r'^Unnamed', col)]\n",
    "    base_test_df = base_test_df.drop(unnamed_columns, axis=1)\n",
    "    base_test_df.drop('Time (Sec)', axis=1, inplace=True)\n",
    "    \n",
    "    unnamed_columns = [col for col in base_train_df.columns if search(r'^Unnamed', col)]\n",
    "    base_train_df = base_train_df.drop(unnamed_columns, axis=1)\n",
    "    base_train_df.drop('Time (Sec)', axis=1, inplace=True)\n",
    "    \n",
    "    base_test_df.drop('ID', axis=1, inplace=True)\n",
    "    base_train_df.drop('ID', axis=1, inplace=True)\n",
    "    \n",
    "    base_final_test_res = base_test_df.to_dict(orient='records')[0]\n",
    "    base_final_test_res['Model'] = model\n",
    "    base_test_res.append(base_final_test_res)\n",
    "    \n",
    "    base_final_train_res = base_train_df.to_dict(orient='records')[0]\n",
    "    base_final_train_res['Model'] = model\n",
    "    base_train_res.append(base_final_train_res)"
   ]
  },
  {
   "cell_type": "code",
   "execution_count": 11,
   "id": "c012b300-c8af-40a9-b817-5e5dba6302dc",
   "metadata": {
    "tags": []
   },
   "outputs": [],
   "source": [
    "for model in modelnamebase :\n",
    "    file_path = os.path.join(result_dir,f'BASE\\BASE_{model}_Valid_report.txt')\n",
    "\n",
    "    with open(file_path, 'r') as file:\n",
    "        classification_report_str = file.read()\n",
    "\n",
    "    lines = classification_report_str.strip().split('\\n')\n",
    "\n",
    "    accuracy_line = lines[-3].split()[1:]\n",
    "    macro_avg_line = lines[-2].split()[2:-1]\n",
    "\n",
    "    accuracy = float(accuracy_line[0])\n",
    "    macro_avg_precision, macro_avg_recall, macro_avg_f1 = map(float, macro_avg_line)\n",
    "    \n",
    "    base_valid_res_mdl = dict()\n",
    "    base_valid_res_mdl['Accuracy'] = accuracy\n",
    "    base_valid_res_mdl['F1-Score'] = macro_avg_f1\n",
    "    base_valid_res_mdl['Recall'] = macro_avg_recall\n",
    "    base_valid_res_mdl['Precision'] = macro_avg_precision\n",
    "    base_valid_res_mdl['Model']=model\n",
    "    \n",
    "    base_valid_res.append(base_valid_res_mdl)"
   ]
  },
  {
   "cell_type": "code",
   "execution_count": 12,
   "id": "c5c4f6ae-fd60-4400-a607-e7aeffa6212b",
   "metadata": {},
   "outputs": [
    {
     "data": {
      "text/html": [
       "<div>\n",
       "<style scoped>\n",
       "    .dataframe tbody tr th:only-of-type {\n",
       "        vertical-align: middle;\n",
       "    }\n",
       "\n",
       "    .dataframe tbody tr th {\n",
       "        vertical-align: top;\n",
       "    }\n",
       "\n",
       "    .dataframe thead th {\n",
       "        text-align: right;\n",
       "    }\n",
       "</style>\n",
       "<table border=\"1\" class=\"dataframe\">\n",
       "  <thead>\n",
       "    <tr style=\"text-align: right;\">\n",
       "      <th></th>\n",
       "      <th>Accuracy</th>\n",
       "      <th>F1-Score</th>\n",
       "      <th>Recall</th>\n",
       "      <th>Precision</th>\n",
       "      <th>Model</th>\n",
       "    </tr>\n",
       "  </thead>\n",
       "  <tbody>\n",
       "    <tr>\n",
       "      <th>0</th>\n",
       "      <td>0.923610</td>\n",
       "      <td>0.921226</td>\n",
       "      <td>0.933703</td>\n",
       "      <td>0.909124</td>\n",
       "      <td>GBC</td>\n",
       "    </tr>\n",
       "    <tr>\n",
       "      <th>1</th>\n",
       "      <td>0.938271</td>\n",
       "      <td>0.935821</td>\n",
       "      <td>0.940805</td>\n",
       "      <td>0.930910</td>\n",
       "      <td>LR</td>\n",
       "    </tr>\n",
       "    <tr>\n",
       "      <th>2</th>\n",
       "      <td>0.779387</td>\n",
       "      <td>0.701553</td>\n",
       "      <td>0.542360</td>\n",
       "      <td>0.993514</td>\n",
       "      <td>MNB</td>\n",
       "    </tr>\n",
       "    <tr>\n",
       "      <th>3</th>\n",
       "      <td>0.901397</td>\n",
       "      <td>0.893358</td>\n",
       "      <td>0.863458</td>\n",
       "      <td>0.925446</td>\n",
       "      <td>RFC</td>\n",
       "    </tr>\n",
       "    <tr>\n",
       "      <th>4</th>\n",
       "      <td>0.955449</td>\n",
       "      <td>0.953688</td>\n",
       "      <td>0.958958</td>\n",
       "      <td>0.948509</td>\n",
       "      <td>SVM</td>\n",
       "    </tr>\n",
       "  </tbody>\n",
       "</table>\n",
       "</div>"
      ],
      "text/plain": [
       "   Accuracy  F1-Score    Recall  Precision Model\n",
       "0  0.923610  0.921226  0.933703   0.909124   GBC\n",
       "1  0.938271  0.935821  0.940805   0.930910    LR\n",
       "2  0.779387  0.701553  0.542360   0.993514   MNB\n",
       "3  0.901397  0.893358  0.863458   0.925446   RFC\n",
       "4  0.955449  0.953688  0.958958   0.948509   SVM"
      ]
     },
     "execution_count": 12,
     "metadata": {},
     "output_type": "execute_result"
    }
   ],
   "source": [
    "base_test_res_df = pd.DataFrame(base_test_res)\n",
    "base_test_res_df['Model'] = base_test_res_df['Model'].astype(str)\n",
    "base_test_res_df.head(6)"
   ]
  },
  {
   "cell_type": "code",
   "execution_count": 13,
   "id": "1358c564-a4a3-4cf1-b060-2b986f19ec6a",
   "metadata": {},
   "outputs": [
    {
     "data": {
      "text/html": [
       "<div>\n",
       "<style scoped>\n",
       "    .dataframe tbody tr th:only-of-type {\n",
       "        vertical-align: middle;\n",
       "    }\n",
       "\n",
       "    .dataframe tbody tr th {\n",
       "        vertical-align: top;\n",
       "    }\n",
       "\n",
       "    .dataframe thead th {\n",
       "        text-align: right;\n",
       "    }\n",
       "</style>\n",
       "<table border=\"1\" class=\"dataframe\">\n",
       "  <thead>\n",
       "    <tr style=\"text-align: right;\">\n",
       "      <th></th>\n",
       "      <th>Accuracy</th>\n",
       "      <th>F1-Score</th>\n",
       "      <th>Recall</th>\n",
       "      <th>Precision</th>\n",
       "      <th>Model</th>\n",
       "    </tr>\n",
       "  </thead>\n",
       "  <tbody>\n",
       "    <tr>\n",
       "      <th>0</th>\n",
       "      <td>0.938617</td>\n",
       "      <td>0.936771</td>\n",
       "      <td>0.950572</td>\n",
       "      <td>0.923365</td>\n",
       "      <td>GBC</td>\n",
       "    </tr>\n",
       "    <tr>\n",
       "      <th>1</th>\n",
       "      <td>0.965926</td>\n",
       "      <td>0.964425</td>\n",
       "      <td>0.965535</td>\n",
       "      <td>0.963319</td>\n",
       "      <td>LR</td>\n",
       "    </tr>\n",
       "    <tr>\n",
       "      <th>2</th>\n",
       "      <td>0.824251</td>\n",
       "      <td>0.775571</td>\n",
       "      <td>0.634866</td>\n",
       "      <td>0.996439</td>\n",
       "      <td>MNB</td>\n",
       "    </tr>\n",
       "    <tr>\n",
       "      <th>3</th>\n",
       "      <td>1.000000</td>\n",
       "      <td>1.000000</td>\n",
       "      <td>1.000000</td>\n",
       "      <td>1.000000</td>\n",
       "      <td>RFC</td>\n",
       "    </tr>\n",
       "    <tr>\n",
       "      <th>4</th>\n",
       "      <td>0.997829</td>\n",
       "      <td>0.997733</td>\n",
       "      <td>0.998619</td>\n",
       "      <td>0.996849</td>\n",
       "      <td>SVM</td>\n",
       "    </tr>\n",
       "  </tbody>\n",
       "</table>\n",
       "</div>"
      ],
      "text/plain": [
       "   Accuracy  F1-Score    Recall  Precision Model\n",
       "0  0.938617  0.936771  0.950572   0.923365   GBC\n",
       "1  0.965926  0.964425  0.965535   0.963319    LR\n",
       "2  0.824251  0.775571  0.634866   0.996439   MNB\n",
       "3  1.000000  1.000000  1.000000   1.000000   RFC\n",
       "4  0.997829  0.997733  0.998619   0.996849   SVM"
      ]
     },
     "execution_count": 13,
     "metadata": {},
     "output_type": "execute_result"
    }
   ],
   "source": [
    "base_train_res_df = pd.DataFrame(base_train_res)\n",
    "base_train_res_df['Model'] = base_train_res_df['Model'].astype(str)\n",
    "base_train_res_df.head(6)"
   ]
  },
  {
   "cell_type": "code",
   "execution_count": 14,
   "id": "1892d7ea-1348-404f-8343-b26298627e6b",
   "metadata": {
    "tags": []
   },
   "outputs": [
    {
     "data": {
      "text/html": [
       "<div>\n",
       "<style scoped>\n",
       "    .dataframe tbody tr th:only-of-type {\n",
       "        vertical-align: middle;\n",
       "    }\n",
       "\n",
       "    .dataframe tbody tr th {\n",
       "        vertical-align: top;\n",
       "    }\n",
       "\n",
       "    .dataframe thead th {\n",
       "        text-align: right;\n",
       "    }\n",
       "</style>\n",
       "<table border=\"1\" class=\"dataframe\">\n",
       "  <thead>\n",
       "    <tr style=\"text-align: right;\">\n",
       "      <th></th>\n",
       "      <th>Accuracy</th>\n",
       "      <th>F1-Score</th>\n",
       "      <th>Recall</th>\n",
       "      <th>Precision</th>\n",
       "      <th>Model</th>\n",
       "    </tr>\n",
       "  </thead>\n",
       "  <tbody>\n",
       "    <tr>\n",
       "      <th>0</th>\n",
       "      <td>0.92776</td>\n",
       "      <td>0.92761</td>\n",
       "      <td>0.92809</td>\n",
       "      <td>0.92731</td>\n",
       "      <td>GBC</td>\n",
       "    </tr>\n",
       "    <tr>\n",
       "      <th>1</th>\n",
       "      <td>0.93657</td>\n",
       "      <td>0.93633</td>\n",
       "      <td>0.93604</td>\n",
       "      <td>0.93669</td>\n",
       "      <td>LR</td>\n",
       "    </tr>\n",
       "    <tr>\n",
       "      <th>2</th>\n",
       "      <td>0.80695</td>\n",
       "      <td>0.79455</td>\n",
       "      <td>0.79574</td>\n",
       "      <td>0.86391</td>\n",
       "      <td>MNB</td>\n",
       "    </tr>\n",
       "    <tr>\n",
       "      <th>3</th>\n",
       "      <td>0.90813</td>\n",
       "      <td>0.90745</td>\n",
       "      <td>0.90617</td>\n",
       "      <td>0.91039</td>\n",
       "      <td>RFC</td>\n",
       "    </tr>\n",
       "    <tr>\n",
       "      <th>4</th>\n",
       "      <td>0.95620</td>\n",
       "      <td>0.95604</td>\n",
       "      <td>0.95579</td>\n",
       "      <td>0.95635</td>\n",
       "      <td>SVM</td>\n",
       "    </tr>\n",
       "  </tbody>\n",
       "</table>\n",
       "</div>"
      ],
      "text/plain": [
       "   Accuracy  F1-Score   Recall  Precision Model\n",
       "0   0.92776   0.92761  0.92809    0.92731   GBC\n",
       "1   0.93657   0.93633  0.93604    0.93669    LR\n",
       "2   0.80695   0.79455  0.79574    0.86391   MNB\n",
       "3   0.90813   0.90745  0.90617    0.91039   RFC\n",
       "4   0.95620   0.95604  0.95579    0.95635   SVM"
      ]
     },
     "execution_count": 14,
     "metadata": {},
     "output_type": "execute_result"
    }
   ],
   "source": [
    "base_valid_res_df = pd.DataFrame(base_valid_res)\n",
    "base_valid_res_df['Model'] = base_valid_res_df['Model'].astype(str)\n",
    "base_valid_res_df.head(6)"
   ]
  },
  {
   "cell_type": "markdown",
   "id": "d3005ffd-924e-41cf-84aa-8858ff53a96f",
   "metadata": {},
   "source": [
    "<h4>Hyper Tuned</h4>"
   ]
  },
  {
   "cell_type": "code",
   "execution_count": 17,
   "id": "ce5e90ae-7d88-4227-aafa-2aea72cc4f23",
   "metadata": {
    "tags": []
   },
   "outputs": [
    {
     "name": "stdout",
     "output_type": "stream",
     "text": [
      "Parameters GBC\n",
      "   random_state  n_estimators  min_samples_split  min_samples_leaf  \\\n",
      "0          1973           500               73.0              20.0   \n",
      "1          1973           450               38.0              35.0   \n",
      "2          1973           500               81.0              61.0   \n",
      "3          1973           550                2.0              80.0   \n",
      "4          1973           500               20.0              29.0   \n",
      "5          1973           450               25.0              69.0   \n",
      "6          1973           550               47.0              75.0   \n",
      "7          1973           250               98.0              41.0   \n",
      "8          1973           500               51.0              77.0   \n",
      "9          1973           550                0.5               2.0   \n",
      "\n",
      "  max_features  max_depth  learning_rate     criterion        ID  \n",
      "0         sqrt         24           0.09  friedman_mse  GBC-0070  \n",
      "1         sqrt         92           0.09  friedman_mse  GBC-0065  \n",
      "2         sqrt         28           0.09  friedman_mse  GBC-0023  \n",
      "3         sqrt         68           0.08  friedman_mse  GBC-0057  \n",
      "4         sqrt         10           0.09  friedman_mse  GBC-0079  \n",
      "5         sqrt         63           0.06  friedman_mse  GBC-0003  \n",
      "6         sqrt         35           0.07  friedman_mse  GBC-0015  \n",
      "7         sqrt         87           0.09  friedman_mse  GBC-0088  \n",
      "8         sqrt         88           0.06  friedman_mse  GBC-0016  \n",
      "9         sqrt         40           0.05  friedman_mse  GBC-0068  \n",
      "Parameters LR\n",
      "  solver  random_state penalty  max_iter      C       ID\n",
      "0   saga          1973      l1      1000  67.85  LR-0064\n",
      "1   saga          1973      l1      1000  50.13  LR-0033\n",
      "2   saga          1973      l1      1000  88.29  LR-0071\n",
      "3   saga          1973      l1      1000  19.22  LR-0055\n",
      "4   saga          1973      l1      1000  74.21  LR-0006\n",
      "5   saga          1973      l1      1000  50.41  LR-0025\n",
      "6   saga          1973      l1      1000  60.04  LR-0080\n",
      "7   saga          1973      l1      1000  83.83  LR-0019\n",
      "8   saga          1973      l1      1000  81.21  LR-0043\n",
      "9   saga          1973      l1      1000  72.93  LR-0054\n",
      "Parameters MNB\n",
      "   fit_prior  alpha        ID\n",
      "0      False   0.03  MNB-0002\n",
      "1       True   0.02  MNB-0051\n",
      "2      False   0.07  MNB-0080\n",
      "3      False   0.09  MNB-0011\n",
      "4      False   0.10  MNB-0030\n",
      "5       True   0.11  MNB-0074\n",
      "6      False   0.17  MNB-0044\n",
      "7       True   0.14  MNB-0026\n",
      "8      False   0.19  MNB-0061\n",
      "9      False   0.20  MNB-0087\n",
      "Parameters RFC\n",
      "   random_state  n_estimators  min_samples_split  min_samples_leaf  \\\n",
      "0          1973           150               44.0               1.0   \n",
      "1          1973           200               24.0               6.0   \n",
      "2          1973           350               42.0               8.0   \n",
      "3          1973           300                7.0               8.0   \n",
      "4          1973           450               14.0               3.0   \n",
      "5          1973           350               43.0              13.0   \n",
      "6          1973           400               87.0              14.0   \n",
      "7          1973           200               62.0              18.0   \n",
      "8          1973           200               75.0               8.0   \n",
      "9          1973           250               46.0              25.0   \n",
      "\n",
      "  max_features  max_depth criterion        ID  \n",
      "0         sqrt         87      gini  RFC-0004  \n",
      "1         sqrt         46   entropy  RFC-0022  \n",
      "2         sqrt         55   entropy  RFC-0094  \n",
      "3         sqrt         52      gini  RFC-0046  \n",
      "4         sqrt         18   entropy  RFC-0098  \n",
      "5         sqrt         21      gini  RFC-0064  \n",
      "6         sqrt         20      gini  RFC-0037  \n",
      "7         sqrt         23      gini  RFC-0001  \n",
      "8         sqrt         13   entropy  RFC-0060  \n",
      "9         sqrt         55   entropy  RFC-0005  \n",
      "Parameters SVC\n",
      "   random_state  kernel  gamma  degree     C        ID\n",
      "0          1973     rbf   0.76       1  6.23  SVC-0021\n",
      "1          1973     rbf   0.16       2  5.92  SVC-0037\n",
      "2          1973     rbf   0.96       5  4.83  SVC-0082\n",
      "3          1973  linear   1.09       2  3.55  SVC-0013\n",
      "4          1973    poly   9.07       1  0.40  SVC-0020\n",
      "5          1973  linear   2.67       3  3.10  SVC-0093\n",
      "6          1973    poly   2.65       1  1.22  SVC-0052\n",
      "7          1973  linear   7.45       5  3.30  SVC-0065\n",
      "8          1973  linear   5.80       3  3.93  SVC-0097\n",
      "9          1973  linear   9.86       1  3.68  SVC-0054\n"
     ]
    }
   ],
   "source": [
    "for model in modelname :\n",
    "    train_df = pd.read_csv(os.path.join(result_dir,f'{model}_Train_result.csv'))\n",
    "    test_df = pd.read_csv(os.path.join(result_dir,f'{model}_Test_result.csv'))\n",
    "    parameter_df = pd.read_csv(os.path.join(result_dir,f'{model}_Parameters.csv'))\n",
    "    \n",
    "    unnamed_columns = [col for col in test_df.columns if search(r'^Unnamed', col)]\n",
    "    test_df = test_df.drop(unnamed_columns, axis=1)\n",
    "    test_columns = list(test_df.columns)\n",
    "    \n",
    "    test_top_ten = pd.DataFrame()\n",
    "    test_top_ten = test_top_ten.append(test_df.nlargest(10, ['Accuracy']), ignore_index = True)\n",
    "    test_top_ten.columns = test_columns\n",
    "    test_top_ten.drop('Time (Sec)', axis=1, inplace=True)\n",
    "    \n",
    "    #print('Test')\n",
    "    #print(test_top_ten)\n",
    "    ID_list = list(test_top_ten['ID'])\n",
    "    \n",
    "    unnamed_columns = [col for col in train_df.columns if search(r'^Unnamed', col)]\n",
    "    train_df = train_df.drop(unnamed_columns, axis=1)\n",
    "    train_columns = list(train_df.columns)\n",
    "    \n",
    "    train_ten = pd.DataFrame()\n",
    "    for ID in ID_list :\n",
    "        train_ten = train_ten.append([train_df[train_df.ID == ID]], ignore_index = True)\n",
    "    train_ten.columns = train_columns\n",
    "    train_ten.drop('Time (Sec)', axis=1, inplace=True)\n",
    "    \n",
    "    #print('Train')\n",
    "    #print(train_ten)\n",
    "    \n",
    "    unnamed_columns = [col for col in parameter_df.columns if search(r'^Unnamed', col)]\n",
    "    parameter_df = parameter_df.drop(unnamed_columns, axis=1)\n",
    "    parameter_columns = list(parameter_df.columns)\n",
    "    \n",
    "    parameter_ten = pd.DataFrame()\n",
    "    for ID in ID_list :\n",
    "        parameter_ten = parameter_ten.append([parameter_df[parameter_df.ID == ID]], ignore_index = True)\n",
    "    parameter_ten.columns = parameter_columns\n",
    "    \n",
    "    print(f'Parameters {model}')\n",
    "    print(parameter_ten)\n",
    "    \n",
    "    final_test_res = dict(test_top_ten.mean())\n",
    "    final_test_res['Model'] = model\n",
    "    test_res.append(final_test_res)\n",
    "    \n",
    "    final_train_res = dict(train_ten.mean())\n",
    "    final_train_res['Model'] = model\n",
    "    train_res.append(final_train_res)"
   ]
  },
  {
   "cell_type": "code",
   "execution_count": 18,
   "id": "594d1a57-cf17-4bdf-88e4-3e188052869f",
   "metadata": {
    "tags": []
   },
   "outputs": [],
   "source": [
    "for model in modelname :\n",
    "    file_path = os.path.join(result_dir,f'{model}_Valid_report.txt')\n",
    "\n",
    "    with open(file_path, 'r') as file:\n",
    "        classification_report_str = file.read()\n",
    "\n",
    "    lines = classification_report_str.strip().split('\\n')\n",
    "\n",
    "    accuracy_line = lines[-3].split()[1:]\n",
    "    macro_avg_line = lines[-2].split()[2:-1]\n",
    "\n",
    "    accuracy = float(accuracy_line[0])\n",
    "    macro_avg_precision, macro_avg_recall, macro_avg_f1 = map(float, macro_avg_line)\n",
    "    \n",
    "    valid_res_mdl = dict()\n",
    "    valid_res_mdl['Accuracy'] = accuracy\n",
    "    valid_res_mdl['F1-Score'] = macro_avg_f1\n",
    "    valid_res_mdl['Recall'] = macro_avg_recall\n",
    "    valid_res_mdl['Precision'] = macro_avg_precision\n",
    "    valid_res_mdl['Model']=model\n",
    "    \n",
    "    valid_res.append(valid_res_mdl)"
   ]
  },
  {
   "cell_type": "code",
   "execution_count": 19,
   "id": "e41e3da2-77dc-49c3-b46e-33681ffcf66a",
   "metadata": {},
   "outputs": [
    {
     "data": {
      "text/html": [
       "<div>\n",
       "<style scoped>\n",
       "    .dataframe tbody tr th:only-of-type {\n",
       "        vertical-align: middle;\n",
       "    }\n",
       "\n",
       "    .dataframe tbody tr th {\n",
       "        vertical-align: top;\n",
       "    }\n",
       "\n",
       "    .dataframe thead th {\n",
       "        text-align: right;\n",
       "    }\n",
       "</style>\n",
       "<table border=\"1\" class=\"dataframe\">\n",
       "  <thead>\n",
       "    <tr style=\"text-align: right;\">\n",
       "      <th></th>\n",
       "      <th>Accuracy</th>\n",
       "      <th>F1-Score</th>\n",
       "      <th>Recall</th>\n",
       "      <th>Precision</th>\n",
       "      <th>Model</th>\n",
       "    </tr>\n",
       "  </thead>\n",
       "  <tbody>\n",
       "    <tr>\n",
       "      <th>0</th>\n",
       "      <td>0.962094</td>\n",
       "      <td>0.960448</td>\n",
       "      <td>0.962260</td>\n",
       "      <td>0.958699</td>\n",
       "      <td>GBC</td>\n",
       "    </tr>\n",
       "    <tr>\n",
       "      <th>1</th>\n",
       "      <td>0.957860</td>\n",
       "      <td>0.956082</td>\n",
       "      <td>0.958827</td>\n",
       "      <td>0.953369</td>\n",
       "      <td>LR</td>\n",
       "    </tr>\n",
       "    <tr>\n",
       "      <th>2</th>\n",
       "      <td>0.896055</td>\n",
       "      <td>0.881730</td>\n",
       "      <td>0.811406</td>\n",
       "      <td>0.966009</td>\n",
       "      <td>MNB</td>\n",
       "    </tr>\n",
       "    <tr>\n",
       "      <th>3</th>\n",
       "      <td>0.874686</td>\n",
       "      <td>0.864276</td>\n",
       "      <td>0.834794</td>\n",
       "      <td>0.896019</td>\n",
       "      <td>RFC</td>\n",
       "    </tr>\n",
       "    <tr>\n",
       "      <th>4</th>\n",
       "      <td>0.957948</td>\n",
       "      <td>0.956163</td>\n",
       "      <td>0.958695</td>\n",
       "      <td>0.953675</td>\n",
       "      <td>SVC</td>\n",
       "    </tr>\n",
       "    <tr>\n",
       "      <th>5</th>\n",
       "      <td>0.962094</td>\n",
       "      <td>0.960448</td>\n",
       "      <td>0.962260</td>\n",
       "      <td>0.958699</td>\n",
       "      <td>GBC</td>\n",
       "    </tr>\n",
       "  </tbody>\n",
       "</table>\n",
       "</div>"
      ],
      "text/plain": [
       "   Accuracy  F1-Score    Recall  Precision Model\n",
       "0  0.962094  0.960448  0.962260   0.958699   GBC\n",
       "1  0.957860  0.956082  0.958827   0.953369    LR\n",
       "2  0.896055  0.881730  0.811406   0.966009   MNB\n",
       "3  0.874686  0.864276  0.834794   0.896019   RFC\n",
       "4  0.957948  0.956163  0.958695   0.953675   SVC\n",
       "5  0.962094  0.960448  0.962260   0.958699   GBC"
      ]
     },
     "execution_count": 19,
     "metadata": {},
     "output_type": "execute_result"
    }
   ],
   "source": [
    "test_res_df = pd.DataFrame(test_res)\n",
    "test_res_df['Model'] = test_res_df['Model'].astype(str)\n",
    "test_res_df.head(6)"
   ]
  },
  {
   "cell_type": "code",
   "execution_count": 20,
   "id": "7efbb293-6bba-4d12-b824-0c7ed450b31c",
   "metadata": {},
   "outputs": [
    {
     "data": {
      "text/html": [
       "<div>\n",
       "<style scoped>\n",
       "    .dataframe tbody tr th:only-of-type {\n",
       "        vertical-align: middle;\n",
       "    }\n",
       "\n",
       "    .dataframe tbody tr th {\n",
       "        vertical-align: top;\n",
       "    }\n",
       "\n",
       "    .dataframe thead th {\n",
       "        text-align: right;\n",
       "    }\n",
       "</style>\n",
       "<table border=\"1\" class=\"dataframe\">\n",
       "  <thead>\n",
       "    <tr style=\"text-align: right;\">\n",
       "      <th></th>\n",
       "      <th>Accuracy</th>\n",
       "      <th>F1-Score</th>\n",
       "      <th>Recall</th>\n",
       "      <th>Precision</th>\n",
       "      <th>Model</th>\n",
       "    </tr>\n",
       "  </thead>\n",
       "  <tbody>\n",
       "    <tr>\n",
       "      <th>0</th>\n",
       "      <td>0.999637</td>\n",
       "      <td>0.999620</td>\n",
       "      <td>0.999980</td>\n",
       "      <td>0.999261</td>\n",
       "      <td>GBC</td>\n",
       "    </tr>\n",
       "    <tr>\n",
       "      <th>1</th>\n",
       "      <td>0.999998</td>\n",
       "      <td>0.999998</td>\n",
       "      <td>0.999997</td>\n",
       "      <td>1.000000</td>\n",
       "      <td>LR</td>\n",
       "    </tr>\n",
       "    <tr>\n",
       "      <th>2</th>\n",
       "      <td>0.958594</td>\n",
       "      <td>0.954961</td>\n",
       "      <td>0.920886</td>\n",
       "      <td>0.991983</td>\n",
       "      <td>MNB</td>\n",
       "    </tr>\n",
       "    <tr>\n",
       "      <th>3</th>\n",
       "      <td>0.934303</td>\n",
       "      <td>0.930666</td>\n",
       "      <td>0.926309</td>\n",
       "      <td>0.935240</td>\n",
       "      <td>RFC</td>\n",
       "    </tr>\n",
       "    <tr>\n",
       "      <th>4</th>\n",
       "      <td>0.999580</td>\n",
       "      <td>0.999561</td>\n",
       "      <td>0.999549</td>\n",
       "      <td>0.999573</td>\n",
       "      <td>SVC</td>\n",
       "    </tr>\n",
       "    <tr>\n",
       "      <th>5</th>\n",
       "      <td>0.999637</td>\n",
       "      <td>0.999620</td>\n",
       "      <td>0.999980</td>\n",
       "      <td>0.999261</td>\n",
       "      <td>GBC</td>\n",
       "    </tr>\n",
       "  </tbody>\n",
       "</table>\n",
       "</div>"
      ],
      "text/plain": [
       "   Accuracy  F1-Score    Recall  Precision Model\n",
       "0  0.999637  0.999620  0.999980   0.999261   GBC\n",
       "1  0.999998  0.999998  0.999997   1.000000    LR\n",
       "2  0.958594  0.954961  0.920886   0.991983   MNB\n",
       "3  0.934303  0.930666  0.926309   0.935240   RFC\n",
       "4  0.999580  0.999561  0.999549   0.999573   SVC\n",
       "5  0.999637  0.999620  0.999980   0.999261   GBC"
      ]
     },
     "execution_count": 20,
     "metadata": {},
     "output_type": "execute_result"
    }
   ],
   "source": [
    "train_res_df = pd.DataFrame(train_res)\n",
    "train_res_df['Model'] = train_res_df['Model'].astype(str)\n",
    "train_res_df.head(6)"
   ]
  },
  {
   "cell_type": "code",
   "execution_count": 21,
   "id": "37770608-00d7-4fe1-8378-5592ae40aeec",
   "metadata": {
    "tags": []
   },
   "outputs": [
    {
     "data": {
      "text/html": [
       "<div>\n",
       "<style scoped>\n",
       "    .dataframe tbody tr th:only-of-type {\n",
       "        vertical-align: middle;\n",
       "    }\n",
       "\n",
       "    .dataframe tbody tr th {\n",
       "        vertical-align: top;\n",
       "    }\n",
       "\n",
       "    .dataframe thead th {\n",
       "        text-align: right;\n",
       "    }\n",
       "</style>\n",
       "<table border=\"1\" class=\"dataframe\">\n",
       "  <thead>\n",
       "    <tr style=\"text-align: right;\">\n",
       "      <th></th>\n",
       "      <th>Accuracy</th>\n",
       "      <th>F1-Score</th>\n",
       "      <th>Recall</th>\n",
       "      <th>Precision</th>\n",
       "      <th>Model</th>\n",
       "    </tr>\n",
       "  </thead>\n",
       "  <tbody>\n",
       "    <tr>\n",
       "      <th>0</th>\n",
       "      <td>0.95872</td>\n",
       "      <td>0.95858</td>\n",
       "      <td>0.95848</td>\n",
       "      <td>0.95869</td>\n",
       "      <td>GBC</td>\n",
       "    </tr>\n",
       "    <tr>\n",
       "      <th>1</th>\n",
       "      <td>0.95469</td>\n",
       "      <td>0.95455</td>\n",
       "      <td>0.95447</td>\n",
       "      <td>0.95463</td>\n",
       "      <td>LR</td>\n",
       "    </tr>\n",
       "    <tr>\n",
       "      <th>2</th>\n",
       "      <td>0.91140</td>\n",
       "      <td>0.91021</td>\n",
       "      <td>0.90781</td>\n",
       "      <td>0.91931</td>\n",
       "      <td>MNB</td>\n",
       "    </tr>\n",
       "    <tr>\n",
       "      <th>3</th>\n",
       "      <td>0.91040</td>\n",
       "      <td>0.90980</td>\n",
       "      <td>0.90868</td>\n",
       "      <td>0.91214</td>\n",
       "      <td>RFC</td>\n",
       "    </tr>\n",
       "    <tr>\n",
       "      <th>4</th>\n",
       "      <td>0.95998</td>\n",
       "      <td>0.95984</td>\n",
       "      <td>0.95970</td>\n",
       "      <td>0.96000</td>\n",
       "      <td>SVC</td>\n",
       "    </tr>\n",
       "  </tbody>\n",
       "</table>\n",
       "</div>"
      ],
      "text/plain": [
       "   Accuracy  F1-Score   Recall  Precision Model\n",
       "0   0.95872   0.95858  0.95848    0.95869   GBC\n",
       "1   0.95469   0.95455  0.95447    0.95463    LR\n",
       "2   0.91140   0.91021  0.90781    0.91931   MNB\n",
       "3   0.91040   0.90980  0.90868    0.91214   RFC\n",
       "4   0.95998   0.95984  0.95970    0.96000   SVC"
      ]
     },
     "execution_count": 21,
     "metadata": {},
     "output_type": "execute_result"
    }
   ],
   "source": [
    "valid_res_df = pd.DataFrame(valid_res)\n",
    "valid_res_df['Model'] = valid_res_df['Model'].astype(str)\n",
    "valid_res_df.head(6)"
   ]
  },
  {
   "cell_type": "markdown",
   "id": "b8d282e9-5f2e-4175-ad06-ac19fb1704b9",
   "metadata": {},
   "source": [
    "<h3>Graphing</h3>"
   ]
  },
  {
   "cell_type": "code",
   "execution_count": 22,
   "id": "0469871d-442b-412b-a979-827c6ae32d66",
   "metadata": {
    "tags": []
   },
   "outputs": [],
   "source": [
    "graph_dir = os.path.join(cwd,'Graphs')"
   ]
  },
  {
   "cell_type": "code",
   "execution_count": 23,
   "id": "07f2ef6f-3c51-481b-8bf8-3102a7d3a509",
   "metadata": {
    "tags": []
   },
   "outputs": [
    {
     "data": {
      "image/png": "[encoded data removed]",
      "text/plain": [
       "<Figure size 1000x600 with 1 Axes>"
      ]
     },
     "metadata": {},
     "output_type": "display_data"
    }
   ],
   "source": [
    "plt.figure(figsize=(10, 6))\n",
    "sns.barplot(x='Model', y='Accuracy', data=test_res_df)\n",
    "title = 'Test Accuracy by Model'\n",
    "plt.title(title)\n",
    "plt.xlabel('Model')\n",
    "plt.ylabel('Accuracy')\n",
    "plt.savefig(os.path.join(graph_dir,title+'.png'), bbox_inches='tight')\n",
    "plt.show()\n",
    "plt.close()"
   ]
  },
  {
   "cell_type": "code",
   "execution_count": 24,
   "id": "555e31dd-9d07-43d6-91f9-cd6e98684d74",
   "metadata": {
    "tags": []
   },
   "outputs": [
    {
     "data": {
      "image/png": "[encoded data removed]",
      "text/plain": [
       "<Figure size 1000x600 with 1 Axes>"
      ]
     },
     "metadata": {},
     "output_type": "display_data"
    }
   ],
   "source": [
    "plt.figure(figsize=(10, 6))\n",
    "sns.barplot(x='Model', y='Accuracy', data=train_res_df)\n",
    "title='Train Accuracy by Model'\n",
    "plt.title(title)\n",
    "plt.xlabel('Model')\n",
    "plt.ylabel('Accuracy')\n",
    "plt.savefig(os.path.join(graph_dir,title+'.png'), bbox_inches='tight')\n",
    "plt.show()\n",
    "plt.close()"
   ]
  },
  {
   "cell_type": "code",
   "execution_count": 25,
   "id": "d1e98267-1d8f-4506-9ae2-d55efc800882",
   "metadata": {
    "tags": []
   },
   "outputs": [
    {
     "data": {
      "image/png": "[encoded data removed]",
      "text/plain": [
       "<Figure size 1000x600 with 1 Axes>"
      ]
     },
     "metadata": {},
     "output_type": "display_data"
    }
   ],
   "source": [
    "plt.figure(figsize=(10, 6))\n",
    "sns.barplot(x='Model', y='Accuracy', data=valid_res_df)\n",
    "title='Valid Accuracy by Model'\n",
    "plt.title(title)\n",
    "plt.xlabel('Model')\n",
    "plt.ylabel('Accuracy')\n",
    "plt.savefig(os.path.join(graph_dir,title+'.png'), bbox_inches='tight')\n",
    "plt.show()\n",
    "plt.close()"
   ]
  },
  {
   "cell_type": "code",
   "execution_count": null,
   "id": "f9f318e1-2d15-4814-9462-c01d415eb683",
   "metadata": {},
   "outputs": [],
   "source": []
  }
 ],
 "metadata": {
  "kernelspec": {
   "display_name": "Python 3 (ipykernel)",
   "language": "python",
   "name": "python3"
  },
  "language_info": {
   "codemirror_mode": {
    "name": "ipython",
    "version": 3
   },
   "file_extension": ".py",
   "mimetype": "text/x-python",
   "name": "python",
   "nbconvert_exporter": "python",
   "pygments_lexer": "ipython3",
   "version": "3.11.3"
  }
 },
 "nbformat": 4,
 "nbformat_minor": 5
}
